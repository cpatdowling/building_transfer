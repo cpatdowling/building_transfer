{
 "cells": [
  {
   "cell_type": "code",
   "execution_count": 1,
   "metadata": {},
   "outputs": [
    {
     "data": {
      "text/html": [
       "\n",
       "<style>\n",
       "    div#notebook-container    { width: 95%; }\n",
       "    div#menubar-container     { width: 65%; }\n",
       "    div#maintoolbar-container { width: 99%; }\n",
       "</style>\n"
      ],
      "text/plain": [
       "<IPython.core.display.HTML object>"
      ]
     },
     "metadata": {},
     "output_type": "display_data"
    }
   ],
   "source": [
    "#cells will fill entire width of the browser\n",
    "from IPython.display import display, HTML\n",
    "\n",
    "display(HTML(data=\"\"\"\n",
    "<style>\n",
    "    div#notebook-container    { width: 95%; }\n",
    "    div#menubar-container     { width: 65%; }\n",
    "    div#maintoolbar-container { width: 99%; }\n",
    "</style>\n",
    "\"\"\"))\n",
    "\n",
    "#Tells Jupyter to reload custom classes from scratch everytime an import cell is run, if you edit a custom class\n",
    "#between imports Jupyter would otherwise need to be restarted completely. Buyer beware: old class objects in the \n",
    "#current namespace will cause errors at execution\n",
    "%load_ext autoreload\n",
    "%autoreload 2\n",
    "\n",
    "#switches matplotlib to show plots in the browser rather than opening a new window\n",
    "%matplotlib inline\n",
    "\n",
    "#always forget to do this for better looking plots\n",
    "import seaborn\n",
    "seaborn.set()"
   ]
  },
  {
   "cell_type": "code",
   "execution_count": 4,
   "metadata": {},
   "outputs": [
    {
     "name": "stderr",
     "output_type": "stream",
     "text": [
      "/home/chase/applications/anaconda3/lib/python3.6/site-packages/statsmodels/compat/pandas.py:56: FutureWarning: The pandas.core.datetools module is deprecated and will be removed in a future version. Please use the pandas.tseries module instead.\n",
      "  from pandas.core import datetools\n"
     ]
    }
   ],
   "source": [
    "import matplotlib.pyplot as plt\n",
    "import os\n",
    "import numpy as np\n",
    "import datetime\n",
    "from cvxpy import *\n",
    "from statsmodels.tsa import stattools\n",
    "from sklearn import preprocessing\n",
    "from sklearn import linear_model\n",
    "from sklearn.metrics import mean_squared_error\n",
    "import random\n",
    "import copy\n",
    "import scipy\n",
    "import pickle\n",
    "\n",
    "import torch\n",
    "import torch.nn as nn\n",
    "import torch.nn.functional as F\n",
    "from torch.autograd import Variable\n",
    "import torch.optim as optim\n",
    "\n",
    "#energyplus processing functions\n",
    "from eplusprocessing import *\n",
    "from buildsys_funcs import *"
   ]
  },
  {
   "cell_type": "code",
   "execution_count": 5,
   "metadata": {
    "collapsed": true
   },
   "outputs": [],
   "source": [
    "#check that sklearn's OLS solution is similar to gradient descent for parameterization\n",
    "\n",
    "#use the classification rule on simulations that have been transfered via WLS\n",
    "#for each sample size, sweep weight hyper parameter space, report best weight for sample size\n",
    "#report F1 for each sample size of transfered matrix vs a matrix learned from new data only"
   ]
  },
  {
   "cell_type": "code",
   "execution_count": 6,
   "metadata": {
    "collapsed": true
   },
   "outputs": [],
   "source": [
    "#features to ignore\"\n",
    "ignore = [\"Performance Curve Input Variable 1 Value [] !Each Call\", \"Performance Curve Output Value [] !Each Call\"]\n",
    "\n",
    "#def parse_line()\n",
    "\n",
    "def read_data_dictionary(lines):\n",
    "    data_dict = {}\n",
    "    for line in lines:\n",
    "        l = line.strip()\n",
    "        if l == \"End of Data Dictionary\":\n",
    "            break\n",
    "        else:\n",
    "            tokens = l.split(\",\")\n",
    "            if int(tokens[0]) == 2:\n",
    "                data_dict[int(tokens[0])] = tokens[1:]\n",
    "                #parse time dictionary line\n",
    "            elif int(tokens[0]) > 6 and int(tokens[1]) == 1:\n",
    "                if tokens[-1] in ignore:\n",
    "                    pass\n",
    "                elif len(tokens) == 4:\n",
    "                    data_dict[int(tokens[0])] = tokens[-2] + tokens[-1]\n",
    "                    \n",
    "                else:\n",
    "                    #parse value dictionary line\n",
    "                    data_dict[int(tokens[0])] = tokens[-1]\n",
    "            else:\n",
    "                pass\n",
    "    return(data_dict)\n",
    "\n",
    "def parse_time_line(line_str):\n",
    "    #2,8,Day of Simulation[],Month[],Day of Month[],DST Indicator[1=yes 0=no],Hour[],StartMinute[],EndMinute[],DayType\n",
    "    #2, 1, 1, 1, 0, 1, 0.00, 2.00, Holiday\n",
    "    #only want hourly times, multiple minute 2's, assuming got correct\n",
    "    tokens = line_str.strip().split(\",\")\n",
    "    minute=float(tokens[-3])\n",
    "    hour=int(tokens[-4])\n",
    "    day=int(tokens[-6])\n",
    "    month=int(tokens[-7])\n",
    "    return(datetime.datetime(2017, month, day, hour-1, 0, 0)) #2017 so that the 1st is a Sunday + not leapyear\n",
    "    #return(str(month) + \"/\" + str(day) + \" \" + str(hour) + \":00\")\n",
    "     \n",
    "def parse_lines(lines, feature_inds):\n",
    "    data_values = {}\n",
    "    data_values[2] = []\n",
    "    for i in feature_inds:\n",
    "        data_values[i] = []\n",
    "    \n",
    "    start_i = lines.index(\"End of Data Dictionary\\n\")\n",
    "    for line in lines[start_i+1:-2]:\n",
    "        tokens = line.strip().split(\",\")\n",
    "        if int(tokens[0]) == 2:\n",
    "            if float(tokens[-3]) == 0.00 and float(tokens[-2]) == 60.00:\n",
    "                t = parse_time_line(line)\n",
    "                data_values[2].append(t)\n",
    "        elif int(tokens[0]) in feature_inds:\n",
    "            data_values[int(tokens[0])].append(float(tokens[-1]))\n",
    "        else:\n",
    "            pass\n",
    "    return(data_values)\n",
    "    #return hourly list for all feature vars, plus hourly list with times to check sorting\n",
    "    \n",
    "def get_holidays(lines):\n",
    "    holidays = []\n",
    "    weekends = []\n",
    "    all_dates = []\n",
    "    \n",
    "    start_i = lines.index(\"End of Data Dictionary\\n\")\n",
    "    for line in lines[start_i+1:-2]:\n",
    "        tokens = line.strip().split(\",\")\n",
    "        if tokens[-1] == \"Holiday\":\n",
    "            if float(tokens[-3]) == 0.00 and float(tokens[-2]) == 60.00:\n",
    "                t = parse_time_line(line)\n",
    "                holidays.append(t)\n",
    "        elif int(tokens[0]) == 2:\n",
    "            if float(tokens[-3]) == 0.00 and float(tokens[-2]) == 60.00:\n",
    "                t = parse_time_line(line)\n",
    "                all_dates.append(t)\n",
    "                if t.weekday() == 6 or t.weekday() == 0:\n",
    "                    weekends.append(t)\n",
    "    return(all_dates, weekends, holidays)\n",
    "                      \n",
    "def norm_array(arr):\n",
    "    return(preprocessing.minmax_scale(arr, axis=1))\n",
    "\n",
    "def read_total_data_array(filepath, dep_var_names, ind_var_names, zone_temp_inds, first_diff=False, no_weekend_holiday=False):\n",
    "    with open(datapath + filepath) as d:\n",
    "        lines = d.readlines()\n",
    "        lines.pop(0)\n",
    "        data_dict = read_data_dictionary(lines)\n",
    "        data = parse_lines(lines, data_dict)\n",
    "        all_dates, weekends, holidays = get_holidays(lines)\n",
    "        ind_map = {}\n",
    "        for key, value in data_dict.items():\n",
    "            if type(value) == list:\n",
    "                value = value[-1]\n",
    "            ind_map[value] = key\n",
    "\n",
    "    X = np.zeros((len(dep_var_names) + len(zone_temp_inds), 8760))\n",
    "    U = np.zeros((len(ind_var_names), 8760))\n",
    "\n",
    "    for i in range(len(ind_var_names)):\n",
    "        item = ind_var_names[i]\n",
    "        ind = ind_map[item]\n",
    "        if item == 'DayType':\n",
    "            lis = data[ind]\n",
    "            out = []\n",
    "            for val in lis:\n",
    "                out.append(val.weekday())\n",
    "            arr = np.array(out)\n",
    "        else:\n",
    "            arr = np.array(data[ind])\n",
    "        U[i,:] = arr\n",
    "\n",
    "    for j in range(len(dep_var_names)):\n",
    "        item = dep_var_names[j]\n",
    "        ind = ind_map[item]\n",
    "        arr = np.array(data[ind])\n",
    "        X[j,:] = arr\n",
    "\n",
    "    for j in range(len(zone_temp_inds)):\n",
    "        ind = zone_temp_inds[j]\n",
    "        arr = np.array(data[ind])\n",
    "        X[j+len(dep_var_names),:] = arr\n",
    "        \n",
    "    if no_weekend_holiday == True:\n",
    "        weekend_i = []\n",
    "        holiday_i = []\n",
    "        for j in range(len(all_dates)):\n",
    "            if all_dates[j] in weekends:\n",
    "                weekend_i.append(j)\n",
    "            if all_dates[j] in holidays:\n",
    "                holiday_i.append(j)\n",
    "                \n",
    "        del_i = np.array(list(set(holiday_i + weekend_i)))\n",
    "        X = np.delete(X, del_i, axis=1)\n",
    "        U = np.delete(U, del_i, axis=1)\n",
    "    \n",
    "    if first_diff == True:\n",
    "        X = np.diff(X, n=1, axis=1)\n",
    "        U = np.diff(U, n=1, axis=1)\n",
    "\n",
    "    Z = np.vstack((X, U))\n",
    "\n",
    "    return(Z, X, U)\n",
    "\n",
    "def minibatch_X_Y_arrays(X_arr, Y_arr, batchsize):    \n",
    "    #list of training, target pair tuples\n",
    "    remainder = X_arr.shape[1] % batchsize\n",
    "    diff = batchsize - remainder\n",
    "    tail_X = X_arr[:,-diff:] \n",
    "    tail_Y = Y_arr[:,-diff:]\n",
    "    out_X = [ X_arr[:,i*batchsize:(i+1)*batchsize] for i in range(int(float(X_arr.shape[1])/float(batchsize))) ]\n",
    "    out_Y = [ Y_arr[:,i*batchsize:(i+1)*batchsize] for i in range(int(float(Y_arr.shape[1])/float(batchsize)))]\n",
    "    out_X = out_X + [tail_X]\n",
    "    out_Y = out_Y + [tail_Y]\n",
    "    return(out_X, out_Y)\n",
    "\n",
    "def split_train_val(Z, X, U, order=1, shuff=True, split_prop=0.8):\n",
    "    all_pairs = []\n",
    "    for i in range(Z.shape[1] - order):  #not 8760 for first-diff\n",
    "        all_pairs.append((Z[:,i:i+order-1].flatten(), Z[0:-U.shape[0],i+order]))\n",
    "\n",
    "    if shuff == True:\n",
    "        random.shuffle(all_pairs) \n",
    "    else:\n",
    "        pass\n",
    "\n",
    "    train_pairs = all_pairs[0:int(split_prop*len(all_pairs))]\n",
    "    val_pairs = all_pairs[-int((1.0-split_prop)*len(all_pairs)):]\n",
    "    \n",
    "    #normalize to training data\n",
    "    X_train = []\n",
    "    Y_train = []\n",
    "\n",
    "    for item in train_pairs:\n",
    "        X_train.append(item[0])\n",
    "        Y_train.append(item[1])\n",
    "\n",
    "    X_val = []\n",
    "    Y_val = []\n",
    "    for item in val_pairs:\n",
    "        X_val.append(item[0])\n",
    "        Y_val.append(item[1])\n",
    "\n",
    "    X_train = np.asarray(X_train).T\n",
    "    Y_train = np.asarray(Y_train).T\n",
    "\n",
    "    X_val = np.asarray(X_val).T\n",
    "    Y_val = np.asarray(Y_val).T\n",
    "    \n",
    "    return(X_train, Y_train, X_val, Y_val)\n",
    "\n",
    "def normalize_data_set(X, Y, X_minmax_vals):\n",
    "    X_norm = copy.copy(X)\n",
    "    Y_norm = copy.copy(Y)\n",
    "    \n",
    "    for row in range(X.shape[0]):\n",
    "        mx = np.max(X_minmax_vals[row,:])\n",
    "        mn = np.min(X_minmax_vals[row,:])\n",
    "\n",
    "        X_norm[row,:] = (1.0/(mx - mn))*(X[row,:] - mn)\n",
    "\n",
    "        if row < Y.shape[0]:\n",
    "            Y_norm[row,:] = (1.0/(mx - mn))*(Y[row,:] - mn)\n",
    "            \n",
    "    return(X_norm, Y_norm)\n",
    "\n",
    "def polynomial_kernel_mat(X, poly_degree):\n",
    "    out = X\n",
    "    for d in range(2,poly_degree+1):\n",
    "        out = np.vstack((out, np.power(X, d)))\n",
    "    return(out)"
   ]
  },
  {
   "cell_type": "code",
   "execution_count": 7,
   "metadata": {
    "collapsed": true
   },
   "outputs": [],
   "source": [
    "#global vars\n",
    "datapath = \"/home/chase/projects/building_transfer/data/eplus_sims/\"\n",
    "\n",
    "#shared simulation var names\n",
    "dep_var_names = ['Electricity:Facility [J] !Hourly', 'Fans:Electricity [J] !Hourly', 'Cooling:Electricity [J] !Hourly']\n",
    "ind_var_names = ['EnvironmentSite Outdoor Air Drybulb Temperature [C] !Hourly', 'EnvironmentSite Outdoor Air Relative Humidity [%] !Hourly', 'DayType']\n",
    "\n",
    "poly_degree = 5\n",
    "order = 26 #26"
   ]
  },
  {
   "cell_type": "code",
   "execution_count": 8,
   "metadata": {
    "collapsed": true
   },
   "outputs": [],
   "source": [
    "#building specific var names\n",
    "\n",
    "zone_temp_inds = [863,864,865]\n",
    "\n",
    "Z, X, U = read_total_data_array(\"refbuild_med/seattle/RefBldgMediumOfficeNew2004_Chicago.eso\", dep_var_names, ind_var_names, zone_temp_inds, first_diff=True, no_weekend_holiday=True)"
   ]
  },
  {
   "cell_type": "code",
   "execution_count": 9,
   "metadata": {
    "collapsed": true
   },
   "outputs": [],
   "source": [
    "X_train_pre, Y_train_pre, X_val_pre, Y_val_pre = split_train_val(Z, X, U, order=order, shuff=False, split_prop=0.8)\n",
    "X_train, Y_train = normalize_data_set(X_train_pre, Y_train_pre, X_train_pre)\n",
    "X_val, Y_val = normalize_data_set(X_train_pre, Y_train_pre, X_train_pre)\n",
    "\n",
    "#kernelize\n",
    "X_train_poly = polynomial_kernel_mat(X_train, poly_degree)\n",
    "X_val_poly = polynomial_kernel_mat(X_val, poly_degree)\n",
    "\n",
    "#mean shift\n",
    "m = False\n",
    "if m == True:\n",
    "    mean_feature = np.mean(X_train_poly, axis=1)\n",
    "    mean_array = np.asarray([ mean_feature for i in range(X_train_poly.shape[1]) ]).T\n",
    "    X_train_poly = X_train_poly - mean_array\n",
    "\n",
    "    mean_array_v = np.asarray([ mean_feature for i in range(X_val_poly.shape[1]) ]).T\n",
    "    X_val_poly = X_val_poly - mean_array_v\n",
    "\n",
    "    mean_output = np.mean(Y_train, axis=1)\n",
    "    mean_array = np.asarray([ mean_output for i in range(Y_train.shape[1]) ]).T\n",
    "    Y_train = Y_train - mean_array\n",
    "\n",
    "    mean_array_v = np.asarray([ mean_output for i in range(Y_val.shape[1]) ]).T\n",
    "    Y_val = Y_val - mean_array_v\n",
    "\n",
    "#shuffle\n",
    "shuff = np.arange(X_train.shape[1])\n",
    "np.random.shuffle(shuff)\n",
    "\n",
    "X_train_shuff = copy.copy(X_train_poly)[:,shuff]\n",
    "Y_train_shuff = copy.copy(Y_train)[:,shuff]"
   ]
  },
  {
   "cell_type": "code",
   "execution_count": 10,
   "metadata": {},
   "outputs": [
    {
     "data": {
      "image/png": "[encoded data removed]",
      "text/plain": [
       "<matplotlib.figure.Figure at 0x7f08fc5feac8>"
      ]
     },
     "metadata": {},
     "output_type": "display_data"
    }
   ],
   "source": [
    "#sklearn solution\n",
    "\n",
    "\n",
    "reg = linear_model.LinearRegression(fit_intercept=False)\n",
    "reg.fit(X_train_shuff.T, Y_train_shuff.T)\n",
    "\n",
    "plt.imshow(reg.coef_[:,-100:])\n",
    "plt.show()"
   ]
  },
  {
   "cell_type": "code",
   "execution_count": 11,
   "metadata": {},
   "outputs": [
    {
     "data": {
      "text/plain": [
       "0.00010194455217769091"
      ]
     },
     "execution_count": 11,
     "metadata": {},
     "output_type": "execute_result"
    }
   ],
   "source": [
    "#the MSE using OLS\n",
    "mean_squared_error(Y_val.T, reg.coef_.dot(X_val_poly).T, multioutput='uniform_average')"
   ]
  },
  {
   "cell_type": "code",
   "execution_count": 12,
   "metadata": {
    "collapsed": true
   },
   "outputs": [],
   "source": [
    "### Per season basis, same building, Medium office"
   ]
  },
  {
   "cell_type": "code",
   "execution_count": 13,
   "metadata": {
    "collapsed": true
   },
   "outputs": [],
   "source": [
    "X_all_pre, Y_all_pre, X_v, Y_v = split_train_val(Z, X, U, order=order, shuff=False, split_prop=1.0)\n",
    "X_all, Y_all = normalize_data_set(X_all_pre, Y_all_pre, X_all_pre)\n",
    "\n",
    "#kernelize\n",
    "X_all_poly = polynomial_kernel_mat(X_all, poly_degree)"
   ]
  },
  {
   "cell_type": "code",
   "execution_count": 14,
   "metadata": {},
   "outputs": [
    {
     "name": "stdout",
     "output_type": "stream",
     "text": [
      "Training data size:  30\n",
      "Training data size:  40\n",
      "Training data size:  50\n",
      "Training data size:  60\n",
      "Training data size:  70\n",
      "Training data size:  80\n",
      "Training data size:  90\n",
      "Training data size:  100\n",
      "Training data size:  110\n",
      "Training data size:  120\n",
      "Training data size:  130\n",
      "Training data size:  140\n",
      "Training data size:  150\n",
      "Training data size:  160\n",
      "Training data size:  170\n",
      "Training data size:  180\n",
      "Training data size:  190\n",
      "Training data size:  200\n",
      "Training data size:  210\n",
      "Training data size:  220\n",
      "Training data size:  230\n",
      "Training data size:  240\n",
      "Training data size:  250\n",
      "Training data size:  260\n",
      "Training data size:  270\n",
      "Training data size:  280\n",
      "Training data size:  290\n",
      "Training data size:  300\n",
      "Training data size:  310\n",
      "Training data size:  320\n",
      "Training data size:  330\n",
      "Training data size:  30\n",
      "Training data size:  40\n",
      "Training data size:  50\n",
      "Training data size:  60\n",
      "Training data size:  70\n",
      "Training data size:  80\n",
      "Training data size:  90\n",
      "Training data size:  100\n",
      "Training data size:  110\n",
      "Training data size:  120\n",
      "Training data size:  130\n",
      "Training data size:  140\n",
      "Training data size:  150\n",
      "Training data size:  160\n",
      "Training data size:  170\n",
      "Training data size:  180\n",
      "Training data size:  190\n",
      "Training data size:  200\n",
      "Training data size:  210\n",
      "Training data size:  220\n",
      "Training data size:  230\n",
      "Training data size:  240\n",
      "Training data size:  250\n"
     ]
    },
    {
     "ename": "KeyboardInterrupt",
     "evalue": "",
     "output_type": "error",
     "traceback": [
      "\u001b[0;31m---------------------------------------------------------------------------\u001b[0m",
      "\u001b[0;31mKeyboardInterrupt\u001b[0m                         Traceback (most recent call last)",
      "\u001b[0;32m<ipython-input-14-8942119f2e23>\u001b[0m in \u001b[0;36m<module>\u001b[0;34m()\u001b[0m\n\u001b[1;32m     35\u001b[0m         \u001b[0mY_val_s\u001b[0m \u001b[0;34m=\u001b[0m \u001b[0mY_all\u001b[0m\u001b[0;34m[\u001b[0m\u001b[0;34m:\u001b[0m\u001b[0;34m,\u001b[0m\u001b[0mall_val_inds\u001b[0m\u001b[0;34m]\u001b[0m\u001b[0;34m\u001b[0m\u001b[0;34m\u001b[0m\u001b[0m\n\u001b[1;32m     36\u001b[0m \u001b[0;34m\u001b[0m\u001b[0m\n\u001b[0;32m---> 37\u001b[0;31m         \u001b[0mval_loss\u001b[0m \u001b[0;34m=\u001b[0m \u001b[0mmean_squared_error\u001b[0m\u001b[0;34m(\u001b[0m\u001b[0mY_val_s\u001b[0m\u001b[0;34m.\u001b[0m\u001b[0mT\u001b[0m\u001b[0;34m,\u001b[0m \u001b[0mreg\u001b[0m\u001b[0;34m.\u001b[0m\u001b[0mcoef_\u001b[0m\u001b[0;34m.\u001b[0m\u001b[0mdot\u001b[0m\u001b[0;34m(\u001b[0m\u001b[0mX_val_s\u001b[0m\u001b[0;34m)\u001b[0m\u001b[0;34m.\u001b[0m\u001b[0mT\u001b[0m\u001b[0;34m,\u001b[0m \u001b[0mmultioutput\u001b[0m\u001b[0;34m=\u001b[0m\u001b[0;34m'uniform_average'\u001b[0m\u001b[0;34m)\u001b[0m\u001b[0;34m\u001b[0m\u001b[0;34m\u001b[0m\u001b[0m\n\u001b[0m\u001b[1;32m     38\u001b[0m \u001b[0;34m\u001b[0m\u001b[0m\n\u001b[1;32m     39\u001b[0m         \u001b[0mval_out\u001b[0m\u001b[0;34m[\u001b[0m\u001b[0mseas\u001b[0m\u001b[0;34m]\u001b[0m\u001b[0;34m[\u001b[0m\u001b[0;34m\"validation_loss\"\u001b[0m\u001b[0;34m]\u001b[0m\u001b[0;34m.\u001b[0m\u001b[0mappend\u001b[0m\u001b[0;34m(\u001b[0m\u001b[0mval_loss\u001b[0m\u001b[0;34m)\u001b[0m\u001b[0;34m\u001b[0m\u001b[0;34m\u001b[0m\u001b[0m\n",
      "\u001b[0;31mKeyboardInterrupt\u001b[0m: "
     ]
    }
   ],
   "source": [
    "shift=168  #just to get it away from the extreme ends of the seasons\n",
    "horizon=168*2\n",
    "season_i = [0+shift, 1595+shift, 2*1595+shift, 3*1595+shift]\n",
    "val_out = {}\n",
    "for seas in season_i:\n",
    "    val_out[seas] = {}\n",
    "    val_out[seas][\"validation_loss\"] = []\n",
    "    val_out[seas][\"validation_mape\"] = []\n",
    "    val_out[seas][\"avg_training_losses\"] = []\n",
    "    num_hours = []\n",
    "\n",
    "    for s in range(25,horizon):\n",
    "        num_hours.append(s + order)\n",
    "        if s % 10 == 0:\n",
    "            print(\"Training data size: \", s)\n",
    "\n",
    "        X_train_s = X_all_poly[:,seas:seas+s]\n",
    "        Y_train_s = Y_all[:,seas:seas+s]\n",
    "\n",
    "        reg = linear_model.LinearRegression(fit_intercept=False)\n",
    "        reg.fit(X_train_s.T, Y_train_s.T)\n",
    "        \n",
    "        train_loss = mean_squared_error(Y_train_s.T, reg.coef_.dot(X_train_s).T, multioutput='uniform_average')\n",
    "        \n",
    "        val_out[seas][\"avg_training_losses\"].append(train_loss)\n",
    "\n",
    "        others = copy.copy(season_i)\n",
    "        others.remove(seas)\n",
    "        all_val = []\n",
    "        for si in others:\n",
    "            all_val.append(np.arange(si-shift,si+1594-shift,1)) #validate with all other seasons\n",
    "        all_val_inds = np.asarray(all_val).flatten()\n",
    "        #print(all_val_inds)\n",
    "        X_val_s = X_all_poly[:,all_val_inds]\n",
    "        Y_val_s = Y_all[:,all_val_inds]\n",
    "        \n",
    "        val_loss = mean_squared_error(Y_val_s.T, reg.coef_.dot(X_val_s).T, multioutput='uniform_average')\n",
    "        \n",
    "        val_out[seas][\"validation_loss\"].append(val_loss)\n",
    "        val_out[seas][\"validation_mape\"].append(np.mean(np.abs(reg.coef_.dot(X_val_s).T - Y_val_s.T)/Y_val_s.T))"
   ]
  },
  {
   "cell_type": "code",
   "execution_count": null,
   "metadata": {},
   "outputs": [],
   "source": [
    "plt.plot(num_hours, np.asarray(val_out[0+shift][\"avg_training_losses\"]), label=\"Winter\")\n",
    "plt.plot(num_hours, np.asarray(val_out[1595+shift][\"avg_training_losses\"]), label=\"Spring\")\n",
    "plt.plot(num_hours, np.asarray(val_out[2*1595+shift][\"avg_training_losses\"]), label=\"Summer\")\n",
    "plt.plot(num_hours, np.asarray(val_out[3*1595+shift][\"avg_training_losses\"]), label=\"Fall\")\n",
    "plt.legend()\n",
    "plt.title(\"Training MSE on all other seasons\\n training on consecutive hours by season\")\n",
    "plt.xlabel(\"consecutive hours of training data\")\n",
    "plt.ylabel(\"MSE\")\n",
    "plt.show()"
   ]
  },
  {
   "cell_type": "code",
   "execution_count": null,
   "metadata": {},
   "outputs": [],
   "source": [
    "plt.plot(num_hours, np.asarray(val_out[0+shift][\"validation_loss\"]), label=\"Winter\")\n",
    "plt.plot(num_hours, np.asarray(val_out[1595+shift][\"validation_loss\"]), label=\"Spring\")\n",
    "plt.plot(num_hours, np.asarray(val_out[2*1595+shift][\"validation_loss\"]), label=\"Summer\")\n",
    "plt.plot(num_hours, np.asarray(val_out[3*1595+shift][\"validation_loss\"]), label=\"Fall\")\n",
    "plt.legend()\n",
    "plt.title(\"Validation MSE on all other seasons\\n training on consecutive hours by season\")\n",
    "plt.xlabel(\"consecutive hours of training data\")\n",
    "plt.ylabel(\"MSE\")\n",
    "plt.show()"
   ]
  },
  {
   "cell_type": "code",
   "execution_count": null,
   "metadata": {},
   "outputs": [],
   "source": [
    "plt.plot(np.asarray(val_out[0+shift][\"validation_mape\"]), label=\"Winter\")\n",
    "plt.plot(np.asarray(val_out[1595+shift][\"validation_mape\"]), label=\"Spring\")\n",
    "plt.plot(np.asarray(val_out[2*1595+shift][\"validation_mape\"]), label=\"Summer\")\n",
    "plt.plot(np.asarray(val_out[3*1595+shift][\"validation_mape\"]), label=\"Fall\")\n",
    "plt.legend()\n",
    "plt.title(\"Validation MAPE on all other seasons\\n training on consecutive hours by season\")\n",
    "plt.xlabel(\"consecutive hours of training data\")\n",
    "plt.ylabel(\"MAPE\")\n",
    "plt.show()"
   ]
  },
  {
   "cell_type": "code",
   "execution_count": 62,
   "metadata": {},
   "outputs": [
    {
     "name": "stdout",
     "output_type": "stream",
     "text": [
      "Training data size:  30\n",
      "Training data size:  40\n",
      "Training data size:  30\n",
      "Training data size:  40\n",
      "Training data size:  30\n",
      "Training data size:  40\n",
      "Training data size:  30\n",
      "Training data size:  40\n",
      "Training data size:  30\n",
      "Training data size:  40\n",
      "Training data size:  30\n",
      "Training data size:  40\n",
      "Training data size:  30\n",
      "Training data size:  40\n",
      "Training data size:  30\n",
      "Training data size:  40\n",
      "Training data size:  30\n",
      "Training data size:  40\n",
      "Training data size:  30\n",
      "Training data size:  40\n",
      "Training data size:  30\n",
      "Training data size:  40\n",
      "Training data size:  30\n",
      "Training data size:  40\n",
      "Training data size:  30\n",
      "Training data size:  40\n"
     ]
    }
   ],
   "source": [
    "#train initial for 2 weeks in winter\n",
    "\n",
    "shift=168\n",
    "horizon = 50\n",
    "start_i = 0+shift\n",
    "\n",
    "#train the winter transition matrix\n",
    "X_train_s = X_all_poly[:,0+shift:0+shift+horizon]\n",
    "Y_train_s = Y_all[:,0+shift:0+shift+horizon]\n",
    "\n",
    "reg = linear_model.LinearRegression(fit_intercept=False)\n",
    "reg.fit(X_train_s.T, Y_train_s.T)\n",
    "\n",
    "with open(\"winter_ols.skl\", 'wb') as d:\n",
    "    pickle.dump(reg, d)\n",
    "\n",
    "#train_loss = mean_squared_error(Y_train_s.T, reg.coef_.dot(X_train_s).T, multioutput='uniform_average')\n",
    "\n",
    "#hyperparameter sweep\n",
    "weight_vals = [0, 1e-32, 1e-30, 1e-28, 1e-26, 1e-24, 1e-22, 1e-20, 1e-18, 1e-16, 1e-12, 1e-4, 1]\n",
    "validation_loss_transfer = []\n",
    "validation_mape_transfer = []\n",
    "\n",
    "all_val_inds = np.arange(2*1594,3*1594,1)  #get all summer values\n",
    "X_val_s = X_all_poly[:,all_val_inds]\n",
    "Y_val_s = Y_all[:,all_val_inds]\n",
    "\n",
    "for wv in weight_vals:\n",
    "    #transfer with summer data\n",
    "\n",
    "    validation_loss_transfer.append([])\n",
    "    validation_mape_transfer.append([])\n",
    "\n",
    "    num_hours = []\n",
    "\n",
    "    for s in range(25,horizon):\n",
    "        num_hours.append(s + order)\n",
    "        if s % 10 == 0:\n",
    "            print(\"Training data size: \", s)\n",
    "\n",
    "        X_train_summer = X_all_poly[:,2*1594+shift:2*1594+shift+s]  #get summer training data\n",
    "        Y_train_summer = Y_all[:,2*1594+shift:2*1594+shift+s]\n",
    "\n",
    "        weights_winter = np.array([ wv for i in range(X_train_s.shape[1]) ]) #np.power(X_train_s.shape[1], 2)\n",
    "        weights_summer = np.array([ 1 for i in range(X_train_summer.shape[1]) ])\n",
    "\n",
    "        X_transfer = np.hstack((X_train_s, X_train_summer))\n",
    "        Y_transfer = np.hstack((Y_train_s, Y_train_summer))\n",
    "        weights = np.concatenate((weights_winter, weights_summer))\n",
    "\n",
    "        reg = linear_model.LinearRegression(fit_intercept=False)\n",
    "        reg.fit(X_transfer.T, Y_transfer.T, sample_weight=weights)\n",
    "\n",
    "        val_loss = mean_squared_error(Y_val_s.T, reg.coef_.dot(X_val_s).T, multioutput='uniform_average')\n",
    "\n",
    "        validation_loss_transfer[-1].append(val_loss)\n",
    "        validation_mape_transfer[-1].append(np.mean(np.abs(reg.coef_.dot(X_val_s).T - Y_val_s.T)/Y_val_s.T))"
   ]
  },
  {
   "cell_type": "code",
   "execution_count": 63,
   "metadata": {},
   "outputs": [
    {
     "name": "stdout",
     "output_type": "stream",
     "text": [
      "Training data size:  30\n",
      "Training data size:  40\n"
     ]
    }
   ],
   "source": [
    "#set \"inital\" as random, train and validate in summer\n",
    "shift=168\n",
    "horizon = 50\n",
    "start_i = 0+shift\n",
    "\n",
    "validation_loss_random = []\n",
    "validation_mape_random = []\n",
    "\n",
    "\n",
    "others = copy.copy(season_i)\n",
    "others.remove(seas)\n",
    "all_val = []\n",
    "for si in others:\n",
    "    all_val.append(np.arange(si-shift,si+1594-shift,1)) #validate with all other seasons\n",
    "all_val_inds = np.asarray(all_val).flatten()\n",
    "#print(all_val_inds)\n",
    "X_val_s = X_all_poly[:,all_val_inds]\n",
    "Y_val_s = Y_all[:,all_val_inds]\n",
    "\n",
    "all_val_inds = np.arange(2*1594,3*1594,1)  #get all summer values\n",
    "X_val_s = X_all_poly[:,all_val_inds]\n",
    "Y_val_s = Y_all[:,all_val_inds]\n",
    "\n",
    "for s in range(25,horizon):\n",
    "    num_hours.append(s + order)\n",
    "    if s % 10 == 0:\n",
    "        print(\"Training data size: \", s)\n",
    "        \n",
    "    X_train_summer = X_all_poly[:,2*1594+shift:2*1594+shift+s]  #get summer training data\n",
    "    Y_train_summer = Y_all[:,2*1594+shift:2*1594+shift+s]\n",
    "    \n",
    "    reg = linear_model.LinearRegression(fit_intercept=False)\n",
    "    reg.fit(X_train_summer.T, Y_train_summer.T)\n",
    "    \n",
    "    val_loss = mean_squared_error(Y_val_s.T, reg.coef_.dot(X_val_s).T, multioutput='uniform_average')\n",
    "        \n",
    "    validation_loss_random.append(val_loss)\n",
    "    validation_mape_random.append(np.mean(np.abs(reg.coef_.dot(X_val_s).T - Y_val_s.T)/Y_val_s.T))\n",
    "    \n",
    "    del(reg)"
   ]
  },
  {
   "cell_type": "code",
   "execution_count": 64,
   "metadata": {
    "collapsed": true
   },
   "outputs": [],
   "source": [
    "weight_index = 5"
   ]
  },
  {
   "cell_type": "code",
   "execution_count": null,
   "metadata": {},
   "outputs": [],
   "source": []
  },
  {
   "cell_type": "code",
   "execution_count": 65,
   "metadata": {},
   "outputs": [
    {
     "data": {
      "image/png": "[encoded data removed]",
      "text/plain": [
       "<matplotlib.figure.Figure at 0x7f089950a160>"
      ]
     },
     "metadata": {},
     "output_type": "display_data"
    }
   ],
   "source": [
    "nh = np.asarray([float(i + 24) for i in range(len(validation_mape_transfer[weight_index]))])/24.0\n",
    "for i in range(len(weight_vals)):\n",
    "    weight_index = i\n",
    "    plt.plot(nh, np.asarray(validation_mape_transfer[weight_index]), label=\"Winter Transfer\")\n",
    "plt.plot(nh, np.asarray(validation_mape_random), label=\"Random Init\")\n",
    "plt.legend()\n",
    "plt.title(\"Validation MAPE on summer validation\\n Trained with random initialization vs winter transfer\")\n",
    "plt.xlabel(\"consecutive days of training data\")\n",
    "plt.ylabel(\"MAPE\")\n",
    "plt.show()"
   ]
  },
  {
   "cell_type": "code",
   "execution_count": 68,
   "metadata": {},
   "outputs": [
    {
     "name": "stdout",
     "output_type": "stream",
     "text": [
      "1.0\n",
      "0.1\n",
      "0.01\n",
      "0.001\n",
      "0.0001\n",
      "1e-05\n",
      "1e-06\n",
      "1e-07\n",
      "1e-08\n",
      "1e-09\n"
     ]
    }
   ],
   "source": [
    "for i in range(10):\n",
    "    print(1*np.power(10.0, -i))"
   ]
  },
  {
   "cell_type": "code",
   "execution_count": 61,
   "metadata": {},
   "outputs": [
    {
     "data": {
      "image/png": "[encoded data removed]",
      "text/plain": [
       "<matplotlib.figure.Figure at 0x7f089970f390>"
      ]
     },
     "metadata": {},
     "output_type": "display_data"
    }
   ],
   "source": [
    "plt.plot(nh, np.asarray(validation_loss_transfer[weight_index]), label=\"Winter Transfer\")\n",
    "plt.plot(nh, np.asarray(validation_loss_random), label=\"Random Init\")\n",
    "plt.legend()\n",
    "plt.title(\"Validation MSE on summer validation\\n Trained with random initialization vs winter transfer\")\n",
    "plt.xlabel(\"consecutive hours of training data\")\n",
    "plt.ylabel(\"MSE\")\n",
    "plt.show()"
   ]
  },
  {
   "cell_type": "code",
   "execution_count": null,
   "metadata": {
    "collapsed": true
   },
   "outputs": [],
   "source": [
    "#sample weights don't seem to be working\n",
    "\n",
    "#compare to just winter applied to summer data without transfer"
   ]
  },
  {
   "cell_type": "code",
   "execution_count": 4,
   "metadata": {},
   "outputs": [
    {
     "data": {
      "text/plain": [
       "(2, 20)"
      ]
     },
     "execution_count": 4,
     "metadata": {},
     "output_type": "execute_result"
    }
   ],
   "source": []
  },
  {
   "cell_type": "code",
   "execution_count": 5,
   "metadata": {
    "collapsed": true
   },
   "outputs": [],
   "source": [
    "#weighted least squares is working, include more variables and transfer to different climate/building?\n",
    "\n",
    "#does classification work better with the least squares trained matrix?"
   ]
  },
  {
   "cell_type": "code",
   "execution_count": 44,
   "metadata": {
    "collapsed": true
   },
   "outputs": [],
   "source": []
  },
  {
   "cell_type": "code",
   "execution_count": null,
   "metadata": {
    "collapsed": true
   },
   "outputs": [],
   "source": []
  }
 ],
 "metadata": {
  "kernelspec": {
   "display_name": "Python [conda env:anaconda3]",
   "language": "python",
   "name": "conda-env-anaconda3-py"
  },
  "language_info": {
   "codemirror_mode": {
    "name": "ipython",
    "version": 3
   },
   "file_extension": ".py",
   "mimetype": "text/x-python",
   "name": "python",
   "nbconvert_exporter": "python",
   "pygments_lexer": "ipython3",
   "version": "3.6.8"
  }
 },
 "nbformat": 4,
 "nbformat_minor": 2
}
