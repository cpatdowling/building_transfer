{
 "cells": [
  {
   "cell_type": "code",
   "execution_count": 1,
   "metadata": {
    "collapsed": true
   },
   "outputs": [],
   "source": [
    "import numpy as np"
   ]
  },
  {
   "cell_type": "code",
   "execution_count": 3,
   "metadata": {},
   "outputs": [
    {
     "name": "stdout",
     "output_type": "stream",
     "text": [
      "(array([[1, 0, 0],\n",
      "       [0, 0, 0],\n",
      "       [0, 0, 0]]), array([[-0.28645433,  0.1442658 ,  0.34891201],\n",
      "       [-0.33808471,  1.79930981, -0.43479648],\n",
      "       [ 0.19347096,  0.16500705,  0.4607569 ]]))\n",
      "[[-0.28645433  0.1442658   0.34891201]\n",
      " [ 0.          0.          0.        ]\n",
      " [ 0.          0.          0.        ]]\n"
     ]
    }
   ],
   "source": [
    "A = np.array([[1, 0, 0],\n",
    "              [0, 0, 0],\n",
    "              [0, 0, 0]])\n",
    "\n",
    "B = np.random.normal(0,1, size=(3,3))\n",
    "\n",
    "print(A, B)\n",
    "print(A.dot(B))"
   ]
  },
  {
   "cell_type": "code",
   "execution_count": 4,
   "metadata": {},
   "outputs": [
    {
     "name": "stdout",
     "output_type": "stream",
     "text": [
      "(array([[0, 1, 0],\n",
      "       [0, 0, 0],\n",
      "       [0, 0, 0]]), array([[ 1.32730731, -2.23600924,  0.89704818],\n",
      "       [ 0.97802829,  1.40530546, -0.03513659],\n",
      "       [-0.15817001,  1.22569032,  0.88325052]]))\n",
      "[[ 0.97802829  1.40530546 -0.03513659]\n",
      " [ 0.          0.          0.        ]\n",
      " [ 0.          0.          0.        ]]\n"
     ]
    }
   ],
   "source": [
    "A = np.array([[0, 1, 0],\n",
    "              [0, 0, 0],\n",
    "              [0, 0, 0]])\n",
    "\n",
    "B = np.random.normal(0,1, size=(3,3))\n",
    "\n",
    "print(A, B)\n",
    "print(A.dot(B))"
   ]
  },
  {
   "cell_type": "code",
   "execution_count": 5,
   "metadata": {},
   "outputs": [
    {
     "name": "stdout",
     "output_type": "stream",
     "text": [
      "(array([[0, 0, 0],\n",
      "       [1, 0, 0],\n",
      "       [0, 0, 0]]), array([[-0.90399887,  1.18177827,  0.50625114],\n",
      "       [ 0.17364774, -2.05233277,  0.05209824],\n",
      "       [ 1.94656886,  1.02152303,  0.36937148]]))\n",
      "[[ 0.          0.          0.        ]\n",
      " [-0.90399887  1.18177827  0.50625114]\n",
      " [ 0.          0.          0.        ]]\n"
     ]
    }
   ],
   "source": [
    "A = np.array([[0, 0, 0],\n",
    "              [1, 0, 0],\n",
    "              [0, 0, 0]])\n",
    "\n",
    "B = np.random.normal(0,1, size=(3,3))\n",
    "\n",
    "print(A, B)\n",
    "print(A.dot(B))"
   ]
  },
  {
   "cell_type": "code",
   "execution_count": 6,
   "metadata": {},
   "outputs": [
    {
     "name": "stdout",
     "output_type": "stream",
     "text": [
      "(array([[0, 0, 0],\n",
      "       [0, 1, 0],\n",
      "       [0, 0, 0]]), array([[-0.87662293, -0.81767991, -1.61837809],\n",
      "       [-1.58060746,  1.23273908,  0.15382257],\n",
      "       [ 1.35602548, -0.55721665, -1.14708891]]))\n",
      "[[ 0.          0.          0.        ]\n",
      " [-1.58060746  1.23273908  0.15382257]\n",
      " [ 0.          0.          0.        ]]\n"
     ]
    }
   ],
   "source": [
    "A = np.array([[0, 0, 0],\n",
    "              [0, 1, 0],\n",
    "              [0, 0, 0]])\n",
    "\n",
    "B = np.random.normal(0,1, size=(3,3))\n",
    "\n",
    "print(A, B)\n",
    "print(A.dot(B))"
   ]
  },
  {
   "cell_type": "code",
   "execution_count": null,
   "metadata": {
    "collapsed": true
   },
   "outputs": [],
   "source": []
  }
 ],
 "metadata": {
  "kernelspec": {
   "display_name": "Python 2",
   "language": "python",
   "name": "python2"
  },
  "language_info": {
   "codemirror_mode": {
    "name": "ipython",
    "version": 2
   },
   "file_extension": ".py",
   "mimetype": "text/x-python",
   "name": "python",
   "nbconvert_exporter": "python",
   "pygments_lexer": "ipython2",
   "version": "2.7.12"
  }
 },
 "nbformat": 4,
 "nbformat_minor": 2
}
