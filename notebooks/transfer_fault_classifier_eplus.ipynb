{
 "cells": [
  {
   "cell_type": "code",
   "execution_count": 1,
   "metadata": {},
   "outputs": [
    {
     "data": {
      "text/html": [
       "\n",
       "<style>\n",
       "    div#notebook-container    { width: 95%; }\n",
       "    div#menubar-container     { width: 65%; }\n",
       "    div#maintoolbar-container { width: 99%; }\n",
       "</style>\n"
      ],
      "text/plain": [
       "<IPython.core.display.HTML object>"
      ]
     },
     "metadata": {},
     "output_type": "display_data"
    }
   ],
   "source": [
    "#cells will fill entire width of the browser\n",
    "from IPython.display import display, HTML\n",
    "\n",
    "display(HTML(data=\"\"\"\n",
    "<style>\n",
    "    div#notebook-container    { width: 95%; }\n",
    "    div#menubar-container     { width: 65%; }\n",
    "    div#maintoolbar-container { width: 99%; }\n",
    "</style>\n",
    "\"\"\"))\n",
    "\n",
    "#Tells Jupyter to reload custom classes from scratch everytime an import cell is run, if you edit a custom class\n",
    "#between imports Jupyter would otherwise need to be restarted completely. Buyer beware: old class objects in the \n",
    "#current namespace will cause errors at execution\n",
    "%load_ext autoreload\n",
    "%autoreload 2\n",
    "\n",
    "#switches matplotlib to show plots in the browser rather than opening a new window\n",
    "%matplotlib inline\n",
    "\n",
    "#always forget to do this for better looking plots\n",
    "import seaborn\n",
    "seaborn.set()"
   ]
  },
  {
   "cell_type": "code",
   "execution_count": 2,
   "metadata": {},
   "outputs": [
    {
     "name": "stderr",
     "output_type": "stream",
     "text": [
      "/home/chase/applications/anaconda3/lib/python3.6/site-packages/statsmodels/compat/pandas.py:56: FutureWarning: The pandas.core.datetools module is deprecated and will be removed in a future version. Please use the pandas.tseries module instead.\n",
      "  from pandas.core import datetools\n"
     ]
    }
   ],
   "source": [
    "import matplotlib.pyplot as plt\n",
    "import os\n",
    "import numpy as np\n",
    "import datetime\n",
    "from statsmodels.tsa import stattools\n",
    "from sklearn import preprocessing\n",
    "import random\n",
    "import copy\n",
    "import scipy\n",
    "import sklearn.metrics\n",
    "from sklearn.linear_model import LogisticRegression\n",
    "\n",
    "import torch\n",
    "import torch.nn as nn\n",
    "import torch.nn.functional as F\n",
    "from torch.autograd import Variable\n",
    "import torch.optim as optim\n",
    "\n",
    "#energyplus processing functions\n",
    "from eplusprocessing import *"
   ]
  },
  {
   "cell_type": "code",
   "execution_count": 3,
   "metadata": {
    "collapsed": true
   },
   "outputs": [],
   "source": [
    "class linear_nnet(nn.Module):\n",
    "    #linear model for kernelized inputs\n",
    "    def __init__(self, params):\n",
    "        super(linear_nnet, self).__init__()\n",
    "        self.D_in = params['FEATURE_DIM']\n",
    "        self.D_out = params['OUTPUT_DIM']\n",
    "        self.l1 = nn.Linear(self.D_in, self.D_out)\n",
    "    \n",
    "    def forward(self, x):\n",
    "        x = self.l1(x) #linear weights for model interpretability\n",
    "        return(x)"
   ]
  },
  {
   "cell_type": "code",
   "execution_count": 4,
   "metadata": {
    "collapsed": true
   },
   "outputs": [],
   "source": [
    "#Bayesian classifier projection features\n",
    "def mat_C(x):\n",
    "    #x shape = px1\n",
    "    C = np.dot(x, x.T) + np.eye(x.shape[0])\n",
    "    return(C)\n",
    "\n",
    "def mat_D(x, y, A):\n",
    "    #x shape px1, y shape nx1, A nxp\n",
    "    D = np.dot(y, x.T) + A\n",
    "    return(D)\n",
    "\n",
    "def likelihood_point(x, y, A):\n",
    "    C = mat_C(x)\n",
    "    D = mat_D(x, y, A)\n",
    "    const = x.shape[0]*np.log(np.linalg.det(np.linalg.inv(C)))\n",
    "    var = np.trace(y.dot(y.T) - 2*A.dot(x).dot(y.T) + x.T.dot(A.T).dot(A).dot(x))\n",
    "    var2 = np.trace(y.dot(y.T) + A.dot(A.T) - D.dot(np.linalg.inv(C)).dot(D.T))   #mixed term doesn't look right\n",
    "    out = var - var2 + const\n",
    "    return(out)"
   ]
  },
  {
   "cell_type": "code",
   "execution_count": 5,
   "metadata": {
    "collapsed": true
   },
   "outputs": [],
   "source": [
    "#global vars\n",
    "datapath = \"/home/chase/projects/building_transfer/data/eplus_sims/\"\n",
    "\n",
    "#shared simulation var names\n",
    "#dep_var_names = ['Electricity:Facility [J] !Hourly', 'Fans:Electricity [J] !Hourly', 'Cooling:Electricity [J] !Hourly']\n",
    "dep_var_names = ['Fans:Electricity [J] !Hourly']\n",
    "ind_var_names = ['EnvironmentSite Outdoor Air Drybulb Temperature [C] !Hourly', 'EnvironmentSite Outdoor Air Relative Humidity [%] !Hourly']#, 'DayType']\n",
    "\n",
    "poly_degree = 3 #5 is optimal with full order 26 from cross validation\n",
    "order = 6"
   ]
  },
  {
   "cell_type": "markdown",
   "metadata": {},
   "source": [
    "### Train A on full year, assume true A\n",
    "\n",
    "Train A on the full year, assume true A, learn decision boundary. Transfer A with small # of samples. Train new decision boundary with those samples + transfered A. Test."
   ]
  },
  {
   "cell_type": "code",
   "execution_count": 6,
   "metadata": {},
   "outputs": [],
   "source": [
    "#building specific var names\n",
    "\n",
    "zone_temp_inds = [863,864,865]\n",
    "\n",
    "Z, X, U = read_total_data_array(datapath + \"refbuild_med/seattle/RefBldgMediumOfficeNew2004_Chicago.eso\", dep_var_names, ind_var_names, zone_temp_inds, first_diff=True, no_weekend_holiday=True)"
   ]
  },
  {
   "cell_type": "code",
   "execution_count": 7,
   "metadata": {},
   "outputs": [
    {
     "name": "stdout",
     "output_type": "stream",
     "text": [
      "Validation MSE:  tensor(0.0027, grad_fn=<MseLossBackward>)\n"
     ]
    }
   ],
   "source": [
    "X_train_pre, Y_train_pre, X_val_pre, Y_val_pre = split_train_val(Z, X, U, order=order, shuff=False, split_prop=1.0)\n",
    "X_train, Y_train = normalize_data_set(X_train_pre, Y_train_pre, X_train_pre)\n",
    "X_val, Y_val = normalize_data_set(X_train_pre, Y_train_pre, X_train_pre)\n",
    "\n",
    "#kernelize\n",
    "X_train_poly = polynomial_kernel_mat(X_train, poly_degree)\n",
    "X_val_poly = polynomial_kernel_mat(X_val, poly_degree)\n",
    "\n",
    "params = {'FEATURE_DIM': X_val_poly.shape[0], 'OUTPUT_DIM': Y_val_pre.shape[0]}\n",
    "net = linear_nnet(params)\n",
    "loss_func = nn.MSELoss()#SmoothL1Loss()\n",
    "optimizer = optim.SGD(net.parameters(),lr=0.01, momentum=0.9)\n",
    "epochs = 1000\n",
    "batch_size = 100\n",
    "\n",
    "for e in range(epochs):\n",
    "    training_losses = []\n",
    "    X_train_list, Y_train_list = minibatch_X_Y_arrays(X_train_poly, Y_train, batch_size)\n",
    "    for i in enumerate(X_train_list):\n",
    "        inp = Variable(torch.Tensor(X_train_list[i[0]].T))\n",
    "        label = Variable(torch.Tensor(Y_train_list[i[0]].T))\n",
    "\n",
    "        out = net(inp)\n",
    "        optimizer.zero_grad()\n",
    "        loss = loss_func(out, label)\n",
    "        loss.backward()\n",
    "        optimizer.step()\n",
    "\n",
    "inp_val = Variable(torch.Tensor(X_val_poly.T))\n",
    "label_val = Variable(torch.Tensor(Y_val.T))\n",
    "out_val = net(inp_val)\n",
    "loss_val = loss_func(out_val, label_val)\n",
    "print(\"Validation MSE: \", loss_val)"
   ]
  },
  {
   "cell_type": "code",
   "execution_count": 8,
   "metadata": {},
   "outputs": [
    {
     "data": {
      "image/png": "[encoded data removed]",
      "text/plain": [
       "<matplotlib.figure.Figure at 0x7f107c3602e8>"
      ]
     },
     "metadata": {},
     "output_type": "display_data"
    }
   ],
   "source": [
    "A = copy.copy(net.l1.weight.data.numpy())\n",
    "plt.imshow(A)\n",
    "plt.show()"
   ]
  },
  {
   "cell_type": "code",
   "execution_count": 9,
   "metadata": {},
   "outputs": [
    {
     "data": {
      "image/png": "[encoded data removed]",
      "text/plain": [
       "<matplotlib.figure.Figure at 0x7f107c360400>"
      ]
     },
     "metadata": {},
     "output_type": "display_data"
    }
   ],
   "source": [
    "#plot the distribution of the forecast error\n",
    "errs = []\n",
    "for i in range(X_val_poly.shape[1]-1): \n",
    "    errs.append(A.dot(X_val_poly[:,i]) - Y_val[:,i])\n",
    "    \n",
    "plt.hist(np.asarray(errs), bins=10, label=[\"Fan\", \"Zone Temp 1\", \"Zone Temp 2\", \"Zone Temp 3\"])\n",
    "plt.title(\"prediction errors by component\")\n",
    "plt.legend()\n",
    "plt.show()"
   ]
  },
  {
   "cell_type": "code",
   "execution_count": 10,
   "metadata": {},
   "outputs": [],
   "source": [
    "zone_temp_inds = [863,864,865]\n",
    "\n",
    "Z, X, U = read_total_data_array(datapath + \"refbuild_med/seattle/RefBldgMediumOfficeNew2004_Chicago.eso\", dep_var_names, ind_var_names, zone_temp_inds, first_diff=True, no_weekend_holiday=True)\n",
    "\n",
    "X_all_pre, Y_all_pre, X_v, Y_v = split_train_val(Z, X, U, order=order, shuff=False, split_prop=1.0)\n",
    "X_all, Y_all = normalize_data_set(X_all_pre, Y_all_pre, X_all_pre)\n",
    "\n",
    "#kernelize\n",
    "X_all_poly = polynomial_kernel_mat(X_all, poly_degree)"
   ]
  },
  {
   "cell_type": "code",
   "execution_count": 11,
   "metadata": {
    "collapsed": true
   },
   "outputs": [],
   "source": [
    "zone_temp_inds = [863,864,865]\n",
    "\n",
    "Z_f, X_f, U_f = read_total_data_array(datapath + \"refbuild_med_airfault/seattle/Fault_FoulingAirFilter_RefBldgMediumOfficeNew2004.eso\", dep_var_names, ind_var_names, zone_temp_inds, first_diff=True, no_weekend_holiday=True)\n",
    "\n",
    "X_all_pre_f, Y_all_pre_f, X_v_f, Y_v_f = split_train_val(Z_f, X_f, U_f, order=order, shuff=False, split_prop=1.0)\n",
    "X_all_f, Y_all_f = normalize_data_set(X_all_pre_f, Y_all_pre_f, X_all_pre)\n",
    "\n",
    "#kernelize\n",
    "X_all_poly_f = polynomial_kernel_mat(X_all_f, poly_degree)"
   ]
  },
  {
   "cell_type": "code",
   "execution_count": 12,
   "metadata": {},
   "outputs": [
    {
     "name": "stdout",
     "output_type": "stream",
     "text": [
      "No fault data:  0.0 %\n",
      "No fault data:  16.0 %\n",
      "No fault data:  31.0 %\n",
      "No fault data:  47.0 %\n",
      "No fault data:  62.0 %\n",
      "No fault data:  78.0 %\n",
      "No fault data:  94.0 %\n",
      "Fault data:  0.0 %\n",
      "Fault data:  16.0 %\n",
      "Fault data:  31.0 %\n",
      "Fault data:  47.0 %\n",
      "Fault data:  62.0 %\n",
      "Fault data:  78.0 %\n",
      "Fault data:  94.0 %\n"
     ]
    }
   ],
   "source": [
    "#use inputs to classification rule as features; try logistic regression classifier\n",
    "\n",
    "#use features from log-likelihood classifier\n",
    "\n",
    "X = []\n",
    "Y = []\n",
    "\n",
    "for i in range(X_all_poly.shape[1]):\n",
    "    if i % 1000 == 0:\n",
    "        print(\"No fault data: \", np.around(100*(i/X_all_poly.shape[1])), \"%\")\n",
    "    x = np.expand_dims(X_all_poly[:,i], axis=1)\n",
    "    y = np.expand_dims(Y_all[:,i], axis=1)\n",
    "    C = mat_C(x)\n",
    "    D = mat_D(x, y, A)\n",
    "    C_inv = np.linalg.inv(C)\n",
    "    term1 = x.shape[0]*np.log(np.linalg.det(C_inv))\n",
    "    term2 = np.trace(C_inv.dot(D.T).dot(D))\n",
    "    term3 = -1.0*np.trace(A.dot(A.T))\n",
    "    term4 = -2.0*np.trace(A.dot(x).dot(y.T))\n",
    "    term5 = np.trace(x.T.dot(A.T).dot(A).dot(x))\n",
    "\n",
    "    feat = [term1, term2, term3, term4, term5]\n",
    "    features_app = np.asarray(feat)#(feat + list(x[:,0]) + list(y[:,0])) #np.expand_dims(A.flatten(), axis=1), x and y themselves seem to be a waste\n",
    "    X.append(features_app)\n",
    "    Y.append(0)\n",
    "    \n",
    "for i in range(X_all_poly_f.shape[1]):\n",
    "    if i % 1000 == 0:\n",
    "        print(\"Fault data: \", np.around(100*(i/X_all_poly.shape[1])), \"%\")\n",
    "    x = np.expand_dims(X_all_poly_f[:,i], axis=1) #tried with fault data, using normal operational data\n",
    "    y = np.expand_dims(Y_all_f[:,i], axis=1)\n",
    "    C = mat_C(x)\n",
    "    D = mat_D(x, y, A)\n",
    "    C_inv = np.linalg.inv(C)\n",
    "    term1 = x.shape[0]*np.log(np.linalg.det(C_inv))\n",
    "    term2 = np.trace(C_inv.dot(D.T).dot(D))\n",
    "    term3 = -1.0*np.trace(A.dot(A.T))\n",
    "    term4 = -2.0*np.trace(A.dot(x).dot(y.T))\n",
    "    term5 = np.trace(x.T.dot(A.T).dot(A).dot(x))\n",
    "\n",
    "    feat = [term1, term2, term3, term4, term5]\n",
    "    features_app = np.asarray(feat)#(feat + list(x[:,0]) + list(y[:,0])) #np.expand_dims(A.flatten(), axis=1)\n",
    "    X.append(features_app)\n",
    "    Y.append(1)\n",
    "    \n",
    "X = np.asarray(X)\n",
    "Y = np.asarray(Y)"
   ]
  },
  {
   "cell_type": "code",
   "execution_count": 13,
   "metadata": {},
   "outputs": [
    {
     "name": "stdout",
     "output_type": "stream",
     "text": [
      "(5, 12802) (1, 12802)\n"
     ]
    }
   ],
   "source": [
    "Y = np.expand_dims(Y, axis=1)\n",
    "X = X.T\n",
    "Y = Y.T\n",
    "\n",
    "#Y = np.asarray(Y)\n",
    "#X = np.asarray(X.T)\n",
    "\n",
    "print(X.shape, Y.shape)"
   ]
  },
  {
   "cell_type": "code",
   "execution_count": 14,
   "metadata": {
    "collapsed": true
   },
   "outputs": [],
   "source": [
    "#reformat for sklearn \n",
    "\n",
    "nofault_samps = []\n",
    "fault_samps = []\n",
    "\n",
    "for i in range(X.shape[1]):\n",
    "    if Y[0,i] == 0:\n",
    "        nofault_samps.append(X[:,i])\n",
    "    else:\n",
    "        fault_samps.append(X[:,i])\n",
    "        \n",
    "        \n",
    "lag = 75\n",
    "\n",
    "X_lag_nf = np.zeros((lag*X.shape[0], len(nofault_samps) - lag))\n",
    "Y_lag_nf = np.zeros((1, len(nofault_samps) - lag))\n",
    "\n",
    "X_lag_f = np.zeros((lag*X.shape[0], len(fault_samps) - lag))\n",
    "Y_lag_f = np.ones((1, len(fault_samps) - lag))\n",
    "\n",
    "for i in range(len(nofault_samps)-lag):\n",
    "    samps = []\n",
    "    for j in range(lag):\n",
    "        samps.append(nofault_samps[i + j])\n",
    "    X_lag_nf[:,i] = np.asarray(samps).flatten()\n",
    "    \n",
    "for i in range(len(fault_samps)-lag):\n",
    "    samps = []\n",
    "    for j in range(lag):\n",
    "        samps.append(fault_samps[i + j])\n",
    "    X_lag_f[:,i] = np.asarray(samps).flatten()\n",
    "    \n",
    "X = np.hstack((X_lag_nf, X_lag_f))\n",
    "Y = np.concatenate((Y_lag_nf, Y_lag_f), axis=1)"
   ]
  },
  {
   "cell_type": "code",
   "execution_count": null,
   "metadata": {
    "collapsed": true
   },
   "outputs": [],
   "source": [
    "#shuffle and train/val split\n",
    "\n",
    "train_vals = np.random.choice(X.shape[1], int(0.8*X.shape[1]), replace=False)\n",
    "vals = np.asarray([ i for i in range(X.shape[1]) if i not in train_vals ])\n",
    "\n",
    "X_train_log_reg = X[:,train_vals] #X[:,train_vals]\n",
    "Y_train_log_reg = Y[:,train_vals]\n",
    "\n",
    "X_val_log_reg = X[:,vals]\n",
    "Y_val_log_reg = Y[:,vals]"
   ]
  },
  {
   "cell_type": "code",
   "execution_count": null,
   "metadata": {},
   "outputs": [
    {
     "name": "stderr",
     "output_type": "stream",
     "text": [
      "/home/chase/applications/anaconda3/lib/python3.6/site-packages/sklearn/utils/validation.py:578: DataConversionWarning: A column-vector y was passed when a 1d array was expected. Please change the shape of y to (n_samples, ), for example using ravel().\n",
      "  y = column_or_1d(y, warn=True)\n"
     ]
    },
    {
     "name": "stdout",
     "output_type": "stream",
     "text": [
      "[LibLinear]"
     ]
    }
   ],
   "source": [
    "#train logistic regression classifier for fault/no fault\n",
    "\n",
    "logreg_model_obj = LogisticRegression(tol=0.0001, C=0.9, max_iter=10000, verbose=1)#, n_jobs=-1, solver=\"saga\")\n",
    "logreg_model_obj.fit(X_train_log_reg.T, Y_train_log_reg.T)\n",
    "\n",
    "Y_hat = logreg_model_obj.predict(X_train_log_reg.T)\n",
    "\n",
    "p = sklearn.metrics.precision_score(Y_train_log_reg.T, Y_hat.T)\n",
    "r = sklearn.metrics.recall_score(Y_train_log_reg.T, Y_hat.T)\n",
    "\n",
    "print(\"Training precision: \", p)\n",
    "print(\"Training recall: \", r)\n",
    "\n",
    "Y_hat_val = logreg_model_obj.predict(X_val_log_reg.T)\n",
    "\n",
    "p = sklearn.metrics.precision_score(Y_val_log_reg.T, Y_hat_val.T)\n",
    "r = sklearn.metrics.recall_score(Y_val_log_reg.T, Y_hat_val.T)\n",
    "\n",
    "print(\"Validation precision: \", p)\n",
    "print(\"Validation recall: \", r)"
   ]
  },
  {
   "cell_type": "code",
   "execution_count": null,
   "metadata": {},
   "outputs": [],
   "source": [
    "#classify a elements of a sequence, +1 if fault, -1 if no fault, signal according to polling\n",
    "\n",
    "fault_votes = [0.0]\n",
    "nofault_votes = [0.0]\n",
    "base = [0.0]\n",
    "\n",
    "for i in range(X_val_log_reg.shape[1]):\n",
    "    #if no fault\n",
    "    if Y_val_log_reg[0,i] == 0:\n",
    "        Y_hat = logreg_model_obj.predict(X_val_log_reg[:,i].T.reshape(1, -1))\n",
    "        if Y_hat == 0:\n",
    "            nofault_votes.append(nofault_votes[-1] - 1)\n",
    "        if Y_hat == 1:\n",
    "            nofault_votes.append(nofault_votes[-1] + 1)\n",
    "    #if fault\n",
    "    if Y_val_log_reg[0,i] == 1:\n",
    "        Y_hat = logreg_model_obj.predict(X_val_log_reg[:,i].T.reshape(1, -1))\n",
    "        if Y_hat == 0:\n",
    "            fault_votes.append(fault_votes[-1] - 1)\n",
    "        if Y_hat == 1:\n",
    "            fault_votes.append(fault_votes[-1] + 1)\n",
    "        base.append(base[-1] + 0.5)"
   ]
  },
  {
   "cell_type": "code",
   "execution_count": null,
   "metadata": {},
   "outputs": [],
   "source": [
    "plt.plot(fault_votes, label=\"fault data\")\n",
    "plt.plot(nofault_votes, label=\"no fault data\")\n",
    "plt.plot(base, label=\"1/2\")\n",
    "plt.plot(np.zeros((len(fault_votes,))))\n",
    "plt.ylabel(\"net positive fault classifications\")\n",
    "plt.xlabel(\"number of samples\")\n",
    "plt.title(\"logistic regression classifier performance\")\n",
    "plt.legend()\n",
    "plt.show()"
   ]
  },
  {
   "cell_type": "code",
   "execution_count": null,
   "metadata": {
    "collapsed": true
   },
   "outputs": [],
   "source": [
    "logreg_model"
   ]
  },
  {
   "cell_type": "markdown",
   "metadata": {},
   "source": [
    "### Transfer from Summer to Winter w/ single building, single climate"
   ]
  },
  {
   "cell_type": "code",
   "execution_count": null,
   "metadata": {
    "collapsed": true
   },
   "outputs": [],
   "source": [
    "shift=168  #just to get it away from the extreme ends of the seasons\n",
    "season_i = [0+shift, 1595+shift, 2*1595+shift, 3*1595+shift]"
   ]
  },
  {
   "cell_type": "code",
   "execution_count": 48,
   "metadata": {},
   "outputs": [
    {
     "name": "stderr",
     "output_type": "stream",
     "text": [
      "/home/chase/applications/anaconda3/lib/python3.6/site-packages/torch/serialization.py:241: UserWarning: Couldn't retrieve source code for container of type linear_nnet. It won't be checked for correctness upon loading.\n",
      "  \"type \" + obj.__name__ + \". It won't be checked \"\n"
     ]
    },
    {
     "name": "stdout",
     "output_type": "stream",
     "text": [
      "Training data size:  30\n",
      "Training data size:  40\n",
      "Training data size:  50\n",
      "Training data size:  60\n",
      "Training data size:  70\n",
      "Training data size:  80\n",
      "Training data size:  90\n",
      "Training data size:  100\n",
      "Training data size:  110\n",
      "Training data size:  120\n",
      "Training data size:  130\n",
      "Training data size:  140\n",
      "Training data size:  150\n",
      "Training data size:  160\n",
      "Training data size:  170\n",
      "Training data size:  180\n",
      "Training data size:  190\n",
      "Training data size:  200\n",
      "Training data size:  210\n",
      "Training data size:  220\n",
      "Training data size:  230\n",
      "Training data size:  240\n",
      "Training data size:  250\n",
      "Training data size:  260\n",
      "Training data size:  270\n",
      "Training data size:  280\n",
      "Training data size:  290\n",
      "Training data size:  300\n",
      "Training data size:  310\n",
      "Training data size:  320\n",
      "Training data size:  330\n"
     ]
    }
   ],
   "source": [
    "#train initial for 2 weeks in winter\n",
    "horizon = 168*2\n",
    "start_i = 0+shift\n",
    "\n",
    "params = {'FEATURE_DIM': X_val_poly.shape[0], 'OUTPUT_DIM': Y_val_pre.shape[0]}\n",
    "winter_net = linear_nnet(params)\n",
    "loss_func = nn.MSELoss()\n",
    "optimizer = optim.SGD(winter_net.parameters(),lr=0.01, momentum=0.9)\n",
    "epochs = 200\n",
    "batch_size = 24           #this parameter seems to matter alot\n",
    "training_losses = []\n",
    "\n",
    "#train the winter transition matrix\n",
    "X_train_s = X_all_poly[:,0+shift:0+shift+horizon]\n",
    "Y_train_s = Y_all[:,0+shift:0+shift+horizon]\n",
    "\n",
    "for e in range(epochs):\n",
    "    training_losses = []\n",
    "    X_train_list, Y_train_list = minibatch_X_Y_arrays(X_train_s, Y_train_s, batch_size)\n",
    "    for i in enumerate(X_train_list):\n",
    "        inp = Variable(torch.Tensor(X_train_list[i[0]].T))\n",
    "        label = Variable(torch.Tensor(Y_train_list[i[0]].T))\n",
    "\n",
    "        out = winter_net(inp)\n",
    "        optimizer.zero_grad()\n",
    "        loss = loss_func(out, label)\n",
    "        loss.backward()\n",
    "        optimizer.step()\n",
    "        training_losses.append(loss.data.item())\n",
    "        \n",
    "torch.save(winter_net, \"winter_net.torch\")\n",
    "\n",
    "all_val_inds = np.arange(2*1594,3*1594,1)  #get all summer values\n",
    "X_val_s = X_all_poly[:,all_val_inds]\n",
    "Y_val_s = Y_all[:,all_val_inds]\n",
    "\n",
    "validation_loss_transfer = []\n",
    "validation_mape_transfer = []\n",
    "\n",
    "num_hours = []\n",
    "\n",
    "for s in range(25,horizon):\n",
    "    num_hours.append(s + order)\n",
    "    if s % 10 == 0:\n",
    "        print(\"Training data size: \", s)\n",
    "        \n",
    "    params = {'FEATURE_DIM': X_val_poly.shape[0], 'OUTPUT_DIM': Y_val_pre.shape[0]}\n",
    "    transfer_net = torch.load(\"winter_net.torch\")\n",
    "    loss_func = nn.MSELoss()\n",
    "    optimizer = optim.SGD(transfer_net.parameters(),lr=0.01, momentum=0.9)\n",
    "    epochs = 200\n",
    "    batch_size = 24           #this parameter seems to matter alot\n",
    "    training_losses = []\n",
    "        \n",
    "    X_train_summer = X_all_poly[:,2*1594+shift:2*1594+shift+s]  #get summer training data\n",
    "    Y_train_summer = Y_all[:,2*1594+shift:2*1594+shift+s]\n",
    "\n",
    "    for e in range(epochs):\n",
    "        training_losses = []\n",
    "        X_train_list, Y_train_list = minibatch_X_Y_arrays(X_train_summer, Y_train_summer, batch_size)\n",
    "        for i in enumerate(X_train_list):\n",
    "            inp = Variable(torch.Tensor(X_train_list[i[0]].T))\n",
    "            label = Variable(torch.Tensor(Y_train_list[i[0]].T))\n",
    "\n",
    "            out = transfer_net(inp)\n",
    "            optimizer.zero_grad()\n",
    "            loss = loss_func(out, label)\n",
    "            loss.backward()\n",
    "            optimizer.step()\n",
    "            training_losses.append(loss.data.item())\n",
    "\n",
    "    inp_val = Variable(torch.Tensor(X_val_s.T))\n",
    "    label_val = Variable(torch.Tensor(Y_val_s.T))\n",
    "    out_val = transfer_net(inp_val)\n",
    "    loss_val = loss_func(out_val, label_val)\n",
    "    validation_loss_transfer.append(loss_val.item())\n",
    "    validation_mape_transfer.append(torch.mean(torch.abs(out_val - label_val)/label_val).item())"
   ]
  },
  {
   "cell_type": "code",
   "execution_count": 50,
   "metadata": {},
   "outputs": [
    {
     "name": "stdout",
     "output_type": "stream",
     "text": [
      "Training data size:  30\n",
      "Training data size:  40\n",
      "Training data size:  50\n",
      "Training data size:  60\n",
      "Training data size:  70\n",
      "Training data size:  80\n",
      "Training data size:  90\n",
      "Training data size:  100\n",
      "Training data size:  110\n",
      "Training data size:  120\n",
      "Training data size:  130\n",
      "Training data size:  140\n",
      "Training data size:  150\n",
      "Training data size:  160\n",
      "Training data size:  170\n",
      "Training data size:  180\n",
      "Training data size:  190\n",
      "Training data size:  200\n",
      "Training data size:  210\n",
      "Training data size:  220\n",
      "Training data size:  230\n",
      "Training data size:  240\n",
      "Training data size:  250\n",
      "Training data size:  260\n",
      "Training data size:  270\n",
      "Training data size:  280\n",
      "Training data size:  290\n",
      "Training data size:  300\n",
      "Training data size:  310\n",
      "Training data size:  320\n",
      "Training data size:  330\n"
     ]
    }
   ],
   "source": [
    "#set \"inital\" as random, train and validate in summer\n",
    "shift=168\n",
    "horizon = 168*2\n",
    "start_i = 0+shift\n",
    "\n",
    "validation_loss_random = []\n",
    "validation_mape_random = []\n",
    "\n",
    "for s in range(25,horizon):\n",
    "    num_hours.append(s + order)\n",
    "    if s % 10 == 0:\n",
    "        print(\"Training data size: \", s)\n",
    "        \n",
    "    params = {'FEATURE_DIM': X_val_poly.shape[0], 'OUTPUT_DIM': Y_val_pre.shape[0]}\n",
    "    random_net = linear_nnet(params)\n",
    "    loss_func = nn.MSELoss()\n",
    "    optimizer = optim.SGD(random_net.parameters(),lr=0.01, momentum=0.9)\n",
    "    epochs = 200\n",
    "    batch_size = 24           #this parameter seems to matter alot\n",
    "    training_losses = []\n",
    "        \n",
    "    X_train_summer = X_all_poly[:,2*1594+shift:2*1594+shift+s]  #get summer training data\n",
    "    Y_train_summer = Y_all[:,2*1594+shift:2*1594+shift+s]\n",
    "\n",
    "    for e in range(epochs):\n",
    "        training_losses = []\n",
    "        X_train_list, Y_train_list = minibatch_X_Y_arrays(X_train_summer, Y_train_summer, batch_size)\n",
    "        for i in enumerate(X_train_list):\n",
    "            inp = Variable(torch.Tensor(X_train_list[i[0]].T))\n",
    "            label = Variable(torch.Tensor(Y_train_list[i[0]].T))\n",
    "\n",
    "            out = random_net(inp)\n",
    "            optimizer.zero_grad()\n",
    "            loss = loss_func(out, label)\n",
    "            loss.backward()\n",
    "            optimizer.step()\n",
    "            training_losses.append(loss.data.item())\n",
    "\n",
    "    inp_val = Variable(torch.Tensor(X_val_s.T))\n",
    "    label_val = Variable(torch.Tensor(Y_val_s.T))\n",
    "    out_val = random_net(inp_val)\n",
    "    loss_val = loss_func(out_val, label_val)\n",
    "    validation_loss_random.append(loss_val.item())\n",
    "    validation_mape_random.append(torch.mean(torch.abs(out_val - label_val)/label_val).item())"
   ]
  },
  {
   "cell_type": "code",
   "execution_count": 51,
   "metadata": {},
   "outputs": [
    {
     "data": {
      "image/png": "[encoded data removed]",
      "text/plain": [
       "<matplotlib.figure.Figure at 0x7f1b475b8588>"
      ]
     },
     "metadata": {},
     "output_type": "display_data"
    }
   ],
   "source": [
    "nh = np.asarray([float(i + 24) for i in range(len(validation_mape_transfer))])/24.0\n",
    "plt.plot(nh, np.asarray(validation_mape_transfer), label=\"Winter Transfer\")\n",
    "plt.plot(nh, np.asarray(validation_mape_random), label=\"Random Init\")\n",
    "plt.legend()\n",
    "plt.title(\"Validation MAPE on summer validation\\n Trained with random initialization vs winter transfer\")\n",
    "plt.xlabel(\"consecutive days of training data\")\n",
    "plt.ylabel(\"MAPE\")\n",
    "plt.show()"
   ]
  },
  {
   "cell_type": "code",
   "execution_count": 52,
   "metadata": {},
   "outputs": [
    {
     "data": {
      "image/png": "[encoded data removed]",
      "text/plain": [
       "<matplotlib.figure.Figure at 0x7f1b472ad2e8>"
      ]
     },
     "metadata": {},
     "output_type": "display_data"
    }
   ],
   "source": [
    "plt.plot(nh, np.asarray(validation_loss_transfer), label=\"Winter Transfer\")\n",
    "plt.plot(nh, np.asarray(validation_loss_random), label=\"Random Init\")\n",
    "plt.legend()\n",
    "plt.title(\"Validation MSE on summer validation\\n Trained with random initialization vs winter transfer\")\n",
    "plt.xlabel(\"consecutive hours of training data\")\n",
    "plt.ylabel(\"MSE\")\n",
    "plt.show()"
   ]
  },
  {
   "cell_type": "code",
   "execution_count": 53,
   "metadata": {
    "collapsed": true
   },
   "outputs": [],
   "source": [
    "#load state transition matrix\n",
    "\n",
    "net = torch.load(\"winter_net.torch\")\n",
    "A = copy.copy(net.l1.weight.data.numpy())\n",
    "\n",
    "#use new A to generate features"
   ]
  },
  {
   "cell_type": "code",
   "execution_count": 57,
   "metadata": {},
   "outputs": [
    {
     "name": "stdout",
     "output_type": "stream",
     "text": [
      "No fault data:  0.0 %\n",
      "No fault data:  1.0 %\n",
      "No fault data:  3.0 %\n",
      "No fault data:  4.0 %\n",
      "No fault data:  6.0 %\n",
      "No fault data:  7.0 %\n",
      "No fault data:  9.0 %\n",
      "No fault data:  10.0 %\n",
      "No fault data:  12.0 %\n",
      "No fault data:  13.0 %\n",
      "No fault data:  15.0 %\n",
      "No fault data:  16.0 %\n",
      "No fault data:  18.0 %\n",
      "No fault data:  19.0 %\n",
      "No fault data:  21.0 %\n",
      "No fault data:  22.0 %\n",
      "No fault data:  24.0 %\n",
      "No fault data:  25.0 %\n",
      "No fault data:  27.0 %\n",
      "No fault data:  28.0 %\n",
      "No fault data:  30.0 %\n",
      "No fault data:  31.0 %\n",
      "No fault data:  33.0 %\n",
      "No fault data:  34.0 %\n",
      "No fault data:  36.0 %\n",
      "No fault data:  37.0 %\n",
      "No fault data:  39.0 %\n",
      "No fault data:  40.0 %\n",
      "No fault data:  42.0 %\n",
      "No fault data:  43.0 %\n",
      "No fault data:  45.0 %\n",
      "No fault data:  46.0 %\n",
      "No fault data:  48.0 %\n",
      "No fault data:  49.0 %\n",
      "No fault data:  51.0 %\n",
      "No fault data:  52.0 %\n",
      "No fault data:  54.0 %\n",
      "No fault data:  55.0 %\n",
      "No fault data:  57.0 %\n",
      "No fault data:  58.0 %\n",
      "No fault data:  60.0 %\n",
      "No fault data:  61.0 %\n",
      "No fault data:  62.0 %\n",
      "No fault data:  64.0 %\n",
      "No fault data:  65.0 %\n",
      "No fault data:  67.0 %\n",
      "No fault data:  68.0 %\n",
      "No fault data:  70.0 %\n",
      "No fault data:  71.0 %\n",
      "No fault data:  73.0 %\n",
      "No fault data:  74.0 %\n",
      "No fault data:  76.0 %\n",
      "No fault data:  77.0 %\n",
      "No fault data:  79.0 %\n",
      "No fault data:  80.0 %\n",
      "No fault data:  82.0 %\n",
      "No fault data:  83.0 %\n",
      "No fault data:  85.0 %\n",
      "No fault data:  86.0 %\n",
      "No fault data:  88.0 %\n",
      "No fault data:  89.0 %\n",
      "No fault data:  91.0 %\n",
      "No fault data:  92.0 %\n",
      "No fault data:  94.0 %\n",
      "No fault data:  95.0 %\n",
      "No fault data:  97.0 %\n",
      "No fault data:  98.0 %\n",
      "No fault data:  100.0 %\n",
      "Fault data:  0.0 %\n",
      "Fault data:  1.0 %\n",
      "Fault data:  3.0 %\n",
      "Fault data:  4.0 %\n",
      "Fault data:  6.0 %\n",
      "Fault data:  7.0 %\n",
      "Fault data:  9.0 %\n",
      "Fault data:  10.0 %\n",
      "Fault data:  12.0 %\n",
      "Fault data:  13.0 %\n",
      "Fault data:  15.0 %\n",
      "Fault data:  16.0 %\n",
      "Fault data:  18.0 %\n",
      "Fault data:  19.0 %\n",
      "Fault data:  21.0 %\n",
      "Fault data:  22.0 %\n",
      "Fault data:  24.0 %\n",
      "Fault data:  25.0 %\n",
      "Fault data:  27.0 %\n",
      "Fault data:  28.0 %\n",
      "Fault data:  30.0 %\n",
      "Fault data:  31.0 %\n",
      "Fault data:  33.0 %\n",
      "Fault data:  34.0 %\n",
      "Fault data:  36.0 %\n",
      "Fault data:  37.0 %\n",
      "Fault data:  39.0 %\n",
      "Fault data:  40.0 %\n",
      "Fault data:  42.0 %\n",
      "Fault data:  43.0 %\n",
      "Fault data:  45.0 %\n",
      "Fault data:  46.0 %\n",
      "Fault data:  48.0 %\n",
      "Fault data:  49.0 %\n",
      "Fault data:  51.0 %\n",
      "Fault data:  52.0 %\n",
      "Fault data:  54.0 %\n",
      "Fault data:  55.0 %\n",
      "Fault data:  57.0 %\n",
      "Fault data:  58.0 %\n",
      "Fault data:  60.0 %\n",
      "Fault data:  61.0 %\n",
      "Fault data:  62.0 %\n",
      "Fault data:  64.0 %\n",
      "Fault data:  65.0 %\n",
      "Fault data:  67.0 %\n",
      "Fault data:  68.0 %\n",
      "Fault data:  70.0 %\n",
      "Fault data:  71.0 %\n",
      "Fault data:  73.0 %\n",
      "Fault data:  74.0 %\n",
      "Fault data:  76.0 %\n",
      "Fault data:  77.0 %\n",
      "Fault data:  79.0 %\n",
      "Fault data:  80.0 %\n",
      "Fault data:  82.0 %\n",
      "Fault data:  83.0 %\n",
      "Fault data:  85.0 %\n",
      "Fault data:  86.0 %\n",
      "Fault data:  88.0 %\n",
      "Fault data:  89.0 %\n",
      "Fault data:  91.0 %\n",
      "Fault data:  92.0 %\n",
      "Fault data:  94.0 %\n",
      "Fault data:  95.0 %\n",
      "Fault data:  97.0 %\n",
      "Fault data:  98.0 %\n",
      "Fault data:  100.0 %\n"
     ]
    }
   ],
   "source": [
    "#use inputs to classification rule as features; try logistic regression classifier\n",
    "\n",
    "#use features from log-likelihood classifier\n",
    "\n",
    "X = []\n",
    "Y = []\n",
    "\n",
    "#extend horizon to get some validation data\n",
    "horizon = 4*168\n",
    "\n",
    "#user winter data\n",
    "X_train_s = X_all_poly[:,0+shift:0+shift+horizon]\n",
    "Y_train_s = Y_all[:,0+shift:0+shift+horizon]\n",
    "\n",
    "X_train_s_f = X_all_poly_f[:,0+shift:0+shift+horizon]\n",
    "Y_train_s_f = Y_all_f[:,0+shift:0+shift+horizon]\n",
    "\n",
    "for i in range(X_train_s.shape[1]):\n",
    "    if i % 10 == 0:\n",
    "        print(\"No fault data: \", np.around(100*(i/X_train_s.shape[1])), \"%\")\n",
    "    x = np.expand_dims(X_train_s[:,i], axis=1)\n",
    "    y = np.expand_dims(Y_train_s[:,i], axis=1)\n",
    "    C = mat_C(x)\n",
    "    D = mat_D(x, y, A)\n",
    "    C_inv = np.linalg.inv(C)\n",
    "    term1 = x.shape[0]*np.log(np.linalg.det(C_inv))\n",
    "    term2 = np.trace(C_inv.dot(D.T).dot(D))\n",
    "    term3 = -1.0*np.trace(A.dot(A.T))\n",
    "    term4 = -2.0*np.trace(A.dot(x).dot(y.T))\n",
    "    term5 = np.trace(x.T.dot(A.T).dot(A).dot(x))\n",
    "\n",
    "    feat = [term1, term2, term3, term4, term5]\n",
    "    features_app = np.asarray(feat)#(feat + list(x[:,0]) + list(y[:,0])) #np.expand_dims(A.flatten(), axis=1), x and y themselves seem to be a waste\n",
    "    X.append(features_app)\n",
    "    Y.append(0)\n",
    "    \n",
    "for i in range(X_train_s_f.shape[1]):\n",
    "    if i % 10 == 0:\n",
    "        print(\"Fault data: \", np.around(100*(i/X_train_s_f.shape[1])), \"%\")\n",
    "    x = np.expand_dims(X_train_s_f[:,i], axis=1) #tried with fault data, using normal operational data\n",
    "    y = np.expand_dims(Y_train_s_f[:,i], axis=1)\n",
    "    C = mat_C(x)\n",
    "    D = mat_D(x, y, A)\n",
    "    C_inv = np.linalg.inv(C)\n",
    "    term1 = x.shape[0]*np.log(np.linalg.det(C_inv))\n",
    "    term2 = np.trace(C_inv.dot(D.T).dot(D))\n",
    "    term3 = -1.0*np.trace(A.dot(A.T))\n",
    "    term4 = -2.0*np.trace(A.dot(x).dot(y.T))\n",
    "    term5 = np.trace(x.T.dot(A.T).dot(A).dot(x))\n",
    "\n",
    "    feat = [term1, term2, term3, term4, term5]\n",
    "    features_app = np.asarray(feat)#(feat + list(x[:,0]) + list(y[:,0])) #np.expand_dims(A.flatten(), axis=1)\n",
    "    X.append(features_app)\n",
    "    Y.append(1)\n",
    "    \n",
    "X = np.asarray(X)\n",
    "Y = np.asarray(Y)\n",
    "Y = np.expand_dims(Y, axis=1)\n",
    "X = X.T\n",
    "Y = Y.T\n",
    "\n",
    "\n",
    "nofault_samps = []\n",
    "fault_samps = []\n",
    "\n",
    "for i in range(X.shape[1]):\n",
    "    if Y[0,i] == 0:\n",
    "        nofault_samps.append(X[:,i])\n",
    "    else:\n",
    "        fault_samps.append(X[:,i])\n",
    "        \n",
    "        \n",
    "lag = 100\n",
    "\n",
    "X_lag_nf = np.zeros((lag*X.shape[0], len(nofault_samps) - lag))\n",
    "Y_lag_nf = np.zeros((1, len(nofault_samps) - lag))\n",
    "\n",
    "X_lag_f = np.zeros((lag*X.shape[0], len(fault_samps) - lag))\n",
    "Y_lag_f = np.ones((1, len(fault_samps) - lag))\n",
    "\n",
    "for i in range(len(nofault_samps)-lag):\n",
    "    samps = []\n",
    "    for j in range(lag):\n",
    "        samps.append(nofault_samps[i + j])\n",
    "    X_lag_nf[:,i] = np.asarray(samps).flatten()\n",
    "    \n",
    "for i in range(len(fault_samps)-lag):\n",
    "    samps = []\n",
    "    for j in range(lag):\n",
    "        samps.append(fault_samps[i + j])\n",
    "    X_lag_f[:,i] = np.asarray(samps).flatten()\n",
    "    \n",
    "X = np.hstack((X_lag_nf, X_lag_f))\n",
    "Y = np.concatenate((Y_lag_nf, Y_lag_f), axis=1)"
   ]
  },
  {
   "cell_type": "code",
   "execution_count": 58,
   "metadata": {},
   "outputs": [
    {
     "data": {
      "text/plain": [
       "((500, 1144), (1, 1144))"
      ]
     },
     "execution_count": 58,
     "metadata": {},
     "output_type": "execute_result"
    }
   ],
   "source": [
    "X.shape, Y.shape"
   ]
  },
  {
   "cell_type": "code",
   "execution_count": 59,
   "metadata": {
    "collapsed": true
   },
   "outputs": [],
   "source": [
    "#shuffle and train/val split\n",
    "\n",
    "train_vals = np.random.choice(X.shape[1], int(0.8*X.shape[1]), replace=False)\n",
    "vals = np.asarray([ i for i in range(X.shape[1]) if i not in train_vals ])\n",
    "\n",
    "X_train_log_reg = X[:,train_vals] #X[:,train_vals]\n",
    "Y_train_log_reg = Y[:,train_vals]\n",
    "\n",
    "X_val_log_reg = X[:,vals]\n",
    "Y_val_log_reg = Y[:,vals]"
   ]
  },
  {
   "cell_type": "code",
   "execution_count": 60,
   "metadata": {},
   "outputs": [
    {
     "ename": "NotFittedError",
     "evalue": "This LogisticRegression instance is not fitted yet",
     "output_type": "error",
     "traceback": [
      "\u001b[0;31m---------------------------------------------------------------------------\u001b[0m",
      "\u001b[0;31mNotFittedError\u001b[0m                            Traceback (most recent call last)",
      "\u001b[0;32m<ipython-input-60-d5676d0b69df>\u001b[0m in \u001b[0;36m<module>\u001b[0;34m()\u001b[0m\n\u001b[1;32m      1\u001b[0m \u001b[0;31m#test previously trained logisitc regression model on current features\u001b[0m\u001b[0;34m\u001b[0m\u001b[0;34m\u001b[0m\u001b[0;34m\u001b[0m\u001b[0m\n\u001b[1;32m      2\u001b[0m \u001b[0;34m\u001b[0m\u001b[0m\n\u001b[0;32m----> 3\u001b[0;31m \u001b[0mY_hat_val\u001b[0m \u001b[0;34m=\u001b[0m \u001b[0mlogreg_model_obj\u001b[0m\u001b[0;34m.\u001b[0m\u001b[0mpredict\u001b[0m\u001b[0;34m(\u001b[0m\u001b[0mX_val_log_reg\u001b[0m\u001b[0;34m.\u001b[0m\u001b[0mT\u001b[0m\u001b[0;34m)\u001b[0m\u001b[0;34m\u001b[0m\u001b[0;34m\u001b[0m\u001b[0m\n\u001b[0m\u001b[1;32m      4\u001b[0m \u001b[0;34m\u001b[0m\u001b[0m\n\u001b[1;32m      5\u001b[0m \u001b[0mp\u001b[0m \u001b[0;34m=\u001b[0m \u001b[0msklearn\u001b[0m\u001b[0;34m.\u001b[0m\u001b[0mmetrics\u001b[0m\u001b[0;34m.\u001b[0m\u001b[0mprecision_score\u001b[0m\u001b[0;34m(\u001b[0m\u001b[0mY_val_log_reg\u001b[0m\u001b[0;34m.\u001b[0m\u001b[0mT\u001b[0m\u001b[0;34m,\u001b[0m \u001b[0mY_hat_val\u001b[0m\u001b[0;34m.\u001b[0m\u001b[0mT\u001b[0m\u001b[0;34m)\u001b[0m\u001b[0;34m\u001b[0m\u001b[0;34m\u001b[0m\u001b[0m\n",
      "\u001b[0;32m~/applications/anaconda3/lib/python3.6/site-packages/sklearn/linear_model/base.py\u001b[0m in \u001b[0;36mpredict\u001b[0;34m(self, X)\u001b[0m\n\u001b[1;32m    322\u001b[0m             \u001b[0mPredicted\u001b[0m \u001b[0;32mclass\u001b[0m \u001b[0mlabel\u001b[0m \u001b[0mper\u001b[0m \u001b[0msample\u001b[0m\u001b[0;34m.\u001b[0m\u001b[0;34m\u001b[0m\u001b[0;34m\u001b[0m\u001b[0m\n\u001b[1;32m    323\u001b[0m         \"\"\"\n\u001b[0;32m--> 324\u001b[0;31m         \u001b[0mscores\u001b[0m \u001b[0;34m=\u001b[0m \u001b[0mself\u001b[0m\u001b[0;34m.\u001b[0m\u001b[0mdecision_function\u001b[0m\u001b[0;34m(\u001b[0m\u001b[0mX\u001b[0m\u001b[0;34m)\u001b[0m\u001b[0;34m\u001b[0m\u001b[0;34m\u001b[0m\u001b[0m\n\u001b[0m\u001b[1;32m    325\u001b[0m         \u001b[0;32mif\u001b[0m \u001b[0mlen\u001b[0m\u001b[0;34m(\u001b[0m\u001b[0mscores\u001b[0m\u001b[0;34m.\u001b[0m\u001b[0mshape\u001b[0m\u001b[0;34m)\u001b[0m \u001b[0;34m==\u001b[0m \u001b[0;36m1\u001b[0m\u001b[0;34m:\u001b[0m\u001b[0;34m\u001b[0m\u001b[0;34m\u001b[0m\u001b[0m\n\u001b[1;32m    326\u001b[0m             \u001b[0mindices\u001b[0m \u001b[0;34m=\u001b[0m \u001b[0;34m(\u001b[0m\u001b[0mscores\u001b[0m \u001b[0;34m>\u001b[0m \u001b[0;36m0\u001b[0m\u001b[0;34m)\u001b[0m\u001b[0;34m.\u001b[0m\u001b[0mastype\u001b[0m\u001b[0;34m(\u001b[0m\u001b[0mnp\u001b[0m\u001b[0;34m.\u001b[0m\u001b[0mint\u001b[0m\u001b[0;34m)\u001b[0m\u001b[0;34m\u001b[0m\u001b[0;34m\u001b[0m\u001b[0m\n",
      "\u001b[0;32m~/applications/anaconda3/lib/python3.6/site-packages/sklearn/linear_model/base.py\u001b[0m in \u001b[0;36mdecision_function\u001b[0;34m(self, X)\u001b[0m\n\u001b[1;32m    296\u001b[0m         \u001b[0;32mif\u001b[0m \u001b[0;32mnot\u001b[0m \u001b[0mhasattr\u001b[0m\u001b[0;34m(\u001b[0m\u001b[0mself\u001b[0m\u001b[0;34m,\u001b[0m \u001b[0;34m'coef_'\u001b[0m\u001b[0;34m)\u001b[0m \u001b[0;32mor\u001b[0m \u001b[0mself\u001b[0m\u001b[0;34m.\u001b[0m\u001b[0mcoef_\u001b[0m \u001b[0;32mis\u001b[0m \u001b[0;32mNone\u001b[0m\u001b[0;34m:\u001b[0m\u001b[0;34m\u001b[0m\u001b[0;34m\u001b[0m\u001b[0m\n\u001b[1;32m    297\u001b[0m             raise NotFittedError(\"This %(name)s instance is not fitted \"\n\u001b[0;32m--> 298\u001b[0;31m                                  \"yet\" % {'name': type(self).__name__})\n\u001b[0m\u001b[1;32m    299\u001b[0m \u001b[0;34m\u001b[0m\u001b[0m\n\u001b[1;32m    300\u001b[0m         \u001b[0mX\u001b[0m \u001b[0;34m=\u001b[0m \u001b[0mcheck_array\u001b[0m\u001b[0;34m(\u001b[0m\u001b[0mX\u001b[0m\u001b[0;34m,\u001b[0m \u001b[0maccept_sparse\u001b[0m\u001b[0;34m=\u001b[0m\u001b[0;34m'csr'\u001b[0m\u001b[0;34m)\u001b[0m\u001b[0;34m\u001b[0m\u001b[0;34m\u001b[0m\u001b[0m\n",
      "\u001b[0;31mNotFittedError\u001b[0m: This LogisticRegression instance is not fitted yet"
     ]
    }
   ],
   "source": [
    "#test previously trained logisitc regression model on current features\n",
    "\n",
    "Y_hat_val = logreg_model_obj.predict(X_val_log_reg.T)\n",
    "\n",
    "p = sklearn.metrics.precision_score(Y_val_log_reg.T, Y_hat_val.T)\n",
    "r = sklearn.metrics.recall_score(Y_val_log_reg.T, Y_hat_val.T)\n",
    "\n",
    "print(\"Validation precision: \", p)\n",
    "print(\"Validation recall: \", r)\n",
    "\n",
    "#classify a elements of a sequence, +1 if fault, -1 if no fault, signal according to polling\n",
    "\n",
    "fault_votes = [0.0]\n",
    "nofault_votes = [0.0]\n",
    "base = [0.0]\n",
    "\n",
    "for i in range(X_val_log_reg.shape[1]):\n",
    "    #if no fault\n",
    "    if Y_val_log_reg[0,i] == 0:\n",
    "        Y_hat = logreg_model_obj.predict(X_val_log_reg[:,i].T.reshape(1, -1))\n",
    "        if Y_hat == 0:\n",
    "            nofault_votes.append(nofault_votes[-1] - 1)\n",
    "        if Y_hat == 1:\n",
    "            nofault_votes.append(nofault_votes[-1] + 1)\n",
    "    #if fault\n",
    "    if Y_val_log_reg[0,i] == 1:\n",
    "        Y_hat = logreg_model_obj.predict(X_val_log_reg[:,i].T.reshape(1, -1))\n",
    "        if Y_hat == 0:\n",
    "            fault_votes.append(fault_votes[-1] - 1)\n",
    "        if Y_hat == 1:\n",
    "            fault_votes.append(fault_votes[-1] + 1)\n",
    "        base.append(base[-1] + 0.5)\n",
    "        \n",
    "plt.plot(fault_votes, label=\"fault data\")\n",
    "plt.plot(nofault_votes, label=\"no fault data\")\n",
    "plt.plot(base, label=\"1/2\")\n",
    "plt.plot(np.zeros((len(fault_votes,))))\n",
    "plt.ylabel(\"net positive fault classifications\")\n",
    "plt.xlabel(\"number of samples\")\n",
    "plt.title(\"logistic regression classifier performance\")\n",
    "plt.legend()\n",
    "plt.show()"
   ]
  },
  {
   "cell_type": "code",
   "execution_count": null,
   "metadata": {
    "collapsed": true
   },
   "outputs": [],
   "source": [
    "#transfer  logistic regression classifier for fault/no fault\n",
    "logreg_model_obj = LogisticRegression(tol=0.0001, C=0.9, max_iter=10000, verbose=1, warm_start=True)#, n_jobs=-1, solver=\"saga\")\n",
    "logreg_model_obj.fit(X_train_log_reg.T, Y_train_log_reg.T)\n",
    "\n",
    "Y_hat = logreg_model_obj.predict(X_train_log_reg.T)\n",
    "\n",
    "p = sklearn.metrics.precision_score(Y_train_log_reg.T, Y_hat.T)\n",
    "r = sklearn.metrics.recall_score(Y_train_log_reg.T, Y_hat.T)\n",
    "\n",
    "print(\"Training precision: \", p)\n",
    "print(\"Training recall: \", r)\n"
   ]
  },
  {
   "cell_type": "code",
   "execution_count": null,
   "metadata": {
    "collapsed": true
   },
   "outputs": [],
   "source": [
    "#transfer to Phoenix"
   ]
  },
  {
   "cell_type": "code",
   "execution_count": null,
   "metadata": {
    "collapsed": true
   },
   "outputs": [],
   "source": []
  }
 ],
 "metadata": {
  "kernelspec": {
   "display_name": "Python [conda env:anaconda3]",
   "language": "python",
   "name": "conda-env-anaconda3-py"
  },
  "language_info": {
   "codemirror_mode": {
    "name": "ipython",
    "version": 3
   },
   "file_extension": ".py",
   "mimetype": "text/x-python",
   "name": "python",
   "nbconvert_exporter": "python",
   "pygments_lexer": "ipython3",
   "version": "3.6.8"
  }
 },
 "nbformat": 4,
 "nbformat_minor": 2
}
