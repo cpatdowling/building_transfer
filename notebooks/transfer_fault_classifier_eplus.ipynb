{
 "cells": [
  {
   "cell_type": "code",
   "execution_count": 1,
   "metadata": {},
   "outputs": [
    {
     "data": {
      "text/html": [
       "\n",
       "<style>\n",
       "    div#notebook-container    { width: 95%; }\n",
       "    div#menubar-container     { width: 65%; }\n",
       "    div#maintoolbar-container { width: 99%; }\n",
       "</style>\n"
      ],
      "text/plain": [
       "<IPython.core.display.HTML object>"
      ]
     },
     "metadata": {},
     "output_type": "display_data"
    }
   ],
   "source": [
    "#cells will fill entire width of the browser\n",
    "from IPython.display import display, HTML\n",
    "\n",
    "display(HTML(data=\"\"\"\n",
    "<style>\n",
    "    div#notebook-container    { width: 95%; }\n",
    "    div#menubar-container     { width: 65%; }\n",
    "    div#maintoolbar-container { width: 99%; }\n",
    "</style>\n",
    "\"\"\"))\n",
    "\n",
    "#Tells Jupyter to reload custom classes from scratch everytime an import cell is run, if you edit a custom class\n",
    "#between imports Jupyter would otherwise need to be restarted completely. Buyer beware: old class objects in the \n",
    "#current namespace will cause errors at execution\n",
    "%load_ext autoreload\n",
    "%autoreload 2\n",
    "\n",
    "#switches matplotlib to show plots in the browser rather than opening a new window\n",
    "%matplotlib inline\n",
    "\n",
    "#always forget to do this for better looking plots\n",
    "import seaborn\n",
    "seaborn.set()"
   ]
  },
  {
   "cell_type": "code",
   "execution_count": 1,
   "metadata": {},
   "outputs": [
    {
     "name": "stderr",
     "output_type": "stream",
     "text": [
      "/home/chase/applications/anaconda3/lib/python3.6/site-packages/statsmodels/compat/pandas.py:56: FutureWarning: The pandas.core.datetools module is deprecated and will be removed in a future version. Please use the pandas.tseries module instead.\n",
      "  from pandas.core import datetools\n"
     ]
    }
   ],
   "source": [
    "import matplotlib.pyplot as plt\n",
    "import os\n",
    "import numpy as np\n",
    "import datetime\n",
    "from statsmodels.tsa import stattools\n",
    "from sklearn import preprocessing\n",
    "from sklearn import linear_model\n",
    "from sklearn.metrics import mean_squared_error\n",
    "import random\n",
    "import copy\n",
    "import scipy\n",
    "import sklearn.metrics\n",
    "from sklearn.linear_model import LogisticRegression\n",
    "import pickle\n",
    "\n",
    "import torch\n",
    "import torch.nn as nn\n",
    "import torch.nn.functional as F\n",
    "from torch.autograd import Variable\n",
    "import torch.optim as optim\n",
    "\n",
    "#energyplus processing functions\n",
    "from eplusprocessing import *\n",
    "from buildsys_funcs import *"
   ]
  },
  {
   "cell_type": "code",
   "execution_count": 2,
   "metadata": {
    "collapsed": true
   },
   "outputs": [],
   "source": [
    "#global vars\n",
    "datapath = \"/home/chase/projects/building_transfer/data/eplus_sims/\"\n",
    "\n",
    "#shared simulation var names\n",
    "#dep_var_names = ['Electricity:Facility [J] !Hourly', 'Fans:Electricity [J] !Hourly', 'Cooling:Electricity [J] !Hourly']\n",
    "dep_var_names = ['Fans:Electricity [J] !Hourly']\n",
    "ind_var_names = ['EnvironmentSite Outdoor Air Drybulb Temperature [C] !Hourly', 'EnvironmentSite Outdoor Air Relative Humidity [%] !Hourly']#, 'DayType']\n",
    "\n",
    "poly_degree = 2 #5\n",
    "order = 8#26\n",
    "lag = 140 #160"
   ]
  },
  {
   "cell_type": "markdown",
   "metadata": {},
   "source": [
    "### Train A on full year, assume true A\n",
    "\n",
    "Train A on the full year, assume true A, learn decision boundary. Transfer A with small # of samples. Train new decision boundary with those samples + transfered A. Test."
   ]
  },
  {
   "cell_type": "code",
   "execution_count": 3,
   "metadata": {
    "collapsed": true
   },
   "outputs": [],
   "source": [
    "#building specific var names\n",
    "\n",
    "zone_temp_inds = [863,864,865]\n",
    "\n",
    "Z, X, U = read_total_data_array(datapath + \"refbuild_med/seattle/RefBldgMediumOfficeNew2004_Chicago.eso\", dep_var_names, ind_var_names, zone_temp_inds, first_diff=True, no_weekend_holiday=True)"
   ]
  },
  {
   "cell_type": "code",
   "execution_count": 4,
   "metadata": {},
   "outputs": [
    {
     "name": "stdout",
     "output_type": "stream",
     "text": [
      "Validation MSE:  0.0016127085505622631\n"
     ]
    }
   ],
   "source": [
    "X_train_pre, Y_train_pre, X_val_pre, Y_val_pre = split_train_val(Z, X, U, order=order, shuff=True, split_prop=0.8)\n",
    "X_train, Y_train = normalize_data_set(X_train_pre, Y_train_pre, X_train_pre)\n",
    "X_val, Y_val = normalize_data_set(X_train_pre, Y_train_pre, X_train_pre)\n",
    "\n",
    "#kernelize\n",
    "X_train_poly = polynomial_kernel_mat(X_train, poly_degree)\n",
    "X_val_poly = polynomial_kernel_mat(X_val, poly_degree)\n",
    "\n",
    "#initialize network\n",
    "params = {'FEATURE_DIM': X_val_poly.shape[0], 'OUTPUT_DIM': Y_val_pre.shape[0]}\n",
    "net = linear_nnet(params)\n",
    "\n",
    "#train linear state estimator\n",
    "reg = None\n",
    "reg = linear_model.LinearRegression(fit_intercept=False)\n",
    "reg.fit(X_train_poly.T, Y_train.T)\n",
    "\n",
    "print(\"Validation MSE: \", mean_squared_error(Y_val.T, reg.coef_.dot(X_val_poly).T, multioutput='uniform_average'))\n",
    "\n",
    "A = reg.coef_\n",
    "\n",
    "#with torch:\n",
    "#train_linear_state_estimation(net, params, X_train_poly, X_val_poly, Y_train, Y_val, epochs=1000, batch_size=100)\n",
    "#torch.save(net, \"seattle_state_transition_net.torch\")"
   ]
  },
  {
   "cell_type": "code",
   "execution_count": 5,
   "metadata": {},
   "outputs": [
    {
     "data": {
      "text/plain": [
       "(4, 84)"
      ]
     },
     "execution_count": 5,
     "metadata": {},
     "output_type": "execute_result"
    }
   ],
   "source": [
    "A.shape"
   ]
  },
  {
   "cell_type": "code",
   "execution_count": 6,
   "metadata": {},
   "outputs": [
    {
     "name": "stdout",
     "output_type": "stream",
     "text": [
      "[[-1.16063101 -0.01651797 -0.05417798  0.33559756  0.35534481 -0.111703\n",
      "  -0.04620306 -0.10416404  0.24421257  0.2704179 ]\n",
      " [ 0.00226577  0.00545013  0.00519849  0.0102252   0.01892982  0.02282282\n",
      "   0.01672607 -0.01333996 -0.0080681  -0.00726879]\n",
      " [ 0.00226412  0.00544611  0.00519467  0.01021771  0.01891589  0.022806\n",
      "   0.01671382 -0.01333015 -0.00806213 -0.00726343]\n",
      " [ 0.00226394  0.00544612  0.00519469  0.01021775  0.01891589  0.02280602\n",
      "   0.01671384 -0.01333007 -0.00806212 -0.00726338]]\n"
     ]
    },
    {
     "data": {
      "image/png": "[encoded data removed]",
      "text/plain": [
       "<matplotlib.figure.Figure at 0x7f7240588c18>"
      ]
     },
     "metadata": {},
     "output_type": "display_data"
    }
   ],
   "source": [
    "plt.imshow(A[:,0:10])\n",
    "print(A[:,0:10])\n",
    "plt.show()"
   ]
  },
  {
   "cell_type": "markdown",
   "metadata": {},
   "source": [
    "### Load normal operating data and fault data"
   ]
  },
  {
   "cell_type": "code",
   "execution_count": 7,
   "metadata": {
    "collapsed": true
   },
   "outputs": [],
   "source": [
    "zone_temp_inds = [863,864,865]\n",
    "\n",
    "Z, X, U = read_total_data_array(datapath + \"refbuild_med/seattle/RefBldgMediumOfficeNew2004_Chicago.eso\", dep_var_names, ind_var_names, zone_temp_inds, first_diff=True, no_weekend_holiday=True)\n",
    "\n",
    "X_all_pre, Y_all_pre, X_v, Y_v = split_train_val(Z, X, U, order=order, shuff=False, split_prop=1.0)\n",
    "X_all, Y_all = normalize_data_set(X_all_pre, Y_all_pre, X_all_pre)\n",
    "\n",
    "#kernelize\n",
    "X_all_poly = polynomial_kernel_mat(X_all, poly_degree)"
   ]
  },
  {
   "cell_type": "code",
   "execution_count": 8,
   "metadata": {
    "collapsed": true
   },
   "outputs": [],
   "source": [
    "zone_temp_inds = [863,864,865]\n",
    "\n",
    "Z_f, X_f, U_f = read_total_data_array(datapath + \"refbuild_med_airfault/seattle/Fault_FoulingAirFilter_RefBldgMediumOfficeNew2004.eso\", dep_var_names, ind_var_names, zone_temp_inds, first_diff=True, no_weekend_holiday=True)\n",
    "\n",
    "X_all_pre_f, Y_all_pre_f, X_v_f, Y_v_f = split_train_val(Z_f, X_f, U_f, order=order, shuff=False, split_prop=1.0)\n",
    "X_all_f, Y_all_f = normalize_data_set(X_all_pre_f, Y_all_pre_f, X_all_pre)\n",
    "\n",
    "#kernelize\n",
    "X_all_poly_f = polynomial_kernel_mat(X_all_f, poly_degree)"
   ]
  },
  {
   "cell_type": "code",
   "execution_count": 9,
   "metadata": {},
   "outputs": [
    {
     "name": "stdout",
     "output_type": "stream",
     "text": [
      "No fault data:  0.0 %\n",
      "No fault data:  16.0 %\n",
      "No fault data:  31.0 %\n",
      "No fault data:  47.0 %\n",
      "No fault data:  63.0 %\n",
      "No fault data:  78.0 %\n",
      "No fault data:  94.0 %\n",
      "Fault data:  0.0 %\n",
      "Fault data:  16.0 %\n",
      "Fault data:  31.0 %\n",
      "Fault data:  47.0 %\n",
      "Fault data:  63.0 %\n",
      "Fault data:  78.0 %\n",
      "Fault data:  94.0 %\n"
     ]
    }
   ],
   "source": [
    "X, Y, X_f, Y_f = sample_classification_transform(A, X_all_poly, X_all_poly_f, Y_all, Y_all_f)"
   ]
  },
  {
   "cell_type": "code",
   "execution_count": 10,
   "metadata": {},
   "outputs": [
    {
     "name": "stdout",
     "output_type": "stream",
     "text": [
      "(5, 6399) (1, 6399) (5, 6399) (1, 6399)\n"
     ]
    }
   ],
   "source": [
    "print(X.shape, Y.shape, X_f.shape, Y_f.shape)"
   ]
  },
  {
   "cell_type": "code",
   "execution_count": 11,
   "metadata": {
    "collapsed": true
   },
   "outputs": [],
   "source": [
    "#reformat for sklearn \n",
    "\n",
    "X_lag_nf = lag_samples_array(X, lag)\n",
    "Y_lag_nf = np.zeros((1,X_lag_nf.shape[1]))\n",
    "    \n",
    "X_lag_f = lag_samples_array(X_f, lag)\n",
    "Y_lag_f = np.ones((1,X_lag_f.shape[1]))\n",
    "    \n",
    "X_sk = np.hstack((X_lag_nf, X_lag_f))\n",
    "Y_sk = np.concatenate((Y_lag_nf, Y_lag_f), axis=1)"
   ]
  },
  {
   "cell_type": "code",
   "execution_count": 12,
   "metadata": {
    "collapsed": true
   },
   "outputs": [],
   "source": [
    "#shuffle and train/val split\n",
    "\n",
    "train_vals = np.random.choice(X_sk.shape[1], int(0.8*X_sk.shape[1]), replace=False)\n",
    "vals = np.asarray([ i for i in range(X_sk.shape[1]) if i not in train_vals ])\n",
    "\n",
    "X_train_log_reg = X_sk[:,train_vals]\n",
    "Y_train_log_reg = Y_sk[:,train_vals]\n",
    "\n",
    "X_val_log_reg = X_sk[:,vals]\n",
    "Y_val_log_reg = Y_sk[:,vals]"
   ]
  },
  {
   "cell_type": "code",
   "execution_count": 13,
   "metadata": {},
   "outputs": [
    {
     "name": "stderr",
     "output_type": "stream",
     "text": [
      "/home/chase/applications/anaconda3/lib/python3.6/site-packages/sklearn/utils/validation.py:578: DataConversionWarning: A column-vector y was passed when a 1d array was expected. Please change the shape of y to (n_samples, ), for example using ravel().\n",
      "  y = column_or_1d(y, warn=True)\n"
     ]
    },
    {
     "name": "stdout",
     "output_type": "stream",
     "text": [
      "[LibLinear]Training precision:  0.6424693344057912\n",
      "Training recall:  0.6383616383616384\n",
      "Validation precision:  0.5801587301587302\n",
      "Validation recall:  0.5829346092503987\n"
     ]
    }
   ],
   "source": [
    "#train logistic regression classifier for fault/no fault\n",
    "logreg_model_obj = None #clear previous model cache if one exists --- speeds up training\n",
    "\n",
    "logreg_model_obj = LogisticRegression(tol=0.0001, C=0.9, max_iter=10000, verbose=1)#, n_jobs=-1, solver=\"saga\")\n",
    "logreg_model_obj.fit(X_train_log_reg.T, Y_train_log_reg.T)\n",
    "\n",
    "Y_hat = logreg_model_obj.predict(X_train_log_reg.T)\n",
    "\n",
    "p = sklearn.metrics.precision_score(Y_train_log_reg.T, Y_hat.T)\n",
    "r = sklearn.metrics.recall_score(Y_train_log_reg.T, Y_hat.T)\n",
    "\n",
    "print(\"Training precision: \", p)\n",
    "print(\"Training recall: \", r)\n",
    "\n",
    "Y_hat_val = logreg_model_obj.predict(X_val_log_reg.T)\n",
    "\n",
    "p = sklearn.metrics.precision_score(Y_val_log_reg.T, Y_hat_val.T)\n",
    "r = sklearn.metrics.recall_score(Y_val_log_reg.T, Y_hat_val.T)\n",
    "\n",
    "print(\"Validation precision: \", p)\n",
    "print(\"Validation recall: \", r)"
   ]
  },
  {
   "cell_type": "code",
   "execution_count": 34,
   "metadata": {},
   "outputs": [
    {
     "name": "stdout",
     "output_type": "stream",
     "text": [
      "0.5743355529065771\n"
     ]
    }
   ],
   "source": [
    "print(2*((0.58798)*(0.56131))/((0.58798)+(0.56131)))"
   ]
  },
  {
   "cell_type": "code",
   "execution_count": null,
   "metadata": {
    "collapsed": true
   },
   "outputs": [],
   "source": []
  },
  {
   "cell_type": "code",
   "execution_count": null,
   "metadata": {
    "collapsed": true
   },
   "outputs": [],
   "source": []
  },
  {
   "cell_type": "code",
   "execution_count": null,
   "metadata": {
    "collapsed": true
   },
   "outputs": [],
   "source": []
  },
  {
   "cell_type": "code",
   "execution_count": null,
   "metadata": {
    "collapsed": true
   },
   "outputs": [],
   "source": []
  },
  {
   "cell_type": "code",
   "execution_count": 34,
   "metadata": {},
   "outputs": [
    {
     "name": "stdout",
     "output_type": "stream",
     "text": [
      "Using Binary Cross Entropy Loss\n",
      "Validation MSE:  tensor(26.1922, grad_fn=<NllLossBackward>)\n"
     ]
    }
   ],
   "source": [
    "from buildsys_funcs import *\n",
    "\n",
    "#initialize network\n",
    "params = {'FEATURE_DIM': X_train_nn_log.shape[0], 'OUTPUT_DIM': 2}\n",
    "net = linear_nnet(params)\n",
    "\n",
    "#train logistic regression\n",
    "train_linear_state_estimation(net, params, X_train_nn_log, X_val_nn_log, Y_train_nn_log, Y_val_nn_log, lrate=0.00001, epochs=50000, batch_size=500, l=\"bce\")\n",
    "\n",
    "torch.save(net, \"seattle_logistic_classifier_net.torch\")\n"
   ]
  },
  {
   "cell_type": "code",
   "execution_count": 29,
   "metadata": {
    "collapsed": true
   },
   "outputs": [],
   "source": [
    "#Y_hat_val = torch.argmax(net(Variable(torch.Tensor(X_val_nn_log.T))), dim=1).numpy()\n",
    "#print(Y_hat_val)"
   ]
  },
  {
   "cell_type": "code",
   "execution_count": 36,
   "metadata": {},
   "outputs": [
    {
     "name": "stdout",
     "output_type": "stream",
     "text": [
      "Validation precision:  0.4884185303514377\n",
      "Validation recall:  1.0\n"
     ]
    }
   ],
   "source": [
    "p = sklearn.metrics.precision_score(Y_val_log_reg.T, Y_hat_val.T)\n",
    "r = sklearn.metrics.recall_score(Y_val_log_reg.T, Y_hat_val.T)\n",
    "\n",
    "print(\"Validation precision: \", p)\n",
    "print(\"Validation recall: \", r)"
   ]
  },
  {
   "cell_type": "code",
   "execution_count": 14,
   "metadata": {
    "collapsed": true
   },
   "outputs": [],
   "source": [
    "#classify a elements of a sequence, +1 if fault, -1 if no fault, signal according to polling\n",
    "\n",
    "fault_votes = [0.0]\n",
    "nofault_votes = [0.0]\n",
    "base = [0.0]\n",
    "\n",
    "for i in range(X_val_log_reg.shape[1]):\n",
    "    #if no fault\n",
    "    if Y_val_log_reg[0,i] == 0:\n",
    "        Y_hat = logreg_model_obj.predict(X_val_log_reg[:,i].T.reshape(1, -1))\n",
    "        if Y_hat == 0:\n",
    "            nofault_votes.append(nofault_votes[-1] - 1)\n",
    "        if Y_hat == 1:\n",
    "            nofault_votes.append(nofault_votes[-1] + 1)\n",
    "    #if fault\n",
    "    if Y_val_log_reg[0,i] == 1:\n",
    "        Y_hat = logreg_model_obj.predict(X_val_log_reg[:,i].T.reshape(1, -1))\n",
    "        if Y_hat == 0:\n",
    "            fault_votes.append(fault_votes[-1] - 1)\n",
    "        if Y_hat == 1:\n",
    "            fault_votes.append(fault_votes[-1] + 1)\n",
    "        base.append(base[-1] + 0.5)"
   ]
  },
  {
   "cell_type": "code",
   "execution_count": 15,
   "metadata": {},
   "outputs": [
    {
     "data": {
      "image/png": "[encoded data removed]",
      "text/plain": [
       "<matplotlib.figure.Figure at 0x7f71df042c88>"
      ]
     },
     "metadata": {},
     "output_type": "display_data"
    }
   ],
   "source": [
    "plt.plot(fault_votes, lw=2, label=\"Fault operations data\")\n",
    "plt.plot(nofault_votes, lw=2, label=\"Normal operations data\")\n",
    "#plt.plot(base, label=\"1/2\")\n",
    "plt.plot(np.zeros((len(fault_votes,))))\n",
    "plt.ylabel(\"Net positive/negative\\n fault classifications\", fontsize=14)\n",
    "plt.xlabel(\"Consecutive operating hours\", fontsize=14)\n",
    "#plt.title(\"logistic regression classifier performance\")\n",
    "plt.xticks(fontsize=12)\n",
    "plt.yticks(fontsize=12)\n",
    "plt.legend()\n",
    "plt.show()"
   ]
  },
  {
   "cell_type": "code",
   "execution_count": 21,
   "metadata": {
    "collapsed": true
   },
   "outputs": [],
   "source": [
    "with open(\"seattle_logreg_classifier.skl\", \"wb\") as d:\n",
    "    pickle.dump(logreg_model_obj, d)"
   ]
  },
  {
   "cell_type": "markdown",
   "metadata": {},
   "source": [
    "### Transfer from Summer to Winter w/ single building, single climate"
   ]
  },
  {
   "cell_type": "code",
   "execution_count": 15,
   "metadata": {
    "collapsed": true
   },
   "outputs": [],
   "source": []
  },
  {
   "cell_type": "code",
   "execution_count": 16,
   "metadata": {},
   "outputs": [
    {
     "name": "stdout",
     "output_type": "stream",
     "text": [
      "Validation MSE:  tensor(0.0023, grad_fn=<MseLossBackward>)\n"
     ]
    }
   ],
   "source": [
    "shift=168  #just to get it away from the extreme ends of the seasons\n",
    "season_i = [0+shift, 1595+shift, 2*1595+shift, 3*1595+shift]\n",
    "\n",
    "#train initial for 2 weeks in winter\n",
    "horizon = 168*2\n",
    "start_i = 0+shift\n",
    "\n",
    "X_train_s = X_all_poly[:,0+shift:0+shift+horizon]\n",
    "Y_train_s = Y_all[:,0+shift:0+shift+horizon]\n",
    "\n",
    "X_val_s = X_all_poly[:,0+shift+horizon:0+shift+2*horizon]\n",
    "Y_val_s = Y_all[:,0+shift+horizon:0+shift+2*horizon]\n",
    "\n",
    "params = {'FEATURE_DIM': X_all_poly.shape[0], 'OUTPUT_DIM': Y_all_pre.shape[0]}\n",
    "winter_net = linear_nnet(params)\n",
    "\n",
    "train_linear_state_estimation(winter_net, params, X_train_s, X_val_s, Y_train_s, Y_val_s, epochs=200, batch_size=24)\n",
    "      \n",
    "torch.save(winter_net, \"winter_net.torch\")\n",
    "\n"
   ]
  },
  {
   "cell_type": "code",
   "execution_count": 17,
   "metadata": {},
   "outputs": [
    {
     "name": "stdout",
     "output_type": "stream",
     "text": [
      "Training data size:  30\n",
      "Training data size:  40\n",
      "Training data size:  50\n",
      "Training data size:  60\n",
      "Training data size:  70\n",
      "Training data size:  80\n",
      "Training data size:  90\n",
      "Training data size:  100\n",
      "Training data size:  110\n",
      "Training data size:  120\n",
      "Training data size:  130\n",
      "Training data size:  140\n",
      "Training data size:  150\n",
      "Training data size:  160\n",
      "Training data size:  170\n",
      "Training data size:  180\n",
      "Training data size:  190\n",
      "Training data size:  200\n",
      "Training data size:  210\n",
      "Training data size:  220\n",
      "Training data size:  230\n",
      "Training data size:  240\n",
      "Training data size:  250\n",
      "Training data size:  260\n",
      "Training data size:  270\n",
      "Training data size:  280\n",
      "Training data size:  290\n",
      "Training data size:  300\n",
      "Training data size:  310\n",
      "Training data size:  320\n",
      "Training data size:  330\n"
     ]
    }
   ],
   "source": [
    "#transfer winter state transition matrix to summer\n",
    "\n",
    "all_val_inds = np.arange(2*1594,3*1594,1)  #get all summer values\n",
    "X_val_s = X_all_poly[:,all_val_inds]\n",
    "Y_val_s = Y_all[:,all_val_inds]\n",
    "\n",
    "validation_loss_transfer = []\n",
    "validation_mape_transfer = []\n",
    "\n",
    "num_hours = []\n",
    "\n",
    "for s in range(25,horizon):\n",
    "    num_hours.append(s + order)\n",
    "    if s % 10 == 0:\n",
    "        print(\"Training data size: \", s)\n",
    "        \n",
    "    params = {'FEATURE_DIM': X_all_poly.shape[0], 'OUTPUT_DIM': Y_all_pre.shape[0]}\n",
    "    transfer_net = torch.load(\"winter_net.torch\")\n",
    "    loss_func = nn.MSELoss()\n",
    "    optimizer = optim.SGD(transfer_net.parameters(),lr=0.01, momentum=0.9)\n",
    "    epochs = 200\n",
    "    batch_size = 24           #this parameter seems to matter alot\n",
    "    training_losses = []\n",
    "        \n",
    "    X_train_summer = X_all_poly[:,2*1594+shift:2*1594+shift+s]  #get summer training data\n",
    "    Y_train_summer = Y_all[:,2*1594+shift:2*1594+shift+s]\n",
    "\n",
    "    for e in range(epochs):\n",
    "        training_losses = []\n",
    "        X_train_list, Y_train_list = minibatch_X_Y_arrays(X_train_summer, Y_train_summer, batch_size)\n",
    "        for i in enumerate(X_train_list):\n",
    "            inp = Variable(torch.Tensor(X_train_list[i[0]].T))\n",
    "            label = Variable(torch.Tensor(Y_train_list[i[0]].T))\n",
    "\n",
    "            out = transfer_net(inp)\n",
    "            optimizer.zero_grad()\n",
    "            loss = loss_func(out, label)\n",
    "            loss.backward()\n",
    "            optimizer.step()\n",
    "            training_losses.append(loss.data.item())\n",
    "\n",
    "    inp_val = Variable(torch.Tensor(X_val_s.T))\n",
    "    label_val = Variable(torch.Tensor(Y_val_s.T))\n",
    "    out_val = transfer_net(inp_val)\n",
    "    loss_val = loss_func(out_val, label_val)\n",
    "    validation_loss_transfer.append(loss_val.item())\n",
    "    validation_mape_transfer.append(torch.mean(torch.abs(out_val - label_val)/label_val).item())"
   ]
  },
  {
   "cell_type": "code",
   "execution_count": 19,
   "metadata": {
    "collapsed": true
   },
   "outputs": [],
   "source": [
    "torch.save(transfer_net, \"seattle_winter_to_summer_net.torch\")"
   ]
  },
  {
   "cell_type": "code",
   "execution_count": null,
   "metadata": {
    "collapsed": true
   },
   "outputs": [],
   "source": []
  },
  {
   "cell_type": "code",
   "execution_count": 18,
   "metadata": {},
   "outputs": [
    {
     "name": "stdout",
     "output_type": "stream",
     "text": [
      "Training data size:  30\n",
      "Training data size:  40\n",
      "Training data size:  50\n",
      "Training data size:  60\n",
      "Training data size:  70\n",
      "Training data size:  80\n",
      "Training data size:  90\n",
      "Training data size:  100\n",
      "Training data size:  110\n"
     ]
    },
    {
     "ename": "KeyboardInterrupt",
     "evalue": "",
     "output_type": "error",
     "traceback": [
      "\u001b[0;31m---------------------------------------------------------------------------\u001b[0m",
      "\u001b[0;31mKeyboardInterrupt\u001b[0m                         Traceback (most recent call last)",
      "\u001b[0;32m<ipython-input-18-8802eb296eb9>\u001b[0m in \u001b[0;36m<module>\u001b[0;34m()\u001b[0m\n\u001b[1;32m     33\u001b[0m             \u001b[0moptimizer\u001b[0m\u001b[0;34m.\u001b[0m\u001b[0mzero_grad\u001b[0m\u001b[0;34m(\u001b[0m\u001b[0;34m)\u001b[0m\u001b[0;34m\u001b[0m\u001b[0;34m\u001b[0m\u001b[0m\n\u001b[1;32m     34\u001b[0m             \u001b[0mloss\u001b[0m \u001b[0;34m=\u001b[0m \u001b[0mloss_func\u001b[0m\u001b[0;34m(\u001b[0m\u001b[0mout\u001b[0m\u001b[0;34m,\u001b[0m \u001b[0mlabel\u001b[0m\u001b[0;34m)\u001b[0m\u001b[0;34m\u001b[0m\u001b[0;34m\u001b[0m\u001b[0m\n\u001b[0;32m---> 35\u001b[0;31m             \u001b[0mloss\u001b[0m\u001b[0;34m.\u001b[0m\u001b[0mbackward\u001b[0m\u001b[0;34m(\u001b[0m\u001b[0;34m)\u001b[0m\u001b[0;34m\u001b[0m\u001b[0;34m\u001b[0m\u001b[0m\n\u001b[0m\u001b[1;32m     36\u001b[0m             \u001b[0moptimizer\u001b[0m\u001b[0;34m.\u001b[0m\u001b[0mstep\u001b[0m\u001b[0;34m(\u001b[0m\u001b[0;34m)\u001b[0m\u001b[0;34m\u001b[0m\u001b[0;34m\u001b[0m\u001b[0m\n\u001b[1;32m     37\u001b[0m             \u001b[0mtraining_losses\u001b[0m\u001b[0;34m.\u001b[0m\u001b[0mappend\u001b[0m\u001b[0;34m(\u001b[0m\u001b[0mloss\u001b[0m\u001b[0;34m.\u001b[0m\u001b[0mdata\u001b[0m\u001b[0;34m.\u001b[0m\u001b[0mitem\u001b[0m\u001b[0;34m(\u001b[0m\u001b[0;34m)\u001b[0m\u001b[0;34m)\u001b[0m\u001b[0;34m\u001b[0m\u001b[0;34m\u001b[0m\u001b[0m\n",
      "\u001b[0;32m~/applications/anaconda3/lib/python3.6/site-packages/torch/tensor.py\u001b[0m in \u001b[0;36mbackward\u001b[0;34m(self, gradient, retain_graph, create_graph)\u001b[0m\n\u001b[1;32m     91\u001b[0m                 \u001b[0mproducts\u001b[0m\u001b[0;34m.\u001b[0m \u001b[0mDefaults\u001b[0m \u001b[0mto\u001b[0m\u001b[0;31m \u001b[0m\u001b[0;31m`\u001b[0m\u001b[0;31m`\u001b[0m\u001b[0;32mFalse\u001b[0m\u001b[0;31m`\u001b[0m\u001b[0;31m`\u001b[0m\u001b[0;34m.\u001b[0m\u001b[0;34m\u001b[0m\u001b[0;34m\u001b[0m\u001b[0m\n\u001b[1;32m     92\u001b[0m         \"\"\"\n\u001b[0;32m---> 93\u001b[0;31m         \u001b[0mtorch\u001b[0m\u001b[0;34m.\u001b[0m\u001b[0mautograd\u001b[0m\u001b[0;34m.\u001b[0m\u001b[0mbackward\u001b[0m\u001b[0;34m(\u001b[0m\u001b[0mself\u001b[0m\u001b[0;34m,\u001b[0m \u001b[0mgradient\u001b[0m\u001b[0;34m,\u001b[0m \u001b[0mretain_graph\u001b[0m\u001b[0;34m,\u001b[0m \u001b[0mcreate_graph\u001b[0m\u001b[0;34m)\u001b[0m\u001b[0;34m\u001b[0m\u001b[0;34m\u001b[0m\u001b[0m\n\u001b[0m\u001b[1;32m     94\u001b[0m \u001b[0;34m\u001b[0m\u001b[0m\n\u001b[1;32m     95\u001b[0m     \u001b[0;32mdef\u001b[0m \u001b[0mregister_hook\u001b[0m\u001b[0;34m(\u001b[0m\u001b[0mself\u001b[0m\u001b[0;34m,\u001b[0m \u001b[0mhook\u001b[0m\u001b[0;34m)\u001b[0m\u001b[0;34m:\u001b[0m\u001b[0;34m\u001b[0m\u001b[0;34m\u001b[0m\u001b[0m\n",
      "\u001b[0;32m~/applications/anaconda3/lib/python3.6/site-packages/torch/autograd/__init__.py\u001b[0m in \u001b[0;36mbackward\u001b[0;34m(tensors, grad_tensors, retain_graph, create_graph, grad_variables)\u001b[0m\n\u001b[1;32m     88\u001b[0m     Variable._execution_engine.run_backward(\n\u001b[1;32m     89\u001b[0m         \u001b[0mtensors\u001b[0m\u001b[0;34m,\u001b[0m \u001b[0mgrad_tensors\u001b[0m\u001b[0;34m,\u001b[0m \u001b[0mretain_graph\u001b[0m\u001b[0;34m,\u001b[0m \u001b[0mcreate_graph\u001b[0m\u001b[0;34m,\u001b[0m\u001b[0;34m\u001b[0m\u001b[0;34m\u001b[0m\u001b[0m\n\u001b[0;32m---> 90\u001b[0;31m         allow_unreachable=True)  # allow_unreachable flag\n\u001b[0m\u001b[1;32m     91\u001b[0m \u001b[0;34m\u001b[0m\u001b[0m\n\u001b[1;32m     92\u001b[0m \u001b[0;34m\u001b[0m\u001b[0m\n",
      "\u001b[0;31mKeyboardInterrupt\u001b[0m: "
     ]
    }
   ],
   "source": [
    "#set \"inital\" as random, train and validate in summer\n",
    "\n",
    "horizon = 168*2\n",
    "start_i = 0+shift\n",
    "\n",
    "validation_loss_random = []\n",
    "validation_mape_random = []\n",
    "\n",
    "for s in range(25,horizon):\n",
    "    num_hours.append(s + order)\n",
    "    if s % 10 == 0:\n",
    "        print(\"Training data size: \", s)\n",
    "        \n",
    "    params = {'FEATURE_DIM': X_all_poly.shape[0], 'OUTPUT_DIM': Y_all.shape[0]}\n",
    "    random_net = linear_nnet(params)\n",
    "    loss_func = nn.MSELoss()\n",
    "    optimizer = optim.SGD(random_net.parameters(),lr=0.01, momentum=0.9)\n",
    "    epochs = 200\n",
    "    batch_size = 24           #this parameter seems to matter alot\n",
    "    training_losses = []\n",
    "        \n",
    "    X_train_summer = X_all_poly[:,2*1594+shift:2*1594+shift+s]  #get summer training data\n",
    "    Y_train_summer = Y_all[:,2*1594+shift:2*1594+shift+s]\n",
    "\n",
    "    for e in range(epochs):\n",
    "        training_losses = []\n",
    "        X_train_list, Y_train_list = minibatch_X_Y_arrays(X_train_summer, Y_train_summer, batch_size)\n",
    "        for i in enumerate(X_train_list):\n",
    "            inp = Variable(torch.Tensor(X_train_list[i[0]].T))\n",
    "            label = Variable(torch.Tensor(Y_train_list[i[0]].T))\n",
    "\n",
    "            out = random_net(inp)\n",
    "            optimizer.zero_grad()\n",
    "            loss = loss_func(out, label)\n",
    "            loss.backward()\n",
    "            optimizer.step()\n",
    "            training_losses.append(loss.data.item())\n",
    "\n",
    "    inp_val = Variable(torch.Tensor(X_val_s.T))\n",
    "    label_val = Variable(torch.Tensor(Y_val_s.T))\n",
    "    out_val = random_net(inp_val)\n",
    "    loss_val = loss_func(out_val, label_val)\n",
    "    validation_loss_random.append(loss_val.item())\n",
    "    validation_mape_random.append(torch.mean(torch.abs(out_val - label_val)/label_val).item())"
   ]
  },
  {
   "cell_type": "code",
   "execution_count": 15,
   "metadata": {},
   "outputs": [
    {
     "data": {
      "image/png": "[encoded data removed]",
      "text/plain": [
       "<matplotlib.figure.Figure at 0x7fce82891400>"
      ]
     },
     "metadata": {},
     "output_type": "display_data"
    }
   ],
   "source": [
    "nh = np.asarray([float(i + 24) for i in range(len(validation_mape_transfer))])/24.0\n",
    "plt.plot(nh, np.asarray(validation_mape_transfer), label=\"Winter Transfer\")\n",
    "plt.plot(nh, np.asarray(validation_mape_random), label=\"Random Init\")\n",
    "plt.legend()\n",
    "plt.title(\"Validation MAPE on summer validation\\n Trained with random initialization vs winter transfer\")\n",
    "plt.xlabel(\"consecutive days of training data\")\n",
    "plt.ylabel(\"MAPE\")\n",
    "plt.show()"
   ]
  },
  {
   "cell_type": "code",
   "execution_count": 19,
   "metadata": {},
   "outputs": [
    {
     "data": {
      "image/png": "[encoded data removed]",
      "text/plain": [
       "<matplotlib.figure.Figure at 0x7fce80346860>"
      ]
     },
     "metadata": {},
     "output_type": "display_data"
    }
   ],
   "source": [
    "plt.plot(nh + lag, np.asarray(validation_loss_transfer), label=\"Winter Transfer\")\n",
    "plt.plot(nh + lag, np.asarray(validation_loss_random), label=\"Random Init\")\n",
    "plt.legend(fontsize=12)\n",
    "#plt.title(\"Validation MSE on summer validation\\n Trained with random initialization vs winter transfer\")\n",
    "plt.xlabel(\"consecutive hours of training data\", fontsize=14)\n",
    "plt.ylabel(\"MSE\", fontsize=14)\n",
    "plt.xticks(fontsize=12)\n",
    "plt.yticks(fontsize=10)\n",
    "plt.show()"
   ]
  },
  {
   "cell_type": "code",
   "execution_count": null,
   "metadata": {
    "collapsed": true
   },
   "outputs": [],
   "source": []
  },
  {
   "cell_type": "markdown",
   "metadata": {},
   "source": [
    "### Transfer A and classifier from winter to summer"
   ]
  },
  {
   "cell_type": "code",
   "execution_count": 22,
   "metadata": {
    "collapsed": true
   },
   "outputs": [],
   "source": [
    "#load state transition matrix\n",
    "\n",
    "#net = torch.load(\"winter_net.torch\")\n",
    "net = torch.load(\"seattle_winter_to_summer_net.torch\")\n",
    "A_winter = copy.copy(net.l1.weight.data.numpy())\n",
    "\n",
    "#transfer_net = torch.load(\"seattle_winter_to_summer_net.torch\")\n",
    "\n",
    "#transfer A with summer data, use new A to generate features\n",
    "\n",
    "with open(\"seattle_logreg_classifier.skl\", \"rb\") as d:\n",
    "    logreg_model_obj = pickle.load(d)"
   ]
  },
  {
   "cell_type": "code",
   "execution_count": 28,
   "metadata": {
    "collapsed": true
   },
   "outputs": [],
   "source": [
    "shift=168  #just to get it away from the extreme ends of the seasons\n",
    "season_i = [0+shift, 1595+shift, 2*1595+shift, 3*1595+shift]\n",
    "\n",
    "shift = 2*1595+shift\n",
    "#train initial for 2 weeks in winter\n",
    "horizon = 168*2\n",
    "start_i = 0+shift"
   ]
  },
  {
   "cell_type": "code",
   "execution_count": 29,
   "metadata": {},
   "outputs": [
    {
     "name": "stdout",
     "output_type": "stream",
     "text": [
      "No fault data:  0.0 %\n",
      "Fault data:  0.0 %\n",
      "No fault data:  0.0 %\n",
      "Fault data:  0.0 %\n"
     ]
    }
   ],
   "source": [
    "X_train_s = X_all_poly[:,0+shift:0+shift+horizon]\n",
    "Y_train_s = Y_all[:,0+shift:0+shift+horizon]\n",
    "\n",
    "X_train_s_f = X_all_poly_f[:,0+shift:0+shift+horizon]\n",
    "Y_train_s_f = Y_all_f[:,0+shift:0+shift+horizon]\n",
    "\n",
    "X_val_s = X_all_poly[:,0+shift+horizon:0+shift+2*horizon]\n",
    "Y_val_s = Y_all[:,0+shift+horizon:0+shift+2*horizon]\n",
    "#classification training winter data\n",
    "X_train_w, Y_train_w, X_train_w_f, Y_train_w_f = sample_classification_transform(A_winter, X_train_s, X_train_s_f, Y_train_s, Y_train_s_f)\n",
    "\n",
    "X_train_lag_w_nf = lag_samples_array(X_train_w, lag)\n",
    "Y_train_lag_w_nf = np.zeros((1,X_train_lag_w_nf.shape[1]))\n",
    "    \n",
    "X_train_lag_w_f = lag_samples_array(X_train_w_f, lag)\n",
    "Y_train_lag_w_f = np.ones((1,X_train_lag_w_f.shape[1]))\n",
    "    \n",
    "X_train_w_sk = np.hstack((X_train_lag_w_nf, X_train_lag_w_f))\n",
    "Y_train_w_sk = np.concatenate((Y_train_lag_w_nf, Y_train_lag_w_f), axis=1)\n",
    "\n",
    "\n",
    "#classification validation winter data\n",
    "X_val_s_f = X_all_poly_f[:,0+shift+horizon:0+shift+2*horizon]\n",
    "Y_val_s_f = Y_all_f[:,0+shift+horizon:0+shift+2*horizon]\n",
    "\n",
    "X_w, Y_w, X_w_f, Y_w_f = sample_classification_transform(A_winter, X_val_s, X_val_s_f, Y_val_s, Y_val_s_f)\n",
    "\n",
    "X_val_lag_w_nf = lag_samples_array(X_w, lag)\n",
    "Y_val_lag_w_nf = np.zeros((1,X_val_lag_w_nf.shape[1]))\n",
    "    \n",
    "X_val_lag_w_f = lag_samples_array(X_w_f, lag)\n",
    "Y_val_lag_w_f = np.ones((1,X_val_lag_w_f.shape[1]))\n",
    "    \n",
    "X_val_w_sk = np.hstack((X_val_lag_w_nf, X_val_lag_w_f))\n",
    "Y_val_w_sk = np.concatenate((Y_val_lag_w_nf, Y_val_lag_w_f), axis=1)\n",
    "\n",
    "\n"
   ]
  },
  {
   "cell_type": "code",
   "execution_count": null,
   "metadata": {
    "collapsed": true
   },
   "outputs": [],
   "source": []
  },
  {
   "cell_type": "code",
   "execution_count": 30,
   "metadata": {},
   "outputs": [
    {
     "name": "stdout",
     "output_type": "stream",
     "text": [
      "Transfer precision:  0.5\n",
      "Transfer recall:  1.0\n"
     ]
    }
   ],
   "source": [
    "#use previously trained logistic regression classifier\n",
    "\n",
    "Y_hat_val = logreg_model_obj.predict(X_val_w_sk.T)\n",
    "\n",
    "p = sklearn.metrics.precision_score(Y_val_w_sk.T, Y_hat_val.T)\n",
    "r = sklearn.metrics.recall_score(Y_val_w_sk.T, Y_hat_val.T)\n",
    "\n",
    "print(\"Transfer precision: \", p)\n",
    "print(\"Transfer recall: \", r)"
   ]
  },
  {
   "cell_type": "code",
   "execution_count": 31,
   "metadata": {},
   "outputs": [
    {
     "name": "stderr",
     "output_type": "stream",
     "text": [
      "/home/chase/applications/anaconda3/lib/python3.6/site-packages/sklearn/utils/validation.py:578: DataConversionWarning: A column-vector y was passed when a 1d array was expected. Please change the shape of y to (n_samples, ), for example using ravel().\n",
      "  y = column_or_1d(y, warn=True)\n"
     ]
    },
    {
     "name": "stdout",
     "output_type": "stream",
     "text": [
      "convergence after 6414 epochs took 14 seconds\n",
      "Transfer precision:  0.5\n",
      "Transfer recall:  1.0\n"
     ]
    },
    {
     "name": "stderr",
     "output_type": "stream",
     "text": [
      "[Parallel(n_jobs=1)]: Done   1 out of   1 | elapsed:   13.9s finished\n"
     ]
    }
   ],
   "source": [
    "#transfer logistic regression classifier for fault/no fault\n",
    "\n",
    "\n",
    "logreg_model_obj_w_transfer = LogisticRegression(tol=0.0001, C=0.9, max_iter=10000, verbose=1, warm_start=False, solver=\"saga\")#, n_jobs=-1, solver=\"saga\")\n",
    "\n",
    "logreg_model_obj_w_transfer.coef_ = copy.copy(logreg_model_obj.coef_)\n",
    "logreg_model_obj_w_transfer.fit(X_train_w_sk.T, Y_train_w_sk.T)\n",
    "\n",
    "Y_hat_val = logreg_model_obj.predict(X_val_w_sk.T)\n",
    "\n",
    "p = sklearn.metrics.precision_score(Y_val_w_sk.T, Y_hat_val.T)\n",
    "r = sklearn.metrics.recall_score(Y_val_w_sk.T, Y_hat_val.T)\n",
    "\n",
    "print(\"Transfer precision: \", p)\n",
    "print(\"Transfer recall: \", r)"
   ]
  },
  {
   "cell_type": "code",
   "execution_count": 32,
   "metadata": {},
   "outputs": [
    {
     "name": "stdout",
     "output_type": "stream",
     "text": [
      "[LibLinear]"
     ]
    },
    {
     "name": "stderr",
     "output_type": "stream",
     "text": [
      "/home/chase/applications/anaconda3/lib/python3.6/site-packages/sklearn/utils/validation.py:578: DataConversionWarning: A column-vector y was passed when a 1d array was expected. Please change the shape of y to (n_samples, ), for example using ravel().\n",
      "  y = column_or_1d(y, warn=True)\n"
     ]
    },
    {
     "name": "stdout",
     "output_type": "stream",
     "text": [
      "Training precision:  0.6594594594594595\n",
      "Training recall:  0.6224489795918368\n"
     ]
    },
    {
     "data": {
      "image/png": "[encoded data removed]",
      "text/plain": [
       "<matplotlib.figure.Figure at 0x7f23f68fbf28>"
      ]
     },
     "metadata": {},
     "output_type": "display_data"
    },
    {
     "name": "stdout",
     "output_type": "stream",
     "text": [
      "Validation precision:  0.5637254901960784\n",
      "Validation recall:  0.5867346938775511\n"
     ]
    },
    {
     "data": {
      "image/png": "[encoded data removed]",
      "text/plain": [
       "<matplotlib.figure.Figure at 0x7f23f69631d0>"
      ]
     },
     "metadata": {},
     "output_type": "display_data"
    }
   ],
   "source": [
    "#train new logistic regression classifier\n",
    "\n",
    "logreg_model_obj_w_raw = None #clear previous model cache if one exists --- speeds up training\n",
    "\n",
    "logreg_model_obj_w_raw  = LogisticRegression(tol=0.0001, C=0.9, max_iter=10000, verbose=1)#, n_jobs=-1, solver=\"saga\")\n",
    "logreg_model_obj_w_raw.fit(X_train_w_sk.T, Y_train_w_sk.T)\n",
    "\n",
    "Y_hat = logreg_model_obj_w_raw.predict(X_train_w_sk.T)\n",
    "\n",
    "p = sklearn.metrics.precision_score(Y_train_w_sk.T, Y_hat.T)\n",
    "r = sklearn.metrics.recall_score(Y_train_w_sk.T, Y_hat.T)\n",
    "\n",
    "print(\"Training precision: \", p)\n",
    "print(\"Training recall: \", r)\n",
    "\n",
    "plot_polling_val_data(X_train_w_sk, Y_train_w_sk, logreg_model_obj_w_raw)\n",
    "\n",
    "Y_hat_val = logreg_model_obj_w_raw.predict(X_val_w_sk.T)\n",
    "\n",
    "p = sklearn.metrics.precision_score(Y_val_w_sk.T, Y_hat_val.T)\n",
    "r = sklearn.metrics.recall_score(Y_val_w_sk.T, Y_hat_val.T)\n",
    "\n",
    "print(\"Validation precision: \", p)\n",
    "print(\"Validation recall: \", r)\n",
    "\n",
    "plot_polling_val_data(X_val_w_sk, Y_val_w_sk, logreg_model_obj_w_raw)"
   ]
  },
  {
   "cell_type": "code",
   "execution_count": 20,
   "metadata": {
    "collapsed": true
   },
   "outputs": [],
   "source": [
    "winter_A_p = p\n",
    "winter_A_r = r"
   ]
  },
  {
   "cell_type": "code",
   "execution_count": null,
   "metadata": {
    "collapsed": true
   },
   "outputs": [],
   "source": [
    "#update A_winter to summer data"
   ]
  },
  {
   "cell_type": "code",
   "execution_count": null,
   "metadata": {
    "collapsed": true
   },
   "outputs": [],
   "source": []
  },
  {
   "cell_type": "markdown",
   "metadata": {},
   "source": [
    "### Transfer to Phoenix: A and classifier from Seattle"
   ]
  },
  {
   "cell_type": "code",
   "execution_count": 21,
   "metadata": {},
   "outputs": [
    {
     "ename": "FileNotFoundError",
     "evalue": "[Errno 2] No such file or directory: 'seattle_net.torch'",
     "output_type": "error",
     "traceback": [
      "\u001b[0;31m---------------------------------------------------------------------------\u001b[0m",
      "\u001b[0;31mFileNotFoundError\u001b[0m                         Traceback (most recent call last)",
      "\u001b[0;32m<ipython-input-21-ca4ee72ea807>\u001b[0m in \u001b[0;36m<module>\u001b[0;34m()\u001b[0m\n\u001b[1;32m      1\u001b[0m \u001b[0;31m#Load Seattle A\u001b[0m\u001b[0;34m\u001b[0m\u001b[0;34m\u001b[0m\u001b[0;34m\u001b[0m\u001b[0m\n\u001b[1;32m      2\u001b[0m \u001b[0;34m\u001b[0m\u001b[0m\n\u001b[0;32m----> 3\u001b[0;31m \u001b[0mseattle_net\u001b[0m \u001b[0;34m=\u001b[0m \u001b[0mtorch\u001b[0m\u001b[0;34m.\u001b[0m\u001b[0mload\u001b[0m\u001b[0;34m(\u001b[0m\u001b[0;34m\"seattle_net.torch\"\u001b[0m\u001b[0;34m)\u001b[0m\u001b[0;34m\u001b[0m\u001b[0;34m\u001b[0m\u001b[0m\n\u001b[0m\u001b[1;32m      4\u001b[0m \u001b[0mA_seattle\u001b[0m \u001b[0;34m=\u001b[0m \u001b[0mcopy\u001b[0m\u001b[0;34m.\u001b[0m\u001b[0mcopy\u001b[0m\u001b[0;34m(\u001b[0m\u001b[0mseattle_net\u001b[0m\u001b[0;34m.\u001b[0m\u001b[0ml1\u001b[0m\u001b[0;34m.\u001b[0m\u001b[0mweight\u001b[0m\u001b[0;34m.\u001b[0m\u001b[0mdata\u001b[0m\u001b[0;34m.\u001b[0m\u001b[0mnumpy\u001b[0m\u001b[0;34m(\u001b[0m\u001b[0;34m)\u001b[0m\u001b[0;34m)\u001b[0m\u001b[0;34m\u001b[0m\u001b[0;34m\u001b[0m\u001b[0m\n\u001b[1;32m      5\u001b[0m \u001b[0;34m\u001b[0m\u001b[0m\n",
      "\u001b[0;32m~/applications/anaconda3/lib/python3.6/site-packages/torch/serialization.py\u001b[0m in \u001b[0;36mload\u001b[0;34m(f, map_location, pickle_module)\u001b[0m\n\u001b[1;32m    354\u001b[0m             \u001b[0;34m(\u001b[0m\u001b[0msys\u001b[0m\u001b[0;34m.\u001b[0m\u001b[0mversion_info\u001b[0m\u001b[0;34m[\u001b[0m\u001b[0;36m0\u001b[0m\u001b[0;34m]\u001b[0m \u001b[0;34m==\u001b[0m \u001b[0;36m3\u001b[0m \u001b[0;32mand\u001b[0m \u001b[0misinstance\u001b[0m\u001b[0;34m(\u001b[0m\u001b[0mf\u001b[0m\u001b[0;34m,\u001b[0m \u001b[0mpathlib\u001b[0m\u001b[0;34m.\u001b[0m\u001b[0mPath\u001b[0m\u001b[0;34m)\u001b[0m\u001b[0;34m)\u001b[0m\u001b[0;34m:\u001b[0m\u001b[0;34m\u001b[0m\u001b[0;34m\u001b[0m\u001b[0m\n\u001b[1;32m    355\u001b[0m         \u001b[0mnew_fd\u001b[0m \u001b[0;34m=\u001b[0m \u001b[0;32mTrue\u001b[0m\u001b[0;34m\u001b[0m\u001b[0;34m\u001b[0m\u001b[0m\n\u001b[0;32m--> 356\u001b[0;31m         \u001b[0mf\u001b[0m \u001b[0;34m=\u001b[0m \u001b[0mopen\u001b[0m\u001b[0;34m(\u001b[0m\u001b[0mf\u001b[0m\u001b[0;34m,\u001b[0m \u001b[0;34m'rb'\u001b[0m\u001b[0;34m)\u001b[0m\u001b[0;34m\u001b[0m\u001b[0;34m\u001b[0m\u001b[0m\n\u001b[0m\u001b[1;32m    357\u001b[0m     \u001b[0;32mtry\u001b[0m\u001b[0;34m:\u001b[0m\u001b[0;34m\u001b[0m\u001b[0;34m\u001b[0m\u001b[0m\n\u001b[1;32m    358\u001b[0m         \u001b[0;32mreturn\u001b[0m \u001b[0m_load\u001b[0m\u001b[0;34m(\u001b[0m\u001b[0mf\u001b[0m\u001b[0;34m,\u001b[0m \u001b[0mmap_location\u001b[0m\u001b[0;34m,\u001b[0m \u001b[0mpickle_module\u001b[0m\u001b[0;34m)\u001b[0m\u001b[0;34m\u001b[0m\u001b[0;34m\u001b[0m\u001b[0m\n",
      "\u001b[0;31mFileNotFoundError\u001b[0m: [Errno 2] No such file or directory: 'seattle_net.torch'"
     ]
    }
   ],
   "source": [
    "#Load Seattle A\n",
    "\n",
    "seattle_net = torch.load(\"seattle_net.torch\")\n",
    "A_seattle = copy.copy(seattle_net.l1.weight.data.numpy())\n",
    "\n",
    "#Load Seattle classifier\n",
    "with open(\"seattle_logreg_classifier.skl\", 'rb') as d:\n",
    "    logreg_seattle = pickle.load(d)\n",
    "    \n"
   ]
  },
  {
   "cell_type": "code",
   "execution_count": 5,
   "metadata": {
    "collapsed": true
   },
   "outputs": [],
   "source": [
    "#load and format Phoenix data"
   ]
  },
  {
   "cell_type": "code",
   "execution_count": 7,
   "metadata": {
    "collapsed": true
   },
   "outputs": [],
   "source": [
    "zone_temp_inds = [863,864,865]\n",
    "\n",
    "Z, X, U = read_total_data_array(datapath + \"refbuild_med/phoenix/Static_RefBldgMediumOfficeNew2004_Chicago.eso\", dep_var_names, ind_var_names, zone_temp_inds, first_diff=True, no_weekend_holiday=True)\n",
    "\n",
    "X_all_pre, Y_all_pre, X_v, Y_v = split_train_val(Z, X, U, order=order, shuff=False, split_prop=1.0)\n",
    "X_all, Y_all = normalize_data_set(X_all_pre, Y_all_pre, X_all_pre)\n",
    "\n",
    "#kernelize\n",
    "X_all_poly = polynomial_kernel_mat(X_all, poly_degree)"
   ]
  },
  {
   "cell_type": "code",
   "execution_count": 8,
   "metadata": {
    "collapsed": true
   },
   "outputs": [],
   "source": [
    "zone_temp_inds = [863,864,865]\n",
    "\n",
    "Z_f, X_f, U_f = read_total_data_array(datapath + \"refbuild_med_airfault/phoenix/Fault_FoulingAirFilter_RefBldgMediumOfficeNew2004.eso\", dep_var_names, ind_var_names, zone_temp_inds, first_diff=True, no_weekend_holiday=True)\n",
    "\n",
    "X_all_pre_f, Y_all_pre_f, X_v_f, Y_v_f = split_train_val(Z_f, X_f, U_f, order=order, shuff=False, split_prop=1.0)\n",
    "X_all_f, Y_all_f = normalize_data_set(X_all_pre_f, Y_all_pre_f, X_all_pre)\n",
    "\n",
    "#kernelize\n",
    "X_all_poly_f = polynomial_kernel_mat(X_all_f, poly_degree)"
   ]
  },
  {
   "cell_type": "code",
   "execution_count": 8,
   "metadata": {},
   "outputs": [
    {
     "name": "stdout",
     "output_type": "stream",
     "text": [
      "No fault data:  0.0 %\n",
      "No fault data:  16.0 %\n",
      "No fault data:  31.0 %\n",
      "No fault data:  47.0 %\n",
      "No fault data:  63.0 %\n",
      "No fault data:  78.0 %\n",
      "No fault data:  94.0 %\n",
      "Fault data:  0.0 %\n",
      "Fault data:  16.0 %\n",
      "Fault data:  31.0 %\n",
      "Fault data:  47.0 %\n",
      "Fault data:  63.0 %\n",
      "Fault data:  78.0 %\n",
      "Fault data:  94.0 %\n"
     ]
    }
   ],
   "source": [
    "X, Y, X_f, Y_f = sample_classification_transform(A_seattle, X_all_poly, X_all_poly_f, Y_all, Y_all_f)"
   ]
  },
  {
   "cell_type": "code",
   "execution_count": 9,
   "metadata": {
    "collapsed": true
   },
   "outputs": [],
   "source": [
    "#reformat for sklearn \n",
    "\n",
    "X_lag_nf = lag_samples_array(X, lag)\n",
    "Y_lag_nf = np.zeros((1,X_lag_nf.shape[1]))\n",
    "    \n",
    "X_lag_f = lag_samples_array(X_f, lag)\n",
    "Y_lag_f = np.ones((1,X_lag_f.shape[1]))\n",
    "    \n",
    "X_sk = np.hstack((X_lag_nf, X_lag_f))\n",
    "Y_sk = np.concatenate((Y_lag_nf, Y_lag_f), axis=1)"
   ]
  },
  {
   "cell_type": "code",
   "execution_count": 10,
   "metadata": {
    "collapsed": true
   },
   "outputs": [],
   "source": [
    "#shuffle and train/val split\n",
    "\n",
    "train_vals = np.random.choice(X_sk.shape[1], int(0.8*X_sk.shape[1]), replace=False)\n",
    "vals = np.asarray([ i for i in range(X_sk.shape[1]) if i not in train_vals ])\n",
    "\n",
    "X_train_ph = X_sk[:,train_vals]\n",
    "Y_train_ph = Y_sk[:,train_vals]\n",
    "\n",
    "X_val_ph = X_sk[:,vals]\n",
    "Y_val_ph = Y_sk[:,vals]"
   ]
  },
  {
   "cell_type": "code",
   "execution_count": 12,
   "metadata": {},
   "outputs": [
    {
     "name": "stdout",
     "output_type": "stream",
     "text": [
      "Transfer precision:  0.5051916932907349\n",
      "Transfer recall:  1.0\n"
     ]
    }
   ],
   "source": [
    "#use previously trained logistic regression classifier\n",
    "\n",
    "Y_hat_val = logreg_seattle.predict(X_val_ph.T)\n",
    "\n",
    "p = sklearn.metrics.precision_score(Y_val_ph.T, Y_hat_val.T)\n",
    "r = sklearn.metrics.recall_score(Y_val_ph.T, Y_hat_val.T)\n",
    "\n",
    "print(\"Transfer precision: \", p)\n",
    "print(\"Transfer recall: \", r)"
   ]
  },
  {
   "cell_type": "code",
   "execution_count": 10,
   "metadata": {},
   "outputs": [
    {
     "name": "stdout",
     "output_type": "stream",
     "text": [
      "Validation MSE:  tensor(0.0015, grad_fn=<MseLossBackward>)\n"
     ]
    }
   ],
   "source": [
    "#update A and retest\n",
    "X_train_pre, Y_train_pre, X_val_pre, Y_val_pre = split_train_val(Z, X, U, order=order, shuff=False, split_prop=0.2)\n",
    "X_train, Y_train = normalize_data_set(X_train_pre, Y_train_pre, X_train_pre)\n",
    "X_val, Y_val = normalize_data_set(X_train_pre, Y_train_pre, X_train_pre)\n",
    "\n",
    "#kernelize\n",
    "X_train_poly = polynomial_kernel_mat(X_train, poly_degree)\n",
    "X_val_poly = polynomial_kernel_mat(X_val, poly_degree)\n",
    "\n",
    "#start with Seattle NN\n",
    "params = {'FEATURE_DIM': X_val_poly.shape[0], 'OUTPUT_DIM': Y_val_pre.shape[0]}\n",
    "train_linear_state_estimation(seattle_net, params, X_train_poly, X_val_poly, Y_train, Y_val, epochs=500, batch_size=24)\n",
    "\n",
    "A_seattle = copy.copy(seattle_net.l1.weight.data.numpy())"
   ]
  },
  {
   "cell_type": "code",
   "execution_count": 11,
   "metadata": {},
   "outputs": [
    {
     "name": "stdout",
     "output_type": "stream",
     "text": [
      "No fault data:  0.0 %\n",
      "No fault data:  16.0 %\n",
      "No fault data:  31.0 %\n",
      "No fault data:  47.0 %\n",
      "No fault data:  63.0 %\n",
      "No fault data:  78.0 %\n",
      "No fault data:  94.0 %\n",
      "Fault data:  0.0 %\n",
      "Fault data:  16.0 %\n",
      "Fault data:  31.0 %\n",
      "Fault data:  47.0 %\n",
      "Fault data:  63.0 %\n",
      "Fault data:  78.0 %\n",
      "Fault data:  94.0 %\n"
     ]
    }
   ],
   "source": [
    "X, Y, X_f, Y_f = sample_classification_transform(A_seattle, X_all_poly, X_all_poly_f, Y_all, Y_all_f)"
   ]
  },
  {
   "cell_type": "code",
   "execution_count": 12,
   "metadata": {
    "collapsed": true
   },
   "outputs": [],
   "source": [
    "#reformat for sklearn \n",
    "\n",
    "X_lag_nf = lag_samples_array(X, lag)\n",
    "Y_lag_nf = np.zeros((1,X_lag_nf.shape[1]))\n",
    "    \n",
    "X_lag_f = lag_samples_array(X_f, lag)\n",
    "Y_lag_f = np.ones((1,X_lag_f.shape[1]))\n",
    "    \n",
    "X_sk = np.hstack((X_lag_nf, X_lag_f))\n",
    "Y_sk = np.concatenate((Y_lag_nf, Y_lag_f), axis=1)"
   ]
  },
  {
   "cell_type": "code",
   "execution_count": 13,
   "metadata": {
    "collapsed": true
   },
   "outputs": [],
   "source": [
    "#shuffle and train/val split\n",
    "\n",
    "train_vals = np.random.choice(X_sk.shape[1], int(0.8*X_sk.shape[1]), replace=False)\n",
    "vals = np.asarray([ i for i in range(X_sk.shape[1]) if i not in train_vals ])\n",
    "\n",
    "X_train_ph = X_sk[:,train_vals]\n",
    "Y_train_ph = Y_sk[:,train_vals]\n",
    "\n",
    "X_val_ph = X_sk[:,vals]\n",
    "Y_val_ph = Y_sk[:,vals]"
   ]
  },
  {
   "cell_type": "code",
   "execution_count": 14,
   "metadata": {},
   "outputs": [
    {
     "name": "stdout",
     "output_type": "stream",
     "text": [
      "Transfer precision:  0.0\n",
      "Transfer recall:  0.0\n"
     ]
    },
    {
     "name": "stderr",
     "output_type": "stream",
     "text": [
      "/home/chase/applications/anaconda3/lib/python3.6/site-packages/sklearn/metrics/classification.py:1135: UndefinedMetricWarning: Precision is ill-defined and being set to 0.0 due to no predicted samples.\n",
      "  'precision', 'predicted', average, warn_for)\n"
     ]
    }
   ],
   "source": [
    "#use previously trained logistic regression classifier\n",
    "\n",
    "Y_hat_val = logreg_seattle.predict(X_val_ph.T)\n",
    "\n",
    "p = sklearn.metrics.precision_score(Y_val_ph.T, Y_hat_val.T)\n",
    "r = sklearn.metrics.recall_score(Y_val_ph.T, Y_hat_val.T)\n",
    "\n",
    "print(\"Transfer precision: \", p)\n",
    "print(\"Transfer recall: \", r)"
   ]
  },
  {
   "cell_type": "code",
   "execution_count": 15,
   "metadata": {},
   "outputs": [
    {
     "name": "stderr",
     "output_type": "stream",
     "text": [
      "/home/chase/applications/anaconda3/lib/python3.6/site-packages/sklearn/utils/validation.py:578: DataConversionWarning: A column-vector y was passed when a 1d array was expected. Please change the shape of y to (n_samples, ), for example using ravel().\n",
      "  y = column_or_1d(y, warn=True)\n"
     ]
    },
    {
     "name": "stdout",
     "output_type": "stream",
     "text": [
      "[LibLinear]Transfer precision:  0.0\n",
      "Transfer recall:  0.0\n"
     ]
    },
    {
     "name": "stderr",
     "output_type": "stream",
     "text": [
      "/home/chase/applications/anaconda3/lib/python3.6/site-packages/sklearn/metrics/classification.py:1135: UndefinedMetricWarning: Precision is ill-defined and being set to 0.0 due to no predicted samples.\n",
      "  'precision', 'predicted', average, warn_for)\n"
     ]
    }
   ],
   "source": [
    "#transfer previous logistic regression classifier\n",
    "logreg_seattle_transfer = LogisticRegression(tol=0.0001, C=0.9, max_iter=10000, verbose=1, warm_start=True)#, n_jobs=-1, solver=\"saga\")\n",
    "logreg_seattle_transfer.fit(X_train_ph.T, Y_train_ph.T)"
   ]
  },
  {
   "cell_type": "code",
   "execution_count": 16,
   "metadata": {},
   "outputs": [
    {
     "name": "stdout",
     "output_type": "stream",
     "text": [
      "Transfer precision:  0.5714285714285714\n",
      "Transfer recall:  0.46325878594249204\n"
     ]
    }
   ],
   "source": [
    "#test transfered classifier\n",
    "Y_hat_val = logreg_seattle_transfer.predict(X_val_ph.T)\n",
    "\n",
    "p = sklearn.metrics.precision_score(Y_val_ph.T, Y_hat_val.T)\n",
    "r = sklearn.metrics.recall_score(Y_val_ph.T, Y_hat_val.T)\n",
    "\n",
    "print(\"Transfer precision: \", p)\n",
    "print(\"Transfer recall: \", r)"
   ]
  },
  {
   "cell_type": "code",
   "execution_count": 17,
   "metadata": {},
   "outputs": [
    {
     "data": {
      "image/png": "[encoded data removed]",
      "text/plain": [
       "<matplotlib.figure.Figure at 0x7f2f4d171da0>"
      ]
     },
     "metadata": {},
     "output_type": "display_data"
    }
   ],
   "source": [
    "plot_polling_val_data(X_val_ph, Y_val_ph, logreg_seattle_transfer)"
   ]
  },
  {
   "cell_type": "code",
   "execution_count": null,
   "metadata": {
    "collapsed": true
   },
   "outputs": [],
   "source": []
  }
 ],
 "metadata": {
  "kernelspec": {
   "display_name": "Python [conda env:anaconda3]",
   "language": "python",
   "name": "conda-env-anaconda3-py"
  },
  "language_info": {
   "codemirror_mode": {
    "name": "ipython",
    "version": 3
   },
   "file_extension": ".py",
   "mimetype": "text/x-python",
   "name": "python",
   "nbconvert_exporter": "python",
   "pygments_lexer": "ipython3",
   "version": "3.6.9"
  }
 },
 "nbformat": 4,
 "nbformat_minor": 2
}
