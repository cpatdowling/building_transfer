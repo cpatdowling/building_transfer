{
 "cells": [
  {
   "cell_type": "code",
   "execution_count": 1,
   "metadata": {},
   "outputs": [
    {
     "data": {
      "text/html": [
       "\n",
       "<style>\n",
       "    div#notebook-container    { width: 95%; }\n",
       "    div#menubar-container     { width: 65%; }\n",
       "    div#maintoolbar-container { width: 99%; }\n",
       "</style>\n"
      ],
      "text/plain": [
       "<IPython.core.display.HTML object>"
      ]
     },
     "metadata": {},
     "output_type": "display_data"
    }
   ],
   "source": [
    "#cells will fill entire width of the browser\n",
    "from IPython.display import display, HTML\n",
    "\n",
    "display(HTML(data=\"\"\"\n",
    "<style>\n",
    "    div#notebook-container    { width: 95%; }\n",
    "    div#menubar-container     { width: 65%; }\n",
    "    div#maintoolbar-container { width: 99%; }\n",
    "</style>\n",
    "\"\"\"))\n",
    "\n",
    "#Tells Jupyter to reload custom classes from scratch everytime an import cell is run, if you edit a custom class\n",
    "#between imports Jupyter would otherwise need to be restarted completely. Buyer beware: old class objects in the \n",
    "#current namespace will cause errors at execution\n",
    "%load_ext autoreload\n",
    "%autoreload 2\n",
    "\n",
    "#switches matplotlib to show plots in the browser rather than opening a new window\n",
    "%matplotlib inline\n",
    "\n",
    "#always forget to do this for better looking plots\n",
    "import seaborn\n",
    "seaborn.set()"
   ]
  },
  {
   "cell_type": "code",
   "execution_count": 2,
   "metadata": {},
   "outputs": [
    {
     "name": "stderr",
     "output_type": "stream",
     "text": [
      "/home/chase/applications/anaconda3/lib/python3.6/site-packages/statsmodels/compat/pandas.py:56: FutureWarning: The pandas.core.datetools module is deprecated and will be removed in a future version. Please use the pandas.tseries module instead.\n",
      "  from pandas.core import datetools\n"
     ]
    }
   ],
   "source": [
    "import matplotlib.pyplot as plt\n",
    "import os\n",
    "import numpy as np\n",
    "import datetime\n",
    "from cvxpy import *\n",
    "from statsmodels.tsa import stattools\n",
    "from sklearn import preprocessing\n",
    "from sklearn.linear_model import Ridge\n",
    "import random\n",
    "import copy\n",
    "import scipy\n",
    "import sklearn.metrics\n",
    "from sklearn.svm import SVC\n",
    "from sklearn.linear_model import LogisticRegression\n",
    "\n",
    "import torch\n",
    "import torch.nn as nn\n",
    "import torch.nn.functional as F\n",
    "from torch.autograd import Variable\n",
    "import torch.optim as optim"
   ]
  },
  {
   "cell_type": "code",
   "execution_count": null,
   "metadata": {
    "collapsed": true
   },
   "outputs": [],
   "source": []
  },
  {
   "cell_type": "code",
   "execution_count": 3,
   "metadata": {
    "collapsed": true
   },
   "outputs": [],
   "source": [
    "class linear_nnet(nn.Module):\n",
    "    #linear model for kernelized inputs\n",
    "    def __init__(self, params):\n",
    "        super(linear_nnet, self).__init__()\n",
    "        self.D_in = params['FEATURE_DIM']\n",
    "        self.D_out = params['OUTPUT_DIM']\n",
    "        self.l1 = nn.Linear(self.D_in, self.D_out)\n",
    "    \n",
    "    def forward(self, x):\n",
    "        x = self.l1(x) #linear weights for model interpretability\n",
    "        return(x)\n",
    "\n",
    "#learn A, for a fixed A, I have the error outputs, true values\n",
    "#of this function are the 1/2 A_true vs A_fault\n",
    "class decision_boundary_nnet(nn.Module):\n",
    "    #linear model for kernelized inputs\n",
    "    def __init__(self, params):\n",
    "        super(decision_boundary_nnet, self).__init__()\n",
    "        self.D_in = params['FEATURE_DIM']\n",
    "        self.H1 = params['HIDDEN_1']\n",
    "        self.H2 = params['HIDDEN_2']\n",
    "        self.H3 = params['HIDDEN_3']\n",
    "        self.D_out = params['OUTPUT_DIM']\n",
    "        self.l1 = nn.Linear(self.D_in, self.H1)\n",
    "        self.l2 = nn.Linear(self.H1, self.H2)\n",
    "        self.l3 = nn.Linear(self.H2, self.H3)\n",
    "        self.l4 = nn.Linear(self.H3, self.D_out)\n",
    "        self.M = nn.LogSoftmax()\n",
    "    \n",
    "    def forward(self, x):\n",
    "        x = F.sigmoid(self.l1(x))\n",
    "        x = F.sigmoid(self.l2(x))\n",
    "        x = F.sigmoid(self.l3(x))\n",
    "        #x = M(self.l4(x))\n",
    "        return(x)"
   ]
  },
  {
   "cell_type": "code",
   "execution_count": null,
   "metadata": {
    "collapsed": true
   },
   "outputs": [],
   "source": []
  },
  {
   "cell_type": "code",
   "execution_count": 4,
   "metadata": {
    "collapsed": true
   },
   "outputs": [],
   "source": [
    "#Bayesian classifier\n",
    "def mat_C(x):\n",
    "    #x shape = px1\n",
    "    C = np.dot(x, x.T) + np.eye(x.shape[0])\n",
    "    return(C)\n",
    "\n",
    "def mat_D(x, y, A):\n",
    "    #x shape px1, y shape nx1, A nxp\n",
    "    D = np.dot(y, x.T) + A\n",
    "    return(D)\n",
    "\n",
    "def likelihood_point(x, y, A):\n",
    "    C = mat_C(x)\n",
    "    D = mat_D(x, y, A)\n",
    "    const = x.shape[0]*np.log(np.linalg.det(np.linalg.inv(C)))\n",
    "    var = np.trace(y.dot(y.T) - 2*A.dot(x).dot(y.T) + x.T.dot(A.T).dot(A).dot(x))\n",
    "    var2 = np.trace(y.dot(y.T) + A.dot(A.T) - D.dot(np.linalg.inv(C)).dot(D.T))   #mixed term doesn't look right\n",
    "    out = var - var2 + const\n",
    "    return(out)"
   ]
  },
  {
   "cell_type": "code",
   "execution_count": 5,
   "metadata": {
    "collapsed": true
   },
   "outputs": [],
   "source": [
    "#features to ignore\"\n",
    "ignore = [\"Performance Curve Input Variable 1 Value [] !Each Call\", \"Performance Curve Output Value [] !Each Call\"]\n",
    "\n",
    "#def parse_line()\n",
    "\n",
    "def read_data_dictionary(lines):\n",
    "    data_dict = {}\n",
    "    for line in lines:\n",
    "        l = line.strip()\n",
    "        if l == \"End of Data Dictionary\":\n",
    "            break\n",
    "        else:\n",
    "            tokens = l.split(\",\")\n",
    "            if int(tokens[0]) == 2:\n",
    "                data_dict[int(tokens[0])] = tokens[1:]\n",
    "                #parse time dictionary line\n",
    "            elif int(tokens[0]) > 6 and int(tokens[1]) == 1:\n",
    "                if tokens[-1] in ignore:\n",
    "                    pass\n",
    "                elif len(tokens) == 4:\n",
    "                    data_dict[int(tokens[0])] = tokens[-2] + tokens[-1]\n",
    "                    \n",
    "                else:\n",
    "                    #parse value dictionary line\n",
    "                    data_dict[int(tokens[0])] = tokens[-1]\n",
    "            else:\n",
    "                pass\n",
    "    return(data_dict)\n",
    "\n",
    "def parse_time_line(line_str):\n",
    "    #2,8,Day of Simulation[],Month[],Day of Month[],DST Indicator[1=yes 0=no],Hour[],StartMinute[],EndMinute[],DayType\n",
    "    #2, 1, 1, 1, 0, 1, 0.00, 2.00, Holiday\n",
    "    #only want hourly times, multiple minute 2's, assuming got correct\n",
    "    tokens = line_str.strip().split(\",\")\n",
    "    minute=float(tokens[-3])\n",
    "    hour=int(tokens[-4])\n",
    "    day=int(tokens[-6])\n",
    "    month=int(tokens[-7])\n",
    "    return(datetime.datetime(2017, month, day, hour-1, 0, 0)) #2017 so that the 1st is a Sunday + not leapyear\n",
    "    #return(str(month) + \"/\" + str(day) + \" \" + str(hour) + \":00\")\n",
    "     \n",
    "def parse_lines(lines, feature_inds):\n",
    "    data_values = {}\n",
    "    data_values[2] = []\n",
    "    for i in feature_inds:\n",
    "        data_values[i] = []\n",
    "    \n",
    "    start_i = lines.index(\"End of Data Dictionary\\n\")\n",
    "    for line in lines[start_i+1:-2]:\n",
    "        tokens = line.strip().split(\",\")\n",
    "        if int(tokens[0]) == 2:\n",
    "            if float(tokens[-3]) == 0.00 and float(tokens[-2]) == 60.00:\n",
    "                t = parse_time_line(line)\n",
    "                data_values[2].append(t)\n",
    "        elif int(tokens[0]) in feature_inds:\n",
    "            data_values[int(tokens[0])].append(float(tokens[-1]))\n",
    "        else:\n",
    "            pass\n",
    "    return(data_values)\n",
    "    #return hourly list for all feature vars, plus hourly list with times to check sorting\n",
    "    \n",
    "def get_holidays(lines):\n",
    "    holidays = []\n",
    "    weekends = []\n",
    "    all_dates = []\n",
    "    \n",
    "    start_i = lines.index(\"End of Data Dictionary\\n\")\n",
    "    for line in lines[start_i+1:-2]:\n",
    "        tokens = line.strip().split(\",\")\n",
    "        if tokens[-1] == \"Holiday\":\n",
    "            if float(tokens[-3]) == 0.00 and float(tokens[-2]) == 60.00:\n",
    "                t = parse_time_line(line)\n",
    "                holidays.append(t)\n",
    "        elif int(tokens[0]) == 2:\n",
    "            if float(tokens[-3]) == 0.00 and float(tokens[-2]) == 60.00:\n",
    "                t = parse_time_line(line)\n",
    "                all_dates.append(t)\n",
    "                if t.weekday() == 6 or t.weekday() == 0:\n",
    "                    weekends.append(t)\n",
    "    return(all_dates, weekends, holidays)\n",
    "                      \n",
    "def norm_array(arr):\n",
    "    return(preprocessing.minmax_scale(arr, axis=1))\n",
    "\n",
    "def read_total_data_array(filepath, dep_var_names, ind_var_names, zone_temp_inds, first_diff=False, no_weekend_holiday=False):\n",
    "    with open(datapath + filepath) as d:\n",
    "        lines = d.readlines()\n",
    "        lines.pop(0)\n",
    "        data_dict = read_data_dictionary(lines)\n",
    "        data = parse_lines(lines, data_dict)\n",
    "        all_dates, weekends, holidays = get_holidays(lines)\n",
    "        ind_map = {}\n",
    "        for key, value in data_dict.items():\n",
    "            if type(value) == list:\n",
    "                value = value[-1]\n",
    "            ind_map[value] = key\n",
    "\n",
    "    X = np.zeros((len(dep_var_names) + len(zone_temp_inds), 8760))\n",
    "    U = np.zeros((len(ind_var_names), 8760))\n",
    "\n",
    "    for i in range(len(ind_var_names)):\n",
    "        item = ind_var_names[i]\n",
    "        ind = ind_map[item]\n",
    "        if item == 'DayType':\n",
    "            lis = data[ind]\n",
    "            out = []\n",
    "            for val in lis:\n",
    "                out.append(val.weekday())\n",
    "            arr = np.array(out)\n",
    "        else:\n",
    "            arr = np.array(data[ind])\n",
    "        U[i,:] = arr\n",
    "\n",
    "    for j in range(len(dep_var_names)):\n",
    "        item = dep_var_names[j]\n",
    "        ind = ind_map[item]\n",
    "        arr = np.array(data[ind])\n",
    "        X[j,:] = arr\n",
    "\n",
    "    for j in range(len(zone_temp_inds)):\n",
    "        ind = zone_temp_inds[j]\n",
    "        arr = np.array(data[ind])\n",
    "        X[j+len(dep_var_names),:] = arr\n",
    "        \n",
    "    if no_weekend_holiday == True:\n",
    "        weekend_i = []\n",
    "        holiday_i = []\n",
    "        for j in range(len(all_dates)):\n",
    "            if all_dates[j] in weekends:\n",
    "                weekend_i.append(j)\n",
    "            if all_dates[j] in holidays:\n",
    "                holiday_i.append(j)\n",
    "                \n",
    "        del_i = np.array(list(set(holiday_i + weekend_i)))\n",
    "        X = np.delete(X, del_i, axis=1)\n",
    "        U = np.delete(U, del_i, axis=1)\n",
    "    \n",
    "    if first_diff == True:\n",
    "        X = np.diff(X, n=1, axis=1)\n",
    "        U = np.diff(U, n=1, axis=1)\n",
    "\n",
    "    Z = np.vstack((X, U))\n",
    "\n",
    "    return(Z, X, U)\n",
    "\n",
    "def minibatch_X_Y_arrays(X_arr, Y_arr, batchsize):    \n",
    "    #list of training, target pair tuples\n",
    "    remainder = X_arr.shape[1] % batchsize\n",
    "    diff = batchsize - remainder\n",
    "    tail_X = X_arr[:,-diff:] \n",
    "    tail_Y = Y_arr[:,-diff:]\n",
    "    out_X = [ X_arr[:,i*batchsize:(i+1)*batchsize] for i in range(int(float(X_arr.shape[1])/float(batchsize))) ]\n",
    "    out_Y = [ Y_arr[:,i*batchsize:(i+1)*batchsize] for i in range(int(float(Y_arr.shape[1])/float(batchsize)))]\n",
    "    out_X = out_X + [tail_X]\n",
    "    out_Y = out_Y + [tail_Y]\n",
    "    return(out_X, out_Y)\n",
    "\n",
    "def split_train_val(Z, X, U, order=1, shuff=True, split_prop=0.8):\n",
    "    all_pairs = []\n",
    "    for i in range(Z.shape[1] - order):  #not 8760 for first-diff\n",
    "        all_pairs.append((Z[:,i:i+order-1].flatten(), Z[0:-U.shape[0],i+order]))\n",
    "\n",
    "    if shuff == True:\n",
    "        random.shuffle(all_pairs) \n",
    "    else:\n",
    "        pass\n",
    "\n",
    "    train_pairs = all_pairs[0:int(split_prop*len(all_pairs))]\n",
    "    val_pairs = all_pairs[-int((1.0-split_prop)*len(all_pairs)):]\n",
    "    \n",
    "    #normalize to training data\n",
    "    X_train = []\n",
    "    Y_train = []\n",
    "\n",
    "    for item in train_pairs:\n",
    "        X_train.append(item[0])\n",
    "        Y_train.append(item[1])\n",
    "\n",
    "    X_val = []\n",
    "    Y_val = []\n",
    "    for item in val_pairs:\n",
    "        X_val.append(item[0])\n",
    "        Y_val.append(item[1])\n",
    "\n",
    "    X_train = np.asarray(X_train).T\n",
    "    Y_train = np.asarray(Y_train).T\n",
    "\n",
    "    X_val = np.asarray(X_val).T\n",
    "    Y_val = np.asarray(Y_val).T\n",
    "    \n",
    "    return(X_train, Y_train, X_val, Y_val)\n",
    "\n",
    "def normalize_data_set(X, Y, X_minmax_vals):\n",
    "    X_norm = copy.copy(X)\n",
    "    Y_norm = copy.copy(Y)\n",
    "    \n",
    "    for row in range(X.shape[0]):\n",
    "        mx = np.max(X_minmax_vals[row,:])\n",
    "        mn = np.min(X_minmax_vals[row,:])\n",
    "\n",
    "        X_norm[row,:] = (1.0/(mx - mn))*(X[row,:] - mn)\n",
    "\n",
    "        if row < Y.shape[0]:\n",
    "            Y_norm[row,:] = (1.0/(mx - mn))*(Y[row,:] - mn)\n",
    "            \n",
    "    return(X_norm, Y_norm)\n",
    "\n",
    "def polynomial_kernel_mat(X, poly_degree):\n",
    "    out = X\n",
    "    for d in range(2,poly_degree+1):\n",
    "        out = np.vstack((out, np.power(X, d)))\n",
    "    return(out)"
   ]
  },
  {
   "cell_type": "code",
   "execution_count": null,
   "metadata": {
    "collapsed": true
   },
   "outputs": [],
   "source": []
  },
  {
   "cell_type": "code",
   "execution_count": 6,
   "metadata": {
    "collapsed": true
   },
   "outputs": [],
   "source": [
    "#global vars\n",
    "datapath = \"/home/chase/projects/building_transfer/data/eplus_sims/\"\n",
    "\n",
    "#shared simulation var names\n",
    "#dep_var_names = ['Electricity:Facility [J] !Hourly', 'Fans:Electricity [J] !Hourly', 'Cooling:Electricity [J] !Hourly']\n",
    "dep_var_names = ['Fans:Electricity [J] !Hourly']\n",
    "ind_var_names = ['EnvironmentSite Outdoor Air Drybulb Temperature [C] !Hourly', 'EnvironmentSite Outdoor Air Relative Humidity [%] !Hourly']#, 'DayType']\n",
    "\n",
    "poly_degree = 2 #5 is optimal with full order 26 from cross validation\n",
    "order = 8\n",
    "lag = 140 #can do better with 160"
   ]
  },
  {
   "cell_type": "markdown",
   "metadata": {},
   "source": [
    "### Train A on full year, assume true A\n",
    "\n",
    "Train A on the full year, assume true A, learn decision boundary. Transfer A with small # of samples. Train new decision boundary with those samples + transfered A. Test."
   ]
  },
  {
   "cell_type": "code",
   "execution_count": 7,
   "metadata": {
    "collapsed": true
   },
   "outputs": [],
   "source": [
    "#building specific var names\n",
    "\n",
    "zone_temp_inds = [863,864,865]\n",
    "\n",
    "Z, X, U = read_total_data_array(\"refbuild_med/seattle/RefBldgMediumOfficeNew2004_Chicago.eso\", dep_var_names, ind_var_names, zone_temp_inds, first_diff=True, no_weekend_holiday=True)"
   ]
  },
  {
   "cell_type": "code",
   "execution_count": 8,
   "metadata": {
    "collapsed": true
   },
   "outputs": [],
   "source": [
    "#need to cross-validate polynomial degree here"
   ]
  },
  {
   "cell_type": "raw",
   "metadata": {},
   "source": [
    "val_mses = []\n",
    "val_mapes = []\n",
    "for poly_degree in range(2,9):\n",
    "    print(\"degree: \", poly_degree)\n",
    "    X_train_pre, Y_train_pre, X_val_pre, Y_val_pre = split_train_val(Z, X, U, order=order, shuff=False, split_prop=0.8)\n",
    "    X_train, Y_train = normalize_data_set(X_train_pre, Y_train_pre, X_train_pre)\n",
    "    X_val, Y_val = normalize_data_set(X_train_pre, Y_train_pre, X_train_pre)\n",
    "\n",
    "    #kernelize\n",
    "    X_train_poly = polynomial_kernel_mat(X_train, poly_degree)\n",
    "    X_val_poly = polynomial_kernel_mat(X_val, poly_degree)\n",
    "\n",
    "    #mean shift\n",
    "    m = False\n",
    "    if m == True:\n",
    "        mean_feature = np.mean(X_train_poly, axis=1)\n",
    "        mean_array = np.asarray([ mean_feature for i in range(X_train_poly.shape[1]) ]).T\n",
    "        X_train_poly = X_train_poly - mean_array\n",
    "\n",
    "        mean_array_v = np.asarray([ mean_feature for i in range(X_val_poly.shape[1]) ]).T\n",
    "        X_val_poly = X_val_poly - mean_array_v\n",
    "\n",
    "        mean_output = np.mean(Y_train, axis=1)\n",
    "        mean_array = np.asarray([ mean_output for i in range(Y_train.shape[1]) ]).T\n",
    "        Y_train = Y_train - mean_array\n",
    "\n",
    "        mean_array_v = np.asarray([ mean_output for i in range(Y_val.shape[1]) ]).T\n",
    "        Y_val = Y_val - mean_array_v\n",
    "\n",
    "    #shuffle\n",
    "    shuff = np.arange(X_train.shape[1])\n",
    "    np.random.shuffle(shuff)\n",
    "\n",
    "    X_train_shuff = copy.copy(X_train_poly)[:,shuff]\n",
    "    Y_train_shuff = copy.copy(Y_train)[:,shuff]\n",
    "\n",
    "    params = {'FEATURE_DIM': 9*(order-1)*poly_degree, 'OUTPUT_DIM': 6}\n",
    "    net = linear_nnet(params)\n",
    "    loss_func = nn.MSELoss()#SmoothL1Loss()\n",
    "    optimizer = optim.SGD(net.parameters(),lr=0.01, momentum=0.9)\n",
    "    epochs = 1000\n",
    "    batch_size = 100\n",
    "\n",
    "    for e in range(epochs):\n",
    "        training_losses = []\n",
    "        X_train_list, Y_train_list = minibatch_X_Y_arrays(X_train_poly, Y_train, batch_size)\n",
    "        for i in enumerate(X_train_list):\n",
    "            inp = Variable(torch.Tensor(X_train_list[i[0]].T))\n",
    "            label = Variable(torch.Tensor(Y_train_list[i[0]].T))\n",
    "\n",
    "            out = net(inp)\n",
    "            optimizer.zero_grad()\n",
    "            loss = loss_func(out, label)\n",
    "            loss.backward()\n",
    "            optimizer.step()\n",
    "\n",
    "    inp_val = Variable(torch.Tensor(X_val_poly.T))\n",
    "    label_val = Variable(torch.Tensor(Y_val.T))\n",
    "    out_val = net(inp_val)\n",
    "    loss_val = loss_func(out_val, label_val)\n",
    "    mape_val = torch.mean(torch.abs(out_val - label_val)/label_val).item()\n",
    "    print(\"Validation MSE: \", loss_val)\n",
    "    print(\"Validation MAPE: \", mape_val)\n",
    "    val_mses.append(loss_val)\n",
    "    val_mapes.append(mape_val)"
   ]
  },
  {
   "cell_type": "code",
   "execution_count": 9,
   "metadata": {},
   "outputs": [
    {
     "name": "stdout",
     "output_type": "stream",
     "text": [
      "Validation MSE:  tensor(0.0017, grad_fn=<MseLossBackward>)\n",
      "Validation MAPE:  inf\n"
     ]
    }
   ],
   "source": [
    "X_train_pre, Y_train_pre, X_val_pre, Y_val_pre = split_train_val(Z, X, U, order=order, shuff=False, split_prop=1.0)\n",
    "X_train, Y_train = normalize_data_set(X_train_pre, Y_train_pre, X_train_pre)\n",
    "X_val, Y_val = normalize_data_set(X_train_pre, Y_train_pre, X_train_pre)\n",
    "\n",
    "#kernelize\n",
    "X_train_poly = polynomial_kernel_mat(X_train, poly_degree)\n",
    "X_val_poly = polynomial_kernel_mat(X_val, poly_degree)\n",
    "\n",
    "params = {'FEATURE_DIM': X_val_poly.shape[0], 'OUTPUT_DIM': Y_val_pre.shape[0]}\n",
    "net = linear_nnet(params)\n",
    "loss_func = nn.MSELoss()#SmoothL1Loss()\n",
    "optimizer = optim.SGD(net.parameters(),lr=0.01, momentum=0.9)\n",
    "epochs = 1000\n",
    "batch_size = 100\n",
    "\n",
    "for e in range(epochs):\n",
    "    training_losses = []\n",
    "    X_train_list, Y_train_list = minibatch_X_Y_arrays(X_train_poly, Y_train, batch_size)\n",
    "    for i in enumerate(X_train_list):\n",
    "        inp = Variable(torch.Tensor(X_train_list[i[0]].T))\n",
    "        label = Variable(torch.Tensor(Y_train_list[i[0]].T))\n",
    "\n",
    "        out = net(inp)\n",
    "        optimizer.zero_grad()\n",
    "        loss = loss_func(out, label)\n",
    "        loss.backward()\n",
    "        optimizer.step()\n",
    "\n",
    "inp_val = Variable(torch.Tensor(X_val_poly.T))\n",
    "label_val = Variable(torch.Tensor(Y_val.T))\n",
    "out_val = net(inp_val)\n",
    "loss_val = loss_func(out_val, label_val)\n",
    "mape_val = torch.mean(torch.abs(out_val - label_val)/label_val).item()\n",
    "print(\"Validation MSE: \", loss_val)\n",
    "print(\"Validation MAPE: \", mape_val)"
   ]
  },
  {
   "cell_type": "code",
   "execution_count": 10,
   "metadata": {},
   "outputs": [
    {
     "data": {
      "image/png": "[encoded data removed]",
      "text/plain": [
       "<matplotlib.figure.Figure at 0x7f69d31672b0>"
      ]
     },
     "metadata": {},
     "output_type": "display_data"
    }
   ],
   "source": [
    "A = copy.copy(net.l1.weight.data.numpy())\n",
    "plt.imshow(A)\n",
    "plt.show()"
   ]
  },
  {
   "cell_type": "code",
   "execution_count": null,
   "metadata": {
    "collapsed": true
   },
   "outputs": [],
   "source": []
  },
  {
   "cell_type": "code",
   "execution_count": 11,
   "metadata": {},
   "outputs": [
    {
     "data": {
      "image/png": "[encoded data removed]",
      "text/plain": [
       "<matplotlib.figure.Figure at 0x7f547631e668>"
      ]
     },
     "metadata": {},
     "output_type": "display_data"
    }
   ],
   "source": [
    "#compute the distribution of the forecast error\n",
    "errs = []\n",
    "for i in range(X_val_poly.shape[1]-1): \n",
    "    errs.append(A.dot(X_val_poly[:,i]) - Y_val[:,i])\n",
    "    \n",
    "plt.hist(np.asarray(errs), bins=50, label=[\"0\", \"1\", \"2\", \"3\"])\n",
    "plt.title(\"prediction errors by component\")\n",
    "plt.legend()\n",
    "plt.show()"
   ]
  },
  {
   "cell_type": "code",
   "execution_count": 12,
   "metadata": {
    "collapsed": true
   },
   "outputs": [],
   "source": [
    "#compute the errors for the fault data and the fault-less data in fan operations"
   ]
  },
  {
   "cell_type": "code",
   "execution_count": 11,
   "metadata": {
    "collapsed": true
   },
   "outputs": [],
   "source": [
    "zone_temp_inds = [863,864,865]\n",
    "\n",
    "Z, X, U = read_total_data_array(\"refbuild_med/seattle/RefBldgMediumOfficeNew2004_Chicago.eso\", dep_var_names, ind_var_names, zone_temp_inds, first_diff=True, no_weekend_holiday=True)\n",
    "\n",
    "X_all_pre, Y_all_pre, X_v, Y_v = split_train_val(Z, X, U, order=order, shuff=False, split_prop=1.0)\n",
    "X_all, Y_all = normalize_data_set(X_all_pre, Y_all_pre, X_all_pre)\n",
    "\n",
    "#kernelize\n",
    "X_all_poly = polynomial_kernel_mat(X_all, poly_degree)"
   ]
  },
  {
   "cell_type": "code",
   "execution_count": 12,
   "metadata": {
    "collapsed": true
   },
   "outputs": [],
   "source": [
    "zone_temp_inds = [863,864,865]\n",
    "\n",
    "Z_f, X_f, U_f = read_total_data_array(\"refbuild_med_airfault/seattle/Fault_FoulingAirFilter_RefBldgMediumOfficeNew2004.eso\", dep_var_names, ind_var_names, zone_temp_inds, first_diff=True, no_weekend_holiday=True)\n",
    "\n",
    "X_all_pre_f, Y_all_pre_f, X_v_f, Y_v_f = split_train_val(Z_f, X_f, U_f, order=order, shuff=False, split_prop=1.0)\n",
    "X_all_f, Y_all_f = normalize_data_set(X_all_pre_f, Y_all_pre_f, X_all_pre)\n",
    "\n",
    "#kernelize\n",
    "X_all_poly_f = polynomial_kernel_mat(X_all_f, poly_degree)"
   ]
  },
  {
   "cell_type": "code",
   "execution_count": 15,
   "metadata": {
    "collapsed": true
   },
   "outputs": [],
   "source": [
    "#fault classification with Bayesian classifier\n",
    "no_fault = []\n",
    "fault = []\n",
    "diff = []\n",
    "\n",
    "fault_sum = [0.0]\n",
    "nf_sum = [0.0]\n",
    "\n",
    "for i in range(X_all_poly.shape[1]-1):\n",
    "    nf = likelihood_point(np.expand_dims(X_all_poly[:,i], axis=1), np.expand_dims(Y_all[:,i], axis=1), A)\n",
    "    f = likelihood_point(np.expand_dims(X_all_poly[:,i], axis=1), np.expand_dims(Y_all_f[:,i], axis=1), A)\n",
    "    no_fault.append(nf)\n",
    "    fault.append(f)\n",
    "    diff.append(f - nf)\n",
    "    \n",
    "    fault_sum.append(fault_sum[-1] + f)\n",
    "    nf_sum.append(nf_sum[-1] + nf)"
   ]
  },
  {
   "cell_type": "code",
   "execution_count": 16,
   "metadata": {},
   "outputs": [
    {
     "data": {
      "image/png": "[encoded data removed]",
      "text/plain": [
       "<matplotlib.figure.Figure at 0x7f54732039e8>"
      ]
     },
     "metadata": {},
     "output_type": "display_data"
    }
   ],
   "source": [
    "plt.plot(no_fault, label=\"no fault\")\n",
    "plt.plot(fault, label=\"fault\")\n",
    "plt.legend()\n",
    "plt.show()"
   ]
  },
  {
   "cell_type": "code",
   "execution_count": 17,
   "metadata": {},
   "outputs": [
    {
     "data": {
      "image/png": "[encoded data removed]",
      "text/plain": [
       "<matplotlib.figure.Figure at 0x7f547321ccf8>"
      ]
     },
     "metadata": {},
     "output_type": "display_data"
    }
   ],
   "source": [
    "plt.plot(diff)\n",
    "plt.show()"
   ]
  },
  {
   "cell_type": "code",
   "execution_count": null,
   "metadata": {
    "collapsed": true
   },
   "outputs": [],
   "source": []
  },
  {
   "cell_type": "code",
   "execution_count": 13,
   "metadata": {},
   "outputs": [
    {
     "name": "stdout",
     "output_type": "stream",
     "text": [
      "No fault data:  0.0 %\n",
      "No fault data:  16.0 %\n",
      "No fault data:  31.0 %\n",
      "No fault data:  47.0 %\n",
      "No fault data:  63.0 %\n",
      "No fault data:  78.0 %\n",
      "No fault data:  94.0 %\n",
      "Fault data:  0.0 %\n",
      "Fault data:  16.0 %\n",
      "Fault data:  31.0 %\n",
      "Fault data:  47.0 %\n",
      "Fault data:  63.0 %\n",
      "Fault data:  78.0 %\n",
      "Fault data:  94.0 %\n"
     ]
    }
   ],
   "source": [
    "#use inputs to classification rule as features; try logistic regression classifier\n",
    "\n",
    "#generate each of the terms in the linear combination\n",
    "\n",
    "X = []\n",
    "Y = []\n",
    "\n",
    "for i in range(X_all_poly.shape[1]):\n",
    "    if i % 1000 == 0:\n",
    "        print(\"No fault data: \", np.around(100*(i/X_all_poly.shape[1])), \"%\")\n",
    "    x = np.expand_dims(X_all_poly[:,i], axis=1)\n",
    "    y = np.expand_dims(Y_all[:,i], axis=1)\n",
    "    C = mat_C(x)\n",
    "    D = mat_D(x, y, A)\n",
    "    C_inv = np.linalg.inv(C)\n",
    "    term1 = x.shape[0]*np.log(np.linalg.det(C_inv))\n",
    "    term2 = np.trace(C_inv.dot(D.T).dot(D))\n",
    "    term3 = -1.0*np.trace(A.dot(A.T))\n",
    "    term4 = -2.0*np.trace(A.dot(x).dot(y.T))\n",
    "    term5 = np.trace(x.T.dot(A.T).dot(A).dot(x))\n",
    "\n",
    "    feat = [term1, term2, term3, term4, term5]\n",
    "    features_app = np.asarray(feat)#(feat + list(x[:,0]) + list(y[:,0])) #np.expand_dims(A.flatten(), axis=1), x and y themselves seem to be a waste\n",
    "    X.append(features_app)\n",
    "    Y.append(0)\n",
    "    \n",
    "for i in range(X_all_poly_f.shape[1]):\n",
    "    if i % 1000 == 0:\n",
    "        print(\"Fault data: \", np.around(100*(i/X_all_poly.shape[1])), \"%\")\n",
    "    x = np.expand_dims(X_all_poly[:,i], axis=1) #tried with fault data\n",
    "    y = np.expand_dims(Y_all_f[:,i], axis=1)\n",
    "    C = mat_C(x)\n",
    "    D = mat_D(x, y, A)\n",
    "    C_inv = np.linalg.inv(C)\n",
    "    term1 = x.shape[0]*np.log(np.linalg.det(C_inv))\n",
    "    term2 = np.trace(C_inv.dot(D.T).dot(D))\n",
    "    term3 = -1.0*np.trace(A.dot(A.T))\n",
    "    term4 = -2.0*np.trace(A.dot(x).dot(y.T))\n",
    "    term5 = np.trace(x.T.dot(A.T).dot(A).dot(x))\n",
    "\n",
    "    feat = [term1, term2, term3, term4, term5]\n",
    "    features_app = np.asarray(feat)#(feat + list(x[:,0]) + list(y[:,0])) #np.expand_dims(A.flatten(), axis=1)\n",
    "    X.append(features_app)\n",
    "    Y.append(1)\n",
    "    \n",
    "X = np.asarray(X)\n",
    "Y = np.asarray(Y)"
   ]
  },
  {
   "cell_type": "code",
   "execution_count": 14,
   "metadata": {},
   "outputs": [
    {
     "name": "stdout",
     "output_type": "stream",
     "text": [
      "(5, 12798) (1, 12798)\n"
     ]
    }
   ],
   "source": [
    "Y = np.expand_dims(Y, axis=1)\n",
    "X = X.T\n",
    "Y = Y.T\n",
    "\n",
    "#Y = np.asarray(Y)\n",
    "#X = np.asarray(X.T)\n",
    "\n",
    "print(X.shape, Y.shape)"
   ]
  },
  {
   "cell_type": "code",
   "execution_count": 15,
   "metadata": {
    "collapsed": true
   },
   "outputs": [],
   "source": [
    "#X = np.loadtxt(\"nobuildelec_ord26_poly5_class_features.txt\", delimiter=\",\")\n",
    "#Y = np.loadtxt(\"nobuildelec_ord26_poly5_labels.txt\", delimiter=\",\")\n",
    "\n",
    "#X = X.T\n",
    "#Y = np.expand_dims(Y, axis=0)\n",
    "#print(X.shape, Y.shape)\n"
   ]
  },
  {
   "cell_type": "code",
   "execution_count": 16,
   "metadata": {
    "collapsed": true
   },
   "outputs": [],
   "source": [
    "nofault_samps = []\n",
    "fault_samps = []\n",
    "\n",
    "for i in range(X.shape[1]):\n",
    "    if Y[0,i] == 0:\n",
    "        nofault_samps.append(X[:,i])\n",
    "    else:\n",
    "        fault_samps.append(X[:,i])\n",
    "\n",
    "X_lag_nf = np.zeros((lag*X.shape[0], len(nofault_samps) - lag))\n",
    "Y_lag_nf = np.zeros((1, len(nofault_samps) - lag))\n",
    "\n",
    "X_lag_f = np.zeros((lag*X.shape[0], len(fault_samps) - lag))\n",
    "Y_lag_f = np.ones((1, len(fault_samps) - lag))\n",
    "\n",
    "for i in range(len(nofault_samps)-lag):\n",
    "    samps = []\n",
    "    for j in range(lag):\n",
    "        samps.append(nofault_samps[i + j])\n",
    "    X_lag_nf[:,i] = np.asarray(samps).flatten()\n",
    "    \n",
    "for i in range(len(fault_samps)-lag):\n",
    "    samps = []\n",
    "    for j in range(lag):\n",
    "        samps.append(fault_samps[i + j])\n",
    "    X_lag_f[:,i] = np.asarray(samps).flatten()"
   ]
  },
  {
   "cell_type": "code",
   "execution_count": 17,
   "metadata": {
    "collapsed": true
   },
   "outputs": [],
   "source": [
    "X = np.hstack((X_lag_nf, X_lag_f))\n",
    "Y = np.concatenate((Y_lag_nf, Y_lag_f), axis=1)"
   ]
  },
  {
   "cell_type": "code",
   "execution_count": 18,
   "metadata": {},
   "outputs": [
    {
     "data": {
      "text/plain": [
       "(1, 12478)"
      ]
     },
     "execution_count": 18,
     "metadata": {},
     "output_type": "execute_result"
    }
   ],
   "source": [
    "Y.shape"
   ]
  },
  {
   "cell_type": "code",
   "execution_count": 1,
   "metadata": {},
   "outputs": [
    {
     "ename": "NameError",
     "evalue": "name 'np' is not defined",
     "output_type": "error",
     "traceback": [
      "\u001b[0;31m---------------------------------------------------------------------------\u001b[0m",
      "\u001b[0;31mNameError\u001b[0m                                 Traceback (most recent call last)",
      "\u001b[0;32m<ipython-input-1-e87aa872d1b1>\u001b[0m in \u001b[0;36m<module>\u001b[0;34m()\u001b[0m\n\u001b[1;32m      1\u001b[0m \u001b[0mlogreg_model_obj\u001b[0m \u001b[0;34m=\u001b[0m \u001b[0;32mNone\u001b[0m\u001b[0;34m\u001b[0m\u001b[0;34m\u001b[0m\u001b[0m\n\u001b[1;32m      2\u001b[0m \u001b[0;34m\u001b[0m\u001b[0m\n\u001b[0;32m----> 3\u001b[0;31m \u001b[0mtrain_vals\u001b[0m \u001b[0;34m=\u001b[0m \u001b[0mnp\u001b[0m\u001b[0;34m.\u001b[0m\u001b[0mrandom\u001b[0m\u001b[0;34m.\u001b[0m\u001b[0mchoice\u001b[0m\u001b[0;34m(\u001b[0m\u001b[0mX\u001b[0m\u001b[0;34m.\u001b[0m\u001b[0mshape\u001b[0m\u001b[0;34m[\u001b[0m\u001b[0;36m1\u001b[0m\u001b[0;34m]\u001b[0m\u001b[0;34m,\u001b[0m \u001b[0mint\u001b[0m\u001b[0;34m(\u001b[0m\u001b[0;36m0.8\u001b[0m\u001b[0;34m*\u001b[0m\u001b[0mX\u001b[0m\u001b[0;34m.\u001b[0m\u001b[0mshape\u001b[0m\u001b[0;34m[\u001b[0m\u001b[0;36m1\u001b[0m\u001b[0;34m]\u001b[0m\u001b[0;34m)\u001b[0m\u001b[0;34m,\u001b[0m \u001b[0mreplace\u001b[0m\u001b[0;34m=\u001b[0m\u001b[0;32mFalse\u001b[0m\u001b[0;34m)\u001b[0m\u001b[0;34m\u001b[0m\u001b[0;34m\u001b[0m\u001b[0m\n\u001b[0m\u001b[1;32m      4\u001b[0m \u001b[0mvals\u001b[0m \u001b[0;34m=\u001b[0m \u001b[0mnp\u001b[0m\u001b[0;34m.\u001b[0m\u001b[0masarray\u001b[0m\u001b[0;34m(\u001b[0m\u001b[0;34m[\u001b[0m \u001b[0mi\u001b[0m \u001b[0;32mfor\u001b[0m \u001b[0mi\u001b[0m \u001b[0;32min\u001b[0m \u001b[0mrange\u001b[0m\u001b[0;34m(\u001b[0m\u001b[0mX\u001b[0m\u001b[0;34m.\u001b[0m\u001b[0mshape\u001b[0m\u001b[0;34m[\u001b[0m\u001b[0;36m1\u001b[0m\u001b[0;34m]\u001b[0m\u001b[0;34m)\u001b[0m \u001b[0;32mif\u001b[0m \u001b[0mi\u001b[0m \u001b[0;32mnot\u001b[0m \u001b[0;32min\u001b[0m \u001b[0mtrain_vals\u001b[0m \u001b[0;34m]\u001b[0m\u001b[0;34m)\u001b[0m\u001b[0;34m\u001b[0m\u001b[0;34m\u001b[0m\u001b[0m\n\u001b[1;32m      5\u001b[0m \u001b[0;34m\u001b[0m\u001b[0m\n",
      "\u001b[0;31mNameError\u001b[0m: name 'np' is not defined"
     ]
    }
   ],
   "source": [
    "logreg_model_obj = None\n",
    "\n",
    "train_vals = np.random.choice(X.shape[1], int(0.8*X.shape[1]), replace=False)\n",
    "vals = np.asarray([ i for i in range(X.shape[1]) if i not in train_vals ])\n",
    "\n",
    "X_train_log_reg = X[:,train_vals] #X[:,train_vals]\n",
    "Y_train_log_reg = Y[:,train_vals]\n",
    "\n",
    "X_val_log_reg = X[:,vals]\n",
    "Y_val_log_reg = Y[:,vals]"
   ]
  },
  {
   "cell_type": "code",
   "execution_count": 2,
   "metadata": {},
   "outputs": [
    {
     "ename": "NameError",
     "evalue": "name 'LogisticRegression' is not defined",
     "output_type": "error",
     "traceback": [
      "\u001b[0;31m---------------------------------------------------------------------------\u001b[0m",
      "\u001b[0;31mNameError\u001b[0m                                 Traceback (most recent call last)",
      "\u001b[0;32m<ipython-input-2-db00353d4ab4>\u001b[0m in \u001b[0;36m<module>\u001b[0;34m()\u001b[0m\n\u001b[0;32m----> 1\u001b[0;31m \u001b[0mlogreg_model_obj\u001b[0m \u001b[0;34m=\u001b[0m \u001b[0mLogisticRegression\u001b[0m\u001b[0;34m(\u001b[0m\u001b[0mtol\u001b[0m\u001b[0;34m=\u001b[0m\u001b[0;36m0.0001\u001b[0m\u001b[0;34m,\u001b[0m \u001b[0mC\u001b[0m\u001b[0;34m=\u001b[0m\u001b[0;36m0.9\u001b[0m\u001b[0;34m,\u001b[0m \u001b[0mmax_iter\u001b[0m\u001b[0;34m=\u001b[0m\u001b[0;36m10000\u001b[0m\u001b[0;34m,\u001b[0m \u001b[0mverbose\u001b[0m\u001b[0;34m=\u001b[0m\u001b[0;36m1\u001b[0m\u001b[0;34m)\u001b[0m\u001b[0;31m#, n_jobs=-1, solver=\"saga\")\u001b[0m\u001b[0;34m\u001b[0m\u001b[0;34m\u001b[0m\u001b[0m\n\u001b[0m\u001b[1;32m      2\u001b[0m \u001b[0mlogreg_model_obj\u001b[0m\u001b[0;34m.\u001b[0m\u001b[0mfit\u001b[0m\u001b[0;34m(\u001b[0m\u001b[0mX_train_log_reg\u001b[0m\u001b[0;34m.\u001b[0m\u001b[0mT\u001b[0m\u001b[0;34m,\u001b[0m \u001b[0mY_train_log_reg\u001b[0m\u001b[0;34m.\u001b[0m\u001b[0mT\u001b[0m\u001b[0;34m)\u001b[0m\u001b[0;34m\u001b[0m\u001b[0;34m\u001b[0m\u001b[0m\n\u001b[1;32m      3\u001b[0m \u001b[0;34m\u001b[0m\u001b[0m\n\u001b[1;32m      4\u001b[0m \u001b[0mY_hat\u001b[0m \u001b[0;34m=\u001b[0m \u001b[0mlogreg_model_obj\u001b[0m\u001b[0;34m.\u001b[0m\u001b[0mpredict\u001b[0m\u001b[0;34m(\u001b[0m\u001b[0mX_train_log_reg\u001b[0m\u001b[0;34m.\u001b[0m\u001b[0mT\u001b[0m\u001b[0;34m)\u001b[0m\u001b[0;34m\u001b[0m\u001b[0;34m\u001b[0m\u001b[0m\n\u001b[1;32m      5\u001b[0m \u001b[0;34m\u001b[0m\u001b[0m\n",
      "\u001b[0;31mNameError\u001b[0m: name 'LogisticRegression' is not defined"
     ]
    }
   ],
   "source": [
    "logreg_model_obj = LogisticRegression(tol=0.0001, C=0.9, max_iter=10000, verbose=1)#, n_jobs=-1, solver=\"saga\")\n",
    "logreg_model_obj.fit(X_train_log_reg.T, Y_train_log_reg.T)\n",
    "\n",
    "Y_hat = logreg_model_obj.predict(X_train_log_reg.T)\n",
    "\n",
    "p = sklearn.metrics.precision_score(Y_train_log_reg.T, Y_hat.T)\n",
    "r = sklearn.metrics.recall_score(Y_train_log_reg.T, Y_hat.T)\n",
    "\n",
    "print(\"Training precision: \", p)\n",
    "print(\"Training recall: \", r)\n",
    "\n",
    "Y_hat_val = logreg_model_obj.predict(X_val_log_reg.T)\n",
    "\n",
    "p = sklearn.metrics.precision_score(Y_val_log_reg.T, Y_hat_val.T)\n",
    "r = sklearn.metrics.recall_score(Y_val_log_reg.T, Y_hat_val.T)\n",
    "\n",
    "print(\"Validation precision: \", p)\n",
    "print(\"Validation recall: \", r)"
   ]
  },
  {
   "cell_type": "code",
   "execution_count": null,
   "metadata": {
    "collapsed": true
   },
   "outputs": [],
   "source": []
  },
  {
   "cell_type": "code",
   "execution_count": 21,
   "metadata": {
    "collapsed": true
   },
   "outputs": [],
   "source": [
    "#classify a elements of a sequence, +1 if fualt, -1 if no fault\n",
    "\n",
    "fault_votes = [0.0]\n",
    "nofault_votes = [0.0]\n",
    "base = [0.0]\n",
    "\n",
    "for i in range(X_val_log_reg.shape[1]):\n",
    "    #if no fault\n",
    "    if Y_val_log_reg[0,i] == 0:\n",
    "        Y_hat = logreg_model_obj.predict(X_val_log_reg[:,i].T.reshape(1, -1))\n",
    "        if Y_hat == 0:\n",
    "            nofault_votes.append(nofault_votes[-1] - 1)\n",
    "        if Y_hat == 1:\n",
    "            nofault_votes.append(nofault_votes[-1] + 1)\n",
    "    #if fault\n",
    "    if Y_val_log_reg[0,i] == 1:\n",
    "        Y_hat = logreg_model_obj.predict(X_val_log_reg[:,i].T.reshape(1, -1))\n",
    "        if Y_hat == 0:\n",
    "            fault_votes.append(fault_votes[-1] - 1)\n",
    "        if Y_hat == 1:\n",
    "            fault_votes.append(fault_votes[-1] + 1)\n",
    "        base.append(base[-1] + 0.5)"
   ]
  },
  {
   "cell_type": "code",
   "execution_count": 22,
   "metadata": {},
   "outputs": [
    {
     "data": {
      "image/png": "[encoded data removed]",
      "text/plain": [
       "<matplotlib.figure.Figure at 0x7f69ce836b38>"
      ]
     },
     "metadata": {},
     "output_type": "display_data"
    }
   ],
   "source": [
    "plt.plot(fault_votes, label=\"fault data\")\n",
    "plt.plot(nofault_votes, label=\"no fault data\")\n",
    "plt.plot(base, label=\"1/2\")\n",
    "plt.ylabel(\"net positive fault classifications\")\n",
    "plt.xlabel(\"number of samples\")\n",
    "plt.title(\"logistic regression classifier performance\")\n",
    "plt.legend()\n",
    "plt.show()"
   ]
  },
  {
   "cell_type": "code",
   "execution_count": 43,
   "metadata": {
    "collapsed": true
   },
   "outputs": [],
   "source": [
    "#NN classifier"
   ]
  },
  {
   "cell_type": "code",
   "execution_count": 64,
   "metadata": {},
   "outputs": [
    {
     "data": {
      "text/plain": [
       "(1, 10209)"
      ]
     },
     "execution_count": 64,
     "metadata": {},
     "output_type": "execute_result"
    }
   ],
   "source": [
    "Y_train_log_reg.shape"
   ]
  },
  {
   "cell_type": "code",
   "execution_count": 97,
   "metadata": {
    "collapsed": true
   },
   "outputs": [],
   "source": [
    "Y_train_nn = np.zeros((2, Y_train_log_reg.shape[1]))\n",
    "Y_val_nn = np.zeros((2, Y_val_log_reg.shape[1]))\n",
    "\n",
    "for i in range(Y_train_log_reg.shape[1]):\n",
    "    if Y_train_log_reg[0,i] == 0:\n",
    "        Y_train_nn[0,i] = 1.0\n",
    "    if Y_train_log_reg[0,i] == 1:\n",
    "        Y_train_nn[1,i] = 1.0\n",
    "\n",
    "for i in range(Y_val_log_reg.shape[1]):\n",
    "    if Y_val_log_reg[0,i] == 0:\n",
    "        Y_val_nn[0,i] = 1.0\n",
    "    if Y_val_log_reg[0,i] == 1:\n",
    "        Y_val_nn[1,i] = 1.0"
   ]
  },
  {
   "cell_type": "code",
   "execution_count": null,
   "metadata": {
    "collapsed": true
   },
   "outputs": [],
   "source": []
  },
  {
   "cell_type": "code",
   "execution_count": 105,
   "metadata": {
    "collapsed": true
   },
   "outputs": [],
   "source": [
    "params = {'FEATURE_DIM': X_train_log_reg.shape[0], 'HIDDEN_1': 2*X_train_log_reg.shape[0], 'HIDDEN_2': 2*X_train_log_reg.shape[0], 'HIDDEN_3': int(0.5*X_train_log_reg.shape[0]), 'OUTPUT_DIM': 1}\n",
    "dnet = decision_boundary_nnet(params).cuda()\n",
    "loss_func = nn.BCELoss()\n",
    "optimizer = optim.SGD(dnet.parameters(),lr=0.001, momentum=0.9)\n",
    "batch_size = 100"
   ]
  },
  {
   "cell_type": "code",
   "execution_count": 106,
   "metadata": {},
   "outputs": [
    {
     "name": "stderr",
     "output_type": "stream",
     "text": [
      "/home/chase/applications/anaconda3/lib/python3.6/site-packages/torch/nn/functional.py:1006: UserWarning: nn.functional.sigmoid is deprecated. Use torch.sigmoid instead.\n",
      "  warnings.warn(\"nn.functional.sigmoid is deprecated. Use torch.sigmoid instead.\")\n"
     ]
    },
    {
     "name": "stdout",
     "output_type": "stream",
     "text": [
      "epoch  0  training loss:  0.6949152448802318\n",
      "\n",
      "\t validation loss:  tensor(0.6941, device='cuda:0', grad_fn=<BinaryCrossEntropyBackward>)\n",
      "epoch  100  training loss:  0.6931624047964522\n",
      "\n",
      "\t validation loss:  tensor(0.6931, device='cuda:0', grad_fn=<BinaryCrossEntropyBackward>)\n",
      "epoch  200  training loss:  0.6931623926440489\n",
      "\n",
      "\t validation loss:  tensor(0.6931, device='cuda:0', grad_fn=<BinaryCrossEntropyBackward>)\n",
      "epoch  300  training loss:  0.693162392065363\n",
      "\n",
      "\t validation loss:  tensor(0.6931, device='cuda:0', grad_fn=<BinaryCrossEntropyBackward>)\n",
      "epoch  400  training loss:  0.6931623938014206\n",
      "\n",
      "\t validation loss:  tensor(0.6931, device='cuda:0', grad_fn=<BinaryCrossEntropyBackward>)\n"
     ]
    },
    {
     "ename": "KeyboardInterrupt",
     "evalue": "",
     "output_type": "error",
     "traceback": [
      "\u001b[0;31m---------------------------------------------------------------------------\u001b[0m",
      "\u001b[0;31mKeyboardInterrupt\u001b[0m                         Traceback (most recent call last)",
      "\u001b[0;32m<ipython-input-106-4dfcc6a27c38>\u001b[0m in \u001b[0;36m<module>\u001b[0;34m()\u001b[0m\n\u001b[1;32m     12\u001b[0m         \u001b[0mloss\u001b[0m \u001b[0;34m=\u001b[0m \u001b[0mloss_func\u001b[0m\u001b[0;34m(\u001b[0m\u001b[0mout\u001b[0m\u001b[0;34m,\u001b[0m \u001b[0mlabel\u001b[0m\u001b[0;34m)\u001b[0m\u001b[0;34m\u001b[0m\u001b[0;34m\u001b[0m\u001b[0m\n\u001b[1;32m     13\u001b[0m         \u001b[0mloss\u001b[0m\u001b[0;34m.\u001b[0m\u001b[0mbackward\u001b[0m\u001b[0;34m(\u001b[0m\u001b[0;34m)\u001b[0m\u001b[0;34m\u001b[0m\u001b[0;34m\u001b[0m\u001b[0m\n\u001b[0;32m---> 14\u001b[0;31m         \u001b[0moptimizer\u001b[0m\u001b[0;34m.\u001b[0m\u001b[0mstep\u001b[0m\u001b[0;34m(\u001b[0m\u001b[0;34m)\u001b[0m\u001b[0;34m\u001b[0m\u001b[0;34m\u001b[0m\u001b[0m\n\u001b[0m\u001b[1;32m     15\u001b[0m         \u001b[0mtraining_losses\u001b[0m\u001b[0;34m.\u001b[0m\u001b[0mappend\u001b[0m\u001b[0;34m(\u001b[0m\u001b[0mloss\u001b[0m\u001b[0;34m.\u001b[0m\u001b[0mitem\u001b[0m\u001b[0;34m(\u001b[0m\u001b[0;34m)\u001b[0m\u001b[0;34m)\u001b[0m\u001b[0;34m\u001b[0m\u001b[0;34m\u001b[0m\u001b[0m\n\u001b[1;32m     16\u001b[0m     \u001b[0;32mif\u001b[0m \u001b[0me\u001b[0m \u001b[0;34m%\u001b[0m \u001b[0;36m100\u001b[0m \u001b[0;34m==\u001b[0m \u001b[0;36m0\u001b[0m\u001b[0;34m:\u001b[0m\u001b[0;34m\u001b[0m\u001b[0;34m\u001b[0m\u001b[0m\n",
      "\u001b[0;32m~/applications/anaconda3/lib/python3.6/site-packages/torch/optim/sgd.py\u001b[0m in \u001b[0;36mstep\u001b[0;34m(self, closure)\u001b[0m\n\u001b[1;32m     99\u001b[0m                     \u001b[0;32melse\u001b[0m\u001b[0;34m:\u001b[0m\u001b[0;34m\u001b[0m\u001b[0;34m\u001b[0m\u001b[0m\n\u001b[1;32m    100\u001b[0m                         \u001b[0mbuf\u001b[0m \u001b[0;34m=\u001b[0m \u001b[0mparam_state\u001b[0m\u001b[0;34m[\u001b[0m\u001b[0;34m'momentum_buffer'\u001b[0m\u001b[0;34m]\u001b[0m\u001b[0;34m\u001b[0m\u001b[0;34m\u001b[0m\u001b[0m\n\u001b[0;32m--> 101\u001b[0;31m                         \u001b[0mbuf\u001b[0m\u001b[0;34m.\u001b[0m\u001b[0mmul_\u001b[0m\u001b[0;34m(\u001b[0m\u001b[0mmomentum\u001b[0m\u001b[0;34m)\u001b[0m\u001b[0;34m.\u001b[0m\u001b[0madd_\u001b[0m\u001b[0;34m(\u001b[0m\u001b[0;36m1\u001b[0m \u001b[0;34m-\u001b[0m \u001b[0mdampening\u001b[0m\u001b[0;34m,\u001b[0m \u001b[0md_p\u001b[0m\u001b[0;34m)\u001b[0m\u001b[0;34m\u001b[0m\u001b[0;34m\u001b[0m\u001b[0m\n\u001b[0m\u001b[1;32m    102\u001b[0m                     \u001b[0;32mif\u001b[0m \u001b[0mnesterov\u001b[0m\u001b[0;34m:\u001b[0m\u001b[0;34m\u001b[0m\u001b[0;34m\u001b[0m\u001b[0m\n\u001b[1;32m    103\u001b[0m                         \u001b[0md_p\u001b[0m \u001b[0;34m=\u001b[0m \u001b[0md_p\u001b[0m\u001b[0;34m.\u001b[0m\u001b[0madd\u001b[0m\u001b[0;34m(\u001b[0m\u001b[0mmomentum\u001b[0m\u001b[0;34m,\u001b[0m \u001b[0mbuf\u001b[0m\u001b[0;34m)\u001b[0m\u001b[0;34m\u001b[0m\u001b[0;34m\u001b[0m\u001b[0m\n",
      "\u001b[0;31mKeyboardInterrupt\u001b[0m: "
     ]
    }
   ],
   "source": [
    "epochs = 5000\n",
    "\n",
    "for e in range(epochs):\n",
    "    training_losses = []\n",
    "    X_train_list, Y_train_list = minibatch_X_Y_arrays(X_train_log_reg, Y_train_nn, batch_size)\n",
    "    for i in enumerate(X_train_list):\n",
    "        inp = Variable(torch.Tensor(X_train_list[i[0]].T)).cuda()\n",
    "        label = Variable(torch.Tensor(Y_train_list[i[0]].T)).cuda()\n",
    "\n",
    "        out = dnet(inp)\n",
    "        optimizer.zero_grad()\n",
    "        loss = loss_func(out, label)\n",
    "        loss.backward()\n",
    "        optimizer.step()\n",
    "        training_losses.append(loss.item())\n",
    "    if e % 100 == 0:\n",
    "        print(\"epoch \", e, \" training loss: \", np.mean(training_losses))\n",
    "\n",
    "        inp_val = Variable(torch.Tensor(X_val_log_reg.T)).cuda()\n",
    "        label_val = Variable(torch.Tensor(Y_val_nn.T)).cuda()\n",
    "        out_val = dnet(inp_val)\n",
    "        loss_val = loss_func(out_val, label_val)\n",
    "        #mape_val = torch.mean(torch.abs(out_val - label_val)/label_val).item()\n",
    "        print(\"\\n\\t validation loss: \", loss_val)"
   ]
  },
  {
   "cell_type": "code",
   "execution_count": 107,
   "metadata": {
    "collapsed": true
   },
   "outputs": [],
   "source": [
    "#classify a elements of a sequence, +1 if fualt, -1 if no fault\n",
    "\n",
    "fault_votes = [0.0]\n",
    "nofault_votes = [0.0]\n",
    "base = [0.0]\n",
    "fault_vals = [0.0]\n",
    "nofault_vals = [0.0]\n",
    "\n",
    "for i in range(X_val_log_reg.shape[1]):\n",
    "    #if no fault\n",
    "    if Y_val_log_reg[0,i] == 0:\n",
    "        inp_val = Variable(torch.Tensor(X_val_log_reg[:,i].T.reshape(1, -1))).cuda()\n",
    "        #Y_hat = dnet(inp_val).item()\n",
    "        #nofault_vals.append(Y_hat + nofault_vals[-1])\n",
    "        Y_hat = np.argmax(out_val.cpu().data.numpy())\n",
    "        if Y_hat == 0:\n",
    "            nofault_votes.append(nofault_votes[-1] - 1)\n",
    "        if Y_hat == 1:\n",
    "            nofault_votes.append(nofault_votes[-1] + 1)\n",
    "    #if fault\n",
    "    if Y_val_log_reg[0,i] == 1:\n",
    "        inp_val = Variable(torch.Tensor(X_val_log_reg[:,i].T.reshape(1, -1))).cuda()\n",
    "        #Y_hat = dnet(inp_val).item()\n",
    "        #fault_vals.append(Y_hat + fault_vals[-1])\n",
    "        Y_hat = np.argmax(out_val.cpu().data.numpy())\n",
    "        if Y_hat == 0:\n",
    "            fault_votes.append(fault_votes[-1] - 1)\n",
    "        if Y_hat == 1:\n",
    "            fault_votes.append(fault_votes[-1] + 1)\n",
    "        base.append(base[-1] + 0.5)"
   ]
  },
  {
   "cell_type": "code",
   "execution_count": 108,
   "metadata": {},
   "outputs": [
    {
     "data": {
      "image/png": "[encoded data removed]",
      "text/plain": [
       "<matplotlib.figure.Figure at 0x7fa3edb90160>"
      ]
     },
     "metadata": {},
     "output_type": "display_data"
    }
   ],
   "source": [
    "plt.plot(fault_votes, label=\"fault votes\")\n",
    "plt.plot(nofault_votes, label=\"no fault votes\")\n",
    "plt.legend()\n",
    "plt.show()"
   ]
  },
  {
   "cell_type": "code",
   "execution_count": null,
   "metadata": {
    "collapsed": true
   },
   "outputs": [],
   "source": []
  },
  {
   "cell_type": "code",
   "execution_count": null,
   "metadata": {
    "collapsed": true
   },
   "outputs": [],
   "source": [
    "plt.plot(fault_votes, label=\"fault data\")\n",
    "plt.plot(nofault_votes, label=\"no fault data\")\n",
    "plt.plot(base, label=\"1/2\")\n",
    "plt.ylabel(\"net positive fault classifications\")\n",
    "plt.xlabel(\"number of samples\")\n",
    "plt.title(\"logistic regression classifier performance\")\n",
    "plt.legend()\n",
    "plt.show()"
   ]
  },
  {
   "cell_type": "code",
   "execution_count": null,
   "metadata": {
    "collapsed": true
   },
   "outputs": [],
   "source": []
  },
  {
   "cell_type": "code",
   "execution_count": null,
   "metadata": {
    "collapsed": true
   },
   "outputs": [],
   "source": []
  },
  {
   "cell_type": "code",
   "execution_count": null,
   "metadata": {
    "collapsed": true
   },
   "outputs": [],
   "source": []
  },
  {
   "cell_type": "code",
   "execution_count": 144,
   "metadata": {
    "collapsed": true
   },
   "outputs": [],
   "source": [
    "Y_out_f = []\n",
    "Y_out = []\n",
    "\n",
    "for i in range(X_all_poly.shape[1]):  #arbitrary time of year\n",
    "    var_term = np.power(A.dot(X_all_poly[:,i]) - Y_all[:,i],2)[1]\n",
    "    var_term_f = np.power(A.dot(X_all_poly_f[:,i]) - Y_all_f[:,i],2)[1]\n",
    "    lesser = np.min([var_term_f, var_term])\n",
    "\n",
    "    #dnet for fan only\n",
    "    Y_out_f.append(lesser + (0.5*np.abs(var_term - var_term_f)))\n",
    "    Y_out.append(lesser + (0.5*np.abs(var_term - var_term_f)))\n",
    "    \n",
    "Y_out_f = np.expand_dims(np.asarray(Y_out_f), axis=0)\n",
    "Y_out = np.expand_dims(np.asarray(Y_out), axis=0)"
   ]
  },
  {
   "cell_type": "code",
   "execution_count": 145,
   "metadata": {},
   "outputs": [
    {
     "data": {
      "image/png": "[encoded data removed]",
      "text/plain": [
       "<matplotlib.figure.Figure at 0x7f6b103e05f8>"
      ]
     },
     "metadata": {},
     "output_type": "display_data"
    },
    {
     "name": "stdout",
     "output_type": "stream",
     "text": [
      "1.2771350354296085e-05\n"
     ]
    }
   ],
   "source": [
    "plt.plot(Y_out_f[0,:])\n",
    "plt.show()\n",
    "print(np.mean(Y_out_f[0,:]))"
   ]
  },
  {
   "cell_type": "code",
   "execution_count": 170,
   "metadata": {
    "collapsed": true
   },
   "outputs": [],
   "source": [
    "params = {'FEATURE_DIM': X_all_poly.shape[0], 'HIDDEN_1': 2*X_all_poly.shape[0], 'HIDDEN_2': 2*X_all_poly.shape[0], 'HIDDEN_3': int(0.5*X_all_poly.shape[0]), 'OUTPUT_DIM': 1}\n",
    "dnet = decision_boundary_nnet(params).cuda()\n",
    "loss_func = nn.MSELoss()#SmoothL1Loss()\n",
    "optimizer = optim.SGD(dnet.parameters(),lr=1e-5, momentum=0.9)\n",
    "batch_size = 100"
   ]
  },
  {
   "cell_type": "code",
   "execution_count": 171,
   "metadata": {
    "collapsed": true
   },
   "outputs": [],
   "source": [
    "X_all_boundary_func = np.hstack((X_all_poly, X_all_poly_f))\n",
    "Y_all_boundary_func = np.hstack((Y_out, Y_out_f))"
   ]
  },
  {
   "cell_type": "code",
   "execution_count": 172,
   "metadata": {
    "collapsed": true
   },
   "outputs": [],
   "source": [
    "train_vals = np.random.choice(X_all_boundary_func.shape[1], int(0.8*X_all_boundary_func.shape[1]), replace=False)\n",
    "vals = np.asarray([ i for i in range(X_all_boundary_func.shape[1]) if i not in train_vals ])\n",
    "\n",
    "X_train_boundary_func = X_all_boundary_func[:, train_vals]\n",
    "Y_train_boundary_func = Y_all_boundary_func[:, train_vals]\n",
    "\n",
    "X_val_boundary_func = X_all_boundary_func[:, vals]\n",
    "Y_val_boundary_func = Y_all_boundary_func[:, vals]"
   ]
  },
  {
   "cell_type": "code",
   "execution_count": 173,
   "metadata": {},
   "outputs": [
    {
     "name": "stderr",
     "output_type": "stream",
     "text": [
      "/home/chase/applications/anaconda3/lib/python3.6/site-packages/torch/nn/functional.py:1006: UserWarning: nn.functional.sigmoid is deprecated. Use torch.sigmoid instead.\n",
      "  warnings.warn(\"nn.functional.sigmoid is deprecated. Use torch.sigmoid instead.\")\n"
     ]
    },
    {
     "name": "stdout",
     "output_type": "stream",
     "text": [
      "epoch  0  training loss:  0.016094754077576264\n",
      "\n",
      "\t validation MSE:  tensor(2.5217e-06, device='cuda:0', grad_fn=<MseLossBackward>)\n",
      "epoch  100  training loss:  1.5934187751346913e-08\n",
      "\n",
      "\t validation MSE:  tensor(1.5088e-08, device='cuda:0', grad_fn=<MseLossBackward>)\n",
      "epoch  200  training loss:  1.5934166236733737e-08\n",
      "\n",
      "\t validation MSE:  tensor(1.5088e-08, device='cuda:0', grad_fn=<MseLossBackward>)\n",
      "epoch  300  training loss:  1.593412343170776e-08\n",
      "\n",
      "\t validation MSE:  tensor(1.5088e-08, device='cuda:0', grad_fn=<MseLossBackward>)\n",
      "epoch  400  training loss:  1.5934114696516118e-08\n",
      "\n",
      "\t validation MSE:  tensor(1.5088e-08, device='cuda:0', grad_fn=<MseLossBackward>)\n",
      "epoch  500  training loss:  1.5933857193759137e-08\n",
      "\n",
      "\t validation MSE:  tensor(1.5088e-08, device='cuda:0', grad_fn=<MseLossBackward>)\n",
      "epoch  600  training loss:  1.59339163567896e-08\n",
      "\n",
      "\t validation MSE:  tensor(1.5088e-08, device='cuda:0', grad_fn=<MseLossBackward>)\n",
      "epoch  700  training loss:  1.593393932008214e-08\n",
      "\n",
      "\t validation MSE:  tensor(1.5088e-08, device='cuda:0', grad_fn=<MseLossBackward>)\n",
      "epoch  800  training loss:  1.5933977339292356e-08\n",
      "\n",
      "\t validation MSE:  tensor(1.5088e-08, device='cuda:0', grad_fn=<MseLossBackward>)\n",
      "epoch  900  training loss:  1.5933891591270946e-08\n",
      "\n",
      "\t validation MSE:  tensor(1.5088e-08, device='cuda:0', grad_fn=<MseLossBackward>)\n",
      "epoch  1000  training loss:  1.593382303769389e-08\n",
      "\n",
      "\t validation MSE:  tensor(1.5088e-08, device='cuda:0', grad_fn=<MseLossBackward>)\n",
      "epoch  1100  training loss:  1.5933818191516492e-08\n",
      "\n",
      "\t validation MSE:  tensor(1.5088e-08, device='cuda:0', grad_fn=<MseLossBackward>)\n",
      "epoch  1200  training loss:  1.5933784035451247e-08\n",
      "\n",
      "\t validation MSE:  tensor(1.5088e-08, device='cuda:0', grad_fn=<MseLossBackward>)\n",
      "epoch  1300  training loss:  1.5933653775031753e-08\n",
      "\n",
      "\t validation MSE:  tensor(1.5088e-08, device='cuda:0', grad_fn=<MseLossBackward>)\n",
      "epoch  1400  training loss:  1.5933615065974217e-08\n",
      "\n",
      "\t validation MSE:  tensor(1.5088e-08, device='cuda:0', grad_fn=<MseLossBackward>)\n",
      "epoch  1500  training loss:  1.593364985152514e-08\n",
      "\n",
      "\t validation MSE:  tensor(1.5088e-08, device='cuda:0', grad_fn=<MseLossBackward>)\n",
      "epoch  1600  training loss:  1.5933710394250234e-08\n",
      "\n",
      "\t validation MSE:  tensor(1.5088e-08, device='cuda:0', grad_fn=<MseLossBackward>)\n",
      "epoch  1700  training loss:  1.5933470767161835e-08\n",
      "\n",
      "\t validation MSE:  tensor(1.5088e-08, device='cuda:0', grad_fn=<MseLossBackward>)\n",
      "epoch  1800  training loss:  1.593354448597067e-08\n",
      "\n",
      "\t validation MSE:  tensor(1.5088e-08, device='cuda:0', grad_fn=<MseLossBackward>)\n",
      "epoch  1900  training loss:  1.5933469456451935e-08\n",
      "\n",
      "\t validation MSE:  tensor(1.5088e-08, device='cuda:0', grad_fn=<MseLossBackward>)\n",
      "epoch  2000  training loss:  1.5933435343502146e-08\n",
      "\n",
      "\t validation MSE:  tensor(1.5088e-08, device='cuda:0', grad_fn=<MseLossBackward>)\n",
      "epoch  2100  training loss:  1.593337876739912e-08\n",
      "\n",
      "\t validation MSE:  tensor(1.5088e-08, device='cuda:0', grad_fn=<MseLossBackward>)\n",
      "epoch  2200  training loss:  1.5933382587428635e-08\n",
      "\n",
      "\t validation MSE:  tensor(1.5088e-08, device='cuda:0', grad_fn=<MseLossBackward>)\n",
      "epoch  2300  training loss:  1.593330430700442e-08\n",
      "\n",
      "\t validation MSE:  tensor(1.5088e-08, device='cuda:0', grad_fn=<MseLossBackward>)\n",
      "epoch  2400  training loss:  1.5933340549857797e-08\n",
      "\n",
      "\t validation MSE:  tensor(1.5088e-08, device='cuda:0', grad_fn=<MseLossBackward>)\n",
      "epoch  2500  training loss:  1.593323264049135e-08\n",
      "\n",
      "\t validation MSE:  tensor(1.5087e-08, device='cuda:0', grad_fn=<MseLossBackward>)\n",
      "epoch  2600  training loss:  1.5933244574849924e-08\n",
      "\n",
      "\t validation MSE:  tensor(1.5087e-08, device='cuda:0', grad_fn=<MseLossBackward>)\n",
      "epoch  2700  training loss:  1.5933260777638762e-08\n",
      "\n",
      "\t validation MSE:  tensor(1.5087e-08, device='cuda:0', grad_fn=<MseLossBackward>)\n",
      "epoch  2800  training loss:  1.593327011644681e-08\n",
      "\n",
      "\t validation MSE:  tensor(1.5087e-08, device='cuda:0', grad_fn=<MseLossBackward>)\n",
      "epoch  2900  training loss:  1.5933151902486073e-08\n",
      "\n",
      "\t validation MSE:  tensor(1.5088e-08, device='cuda:0', grad_fn=<MseLossBackward>)\n",
      "epoch  3000  training loss:  1.5933202097501423e-08\n",
      "\n",
      "\t validation MSE:  tensor(1.5087e-08, device='cuda:0', grad_fn=<MseLossBackward>)\n",
      "epoch  3100  training loss:  1.5933166872172837e-08\n",
      "\n",
      "\t validation MSE:  tensor(1.5087e-08, device='cuda:0', grad_fn=<MseLossBackward>)\n",
      "epoch  3200  training loss:  1.593304414833527e-08\n",
      "\n",
      "\t validation MSE:  tensor(1.5087e-08, device='cuda:0', grad_fn=<MseLossBackward>)\n",
      "epoch  3300  training loss:  1.593298961590492e-08\n",
      "\n",
      "\t validation MSE:  tensor(1.5087e-08, device='cuda:0', grad_fn=<MseLossBackward>)\n",
      "epoch  3400  training loss:  1.5933011639280493e-08\n",
      "\n",
      "\t validation MSE:  tensor(1.5087e-08, device='cuda:0', grad_fn=<MseLossBackward>)\n",
      "epoch  3500  training loss:  1.593294285287997e-08\n",
      "\n",
      "\t validation MSE:  tensor(1.5087e-08, device='cuda:0', grad_fn=<MseLossBackward>)\n",
      "epoch  3600  training loss:  1.593288620779221e-08\n",
      "\n",
      "\t validation MSE:  tensor(1.5087e-08, device='cuda:0', grad_fn=<MseLossBackward>)\n",
      "epoch  3700  training loss:  1.5932848602490382e-08\n",
      "\n",
      "\t validation MSE:  tensor(1.5087e-08, device='cuda:0', grad_fn=<MseLossBackward>)\n",
      "epoch  3800  training loss:  1.5932764949880193e-08\n",
      "\n",
      "\t validation MSE:  tensor(1.5087e-08, device='cuda:0', grad_fn=<MseLossBackward>)\n"
     ]
    },
    {
     "ename": "KeyboardInterrupt",
     "evalue": "",
     "output_type": "error",
     "traceback": [
      "\u001b[0;31m---------------------------------------------------------------------------\u001b[0m",
      "\u001b[0;31mKeyboardInterrupt\u001b[0m                         Traceback (most recent call last)",
      "\u001b[0;32m<ipython-input-173-6b5d9fae1562>\u001b[0m in \u001b[0;36m<module>\u001b[0;34m()\u001b[0m\n\u001b[1;32m     10\u001b[0m         \u001b[0mout\u001b[0m \u001b[0;34m=\u001b[0m \u001b[0mdnet\u001b[0m\u001b[0;34m(\u001b[0m\u001b[0minp\u001b[0m\u001b[0;34m)\u001b[0m\u001b[0;34m\u001b[0m\u001b[0;34m\u001b[0m\u001b[0m\n\u001b[1;32m     11\u001b[0m         \u001b[0moptimizer\u001b[0m\u001b[0;34m.\u001b[0m\u001b[0mzero_grad\u001b[0m\u001b[0;34m(\u001b[0m\u001b[0;34m)\u001b[0m\u001b[0;34m\u001b[0m\u001b[0;34m\u001b[0m\u001b[0m\n\u001b[0;32m---> 12\u001b[0;31m         \u001b[0mloss\u001b[0m \u001b[0;34m=\u001b[0m \u001b[0mloss_func\u001b[0m\u001b[0;34m(\u001b[0m\u001b[0mout\u001b[0m\u001b[0;34m,\u001b[0m \u001b[0mlabel\u001b[0m\u001b[0;34m)\u001b[0m\u001b[0;34m\u001b[0m\u001b[0;34m\u001b[0m\u001b[0m\n\u001b[0m\u001b[1;32m     13\u001b[0m         \u001b[0mloss\u001b[0m\u001b[0;34m.\u001b[0m\u001b[0mbackward\u001b[0m\u001b[0;34m(\u001b[0m\u001b[0;34m)\u001b[0m\u001b[0;34m\u001b[0m\u001b[0;34m\u001b[0m\u001b[0m\n\u001b[1;32m     14\u001b[0m         \u001b[0moptimizer\u001b[0m\u001b[0;34m.\u001b[0m\u001b[0mstep\u001b[0m\u001b[0;34m(\u001b[0m\u001b[0;34m)\u001b[0m\u001b[0;34m\u001b[0m\u001b[0;34m\u001b[0m\u001b[0m\n",
      "\u001b[0;32m~/applications/anaconda3/lib/python3.6/site-packages/torch/nn/modules/module.py\u001b[0m in \u001b[0;36m__call__\u001b[0;34m(self, *input, **kwargs)\u001b[0m\n\u001b[1;32m    475\u001b[0m             \u001b[0mresult\u001b[0m \u001b[0;34m=\u001b[0m \u001b[0mself\u001b[0m\u001b[0;34m.\u001b[0m\u001b[0m_slow_forward\u001b[0m\u001b[0;34m(\u001b[0m\u001b[0;34m*\u001b[0m\u001b[0minput\u001b[0m\u001b[0;34m,\u001b[0m \u001b[0;34m**\u001b[0m\u001b[0mkwargs\u001b[0m\u001b[0;34m)\u001b[0m\u001b[0;34m\u001b[0m\u001b[0;34m\u001b[0m\u001b[0m\n\u001b[1;32m    476\u001b[0m         \u001b[0;32melse\u001b[0m\u001b[0;34m:\u001b[0m\u001b[0;34m\u001b[0m\u001b[0;34m\u001b[0m\u001b[0m\n\u001b[0;32m--> 477\u001b[0;31m             \u001b[0mresult\u001b[0m \u001b[0;34m=\u001b[0m \u001b[0mself\u001b[0m\u001b[0;34m.\u001b[0m\u001b[0mforward\u001b[0m\u001b[0;34m(\u001b[0m\u001b[0;34m*\u001b[0m\u001b[0minput\u001b[0m\u001b[0;34m,\u001b[0m \u001b[0;34m**\u001b[0m\u001b[0mkwargs\u001b[0m\u001b[0;34m)\u001b[0m\u001b[0;34m\u001b[0m\u001b[0;34m\u001b[0m\u001b[0m\n\u001b[0m\u001b[1;32m    478\u001b[0m         \u001b[0;32mfor\u001b[0m \u001b[0mhook\u001b[0m \u001b[0;32min\u001b[0m \u001b[0mself\u001b[0m\u001b[0;34m.\u001b[0m\u001b[0m_forward_hooks\u001b[0m\u001b[0;34m.\u001b[0m\u001b[0mvalues\u001b[0m\u001b[0;34m(\u001b[0m\u001b[0;34m)\u001b[0m\u001b[0;34m:\u001b[0m\u001b[0;34m\u001b[0m\u001b[0;34m\u001b[0m\u001b[0m\n\u001b[1;32m    479\u001b[0m             \u001b[0mhook_result\u001b[0m \u001b[0;34m=\u001b[0m \u001b[0mhook\u001b[0m\u001b[0;34m(\u001b[0m\u001b[0mself\u001b[0m\u001b[0;34m,\u001b[0m \u001b[0minput\u001b[0m\u001b[0;34m,\u001b[0m \u001b[0mresult\u001b[0m\u001b[0;34m)\u001b[0m\u001b[0;34m\u001b[0m\u001b[0;34m\u001b[0m\u001b[0m\n",
      "\u001b[0;32m~/applications/anaconda3/lib/python3.6/site-packages/torch/nn/modules/loss.py\u001b[0m in \u001b[0;36mforward\u001b[0;34m(self, input, target)\u001b[0m\n\u001b[1;32m    419\u001b[0m \u001b[0;34m\u001b[0m\u001b[0m\n\u001b[1;32m    420\u001b[0m     \u001b[0;32mdef\u001b[0m \u001b[0mforward\u001b[0m\u001b[0;34m(\u001b[0m\u001b[0mself\u001b[0m\u001b[0;34m,\u001b[0m \u001b[0minput\u001b[0m\u001b[0;34m,\u001b[0m \u001b[0mtarget\u001b[0m\u001b[0;34m)\u001b[0m\u001b[0;34m:\u001b[0m\u001b[0;34m\u001b[0m\u001b[0;34m\u001b[0m\u001b[0m\n\u001b[0;32m--> 421\u001b[0;31m         \u001b[0;32mreturn\u001b[0m \u001b[0mF\u001b[0m\u001b[0;34m.\u001b[0m\u001b[0mmse_loss\u001b[0m\u001b[0;34m(\u001b[0m\u001b[0minput\u001b[0m\u001b[0;34m,\u001b[0m \u001b[0mtarget\u001b[0m\u001b[0;34m,\u001b[0m \u001b[0mreduction\u001b[0m\u001b[0;34m=\u001b[0m\u001b[0mself\u001b[0m\u001b[0;34m.\u001b[0m\u001b[0mreduction\u001b[0m\u001b[0;34m)\u001b[0m\u001b[0;34m\u001b[0m\u001b[0;34m\u001b[0m\u001b[0m\n\u001b[0m\u001b[1;32m    422\u001b[0m \u001b[0;34m\u001b[0m\u001b[0m\n\u001b[1;32m    423\u001b[0m \u001b[0;34m\u001b[0m\u001b[0m\n",
      "\u001b[0;32m~/applications/anaconda3/lib/python3.6/site-packages/torch/nn/functional.py\u001b[0m in \u001b[0;36mmse_loss\u001b[0;34m(input, target, size_average, reduce, reduction)\u001b[0m\n\u001b[1;32m   1714\u001b[0m     \u001b[0;32melse\u001b[0m\u001b[0;34m:\u001b[0m\u001b[0;34m\u001b[0m\u001b[0;34m\u001b[0m\u001b[0m\n\u001b[1;32m   1715\u001b[0m         \u001b[0mreduction\u001b[0m \u001b[0;34m=\u001b[0m \u001b[0m_Reduction\u001b[0m\u001b[0;34m.\u001b[0m\u001b[0mget_enum\u001b[0m\u001b[0;34m(\u001b[0m\u001b[0mreduction\u001b[0m\u001b[0;34m)\u001b[0m\u001b[0;34m\u001b[0m\u001b[0;34m\u001b[0m\u001b[0m\n\u001b[0;32m-> 1716\u001b[0;31m     \u001b[0;32mreturn\u001b[0m \u001b[0m_pointwise_loss\u001b[0m\u001b[0;34m(\u001b[0m\u001b[0;32mlambda\u001b[0m \u001b[0ma\u001b[0m\u001b[0;34m,\u001b[0m \u001b[0mb\u001b[0m\u001b[0;34m:\u001b[0m \u001b[0;34m(\u001b[0m\u001b[0ma\u001b[0m \u001b[0;34m-\u001b[0m \u001b[0mb\u001b[0m\u001b[0;34m)\u001b[0m \u001b[0;34m**\u001b[0m \u001b[0;36m2\u001b[0m\u001b[0;34m,\u001b[0m \u001b[0mtorch\u001b[0m\u001b[0;34m.\u001b[0m\u001b[0m_C\u001b[0m\u001b[0;34m.\u001b[0m\u001b[0m_nn\u001b[0m\u001b[0;34m.\u001b[0m\u001b[0mmse_loss\u001b[0m\u001b[0;34m,\u001b[0m \u001b[0minput\u001b[0m\u001b[0;34m,\u001b[0m \u001b[0mtarget\u001b[0m\u001b[0;34m,\u001b[0m \u001b[0mreduction\u001b[0m\u001b[0;34m)\u001b[0m\u001b[0;34m\u001b[0m\u001b[0;34m\u001b[0m\u001b[0m\n\u001b[0m\u001b[1;32m   1717\u001b[0m \u001b[0;34m\u001b[0m\u001b[0m\n\u001b[1;32m   1718\u001b[0m \u001b[0;34m\u001b[0m\u001b[0m\n",
      "\u001b[0;32m~/applications/anaconda3/lib/python3.6/site-packages/torch/nn/functional.py\u001b[0m in \u001b[0;36m_pointwise_loss\u001b[0;34m(lambd, lambd_optimized, input, target, reduction)\u001b[0m\n\u001b[1;32m   1672\u001b[0m         \u001b[0;32mreturn\u001b[0m \u001b[0mtorch\u001b[0m\u001b[0;34m.\u001b[0m\u001b[0mmean\u001b[0m\u001b[0;34m(\u001b[0m\u001b[0md\u001b[0m\u001b[0;34m)\u001b[0m \u001b[0;32mif\u001b[0m \u001b[0mreduction\u001b[0m \u001b[0;34m==\u001b[0m \u001b[0;34m'elementwise_mean'\u001b[0m \u001b[0;32melse\u001b[0m \u001b[0mtorch\u001b[0m\u001b[0;34m.\u001b[0m\u001b[0msum\u001b[0m\u001b[0;34m(\u001b[0m\u001b[0md\u001b[0m\u001b[0;34m)\u001b[0m\u001b[0;34m\u001b[0m\u001b[0;34m\u001b[0m\u001b[0m\n\u001b[1;32m   1673\u001b[0m     \u001b[0;32melse\u001b[0m\u001b[0;34m:\u001b[0m\u001b[0;34m\u001b[0m\u001b[0;34m\u001b[0m\u001b[0m\n\u001b[0;32m-> 1674\u001b[0;31m         \u001b[0;32mreturn\u001b[0m \u001b[0mlambd_optimized\u001b[0m\u001b[0;34m(\u001b[0m\u001b[0minput\u001b[0m\u001b[0;34m,\u001b[0m \u001b[0mtarget\u001b[0m\u001b[0;34m,\u001b[0m \u001b[0mreduction\u001b[0m\u001b[0;34m)\u001b[0m\u001b[0;34m\u001b[0m\u001b[0;34m\u001b[0m\u001b[0m\n\u001b[0m\u001b[1;32m   1675\u001b[0m \u001b[0;34m\u001b[0m\u001b[0m\n\u001b[1;32m   1676\u001b[0m \u001b[0;34m\u001b[0m\u001b[0m\n",
      "\u001b[0;31mKeyboardInterrupt\u001b[0m: "
     ]
    }
   ],
   "source": [
    "epochs = 5000\n",
    "\n",
    "for e in range(epochs):\n",
    "    training_losses = []\n",
    "    X_train_list, Y_train_list = minibatch_X_Y_arrays(X_train_boundary_func, Y_train_boundary_func, batch_size)\n",
    "    for i in enumerate(X_train_list):\n",
    "        inp = Variable(torch.Tensor(X_train_list[i[0]].T)).cuda()\n",
    "        label = Variable(torch.Tensor(Y_train_list[i[0]].T)).cuda()\n",
    "\n",
    "        out = dnet(inp)\n",
    "        optimizer.zero_grad()\n",
    "        loss = loss_func(out, label)\n",
    "        loss.backward()\n",
    "        optimizer.step()\n",
    "        training_losses.append(loss.item())\n",
    "    if e % 100 == 0:\n",
    "        print(\"epoch \", e, \" training loss: \", np.mean(training_losses))\n",
    "\n",
    "        inp_val = Variable(torch.Tensor(X_val_boundary_func.T)).cuda()\n",
    "        label_val = Variable(torch.Tensor(Y_val_boundary_func.T)).cuda()\n",
    "        out_val = dnet(inp_val)\n",
    "        loss_val = loss_func(out_val, label_val)\n",
    "        #mape_val = torch.mean(torch.abs(out_val - label_val)/label_val).item()\n",
    "        print(\"\\n\\t validation MSE: \", loss_val)\n"
   ]
  },
  {
   "cell_type": "code",
   "execution_count": 181,
   "metadata": {},
   "outputs": [
    {
     "name": "stderr",
     "output_type": "stream",
     "text": [
      "/home/chase/applications/anaconda3/lib/python3.6/site-packages/torch/nn/functional.py:1006: UserWarning: nn.functional.sigmoid is deprecated. Use torch.sigmoid instead.\n",
      "  warnings.warn(\"nn.functional.sigmoid is deprecated. Use torch.sigmoid instead.\")\n"
     ]
    }
   ],
   "source": [
    "e_lkhds = []\n",
    "e_lkhds_fault = []\n",
    "\n",
    "f_lkhds = []\n",
    "f_lkhds_fault = []\n",
    "\n",
    "dnet_fault_vals = []\n",
    "dnet_vals = []\n",
    "\n",
    "for i in range(X_all_poly.shape[1]-1):  #arbitrary time of year\n",
    "    \n",
    "    samp_x = X_all_poly[:,i]\n",
    "    samp_y = Y_all[:,i]\n",
    "    \n",
    "    #samp_x_t = Variable(torch.Tensor(samp_x)).unsqueeze(-1).cuda().transpose(1,0)\n",
    "    \n",
    "    samp_x_f = X_all_poly_f[:,i]\n",
    "    samp_y_f = Y_all_f[:,i]\n",
    "    \n",
    "    e_lkhds.append(np.power(A.dot(samp_x) - samp_y,2)[0] - dnet(Variable(torch.Tensor(samp_x)).cuda()).item())\n",
    "    e_lkhds_fault.append(np.power(A.dot(samp_x_f) - samp_y_f,2)[0] - dnet(Variable(torch.Tensor(samp_x_f)).cuda()).item())\n",
    "    \n",
    "    f_lkhds.append(np.power(A.dot(samp_x) - samp_y,2)[1] - dnet(Variable(torch.Tensor(samp_x)).cuda()).item())\n",
    "    f_lkhds_fault.append(np.power(A.dot(samp_x_f) - samp_y_f,2)[1] - dnet(Variable(torch.Tensor(samp_x_f)).cuda()).item())\n",
    "    \n",
    "    dnet_fault_vals.append(dnet(Variable(torch.Tensor(samp_x_f)).cuda()).item())\n",
    "    dnet_vals.append(dnet(Variable(torch.Tensor(samp_x)).cuda()).item())\n",
    "    "
   ]
  },
  {
   "cell_type": "code",
   "execution_count": null,
   "metadata": {
    "collapsed": true
   },
   "outputs": [],
   "source": []
  },
  {
   "cell_type": "code",
   "execution_count": 180,
   "metadata": {},
   "outputs": [
    {
     "data": {
      "image/png": "[encoded data removed]",
      "text/plain": [
       "<matplotlib.figure.Figure at 0x7f6b42bf6630>"
      ]
     },
     "metadata": {},
     "output_type": "display_data"
    }
   ],
   "source": [
    "plt.title(\"Fan power usage\")\n",
    "plt.plot(f_lkhds_fault, label=\"fault\")\n",
    "plt.plot(f_lkhds, label=\"normal\")\n",
    "plt.legend()\n",
    "plt.show()"
   ]
  },
  {
   "cell_type": "code",
   "execution_count": 176,
   "metadata": {},
   "outputs": [
    {
     "data": {
      "image/png": "[encoded data removed]",
      "text/plain": [
       "<matplotlib.figure.Figure at 0x7f6b42aeb828>"
      ]
     },
     "metadata": {},
     "output_type": "display_data"
    },
    {
     "name": "stdout",
     "output_type": "stream",
     "text": [
      "-2.548650245451661e-07\n"
     ]
    }
   ],
   "source": [
    "plt.plot(np.asarray(f_lkhds_fault) - np.asarray(f_lkhds))\n",
    "plt.show()\n",
    "print(np.mean(np.asarray(f_lkhds_fault) - np.asarray(f_lkhds)))"
   ]
  },
  {
   "cell_type": "code",
   "execution_count": 177,
   "metadata": {},
   "outputs": [
    {
     "data": {
      "image/png": "[encoded data removed]",
      "text/plain": [
       "<matplotlib.figure.Figure at 0x7f6b42d9c9b0>"
      ]
     },
     "metadata": {},
     "output_type": "display_data"
    },
    {
     "name": "stdout",
     "output_type": "stream",
     "text": [
      "1.1803659093697617e-05\n"
     ]
    }
   ],
   "source": [
    "plt.plot(dnet_fault_vals)\n",
    "plt.plot(dnet_vals)\n",
    "plt.show()\n",
    "print(np.mean(dnet_vals))"
   ]
  },
  {
   "cell_type": "code",
   "execution_count": 178,
   "metadata": {},
   "outputs": [
    {
     "data": {
      "image/png": "[encoded data removed]",
      "text/plain": [
       "<matplotlib.figure.Figure at 0x7f6b3e48f160>"
      ]
     },
     "metadata": {},
     "output_type": "display_data"
    }
   ],
   "source": [
    "plt.hist(dnet_vals)\n",
    "plt.show()"
   ]
  },
  {
   "cell_type": "code",
   "execution_count": null,
   "metadata": {
    "collapsed": true
   },
   "outputs": [],
   "source": []
  },
  {
   "cell_type": "code",
   "execution_count": null,
   "metadata": {
    "collapsed": true
   },
   "outputs": [],
   "source": []
  },
  {
   "cell_type": "code",
   "execution_count": null,
   "metadata": {
    "collapsed": true
   },
   "outputs": [],
   "source": []
  }
 ],
 "metadata": {
  "kernelspec": {
   "display_name": "Python [conda env:anaconda3]",
   "language": "python",
   "name": "conda-env-anaconda3-py"
  },
  "language_info": {
   "codemirror_mode": {
    "name": "ipython",
    "version": 3
   },
   "file_extension": ".py",
   "mimetype": "text/x-python",
   "name": "python",
   "nbconvert_exporter": "python",
   "pygments_lexer": "ipython3",
   "version": "3.6.9"
  }
 },
 "nbformat": 4,
 "nbformat_minor": 2
}
