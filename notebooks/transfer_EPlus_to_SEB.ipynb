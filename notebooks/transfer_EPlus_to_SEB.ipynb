{
 "cells": [
  {
   "cell_type": "markdown",
   "metadata": {},
   "source": [
    "## Transfer EPLus Medium Office Building to SEB state transition matrix"
   ]
  },
  {
   "cell_type": "code",
   "execution_count": 1,
   "metadata": {},
   "outputs": [
    {
     "data": {
      "text/html": [
       "\n",
       "<style>\n",
       "    div#notebook-container    { width: 95%; }\n",
       "    div#menubar-container     { width: 65%; }\n",
       "    div#maintoolbar-container { width: 99%; }\n",
       "</style>\n"
      ],
      "text/plain": [
       "<IPython.core.display.HTML object>"
      ]
     },
     "metadata": {},
     "output_type": "display_data"
    }
   ],
   "source": [
    "#cells will fill entire width of the browser\n",
    "from IPython.display import display, HTML\n",
    "\n",
    "display(HTML(data=\"\"\"\n",
    "<style>\n",
    "    div#notebook-container    { width: 95%; }\n",
    "    div#menubar-container     { width: 65%; }\n",
    "    div#maintoolbar-container { width: 99%; }\n",
    "</style>\n",
    "\"\"\"))\n",
    "\n",
    "#Tells Jupyter to reload custom classes from scratch everytime an import cell is run, if you edit a custom class\n",
    "#between imports Jupyter would otherwise need to be restarted completely. Buyer beware: old class objects in the \n",
    "#current namespace will cause errors at execution\n",
    "%load_ext autoreload\n",
    "%autoreload 2\n",
    "\n",
    "#switches matplotlib to show plots in the browser rather than opening a new window\n",
    "%matplotlib inline"
   ]
  },
  {
   "cell_type": "code",
   "execution_count": 2,
   "metadata": {},
   "outputs": [],
   "source": [
    "#always forget to do this for better looking plots\n",
    "import seaborn\n",
    "seaborn.set()\n",
    "\n",
    "import matplotlib.pyplot as plt\n",
    "import os\n",
    "import numpy as np\n",
    "import datetime\n",
    "#from cvxpy import *\n",
    "from statsmodels.tsa import stattools\n",
    "from sklearn import preprocessing\n",
    "from sklearn import linear_model\n",
    "from sklearn.metrics import mean_squared_error\n",
    "import random\n",
    "import copy\n",
    "import scipy\n",
    "import pickle\n",
    "import json\n",
    "\n",
    "import torch\n",
    "import torch.nn as nn\n",
    "import torch.nn.functional as F\n",
    "from torch.autograd import Variable\n",
    "import torch.optim as optim\n",
    "\n",
    "#energyplus processing functions\n",
    "from eplusprocessing import *\n",
    "from buildsys_funcs import *"
   ]
  },
  {
   "cell_type": "code",
   "execution_count": 3,
   "metadata": {},
   "outputs": [],
   "source": [
    "class nnet(nn.Module):\n",
    "    #linear model for kernelized inputs\n",
    "    def __init__(self, params):\n",
    "        super(nnet, self).__init__()\n",
    "        self.D_in = params['FEATURE_DIM']\n",
    "        self.D_HIDDEN = params['HIDDEN_DIM']\n",
    "        self.D_out = params['OUTPUT_DIM']\n",
    "        self.l1 = nn.Linear(self.D_in, self.D_HIDDEN)\n",
    "        self.l2 = nn.Linear(self.D_HIDDEN, self.D_out)\n",
    "    \n",
    "    def forward(self, x):\n",
    "        x = F.sigmoid(self.l1(x)) \n",
    "        x = self.l2(x)\n",
    "        return(x)"
   ]
  },
  {
   "cell_type": "markdown",
   "metadata": {},
   "source": [
    "## SEB Data"
   ]
  },
  {
   "cell_type": "code",
   "execution_count": 4,
   "metadata": {},
   "outputs": [],
   "source": [
    "#SEB helper functions\n",
    "\n",
    "def read_file_timestamp(strin):\n",
    "    out = datetime.datetime.strptime(strin, '%Y-%m-%dT%H:%M:%S')\n",
    "    return(out)\n",
    "\n",
    "def file_name_from_timestamp(dtobj):\n",
    "    out = datetime.datetime.strftime(dtobj, \"%Y-%m-%d\")\n",
    "    return(out)\n",
    "\n",
    "def read_volttron_file(fobj, col=1):\n",
    "    p = []\n",
    "    lines = fobj.readlines()\n",
    "    lines.pop(0)\n",
    "    for line in lines:\n",
    "        p.append(float(line.strip().split(\",\")[col]))\n",
    "    return(p)\n",
    "\n",
    "def utc_offset(data_list):\n",
    "    first = data_list[0:480]\n",
    "    last = data_list[480:]\n",
    "    return(last + first)\n",
    "\n",
    "def to_celsius(fah):\n",
    "    c = (fah - 32.0)/1.8\n",
    "    return(c)\n",
    "\n",
    "def norm_array(arr):\n",
    "    return(preprocessing.minmax_scale(arr, axis=0))\n",
    "\n",
    "def norm_array_custom(arr, minimum, maximum):\n",
    "    arr_out = (arr - minimum)/(maximum - minimum)\n",
    "    return(arr_out)\n",
    "\n",
    "def circularize_normed_data(arr):\n",
    "    #assume data normalized to 0-1 interval\n",
    "    x = np.sin(2*np.pi*arr)\n",
    "    y = np.cos(2*np.pi*arr)\n",
    "    return(x, y)\n",
    "\n",
    "filedates = []\n",
    "for i in range(21,27): #day 27 is missing data\n",
    "    filedates.append(file_name_from_timestamp(datetime.datetime(year=2018, month=6, day=i)))"
   ]
  },
  {
   "cell_type": "code",
   "execution_count": 5,
   "metadata": {},
   "outputs": [],
   "source": [
    "moving_average_length = 60 #minutes\n",
    "bins = 24 #1440/15"
   ]
  },
  {
   "cell_type": "code",
   "execution_count": 6,
   "metadata": {},
   "outputs": [
    {
     "name": "stderr",
     "output_type": "stream",
     "text": [
      "/home/chase/applications/anaconda3/lib/python3.7/site-packages/ipykernel_launcher.py:34: RuntimeWarning: Mean of empty slice\n"
     ]
    }
   ],
   "source": [
    "datadir = \"/home/chase/projects/buildnn/data/PNNL/SEB/\"\n",
    "months = [\"March\", \"April\", \"May\", \"June\", \"July\", \"August\", \"September\", \"October\"]\n",
    "\n",
    "powerdata = []\n",
    "timedata = []\n",
    "daydata = []\n",
    "dtdata = []\n",
    "\n",
    "i = 0\n",
    "\n",
    "for month in months:\n",
    "    path = datadir + \"/\" + month + \"/\" + \"ELECTRIC_METER/WholeBuildingDemand/\"\n",
    "    filedates = sorted(os.listdir(path))\n",
    "    for f in filedates:\n",
    "        with open(path + f, \"r\") as d:\n",
    "            p = []\n",
    "            t = []\n",
    "            lines = d.readlines()\n",
    "            lines.pop(0)\n",
    "            for line in lines:\n",
    "                tokens = line.strip().split(\",\")\n",
    "                p.append(float(tokens[1]))\n",
    "                t.append(read_file_timestamp(tokens[0]))\n",
    "                \n",
    "            #p = utc_offset(p)\n",
    "            #t = utc_offset(t)\n",
    "            \n",
    "            #moving average according to global moving_average_length time in minutes\n",
    "            pavg = []\n",
    "            tavg = []\n",
    "            wdavg = []\n",
    "            \n",
    "            for b in range(bins):\n",
    "                pavg.append(np.nanmean(p[b*moving_average_length:(b+1)*moving_average_length]))\n",
    "                try:\n",
    "                    tavg.append(t[b*moving_average_length].hour*60 + t[b*moving_average_length].minute)\n",
    "                    wdavg.append(t[b*moving_average_length].weekday())\n",
    "                    dtdata.append((t[b*moving_average_length], i))\n",
    "                    i += 1\n",
    "                except:\n",
    "                    tavg.append(np.nan)\n",
    "                    wdavg.append(np.nan)\n",
    "                    dtdata.append((np.nan, i))\n",
    "                    i += 1\n",
    "            powerdata += pavg\n",
    "            timedata += tavg\n",
    "            daydata += wdavg\n",
    "\n",
    "powerdata = np.asarray(powerdata)\n",
    "dtdata = np.asarray(dtdata)"
   ]
  },
  {
   "cell_type": "code",
   "execution_count": 7,
   "metadata": {},
   "outputs": [
    {
     "name": "stdout",
     "output_type": "stream",
     "text": [
      "March :  AHU1\n"
     ]
    },
    {
     "name": "stderr",
     "output_type": "stream",
     "text": [
      "/home/chase/applications/anaconda3/lib/python3.7/site-packages/ipykernel_launcher.py:40: RuntimeWarning: Mean of empty slice\n",
      "/home/chase/applications/anaconda3/lib/python3.7/site-packages/ipykernel_launcher.py:53: RuntimeWarning: Mean of empty slice\n"
     ]
    },
    {
     "name": "stdout",
     "output_type": "stream",
     "text": [
      "April :  AHU1\n",
      "May :  AHU1\n",
      "June :  AHU1\n",
      "July :  AHU1\n",
      "August :  AHU1\n",
      "September :  AHU1\n",
      "October :  AHU1\n"
     ]
    }
   ],
   "source": [
    "airunits = [\"AHU1\"]#, \"AHU2\", \"AHU3\", \"AHU4\"]\n",
    "airvars = [\"ExhaustAirFlow\", \"HotWaterFlowRate\", \"ExhaustFanPower\", \n",
    "           \"OutdoorAirTemperature\", \"SupplyFanPower\", \"MixedAirTemperature\", \"ReturnAirFlow\", \n",
    "           \"ReturnAirTemperature\", \"SupplyAirFlow\", \"SupplyFanPower\", \"ReturnFanPower\", \n",
    "           \"DischargeAirTemperature\", \"ChilledWaterValvePosition\", \"HotWaterValvePosition\", \n",
    "           \"HotWaterCoilTemperature\", \"HeatingPercent\", \"DuctStaticPressure\", \"OutdoorAirFlow\",\n",
    "           \"HotWaterSupplyTemperature\", \"HotWaterReturnTemperature\", \"HotWaterValveTemperature\",\n",
    "           \"HrWheelSpeed\", \"SupplyFanSpeedPercent\"]\n",
    "vavunits = [\"VAV100\"]#, \"VAV102\", \"VAV118\", \"VAV119\", \"VAV120\", \"VAV121\", \"VAV129\", \"VAV131\", \"VAV133\",\n",
    "            #\"VAV136\", \"VAV142\", \"VAV143\", \"VAV150\"]\n",
    "vavvars = [\"ZoneCoolingTemperatureSetPoint\", \"ZoneTemperature\", \"ZoneHeatingTemperatureSetPoint\", \n",
    "           \"ZoneTemperatureSetPoint\", \"ZoneDischargeAirTemperature\", \"ZoneAirFlow\"]\n",
    "\n",
    "ahudata = {}\n",
    "vavdata = {}\n",
    "\n",
    "for a in airunits:\n",
    "    ahudata[a] = {}\n",
    "    for m in airvars:\n",
    "        ahudata[a][m] = []\n",
    "        \n",
    "for v in vavunits:\n",
    "    vavdata[v] = {}\n",
    "    for m in vavvars:\n",
    "        vavdata[v][m] = []\n",
    "\n",
    "for month in months:\n",
    "    for a in airunits:\n",
    "        print(month, \": \", a)\n",
    "        path = datadir + month + \"/\" + a\n",
    "        msrmnts = os.listdir(path)\n",
    "        for m in msrmnts:\n",
    "            if m in airvars:\n",
    "                filedates = sorted(os.listdir(path + \"/\" + m))\n",
    "                for f in filedates:\n",
    "                    with open(path + \"/\" + m + \"/\" + f, 'r') as d:\n",
    "                        p = read_volttron_file(d) #utc_offset(read_volttron_file(d))\n",
    "                        pavg = []\n",
    "                        for b in range(bins):\n",
    "                            pavg.append(np.nanmean(p[b*moving_average_length:(b+1)*moving_average_length]))\n",
    "                        ahudata[a][m] += pavg\n",
    "                        \n",
    "            if m in vavunits:\n",
    "                vav_true_vars = os.listdir(path + \"/\" + m)\n",
    "                for v in vav_true_vars:\n",
    "                    if v in vavvars:\n",
    "                        filedates = sorted(os.listdir(path + \"/\" + m + \"/\" + v))\n",
    "                        for f in filedates:\n",
    "                            with open(path + \"/\" + m + \"/\" + v + \"/\" + f, 'r') as d:\n",
    "                                p = read_volttron_file(d) #utc_offset(read_volttron_file(d))\n",
    "                                pavg = []\n",
    "                                for b in range(bins):\n",
    "                                    pavg.append(np.nanmean(p[b*moving_average_length:(b+1)*moving_average_length]))\n",
    "                                vavdata[m][v] += pavg\n",
    "\n",
    "for m in ahudata[a]:\n",
    "    ahudata[a][m] = np.asarray(ahudata[a][m])\n",
    "\n",
    "for v in vavdata:\n",
    "    for mv in vavdata[v]:\n",
    "        vavdata[v][mv] = np.asarray(vavdata[v][mv])"
   ]
  },
  {
   "cell_type": "code",
   "execution_count": 8,
   "metadata": {},
   "outputs": [
    {
     "name": "stdout",
     "output_type": "stream",
     "text": [
      "March\n",
      "April\n",
      "May\n",
      "June\n",
      "July\n"
     ]
    },
    {
     "name": "stderr",
     "output_type": "stream",
     "text": [
      "/home/chase/applications/anaconda3/lib/python3.7/site-packages/ipykernel_launcher.py:12: RuntimeWarning: Mean of empty slice\n",
      "  if sys.path[0] == '':\n"
     ]
    },
    {
     "name": "stdout",
     "output_type": "stream",
     "text": [
      "August\n",
      "September\n",
      "October\n"
     ]
    }
   ],
   "source": [
    "lighting_data = []\n",
    "\n",
    "for month in months:\n",
    "    print(month)\n",
    "    path = datadir + month + \"/LIGHTING_ELECTRIC1/Power/\"\n",
    "    filedates = sorted(os.listdir(path))\n",
    "    for f in filedates:\n",
    "        with open(path + \"/\" + f, 'r') as d:\n",
    "            p = read_volttron_file(d) #utc_offset(read_volttron_file(d))\n",
    "            pavg = []\n",
    "            for b in range(bins):\n",
    "                pavg.append(np.nanmean(p[b*moving_average_length:(b+1)*moving_average_length]))\n",
    "            lighting_data += pavg\n",
    "                        \n",
    "lighting_data = np.asarray(lighting_data)"
   ]
  },
  {
   "cell_type": "code",
   "execution_count": 9,
   "metadata": {},
   "outputs": [
    {
     "name": "stdout",
     "output_type": "stream",
     "text": [
      "AHU1 ,  ExhaustAirFlow ,  0\n",
      "AHU1 ,  HotWaterFlowRate ,  5760\n",
      "AHU1 ,  ExhaustFanPower ,  5760\n",
      "AHU1 ,  OutdoorAirTemperature ,  5760\n",
      "AHU1 ,  SupplyFanPower ,  5760\n",
      "AHU1 ,  MixedAirTemperature ,  5760\n",
      "AHU1 ,  ReturnAirFlow ,  0\n",
      "AHU1 ,  ReturnAirTemperature ,  5760\n",
      "AHU1 ,  SupplyAirFlow ,  0\n",
      "AHU1 ,  ReturnFanPower ,  0\n",
      "AHU1 ,  DischargeAirTemperature ,  5760\n",
      "AHU1 ,  ChilledWaterValvePosition ,  5760\n",
      "AHU1 ,  HotWaterValvePosition ,  5760\n",
      "AHU1 ,  HotWaterCoilTemperature ,  0\n",
      "AHU1 ,  HeatingPercent ,  0\n",
      "AHU1 ,  DuctStaticPressure ,  5760\n",
      "AHU1 ,  OutdoorAirFlow ,  5760\n",
      "AHU1 ,  HotWaterSupplyTemperature ,  5760\n",
      "AHU1 ,  HotWaterReturnTemperature ,  5760\n",
      "AHU1 ,  HotWaterValveTemperature ,  5760\n",
      "AHU1 ,  HrWheelSpeed ,  5760\n",
      "AHU1 ,  SupplyFanSpeedPercent ,  5760\n",
      "VAV100 ,  ZoneCoolingTemperatureSetPoint ,  5760\n",
      "VAV100 ,  ZoneTemperature ,  5760\n",
      "VAV100 ,  ZoneHeatingTemperatureSetPoint ,  5760\n",
      "VAV100 ,  ZoneTemperatureSetPoint ,  0\n",
      "VAV100 ,  ZoneDischargeAirTemperature ,  5760\n",
      "VAV100 ,  ZoneAirFlow ,  5760\n",
      "Lighting:  5760\n"
     ]
    }
   ],
   "source": [
    "for a in ahudata:\n",
    "    for m in ahudata[a]:\n",
    "        print(a, \", \", m, \", \", len(ahudata[a][m]))\n",
    "        \n",
    "for a in vavdata:\n",
    "    for v in vavdata[a]:\n",
    "        print(a, \", \", v, \", \", len(vavdata[a][v]))\n",
    "        \n",
    "print(\"Lighting: \", len(lighting_data))"
   ]
  },
  {
   "cell_type": "code",
   "execution_count": 51,
   "metadata": {},
   "outputs": [],
   "source": [
    "#load SEB weather data\n",
    "\n",
    "weatherpath = \"/home/chase/projects/buildnn/data/PNNL/SEB_weather/data\"\n",
    "\n",
    "humidity = {}\n",
    "\n",
    "dates = os.listdir(weatherpath)\n",
    "for d in sorted(dates):\n",
    "    with open(weatherpath + \"/\" + d + \"/-119.2812,46.3431.json\", 'r') as f:\n",
    "        strin = f.readline()\n",
    "        data = json.loads(strin)\n",
    "        for t in data['hourly']['data']:\n",
    "            if t['time'] in humidity:\n",
    "                try:\n",
    "                    humidity[t['time']].append(t['humidity'])\n",
    "                except:\n",
    "                    pass\n",
    "            else:\n",
    "                try:\n",
    "                    humidity[t['time']] = [t['humidity']]\n",
    "                except:\n",
    "                    humidity[t['time']] = [0.0]\n",
    "                \n",
    "for t in humidity:\n",
    "    humidity[t] = np.mean(humidity[t])"
   ]
  },
  {
   "cell_type": "code",
   "execution_count": 52,
   "metadata": {},
   "outputs": [],
   "source": [
    "humidity_data = []\n",
    "for key in sorted(humidity):\n",
    "    humidity_data.append(humidity[key])"
   ]
  },
  {
   "cell_type": "code",
   "execution_count": 53,
   "metadata": {},
   "outputs": [],
   "source": [
    "out_humidity = []\n",
    "skip = 0\n",
    "for i in range(len(dtdata)):\n",
    "    if type(dtdata[i][0]) != datetime.datetime:\n",
    "        out_humidity.append(0.0)\n",
    "        skip += 1\n",
    "    else:\n",
    "        out_humidity.append(humidity_data[i - skip])\n",
    "        \n",
    "out_humidity = np.asarray(out_humidity)"
   ]
  },
  {
   "cell_type": "markdown",
   "metadata": {},
   "source": [
    "### Input/Output variables SEB"
   ]
  },
  {
   "cell_type": "code",
   "execution_count": 54,
   "metadata": {},
   "outputs": [],
   "source": [
    "build_power = copy.copy(powerdata)\n",
    "build_power[np.isnan(build_power)] = 0.0\n",
    "build_power = np.asarray(norm_array_custom(build_power, np.nanmin(build_power), np.nanmax(build_power))) #1\n",
    "\n",
    "fans_power = ahudata['AHU1']['SupplyFanPower'] + ahudata['AHU1']['ExhaustFanPower'] #2\n",
    "fans_power[np.isnan(fans_power)] = 0.0\n",
    "fans_power = np.asarray(norm_array_custom(fans_power, np.nanmin(fans_power), np.nanmax(fans_power)))\n",
    "\n",
    "out_temp = ahudata['AHU1']['OutdoorAirTemperature'] #3\n",
    "out_temp[np.isnan(out_temp)] = 0.0\n",
    "out_temp = np.asarray(norm_array_custom(out_temp, np.nanmin(out_temp), np.nanmax(out_temp)))\n",
    "\n",
    "humidity = norm_array_custom(out_humidity, np.nanmin(out_humidity), np.nanmax(out_humidity)) #4\n",
    "\n",
    "timedata = np.asarray(timedata)\n",
    "timedata[np.isnan(timedata)] = 0.0\n",
    "daydata = np.asarray(daydata)\n",
    "daydata[np.isnan(daydata)] = 0.0\n",
    "x_t, y_t = circularize_normed_data(norm_array_custom(timedata, np.min(timedata), np.max(timedata))) #5, 6\n",
    "x_d, y_d = circularize_normed_data(norm_array_custom(daydata, np.min(daydata), np.max(daydata)))  #7, 8\n",
    "\n",
    "lighting_out = copy.copy(lighting_data)\n",
    "lighting_out[np.isnan(lighting_out)] = 0.0 \n",
    "lighting_out = norm_array_custom(lighting_out, np.nanmin(lighting_out), np.nanmax(lighting_out))#9\n",
    "\n",
    "zone_temp = vavdata['VAV100']['ZoneTemperature']\n",
    "zone_temp[np.isnan(zone_temp)] = 0.0\n",
    "zone_temp = norm_array_custom(zone_temp, np.nanmin(zone_temp), np.nanmax(zone_temp)) #10"
   ]
  },
  {
   "cell_type": "code",
   "execution_count": 55,
   "metadata": {},
   "outputs": [
    {
     "data": {
      "text/plain": [
       "((5760,),\n",
       " (5760,),\n",
       " (5760,),\n",
       " (5760,),\n",
       " (5760,),\n",
       " (5760,),\n",
       " (5760,),\n",
       " (5760,),\n",
       " (5760,),\n",
       " (5760,))"
      ]
     },
     "execution_count": 55,
     "metadata": {},
     "output_type": "execute_result"
    }
   ],
   "source": [
    "build_power.shape, fans_power.shape, out_temp.shape, humidity.shape, x_t.shape, y_t.shape, x_d.shape, y_d.shape, lighting_out.shape, zone_temp.shape"
   ]
  },
  {
   "cell_type": "code",
   "execution_count": 56,
   "metadata": {},
   "outputs": [],
   "source": [
    "X_SEB = np.vstack((build_power, fans_power, out_temp, humidity, x_t, y_t, x_d, y_d, lighting_out, zone_temp))[:,0:-1]\n",
    "Y_SEB = np.vstack((build_power, fans_power, zone_temp))[:,1:]"
   ]
  },
  {
   "cell_type": "code",
   "execution_count": 58,
   "metadata": {},
   "outputs": [
    {
     "name": "stdout",
     "output_type": "stream",
     "text": [
      "False False\n"
     ]
    }
   ],
   "source": [
    "print(np.isnan(X_SEB).any(), np.isnan(Y_SEB).any())"
   ]
  },
  {
   "cell_type": "markdown",
   "metadata": {},
   "source": [
    "## EPlus Data"
   ]
  },
  {
   "cell_type": "code",
   "execution_count": 16,
   "metadata": {},
   "outputs": [],
   "source": [
    "#features to ignore\"\n",
    "ignore = [\"Performance Curve Input Variable 1 Value [] !Each Call\", \"Performance Curve Output Value [] !Each Call\"]\n",
    "\n",
    "#def parse_line()\n",
    "\n",
    "def read_data_dictionary(lines):\n",
    "    data_dict = {}\n",
    "    for line in lines:\n",
    "        l = line.strip()\n",
    "        if l == \"End of Data Dictionary\":\n",
    "            break\n",
    "        else:\n",
    "            tokens = l.split(\",\")\n",
    "            if int(tokens[0]) == 2:\n",
    "                data_dict[int(tokens[0])] = tokens[1:]\n",
    "                #parse time dictionary line\n",
    "            elif int(tokens[0]) > 6 and int(tokens[1]) == 1:\n",
    "                if tokens[-1] in ignore:\n",
    "                    pass\n",
    "                elif len(tokens) == 4:\n",
    "                    data_dict[int(tokens[0])] = tokens[-2] + tokens[-1]\n",
    "                    \n",
    "                else:\n",
    "                    #parse value dictionary line\n",
    "                    data_dict[int(tokens[0])] = tokens[-1]\n",
    "            else:\n",
    "                pass\n",
    "    return(data_dict)\n",
    "\n",
    "def parse_time_line(line_str):\n",
    "    #2,8,Day of Simulation[],Month[],Day of Month[],DST Indicator[1=yes 0=no],Hour[],StartMinute[],EndMinute[],DayType\n",
    "    #2, 1, 1, 1, 0, 1, 0.00, 2.00, Holiday\n",
    "    #only want hourly times, multiple minute 2's, assuming got correct\n",
    "    tokens = line_str.strip().split(\",\")\n",
    "    minute=float(tokens[-3])\n",
    "    hour=int(tokens[-4])\n",
    "    day=int(tokens[-6])\n",
    "    month=int(tokens[-7])\n",
    "    return(datetime.datetime(2017, month, day, hour-1, 0, 0)) #2017 so that the 1st is a Sunday + not leapyear\n",
    "    #return(str(month) + \"/\" + str(day) + \" \" + str(hour) + \":00\")\n",
    "     \n",
    "def parse_lines(lines, feature_inds):\n",
    "    data_values = {}\n",
    "    data_values[2] = []\n",
    "    for i in feature_inds:\n",
    "        data_values[i] = []\n",
    "    \n",
    "    start_i = lines.index(\"End of Data Dictionary\\n\")\n",
    "    for line in lines[start_i+1:-2]:\n",
    "        tokens = line.strip().split(\",\")\n",
    "        if int(tokens[0]) == 2:\n",
    "            if float(tokens[-3]) == 0.00 and float(tokens[-2]) == 60.00:\n",
    "                t = parse_time_line(line)\n",
    "                data_values[2].append(t)\n",
    "        elif int(tokens[0]) in feature_inds:\n",
    "            data_values[int(tokens[0])].append(float(tokens[-1]))\n",
    "        else:\n",
    "            pass\n",
    "    return(data_values)\n",
    "    #return hourly list for all feature vars, plus hourly list with times to check sorting\n",
    "    \n",
    "def get_holidays(lines):\n",
    "    holidays = []\n",
    "    weekends = []\n",
    "    all_dates = []\n",
    "    \n",
    "    start_i = lines.index(\"End of Data Dictionary\\n\")\n",
    "    for line in lines[start_i+1:-2]:\n",
    "        tokens = line.strip().split(\",\")\n",
    "        if tokens[-1] == \"Holiday\":\n",
    "            if float(tokens[-3]) == 0.00 and float(tokens[-2]) == 60.00:\n",
    "                t = parse_time_line(line)\n",
    "                holidays.append(t)\n",
    "        elif int(tokens[0]) == 2:\n",
    "            if float(tokens[-3]) == 0.00 and float(tokens[-2]) == 60.00:\n",
    "                t = parse_time_line(line)\n",
    "                all_dates.append(t)\n",
    "                if t.weekday() == 6 or t.weekday() == 0:\n",
    "                    weekends.append(t)\n",
    "    return(all_dates, weekends, holidays)\n",
    "                      \n",
    "def norm_array(arr):\n",
    "    return(preprocessing.minmax_scale(arr, axis=1))\n",
    "\n",
    "def read_total_data_array(filepath, dep_var_names, ind_var_names, zone_temp_inds, first_diff=False, no_weekend_holiday=False):\n",
    "    with open(datapath + filepath) as d:\n",
    "        lines = d.readlines()\n",
    "        lines.pop(0)\n",
    "        data_dict = read_data_dictionary(lines)\n",
    "        data = parse_lines(lines, data_dict)\n",
    "        all_dates, weekends, holidays = get_holidays(lines)\n",
    "        ind_map = {}\n",
    "        for key, value in data_dict.items():\n",
    "            if type(value) == list:\n",
    "                value = value[-1]\n",
    "            ind_map[value] = key\n",
    "    \n",
    "    u_mat_map = {}\n",
    "    x_mat_map = {}\n",
    "\n",
    "    X = np.zeros((len(dep_var_names) + len(zone_temp_inds), 8760))\n",
    "    U = np.zeros((len(ind_var_names), 8760))\n",
    "\n",
    "    for i in range(len(ind_var_names)):\n",
    "        item = ind_var_names[i]\n",
    "        ind = ind_map[item]\n",
    "        if item == 'DayType':\n",
    "            lis = data[ind]\n",
    "            out = []\n",
    "            for val in lis:\n",
    "                out.append(val.weekday())\n",
    "            arr = np.array(out)\n",
    "        else:\n",
    "            arr = np.array(data[ind])\n",
    "        U[i,:] = arr\n",
    "        u_mat_map[i] = item\n",
    "\n",
    "    for j in range(len(dep_var_names)):\n",
    "        item = dep_var_names[j]\n",
    "        ind = ind_map[item]\n",
    "        arr = np.array(data[ind])\n",
    "        X[j,:] = arr\n",
    "        x_mat_map[j] = item\n",
    "\n",
    "    for j in range(len(zone_temp_inds)):\n",
    "        ind = zone_temp_inds[j]\n",
    "        arr = np.array(data[ind])\n",
    "        X[j+len(dep_var_names),:] = arr\n",
    "        x_mat_map[j+len(dep_var_names)] = str(\"ZoneTempInd\" + str(ind))\n",
    "        \n",
    "    if no_weekend_holiday == True:\n",
    "        weekend_i = []\n",
    "        holiday_i = []\n",
    "        for j in range(len(all_dates)):\n",
    "            if all_dates[j] in weekends:\n",
    "                weekend_i.append(j)\n",
    "            if all_dates[j] in holidays:\n",
    "                holiday_i.append(j)\n",
    "                \n",
    "        del_i = np.array(list(set(holiday_i + weekend_i)))\n",
    "        X = np.delete(X, del_i, axis=1)\n",
    "        U = np.delete(U, del_i, axis=1)\n",
    "    \n",
    "    if first_diff == True:\n",
    "        X = np.diff(X, n=1, axis=1)\n",
    "        U = np.diff(U, n=1, axis=1)\n",
    "\n",
    "    Z = np.vstack((X, U))\n",
    "\n",
    "    return(Z, X, U, ind_map, x_mat_map, u_mat_map)\n",
    "\n",
    "def minibatch_X_Y_arrays(X_arr, Y_arr, batchsize):    \n",
    "    #list of training, target pair tuples\n",
    "    remainder = X_arr.shape[1] % batchsize\n",
    "    diff = batchsize - remainder\n",
    "    tail_X = X_arr[:,-diff:] \n",
    "    tail_Y = Y_arr[:,-diff:]\n",
    "    out_X = [ X_arr[:,i*batchsize:(i+1)*batchsize] for i in range(int(float(X_arr.shape[1])/float(batchsize))) ]\n",
    "    out_Y = [ Y_arr[:,i*batchsize:(i+1)*batchsize] for i in range(int(float(Y_arr.shape[1])/float(batchsize)))]\n",
    "    out_X = out_X + [tail_X]\n",
    "    out_Y = out_Y + [tail_Y]\n",
    "    return(out_X, out_Y)\n",
    "\n",
    "def split_train_val(Z, X, U, order=1, shuff=True, split_prop=0.8):\n",
    "    all_pairs = []\n",
    "    for i in range(Z.shape[1] - order):  #not 8760 for first-diff\n",
    "        all_pairs.append((Z[:,i:i+order-1].flatten(), Z[0:-U.shape[0],i+order]))\n",
    "\n",
    "    if shuff == True:\n",
    "        random.shuffle(all_pairs) \n",
    "    else:\n",
    "        pass\n",
    "\n",
    "    train_pairs = all_pairs[0:int(split_prop*len(all_pairs))]\n",
    "    val_pairs = all_pairs[-int((1.0-split_prop)*len(all_pairs)):]\n",
    "    \n",
    "    #normalize to training data\n",
    "    X_train = []\n",
    "    Y_train = []\n",
    "\n",
    "    for item in train_pairs:\n",
    "        X_train.append(item[0])\n",
    "        Y_train.append(item[1])\n",
    "\n",
    "    X_val = []\n",
    "    Y_val = []\n",
    "    for item in val_pairs:\n",
    "        X_val.append(item[0])\n",
    "        Y_val.append(item[1])\n",
    "\n",
    "    X_train = np.asarray(X_train).T\n",
    "    Y_train = np.asarray(Y_train).T\n",
    "\n",
    "    X_val = np.asarray(X_val).T\n",
    "    Y_val = np.asarray(Y_val).T\n",
    "    \n",
    "    return(X_train, Y_train, X_val, Y_val)\n",
    "\n",
    "def normalize_data_set(X, Y, X_minmax_vals):\n",
    "    X_norm = copy.copy(X)\n",
    "    Y_norm = copy.copy(Y)\n",
    "    \n",
    "    for row in range(X.shape[0]):\n",
    "        mx = np.max(X_minmax_vals[row,:])\n",
    "        mn = np.min(X_minmax_vals[row,:])\n",
    "\n",
    "        X_norm[row,:] = (1.0/(mx - mn))*(X[row,:] - mn)\n",
    "\n",
    "        if row < Y.shape[0]:\n",
    "            Y_norm[row,:] = (1.0/(mx - mn))*(Y[row,:] - mn)\n",
    "            \n",
    "    return(X_norm, Y_norm)\n",
    "\n",
    "def polynomial_kernel_mat(X, poly_degree):\n",
    "    out = X\n",
    "    for d in range(2,poly_degree+1):\n",
    "        out = np.vstack((out, np.power(X, d)))\n",
    "    return(out)"
   ]
  },
  {
   "cell_type": "code",
   "execution_count": 17,
   "metadata": {},
   "outputs": [],
   "source": [
    "#global vars\n",
    "datapath = \"/home/chase/projects/building_transfer/data/eplus_sims/\"\n",
    "\n",
    "#shared simulation var names\n",
    "ind_var_names = ['Electricity:Facility [J] !Hourly', 'Fans:Electricity [J] !Hourly', 'EnvironmentSite Outdoor Air Drybulb Temperature [C] !Hourly', 'EnvironmentSite Outdoor Air Relative Humidity [%] !Hourly', 'InteriorLights:Electricity [J] !Hourly']\n",
    "dep_var_names = []\n",
    "\n",
    "zone_temp_inds = [864]"
   ]
  },
  {
   "cell_type": "code",
   "execution_count": 18,
   "metadata": {},
   "outputs": [],
   "source": [
    "Z, X, U, ind_map, x_mat_map, u_mat_map = read_total_data_array(\"refbuild_med/seattle/RefBldgMediumOfficeNew2004_Chicago.eso\", dep_var_names, ind_var_names, zone_temp_inds, first_diff=False, no_weekend_holiday=False)"
   ]
  },
  {
   "cell_type": "code",
   "execution_count": 19,
   "metadata": {},
   "outputs": [
    {
     "data": {
      "text/plain": [
       "({0: 'Electricity:Facility [J] !Hourly',\n",
       "  1: 'Fans:Electricity [J] !Hourly',\n",
       "  2: 'EnvironmentSite Outdoor Air Drybulb Temperature [C] !Hourly',\n",
       "  3: 'EnvironmentSite Outdoor Air Relative Humidity [%] !Hourly',\n",
       "  4: 'InteriorLights:Electricity [J] !Hourly'},\n",
       " {0: 'ZoneTempInd864'})"
      ]
     },
     "execution_count": 19,
     "metadata": {},
     "output_type": "execute_result"
    }
   ],
   "source": [
    "u_mat_map, x_mat_map"
   ]
  },
  {
   "cell_type": "code",
   "execution_count": 39,
   "metadata": {},
   "outputs": [
    {
     "name": "stdout",
     "output_type": "stream",
     "text": [
      "(8760,) (8760,) (8760,) (8760,) (8760,) (8760,) (8760,) (8760,) (8760,) (8760,)\n",
      "False False\n"
     ]
    }
   ],
   "source": [
    "build_power_ep = copy.copy(U[0,:])\n",
    "build_power_ep[np.isnan(build_power_ep)] = 0.0\n",
    "build_power_ep = np.asarray(norm_array_custom(build_power_ep, np.nanmin(build_power_ep), np.nanmax(build_power_ep))) #1\n",
    "\n",
    "fans_power = copy.copy(U[1,:]) #2\n",
    "fans_power[np.isnan(fans_power)] = 0.0\n",
    "fans_power = np.asarray(norm_array_custom(fans_power, np.nanmin(fans_power), np.nanmax(fans_power)))\n",
    "\n",
    "out_temp = copy.copy(U[2,:]) #3\n",
    "out_temp[np.isnan(out_temp)] = 0.0\n",
    "out_temp = np.asarray(norm_array_custom(out_temp, np.nanmin(out_temp), np.nanmax(out_temp)))\n",
    "\n",
    "out_humidity = copy.copy(U[3,:])\n",
    "out_humidity[np.isnan(out_humidity)] = 0.0\n",
    "humidity = norm_array_custom(out_humidity, np.nanmin(out_humidity), np.nanmax(out_humidity)) #4\n",
    "\n",
    "#generate time data\n",
    "weekdays = []\n",
    "for i in range(365):\n",
    "    weekdays+=[i%7 for j in range(24)]\n",
    "    \n",
    "hours = []\n",
    "for i in range(8760):\n",
    "    hours.append(i%24)\n",
    "    \n",
    "x_t, y_t = circularize_normed_data(norm_array_custom(hours, np.min(hours), np.max(hours))) #5, 6\n",
    "x_d, y_d = circularize_normed_data(norm_array_custom(weekdays, np.min(weekdays), np.max(weekdays)))  #7, 8\n",
    "\n",
    "lighting_out = copy.copy(U[4,:])\n",
    "lighting_out[np.isnan(lighting_out)] = 0.0 \n",
    "lighting_out = norm_array_custom(lighting_out, np.nanmin(lighting_out), np.nanmax(lighting_out))#9\n",
    "\n",
    "zone_temp = copy.copy(X[0,:])\n",
    "zone_temp[np.isnan(zone_temp)] = 0.0\n",
    "zone_temp = norm_array_custom(zone_temp, np.nanmin(zone_temp), np.nanmax(zone_temp)) #10\n",
    "\n",
    "print(build_power_ep.shape, fans_power.shape, out_temp.shape, humidity.shape, x_t.shape, y_t.shape, x_d.shape, y_d.shape, lighting_out.shape, zone_temp.shape)\n",
    "\n",
    "X_EP = np.vstack((build_power_ep, fans_power, out_temp, humidity, x_t, y_t, x_d, y_d, lighting_out, zone_temp))[:,0:-1]\n",
    "Y_EP = np.vstack((build_power_ep, fans_power, zone_temp))[:,1:]\n",
    "\n",
    "print(np.isnan(X_EP).any(), np.isnan(Y_EP).any())"
   ]
  },
  {
   "cell_type": "code",
   "execution_count": null,
   "metadata": {},
   "outputs": [],
   "source": []
  },
  {
   "cell_type": "markdown",
   "metadata": {},
   "source": [
    "### Parameter Search"
   ]
  },
  {
   "cell_type": "markdown",
   "metadata": {},
   "source": [
    "### SEB"
   ]
  },
  {
   "cell_type": "code",
   "execution_count": 31,
   "metadata": {},
   "outputs": [
    {
     "name": "stdout",
     "output_type": "stream",
     "text": [
      "Model order 1, no first diff, losses: [0.01410471960175369, 0.01410471960175369, 0.014307524977051905, 0.015702969466795877, 0.01857473293064231, 0.019596390068911517, 0.01919670131224002, 0.019695362613467687]\n"
     ]
    }
   ],
   "source": [
    "#parameter search for kernel degree\n",
    "split_prop = 0.5\n",
    "train_n = int(split_prop*(X_SEB.shape[1]))\n",
    "\n",
    "l2_losses = []\n",
    "\n",
    "for i in range(8):\n",
    "    X_poly = polynomial_kernel_mat(X_SEB, i)\n",
    "    X_poly[np.isnan(X_poly)] = 0\n",
    "    \n",
    "    reg = None\n",
    "    reg = linear_model.Ridge(alpha=0.5, fit_intercept=True)\n",
    "    reg.fit(X_poly[:,0:train_n].T, Y_SEB[:,0:train_n].T)\n",
    "\n",
    "    A = reg.coef_\n",
    "    \n",
    "    l2_losses.append(mean_squared_error(Y_SEB[:,train_n:].T, A.dot(X_poly[:,train_n:]).T, multioutput='uniform_average'))\n",
    "\n",
    "print(\"Model order 1, no first diff, losses:\", l2_losses)\n",
    "#model order 1, no first difference, degree is 2"
   ]
  },
  {
   "cell_type": "markdown",
   "metadata": {},
   "source": [
    "### EP"
   ]
  },
  {
   "cell_type": "code",
   "execution_count": 32,
   "metadata": {},
   "outputs": [
    {
     "name": "stdout",
     "output_type": "stream",
     "text": [
      "Model order 1, no first diff, losses: [0.010627049513358479, 0.010627049513358479, 0.02358249534135375, 0.02233188548693899, 0.01010035127983687, 0.009542765422028547, 0.012409692394729352, 0.012569730967149945]\n"
     ]
    }
   ],
   "source": [
    "#parameter search for kernel degree\n",
    "train_n = int(0.5*(X_EP.shape[1]))\n",
    "\n",
    "l2_losses = []\n",
    "\n",
    "for i in range(8):\n",
    "    X_poly = polynomial_kernel_mat(X_EP, i)\n",
    "    X_poly[np.isnan(X_poly)] = 0\n",
    "    \n",
    "    reg = None\n",
    "    reg = linear_model.Ridge(alpha=0.5, fit_intercept=True)\n",
    "    reg.fit(X_poly[:,0:train_n].T, Y_EP[:,0:train_n].T)\n",
    "\n",
    "    A = reg.coef_\n",
    "    \n",
    "    l2_losses.append(mean_squared_error(Y_EP[:,train_n:].T, A.dot(X_poly[:,train_n:]).T, multioutput='uniform_average'))\n",
    "    \n",
    "print(\"Model order 1, no first diff, losses:\", l2_losses)\n",
    "#model order 1, no first difference, degree is 2"
   ]
  },
  {
   "cell_type": "code",
   "execution_count": 43,
   "metadata": {},
   "outputs": [
    {
     "name": "stdout",
     "output_type": "stream",
     "text": [
      "Model order 1, no first diff, losses: [0.23693774627422323, 0.23693774627422323, 0.22458867907872526, 0.22450457532543852, 0.22447184283424884, 0.22445912991610587, 0.2244763767758694, 0.22447421266137055]\n"
     ]
    }
   ],
   "source": [
    "\n"
   ]
  },
  {
   "cell_type": "code",
   "execution_count": 28,
   "metadata": {},
   "outputs": [
    {
     "data": {
      "text/plain": [
       "[0.010627049513358479,\n",
       " 0.010627049513358479,\n",
       " 0.02358249534135375,\n",
       " 0.02233188548693899,\n",
       " 0.01010035127983687,\n",
       " 0.009542765422028547,\n",
       " 0.012409692394729352,\n",
       " 0.012569730967149945]"
      ]
     },
     "execution_count": 28,
     "metadata": {},
     "output_type": "execute_result"
    }
   ],
   "source": [
    "#model order 1, degree 4, first differencing doesn't help"
   ]
  },
  {
   "cell_type": "markdown",
   "metadata": {},
   "source": [
    "### Transfer EPlus Model"
   ]
  },
  {
   "cell_type": "markdown",
   "metadata": {},
   "source": [
    "### Ridge Regression"
   ]
  },
  {
   "cell_type": "code",
   "execution_count": 86,
   "metadata": {},
   "outputs": [],
   "source": [
    "#learn SEB model from scratch, increasing number of samples\n",
    "#learn SEB model from WLS from EP model, increasing number of samples\n",
    "\n",
    "#EP data formatting\n",
    "X_EP_poly = polynomial_kernel_mat(X_EP, 4)\n",
    "train_n = int(0.5*(X_EP.shape[1]))\n",
    "\n",
    "X_EP_train = X_EP_poly[:,0:train_n] \n",
    "Y_EP_train = Y_EP[:,0:train_n]\n",
    "X_EP_val = X_EP_poly[:,-train_n:]\n",
    "Y_EP_val = Y_EP[:,-train_n:]"
   ]
  },
  {
   "cell_type": "code",
   "execution_count": 191,
   "metadata": {},
   "outputs": [
    {
     "name": "stdout",
     "output_type": "stream",
     "text": [
      "MSE:  0.01626380273611257\n",
      "MAPE:  0.09470841502559287\n"
     ]
    }
   ],
   "source": [
    "reg = None\n",
    "reg = linear_model.Ridge(alpha=0.5, fit_intercept=True)\n",
    "reg.fit(X_EP_train.T, Y_EP_train.T)\n",
    "\n",
    "A_EP = reg.coef_\n",
    "\n",
    "best_MSE_EP = mean_squared_error(Y_EP_val.T, A_EP.dot(X_EP_val).T, multioutput='uniform_average')\n",
    "best_MAE_EP = np.mean(np.abs(Y_EP_val.T - A_EP.dot(X_EP_val).T))\n",
    "print(\"MSE: \", best_MSE_EP)\n",
    "print(\"MAPE: \", best_MAE_EP)"
   ]
  },
  {
   "cell_type": "markdown",
   "metadata": {},
   "source": [
    "### FF NN"
   ]
  },
  {
   "cell_type": "code",
   "execution_count": 129,
   "metadata": {},
   "outputs": [
    {
     "name": "stdout",
     "output_type": "stream",
     "text": [
      "Epoch  0  Val Loss:  tensor(0.0452, grad_fn=<MseLossBackward>)\n",
      "Epoch  100  Val Loss:  tensor(0.0086, grad_fn=<MseLossBackward>)\n",
      "Epoch  200  Val Loss:  tensor(0.0076, grad_fn=<MseLossBackward>)\n",
      "Epoch  300  Val Loss:  tensor(0.0074, grad_fn=<MseLossBackward>)\n",
      "Epoch  400  Val Loss:  tensor(0.0072, grad_fn=<MseLossBackward>)\n",
      "Epoch  500  Val Loss:  tensor(0.0070, grad_fn=<MseLossBackward>)\n",
      "Epoch  600  Val Loss:  tensor(0.0068, grad_fn=<MseLossBackward>)\n",
      "Epoch  700  Val Loss:  tensor(0.0067, grad_fn=<MseLossBackward>)\n",
      "Epoch  800  Val Loss:  tensor(0.0065, grad_fn=<MseLossBackward>)\n",
      "Epoch  900  Val Loss:  tensor(0.0064, grad_fn=<MseLossBackward>)\n"
     ]
    }
   ],
   "source": [
    "batch_size = 100\n",
    "\n",
    "params = {'FEATURE_DIM': X_EP_poly.shape[0], 'HIDDEN_DIM':2*X_EP_poly.shape[0], 'OUTPUT_DIM': Y_EP.shape[0]}\n",
    "net = nnet(params)\n",
    "loss_func = nn.MSELoss()#SmoothL1Loss()\n",
    "optimizer = optim.SGD(net.parameters(),lr=0.01, momentum=0.9)\n",
    "epochs = 1000\n",
    "\n",
    "training_losses = []\n",
    "for e in range(epochs):\n",
    "    start = np.random.randint(0,(train_n-(m+1)))\n",
    "    X_train_list, Y_train_list = minibatch_X_Y_arrays(X_EP_train, Y_EP_train, batch_size)\n",
    "    for i in enumerate(X_train_list):\n",
    "        inp = Variable(torch.Tensor(X_train_list[i[0]].T))\n",
    "        label = Variable(torch.Tensor(Y_train_list[i[0]].T))\n",
    "\n",
    "        out = net(inp)\n",
    "        optimizer.zero_grad()\n",
    "        loss = loss_func(out, label)\n",
    "        loss.backward()\n",
    "        optimizer.step()\n",
    "        training_losses.append(float(loss.data))\n",
    "\n",
    "    inp_val = Variable(torch.Tensor(X_EP_val.T))\n",
    "    label_val = Variable(torch.Tensor(Y_EP_val.T))\n",
    "    out_val = net(inp_val)\n",
    "    loss_val = loss_func(out_val, label_val)\n",
    "    validation_losses.append(float(loss_val.data))\n",
    "    if e % 100 == 0:\n",
    "        print(\"Epoch \", e, \" Val Loss: \", loss_val)\n"
   ]
  },
  {
   "cell_type": "code",
   "execution_count": 130,
   "metadata": {},
   "outputs": [],
   "source": [
    "torch.save(net, \"/home/chase/projects/building_transfer/models/EP_medium_office_order1_poly4_hidden1,2x.pt\")"
   ]
  },
  {
   "cell_type": "code",
   "execution_count": 192,
   "metadata": {},
   "outputs": [],
   "source": [
    "#SEB data formatting\n",
    "X_SEB_poly = polynomial_kernel_mat(X_SEB, 4)\n",
    "train_n = int(0.5*(X_SEB.shape[1]))\n",
    "\n",
    "X_SEB_train = X_SEB_poly[:,0:train_n] \n",
    "Y_SEB_train = Y_SEB[:,0:train_n]\n",
    "X_SEB_val = X_SEB_poly[:,-train_n:]\n",
    "Y_SEB_val = Y_SEB[:,-train_n:]"
   ]
  },
  {
   "cell_type": "code",
   "execution_count": 193,
   "metadata": {},
   "outputs": [
    {
     "name": "stdout",
     "output_type": "stream",
     "text": [
      "MSE:  0.018573591715368914\n",
      "MSE:  0.11737063898818968\n"
     ]
    }
   ],
   "source": [
    "reg = None\n",
    "reg = linear_model.Ridge(alpha=0.5, fit_intercept=True)\n",
    "reg.fit(X_SEB_train.T, Y_SEB_train.T)\n",
    "\n",
    "A_SEB = reg.coef_\n",
    "\n",
    "best_MSE_SEB = mean_squared_error(Y_SEB_val.T, A_SEB.dot(X_SEB_val).T, multioutput='uniform_average')\n",
    "best_MAE_SEB = np.mean(np.abs(Y_SEB_val.T - A_SEB.dot(X_SEB_val).T))\n",
    "print(\"MSE: \", best_MSE_SEB)\n",
    "print(\"MSE: \", best_MAE_SEB)"
   ]
  },
  {
   "cell_type": "code",
   "execution_count": 119,
   "metadata": {},
   "outputs": [
    {
     "name": "stdout",
     "output_type": "stream",
     "text": [
      "0\n",
      "10\n",
      "20\n",
      "30\n",
      "40\n",
      "50\n",
      "60\n",
      "70\n",
      "80\n",
      "90\n"
     ]
    }
   ],
   "source": [
    "### Transfer EP to SEB with WLS\n",
    "\n",
    "start_SEB = np.random.randint(0,X_SEB_train.shape[1]-366)\n",
    "\n",
    "transfer_losses_mc = []\n",
    "raw_losses_mc = []\n",
    "\n",
    "transfer_MAE_mc = []\n",
    "raw_MAE_mc\n",
    "\n",
    "MC = 100\n",
    "\n",
    "for mc in range(MC):\n",
    "    if mc % 10 == 0:\n",
    "        print(mc)\n",
    "    transfer_losses = []\n",
    "    raw_losses = []\n",
    "\n",
    "    for i in range(1,336):\n",
    "        reg = None\n",
    "        reg = linear_model.Ridge(alpha=0.5, fit_intercept=True)\n",
    "\n",
    "        #transfered A\n",
    "        X_train_transfer = np.hstack((X_EP_train, X_SEB_train[:,start_SEB:start_SEB+i]))\n",
    "        Y_train_transfer = np.hstack((Y_EP_train, Y_SEB_train[:,start_SEB:start_SEB+i]))\n",
    "        weights = np.concatenate((np.asarray([0.01 for k in range(X_EP_train.shape[1])]), np.asarray([10.0 for k in range(i)])))\n",
    "\n",
    "        reg.fit(X_train_transfer.T, Y_train_transfer.T, sample_weight=weights)\n",
    "\n",
    "        A_transfer = reg.coef_\n",
    "        transfer_losses.append(mean_squared_error(Y_SEB_val.T, A_transfer.dot(X_SEB_val).T, multioutput='uniform_average'))\n",
    "\n",
    "        #raw A\n",
    "        reg = None\n",
    "        reg = linear_model.Ridge(alpha=0.5, fit_intercept=True)\n",
    "\n",
    "        reg.fit(X_SEB_train[:,start_SEB:start_SEB+i].T, Y_SEB_train[:,start_SEB:start_SEB+i].T)\n",
    "\n",
    "        A_raw = reg.coef_\n",
    "        raw_losses.append(mean_squared_error(Y_SEB_val.T, A_raw.dot(X_SEB_val).T, multioutput='uniform_average'))\n",
    "        \n",
    "    transfer_losses_mc.append(transfer_losses)\n",
    "    raw_losses_mc.append(raw_losses)"
   ]
  },
  {
   "cell_type": "code",
   "execution_count": 121,
   "metadata": {},
   "outputs": [
    {
     "data": {
      "image/png": "[encoded data removed]",
      "text/plain": [
       "<Figure size 432x288 with 1 Axes>"
      ]
     },
     "metadata": {},
     "output_type": "display_data"
    }
   ],
   "source": [
    "plt.plot(np.mean(np.asarray(raw_losses_mc), axis=0), label=\"raw\")\n",
    "plt.plot(np.mean(np.asarray(transfer_losses_mc), axis=0), label=\"transfer\")\n",
    "plt.title(\"Validation loss\")\n",
    "plt.xlabel(\"Number of consecutive samples\")\n",
    "plt.ylabel(\"MSE\")\n",
    "plt.legend()\n",
    "plt.show()"
   ]
  },
  {
   "cell_type": "code",
   "execution_count": 162,
   "metadata": {},
   "outputs": [
    {
     "name": "stdout",
     "output_type": "stream",
     "text": [
      "Epoch  0  Val Loss:  tensor(0.0308, device='cuda:0', grad_fn=<MseLossBackward>)\n",
      "Epoch  100  Val Loss:  tensor(0.0105, device='cuda:0', grad_fn=<MseLossBackward>)\n",
      "Epoch  200  Val Loss:  tensor(0.0088, device='cuda:0', grad_fn=<MseLossBackward>)\n",
      "Epoch  300  Val Loss:  tensor(0.0080, device='cuda:0', grad_fn=<MseLossBackward>)\n",
      "Epoch  400  Val Loss:  tensor(0.0076, device='cuda:0', grad_fn=<MseLossBackward>)\n",
      "Epoch  500  Val Loss:  tensor(0.0073, device='cuda:0', grad_fn=<MseLossBackward>)\n",
      "Epoch  600  Val Loss:  tensor(0.0071, device='cuda:0', grad_fn=<MseLossBackward>)\n",
      "Epoch  700  Val Loss:  tensor(0.0069, device='cuda:0', grad_fn=<MseLossBackward>)\n",
      "Epoch  800  Val Loss:  tensor(0.0067, device='cuda:0', grad_fn=<MseLossBackward>)\n",
      "Epoch  900  Val Loss:  tensor(0.0066, device='cuda:0', grad_fn=<MseLossBackward>)\n"
     ]
    }
   ],
   "source": [
    "#learn SEB NN model baseline\n",
    "\n",
    "batch_size = 100\n",
    "\n",
    "params = {'FEATURE_DIM': X_SEB_poly.shape[0], 'HIDDEN_DIM':2*X_SEB_poly.shape[0], 'OUTPUT_DIM': Y_SEB.shape[0]}\n",
    "net = nnet(params).cuda()\n",
    "loss_func = nn.MSELoss()#SmoothL1Loss()\n",
    "optimizer = optim.SGD(net.parameters(),lr=0.01, momentum=0.9)\n",
    "epochs = 1000\n",
    "\n",
    "training_losses = []\n",
    "for e in range(epochs):\n",
    "    start = np.random.randint(0,(train_n-(m+1)))\n",
    "    X_train_list, Y_train_list = minibatch_X_Y_arrays(X_SEB_train, Y_SEB_train, batch_size)\n",
    "    for i in enumerate(X_train_list):\n",
    "        inp = Variable(torch.Tensor(X_train_list[i[0]].T).cuda())\n",
    "        label = Variable(torch.Tensor(Y_train_list[i[0]].T).cuda())\n",
    "\n",
    "        out = net(inp)\n",
    "        optimizer.zero_grad()\n",
    "        loss = loss_func(out, label)\n",
    "        loss.backward()\n",
    "        optimizer.step()\n",
    "        training_losses.append(float(loss.data))\n",
    "\n",
    "    inp_val = Variable(torch.Tensor(X_SEB_val.T).cuda())\n",
    "    label_val = Variable(torch.Tensor(Y_SEB_val.T).cuda())\n",
    "    out_val = net(inp_val)\n",
    "    loss_val = loss_func(out_val, label_val)\n",
    "    #validation_losses.append(float(loss_val.data))\n",
    "    if e % 100 == 0:\n",
    "        print(\"Epoch \", e, \" Val Loss: \", loss_val)\n",
    "\n",
    "inp_val = Variable(torch.Tensor(X_SEB_val.T).cuda())\n",
    "label_val = Variable(torch.Tensor(Y_SEB_val.T).cuda())\n",
    "out_val = net(inp_val)\n",
    "loss_val = loss_func(out_val, label_val) \n",
    "mape_val = torch.mean(torch.abs(out_val - label_val)/label_val).item()\n",
    "\n",
    "best_MSE_NN_SEB = float(loss_val.data)\n",
    "best_MAPE_NN_SEB = mape_val"
   ]
  },
  {
   "cell_type": "code",
   "execution_count": 163,
   "metadata": {},
   "outputs": [],
   "source": [
    "torch.save(net, \"/home/chase/projects/building_transfer/models/SEB_order1_poly4_hidden1,2x.pt\")"
   ]
  },
  {
   "cell_type": "code",
   "execution_count": 156,
   "metadata": {},
   "outputs": [
    {
     "name": "stdout",
     "output_type": "stream",
     "text": [
      "Monte Carlo round:  0\n",
      "Samples:  100\n",
      "Samples:  200\n",
      "Samples:  300\n",
      "Samples:  100\n",
      "Samples:  200\n",
      "Samples:  300\n",
      "Samples:  100\n",
      "Samples:  200\n",
      "Samples:  300\n",
      "Samples:  100\n",
      "Samples:  200\n",
      "Samples:  300\n",
      "Samples:  100\n",
      "Samples:  200\n",
      "Samples:  300\n",
      "Samples:  100\n",
      "Samples:  200\n",
      "Samples:  300\n",
      "Samples:  100\n",
      "Samples:  200\n",
      "Samples:  300\n",
      "Samples:  100\n",
      "Samples:  200\n",
      "Samples:  300\n",
      "Samples:  100\n"
     ]
    },
    {
     "ename": "KeyboardInterrupt",
     "evalue": "",
     "output_type": "error",
     "traceback": [
      "\u001b[0;31m---------------------------------------------------------------------------\u001b[0m",
      "\u001b[0;31mKeyboardInterrupt\u001b[0m                         Traceback (most recent call last)",
      "\u001b[0;32m<ipython-input-156-ad17f4aa2da7>\u001b[0m in \u001b[0;36m<module>\u001b[0;34m\u001b[0m\n\u001b[1;32m     34\u001b[0m                 \u001b[0moptimizer\u001b[0m\u001b[0;34m.\u001b[0m\u001b[0mzero_grad\u001b[0m\u001b[0;34m(\u001b[0m\u001b[0;34m)\u001b[0m\u001b[0;34m\u001b[0m\u001b[0;34m\u001b[0m\u001b[0m\n\u001b[1;32m     35\u001b[0m                 \u001b[0mloss\u001b[0m \u001b[0;34m=\u001b[0m \u001b[0mloss_func\u001b[0m\u001b[0;34m(\u001b[0m\u001b[0mout\u001b[0m\u001b[0;34m,\u001b[0m \u001b[0mlabel\u001b[0m\u001b[0;34m)\u001b[0m\u001b[0;34m\u001b[0m\u001b[0;34m\u001b[0m\u001b[0m\n\u001b[0;32m---> 36\u001b[0;31m                 \u001b[0mloss\u001b[0m\u001b[0;34m.\u001b[0m\u001b[0mbackward\u001b[0m\u001b[0;34m(\u001b[0m\u001b[0;34m)\u001b[0m\u001b[0;34m\u001b[0m\u001b[0;34m\u001b[0m\u001b[0m\n\u001b[0m\u001b[1;32m     37\u001b[0m                 \u001b[0moptimizer\u001b[0m\u001b[0;34m.\u001b[0m\u001b[0mstep\u001b[0m\u001b[0;34m(\u001b[0m\u001b[0;34m)\u001b[0m\u001b[0;34m\u001b[0m\u001b[0;34m\u001b[0m\u001b[0m\n\u001b[1;32m     38\u001b[0m \u001b[0;34m\u001b[0m\u001b[0m\n",
      "\u001b[0;32m~/applications/anaconda3/lib/python3.7/site-packages/torch/tensor.py\u001b[0m in \u001b[0;36mbackward\u001b[0;34m(self, gradient, retain_graph, create_graph)\u001b[0m\n\u001b[1;32m    100\u001b[0m                 \u001b[0mproducts\u001b[0m\u001b[0;34m.\u001b[0m \u001b[0mDefaults\u001b[0m \u001b[0mto\u001b[0m\u001b[0;31m \u001b[0m\u001b[0;31m`\u001b[0m\u001b[0;31m`\u001b[0m\u001b[0;32mFalse\u001b[0m\u001b[0;31m`\u001b[0m\u001b[0;31m`\u001b[0m\u001b[0;34m.\u001b[0m\u001b[0;34m\u001b[0m\u001b[0;34m\u001b[0m\u001b[0m\n\u001b[1;32m    101\u001b[0m         \"\"\"\n\u001b[0;32m--> 102\u001b[0;31m         \u001b[0mtorch\u001b[0m\u001b[0;34m.\u001b[0m\u001b[0mautograd\u001b[0m\u001b[0;34m.\u001b[0m\u001b[0mbackward\u001b[0m\u001b[0;34m(\u001b[0m\u001b[0mself\u001b[0m\u001b[0;34m,\u001b[0m \u001b[0mgradient\u001b[0m\u001b[0;34m,\u001b[0m \u001b[0mretain_graph\u001b[0m\u001b[0;34m,\u001b[0m \u001b[0mcreate_graph\u001b[0m\u001b[0;34m)\u001b[0m\u001b[0;34m\u001b[0m\u001b[0;34m\u001b[0m\u001b[0m\n\u001b[0m\u001b[1;32m    103\u001b[0m \u001b[0;34m\u001b[0m\u001b[0m\n\u001b[1;32m    104\u001b[0m     \u001b[0;32mdef\u001b[0m \u001b[0mregister_hook\u001b[0m\u001b[0;34m(\u001b[0m\u001b[0mself\u001b[0m\u001b[0;34m,\u001b[0m \u001b[0mhook\u001b[0m\u001b[0;34m)\u001b[0m\u001b[0;34m:\u001b[0m\u001b[0;34m\u001b[0m\u001b[0;34m\u001b[0m\u001b[0m\n",
      "\u001b[0;32m~/applications/anaconda3/lib/python3.7/site-packages/torch/autograd/__init__.py\u001b[0m in \u001b[0;36mbackward\u001b[0;34m(tensors, grad_tensors, retain_graph, create_graph, grad_variables)\u001b[0m\n\u001b[1;32m     88\u001b[0m     Variable._execution_engine.run_backward(\n\u001b[1;32m     89\u001b[0m         \u001b[0mtensors\u001b[0m\u001b[0;34m,\u001b[0m \u001b[0mgrad_tensors\u001b[0m\u001b[0;34m,\u001b[0m \u001b[0mretain_graph\u001b[0m\u001b[0;34m,\u001b[0m \u001b[0mcreate_graph\u001b[0m\u001b[0;34m,\u001b[0m\u001b[0;34m\u001b[0m\u001b[0;34m\u001b[0m\u001b[0m\n\u001b[0;32m---> 90\u001b[0;31m         allow_unreachable=True)  # allow_unreachable flag\n\u001b[0m\u001b[1;32m     91\u001b[0m \u001b[0;34m\u001b[0m\u001b[0m\n\u001b[1;32m     92\u001b[0m \u001b[0;34m\u001b[0m\u001b[0m\n",
      "\u001b[0;31mKeyboardInterrupt\u001b[0m: "
     ]
    }
   ],
   "source": [
    "#learn SEB NN model from scratch, increasing number of samples\n",
    "\n",
    "batching = {1:1, 5:5, 10:10, 25:25}\n",
    "batch_size= 1\n",
    "\n",
    "validation_losses_mc = []\n",
    "validation_mapes_mc = []\n",
    "\n",
    "MC = 10\n",
    "\n",
    "for mc in range(MC):\n",
    "    validation_losses_raw = []\n",
    "    validation_mapes_raw = []\n",
    "    if mc % 10 == 0:\n",
    "        print(\"Monte Carlo round: \", mc)\n",
    "    for m in range(1,336):\n",
    "        if m % 100 == 0:\n",
    "            print(\"Samples: \", m)\n",
    "        if m in batching:\n",
    "            batch_size = batching[m]\n",
    "        params = {'FEATURE_DIM': X_SEB_poly.shape[0], 'HIDDEN_DIM':2*X_SEB_poly.shape[0], 'OUTPUT_DIM': Y_SEB.shape[0]}\n",
    "        net = nnet(params)\n",
    "        loss_func = nn.MSELoss()#SmoothL1Loss()\n",
    "        optimizer = optim.SGD(net.parameters(),lr=0.01, momentum=0.9)\n",
    "        epochs = 100\n",
    "\n",
    "        training_losses = []\n",
    "        for e in range(epochs):\n",
    "            start = np.random.randint(0,X_SEB_train.shape[1]-(m+1))\n",
    "            X_train_list, Y_train_list = minibatch_X_Y_arrays(X_SEB_train[:,start:start+m], Y_SEB_train[:,start:start+m], batch_size)\n",
    "            for i in enumerate(X_train_list):\n",
    "                inp = Variable(torch.Tensor(X_train_list[i[0]].T))\n",
    "                label = Variable(torch.Tensor(Y_train_list[i[0]].T))\n",
    "\n",
    "                out = net(inp)\n",
    "                optimizer.zero_grad()\n",
    "                loss = loss_func(out, label)\n",
    "                loss.backward()\n",
    "                optimizer.step()\n",
    "\n",
    "        inp_val = Variable(torch.Tensor(X_SEB_val.T))\n",
    "        label_val = Variable(torch.Tensor(Y_SEB_val.T))\n",
    "        out_val = net(inp_val)\n",
    "        loss_val = loss_func(out_val, label_val)\n",
    "        validation_losses_raw.append(float(loss_val.data))\n",
    "        mape_val = torch.mean(torch.abs(out_val - label_val)/label_val).item()\n",
    "        validation_mapes_raw.append(mape_val)\n",
    "        #print(\"Validation MSE: \", float(loss_val.data))\n",
    "        #print(\"Validation MAPE: \", mape_val)\n",
    "    validation_losses_mc.append(validation_losses_raw)\n",
    "    validation_mapes_mc.append(valdiation_mapes_raw)"
   ]
  },
  {
   "cell_type": "code",
   "execution_count": 153,
   "metadata": {},
   "outputs": [
    {
     "name": "stdout",
     "output_type": "stream",
     "text": [
      "Samples:  100\n",
      "Samples:  200\n",
      "Samples:  300\n"
     ]
    }
   ],
   "source": [
    "#transfer EP model to SEB with increasing number of samples\n",
    "\n",
    "\n",
    "#learn SEB NN model from scratch, increasing number of samples\n",
    "\n",
    "batching = {1:1, 5:5, 10:10, 25:25}\n",
    "batch_size= 1\n",
    "\n",
    "validation_losses_transfer = []\n",
    "\n",
    "for m in range(1,336):\n",
    "    if m % 100 == 0:\n",
    "        print(\"Samples: \", m)\n",
    "    if m in batching:\n",
    "        batch_size = batching[m]\n",
    "    params = {'FEATURE_DIM': X_SEB_poly.shape[0], 'HIDDEN_DIM':2*X_SEB_poly.shape[0], 'OUTPUT_DIM': Y_SEB.shape[0]}\n",
    "    net = torch.load(\"/home/chase/projects/building_transfer/models/EP_medium_office_order1_poly4_hidden1,2x.pt\")\n",
    "    loss_func = nn.MSELoss()#SmoothL1Loss()\n",
    "    optimizer = optim.SGD(net.parameters(),lr=0.01, momentum=0.9)\n",
    "    epochs = 100\n",
    "\n",
    "    training_losses = []\n",
    "    for e in range(epochs):\n",
    "        start = np.random.randint(0,X_SEB_train.shape[1]-(m+1))\n",
    "        X_train_list, Y_train_list = minibatch_X_Y_arrays(X_SEB_train[:,start:start+m], Y_SEB_train[:,start:start+m], batch_size)\n",
    "        for i in enumerate(X_train_list):\n",
    "            inp = Variable(torch.Tensor(X_train_list[i[0]].T))\n",
    "            label = Variable(torch.Tensor(Y_train_list[i[0]].T))\n",
    "\n",
    "            out = net(inp)\n",
    "            optimizer.zero_grad()\n",
    "            loss = loss_func(out, label)\n",
    "            loss.backward()\n",
    "            optimizer.step()\n",
    "\n",
    "    inp_val = Variable(torch.Tensor(X_SEB_val.T))\n",
    "    label_val = Variable(torch.Tensor(Y_SEB_val.T))\n",
    "    out_val = net(inp_val)\n",
    "    loss_val = loss_func(out_val, label_val)\n",
    "    validation_losses_transfer.append(float(loss_val.data))"
   ]
  },
  {
   "cell_type": "code",
   "execution_count": 177,
   "metadata": {},
   "outputs": [],
   "source": [
    "ma = 10\n",
    "l = np.mean(validation_losses_mc, axis=0)\n",
    "smoothed_raw = []\n",
    "for i in range(len(l)-ma):\n",
    "    smoothed_raw.append(np.mean(l[i:i+ma]))"
   ]
  },
  {
   "cell_type": "code",
   "execution_count": 178,
   "metadata": {},
   "outputs": [],
   "source": [
    "ma = 10\n",
    "l = np.asarray(validation_losses_transfer)\n",
    "smoothed_transfer = []\n",
    "for i in range(len(l)-ma):\n",
    "    smoothed_transfer.append(np.mean(l[i:i+ma]))"
   ]
  },
  {
   "cell_type": "code",
   "execution_count": 198,
   "metadata": {},
   "outputs": [
    {
     "data": {
      "image/png": "[encoded data removed]",
      "text/plain": [
       "<Figure size 432x288 with 1 Axes>"
      ]
     },
     "metadata": {},
     "output_type": "display_data"
    }
   ],
   "source": [
    "plt.plot(smoothed_raw, label=\"Scratch NN\", lw=2)\n",
    "plt.plot(smoothed_transfer, label=\"Transfer NN\", lw=2)\n",
    "plt.plot([best_MSE_NN_SEB for i in range(len(smoothed_raw))], label=\"Baseline NN\")\n",
    "plt.legend(fontsize=12)\n",
    "#plt.title(\"Validation MSE of SEB NN\", fontsize=12)\n",
    "plt.xlabel(\"Number of consecutive samples\", fontsize=12)\n",
    "plt.ylabel(\"MSE\", fontsize=12)\n",
    "plt.show()"
   ]
  },
  {
   "cell_type": "code",
   "execution_count": 203,
   "metadata": {},
   "outputs": [
    {
     "data": {
      "image/png": "[encoded data removed]",
      "text/plain": [
       "<Figure size 432x288 with 1 Axes>"
      ]
     },
     "metadata": {},
     "output_type": "display_data"
    }
   ],
   "source": [
    "plt.plot(np.mean(np.asarray(raw_losses_mc), axis=0), label=\"Scratch $\\hat{A}$\", lw=2)\n",
    "plt.plot(np.mean(np.asarray(transfer_losses_mc), axis=0), label=\"Transfered $\\hat{A}$\", lw=2)\n",
    "plt.plot([best_MSE_SEB for i in range(len(smoothed_raw))], label=\"Baseline $\\hat{A}$\", lw=2)\n",
    "#plt.title(\"Validation MSE of SEB $\\hat{A}$\")\n",
    "plt.xlabel(\"Number of consecutive samples\", fontsize=12)\n",
    "plt.ylabel(\"MSE\", fontsize=12)\n",
    "plt.ylim(0,0.5)\n",
    "plt.legend(loc=1)\n",
    "plt.show()"
   ]
  },
  {
   "cell_type": "code",
   "execution_count": null,
   "metadata": {},
   "outputs": [],
   "source": [
    "###Do the same with a logistic regression network trained on classification features"
   ]
  }
 ],
 "metadata": {
  "kernelspec": {
   "display_name": "Python 3.7",
   "language": "python",
   "name": "conda3"
  },
  "language_info": {
   "codemirror_mode": {
    "name": "ipython",
    "version": 3
   },
   "file_extension": ".py",
   "mimetype": "text/x-python",
   "name": "python",
   "nbconvert_exporter": "python",
   "pygments_lexer": "ipython3",
   "version": "3.7.3"
  }
 },
 "nbformat": 4,
 "nbformat_minor": 2
}
