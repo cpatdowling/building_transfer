{
 "cells": [
  {
   "cell_type": "code",
   "execution_count": 1,
   "metadata": {},
   "outputs": [
    {
     "data": {
      "text/html": [
       "\n",
       "<style>\n",
       "    div#notebook-container    { width: 95%; }\n",
       "    div#menubar-container     { width: 65%; }\n",
       "    div#maintoolbar-container { width: 99%; }\n",
       "</style>\n"
      ],
      "text/plain": [
       "<IPython.core.display.HTML object>"
      ]
     },
     "metadata": {},
     "output_type": "display_data"
    }
   ],
   "source": [
    "#cells will fill entire width of the browser\n",
    "from IPython.display import display, HTML\n",
    "\n",
    "display(HTML(data=\"\"\"\n",
    "<style>\n",
    "    div#notebook-container    { width: 95%; }\n",
    "    div#menubar-container     { width: 65%; }\n",
    "    div#maintoolbar-container { width: 99%; }\n",
    "</style>\n",
    "\"\"\"))\n",
    "\n",
    "#Tells Jupyter to reload custom classes from scratch everytime an import cell is run, if you edit a custom class\n",
    "#between imports Jupyter would otherwise need to be restarted completely. Buyer beware: old class objects in the \n",
    "#current namespace will cause errors at execution\n",
    "%load_ext autoreload\n",
    "%autoreload 2\n",
    "\n",
    "#switches matplotlib to show plots in the browser rather than opening a new window\n",
    "%matplotlib inline\n",
    "\n",
    "#always forget to do this for better looking plots\n",
    "import seaborn\n",
    "seaborn.set()"
   ]
  },
  {
   "cell_type": "code",
   "execution_count": 26,
   "metadata": {},
   "outputs": [],
   "source": [
    "import matplotlib.pyplot as plt\n",
    "import os\n",
    "import numpy as np\n",
    "import datetime\n",
    "from statsmodels.tsa import stattools\n",
    "from sklearn import preprocessing\n",
    "import random\n",
    "import copy\n",
    "import scipy\n",
    "import pickle\n",
    "import sklearn.metrics\n",
    "import sklearn.linear_model as linear_model\n",
    "from sklearn.linear_model import LogisticRegression\n",
    "from sklearn.kernel_ridge import KernelRidge\n",
    "from sklearn.metrics import mean_squared_error\n",
    "\n",
    "import torch\n",
    "import torch.nn as nn\n",
    "import torch.nn.functional as F\n",
    "from torch.autograd import Variable\n",
    "import torch.optim as optim\n",
    "\n",
    "#energyplus processing functions\n",
    "from eplusprocessing import *\n",
    "from buildsys_funcs import *"
   ]
  },
  {
   "cell_type": "markdown",
   "metadata": {},
   "source": [
    "### Numerical Results"
   ]
  },
  {
   "cell_type": "code",
   "execution_count": 2,
   "metadata": {},
   "outputs": [],
   "source": [
    "#initialize A, PD\n",
    "A = np.array([[0.9, 0.0],\n",
    "              [0.0, -0.4]])\n",
    "\n",
    "lags = [5,10,20]\n",
    "MC = 100#500\n",
    "num_samps = 500\n",
    "\n",
    "num_samps_list = np.arange(0,20,1)#[0,5,10,20,50,100]"
   ]
  },
  {
   "cell_type": "code",
   "execution_count": 3,
   "metadata": {},
   "outputs": [
    {
     "name": "stdout",
     "output_type": "stream",
     "text": [
      "Lag round:  5\n",
      "Matrix initialization round:  0\n",
      "Matrix initialization round:  10\n",
      "Matrix initialization round:  20\n",
      "Matrix initialization round:  30\n",
      "Matrix initialization round:  40\n",
      "Matrix initialization round:  50\n",
      "Matrix initialization round:  60\n",
      "Matrix initialization round:  70\n",
      "Matrix initialization round:  80\n",
      "Matrix initialization round:  90\n",
      "Lag round:  10\n",
      "Matrix initialization round:  0\n",
      "Matrix initialization round:  10\n",
      "Matrix initialization round:  20\n",
      "Matrix initialization round:  30\n",
      "Matrix initialization round:  40\n",
      "Matrix initialization round:  50\n",
      "Matrix initialization round:  60\n",
      "Matrix initialization round:  70\n",
      "Matrix initialization round:  80\n",
      "Matrix initialization round:  90\n",
      "Lag round:  20\n",
      "Matrix initialization round:  0\n",
      "Matrix initialization round:  10\n",
      "Matrix initialization round:  20\n",
      "Matrix initialization round:  30\n",
      "Matrix initialization round:  40\n",
      "Matrix initialization round:  50\n",
      "Matrix initialization round:  60\n",
      "Matrix initialization round:  70\n",
      "Matrix initialization round:  80\n",
      "Matrix initialization round:  90\n"
     ]
    }
   ],
   "source": [
    "mc_output_by_lag = {}\n",
    "\n",
    "for M in lags:\n",
    "    print(\"Lag round: \", M)\n",
    "    mc_output_by_lag[M] = np.zeros((MC,3))\n",
    "    for j in range(MC):\n",
    "        if j % 10 == 0:\n",
    "            print(\"Matrix initialization round: \", j)\n",
    "        #B = A + randomly sample an element of A to perturb by N(0,1)\n",
    "        #e = np.unravel_index(np.random.choice([i for i in range(A.shape[0]*A.shape[1])]), dims=A.shape)\n",
    "        B = copy.copy(A) + np.random.normal(size=A.shape)\n",
    "        #B[e] += np.random.normal(0,1)\n",
    "        mc_output_by_lag[M][j,0] = np.linalg.norm(B-A,'fro')\n",
    "        \n",
    "        #generate a bunch of samples\n",
    "        X_s = np.random.normal(size=(2,num_samps))##, size=(2,1000))\n",
    "        Y_s = A.dot(X_s) + np.asarray([ np.random.normal(0, np.eye(2))[:,0] for i in range(num_samps) ]).T\n",
    "        Y_s_b = B.dot(X_s) + np.asarray([ np.random.normal(0, np.eye(2))[:,0] for i in range(num_samps) ]).T\n",
    "        \n",
    "        f_bin = []\n",
    "        nf_bin = []\n",
    "        \n",
    "        for i in range(X_s.shape[1] - M):\n",
    "            #for each sample\n",
    "            nf_sum = [0.0]\n",
    "            f_sum = [0.0]\n",
    "            \n",
    "\n",
    "            for k in range(M):\n",
    "                #collect likelihood across lag\n",
    "                nf = likelihood_point(np.expand_dims(X_s[:,i+k], axis=1), np.expand_dims(Y_s[:,i+k], axis=1), A)\n",
    "                f = likelihood_point(np.expand_dims(X_s[:,i+k], axis=1), np.expand_dims(Y_s_b[:,i+k], axis=1), A)\n",
    "\n",
    "                nf_sum.append(nf_sum[-1] + nf)\n",
    "                f_sum.append(f_sum[-1] + f)\n",
    "\n",
    "\n",
    "            if f_sum[-1] > 0:\n",
    "                f_bin.append(1)\n",
    "            else:\n",
    "                f_bin.append(0)\n",
    "\n",
    "            if nf_sum[-1] > 0:\n",
    "                nf_bin.append(1)\n",
    "            else:\n",
    "                nf_bin.append(0)\n",
    "                    \n",
    "        pred = np.concatenate((f_bin, nf_bin))\n",
    "        true = np.concatenate((np.ones(np.asarray(f_bin).shape), np.zeros(np.asarray(nf_bin).shape)))\n",
    "\n",
    "        p = sklearn.metrics.precision_score(true, pred)\n",
    "        r = sklearn.metrics.recall_score(true, pred)\n",
    "                \n",
    "        mc_output_by_lag[M][j,1] = p\n",
    "        mc_output_by_lag[M][j,2] = r"
   ]
  },
  {
   "cell_type": "code",
   "execution_count": 13,
   "metadata": {},
   "outputs": [
    {
     "name": "stdout",
     "output_type": "stream",
     "text": [
      "5 :  [1.96727318 0.80788211 0.88024242]\n",
      "10 :  [1.93673786 0.85375136 0.92626531]\n",
      "20 :  [1.76812413 0.90469175 0.92304167]\n"
     ]
    }
   ],
   "source": [
    "for M in lags:\n",
    "    print(M, \": \", np.mean(mc_output_by_lag[M], axis=0))"
   ]
  },
  {
   "cell_type": "code",
   "execution_count": 7,
   "metadata": {},
   "outputs": [
    {
     "data": {
      "image/png": "[encoded data removed]",
      "text/plain": [
       "<Figure size 432x288 with 1 Axes>"
      ]
     },
     "metadata": {},
     "output_type": "display_data"
    }
   ],
   "source": [
    "X_range = np.arange(0.0,3.5,0.1) \n",
    "\n",
    "colors=[seaborn.xkcd_rgb[\"pale red\"], seaborn.xkcd_rgb[\"medium green\"], seaborn.xkcd_rgb[\"denim blue\"]]\n",
    "\n",
    "for i in range(len(lags)):\n",
    "    M = lags[i]\n",
    "    color=colors[i]\n",
    "    clf = None #clear previous model\n",
    "    clf = KernelRidge(kernel=\"rbf\", gamma = 1, degree=4, alpha=0.1)\n",
    "    clf.fit(mc_output_by_lag[M][:,0].reshape(-1, 1), mc_output_by_lag[M][:,1].reshape(-1, 1)) \n",
    "    \n",
    "    r_curve = clf.predict(X_range.reshape(-1, 1))\n",
    "    r_curve[r_curve > 1] = 1\n",
    "    \n",
    "    plt.plot(X_range, r_curve, color=colors[i], label=\"Lag: \" + str(M), lw=2)\n",
    "    plt.scatter(mc_output_by_lag[M][:,0], mc_output_by_lag[M][:,1], marker=\"o\", color=colors[i], s=10)\n",
    "\n",
    "    \n",
    "plt.title(\"Precision vs divergence of\\n Monte Carlo realizations of B\", fontsize=14)\n",
    "plt.xlabel(\"$||A - B||_{F}$\", fontsize=12)\n",
    "plt.ylabel(\"Precision & Recall\", fontsize=12)\n",
    "plt.xticks(fontsize=12)\n",
    "plt.yticks(fontsize=12)\n",
    "plt.ylim(0,1.1)\n",
    "plt.xlim(0.0,3.5)\n",
    "plt.legend(loc=4, fontsize=12)\n",
    "plt.show()"
   ]
  },
  {
   "cell_type": "code",
   "execution_count": 8,
   "metadata": {},
   "outputs": [
    {
     "data": {
      "image/png": "[encoded data removed]",
      "text/plain": [
       "<Figure size 432x288 with 1 Axes>"
      ]
     },
     "metadata": {},
     "output_type": "display_data"
    }
   ],
   "source": [
    "for i in range(len(lags)):\n",
    "    M = lags[i]\n",
    "\n",
    "    clf = None #clear previous model\n",
    "    clf = KernelRidge(kernel=\"rbf\", gamma = 1.0, degree=4, alpha=0.1)\n",
    "    clf.fit(mc_output_by_lag[M][:,0].reshape(-1, 1), mc_output_by_lag[M][:,2].reshape(-1, 1)) \n",
    "    plt.scatter(mc_output_by_lag[M][:,0], mc_output_by_lag[M][:,2], marker=\"o\", color=colors[i], s=10)\n",
    "    \n",
    "    r_curve = clf.predict(X_range.reshape(-1, 1))\n",
    "    r_curve[r_curve > 1] = 1\n",
    "    plt.plot(X_range, r_curve, color=colors[i], label=\"Lag: \" + str(M), lw=2)\n",
    "    \n",
    "plt.title(\"Recall vs divergence of\\n Monte Carlo realizations of B\", fontsize=14)\n",
    "plt.xlabel(\"$||A - B||_{F}$\", fontsize=12)\n",
    "plt.ylabel(\"Recall\", fontsize=12)\n",
    "plt.xticks(fontsize=12)\n",
    "plt.yticks(fontsize=12)\n",
    "plt.ylim(0,1.1)\n",
    "plt.xlim(0.0,3.5)\n",
    "plt.legend(loc=4, fontsize=12)\n",
    "plt.show()"
   ]
  },
  {
   "cell_type": "code",
   "execution_count": 9,
   "metadata": {},
   "outputs": [
    {
     "data": {
      "image/png": "[encoded data removed]",
      "text/plain": [
       "<Figure size 432x288 with 1 Axes>"
      ]
     },
     "metadata": {},
     "output_type": "display_data"
    }
   ],
   "source": [
    "X_range = np.arange(0.0,3.5,0.1) \n",
    "\n",
    "for i in range(len(lags)):\n",
    "    M = lags[i]\n",
    "    clf = None #clear previous model\n",
    "    clf = KernelRidge(kernel=\"rbf\", gamma = 1, degree=7, alpha=0.01)\n",
    "    f1 = 2*((mc_output_by_lag[M][:,1]*mc_output_by_lag[M][:,2])/(mc_output_by_lag[M][:,1] + mc_output_by_lag[M][:,2]))\n",
    "    plt.scatter(mc_output_by_lag[M][:,0], f1, marker=\"o\", color=colors[i], s=10)\n",
    "    clf.fit(mc_output_by_lag[M][:,0].reshape(-1, 1), f1) \n",
    "    \n",
    "    r_curve = clf.predict(X_range.reshape(-1, 1))\n",
    "    r_curve[r_curve > 1] = 1\n",
    "    \n",
    "    plt.plot(X_range, r_curve, color=colors[i], label=\"Lag: \" + str(M), lw=2)\n",
    "    \n",
    "#plt.title(\"F1 Score vs divergence of\\n Monte Carlo realizations of B\", fontsize=14)\n",
    "plt.xlabel(\"$||A - B||_{F}$\", fontsize=14)\n",
    "plt.ylabel(\"F1 Score\", fontsize=14)\n",
    "plt.xticks(fontsize=12)\n",
    "plt.yticks(fontsize=12)\n",
    "plt.legend(loc=4)\n",
    "plt.ylim(0,1.1)\n",
    "plt.xlim(0.0,3.5)\n",
    "plt.show()"
   ]
  },
  {
   "cell_type": "markdown",
   "metadata": {
    "collapsed": true
   },
   "source": [
    "### B is small perturbation of A, weighted least squares from A vs fresh samples"
   ]
  },
  {
   "cell_type": "code",
   "execution_count": 78,
   "metadata": {},
   "outputs": [],
   "source": [
    "num_samps = 1000\n",
    "num_val = 200\n",
    "n = 50\n",
    "\n",
    "#initialize A, PD\n",
    "a = np.random.normal(0,1,size=(50,50))\n",
    "A = a.T.dot(a)/100\n",
    "\n",
    "B = copy.copy(A)\n",
    "B += np.random.normal(0,0.01,size=(50,50))\n",
    "\n",
    "X_A = np.random.normal(0,1,size=(n,num_samps))##, size=(2,1000))\n",
    "X_A_val = np.random.normal(0,1,size=(n,num_val))\n",
    "X_B = np.random.normal(0,1,size=(n,num_samps))\n",
    "X_B_val = np.random.normal(0,1,size=(n,num_val))\n",
    "Y_A = A.dot(X_A) + np.asarray([ np.random.normal(0, np.eye(n))[:,0] for i in range(num_samps) ]).T\n",
    "Y_B = B.dot(X_B) + np.asarray([ np.random.normal(0, np.eye(n))[:,0] for i in range(num_samps) ]).T\n",
    "Y_A_val = A.dot(X_A_val) + np.asarray([ np.random.normal(0, np.eye(n))[:,0] for i in range(num_val) ]).T\n",
    "Y_B_val = B.dot(X_B_val) + np.asarray([ np.random.normal(0, np.eye(n))[:,0] for i in range(num_val) ]).T"
   ]
  },
  {
   "cell_type": "code",
   "execution_count": 79,
   "metadata": {},
   "outputs": [
    {
     "data": {
      "text/plain": [
       "array([[-0.19375005, -0.7239076 ,  1.04843909, ..., -0.75511589,\n",
       "        -1.63467486,  1.01164354],\n",
       "       [ 0.33279176, -1.4973864 ,  0.87458184, ..., -1.70283332,\n",
       "         1.35528491,  1.13762918],\n",
       "       [ 1.24739325,  0.96881941, -1.48857076, ...,  1.23322075,\n",
       "         1.56168964,  1.42074482],\n",
       "       ...,\n",
       "       [ 0.46200131, -0.20796293,  0.26665805, ..., -0.14341251,\n",
       "        -0.6526558 , -0.35769188],\n",
       "       [-0.93192046,  1.13630761, -0.0865621 , ..., -0.30943181,\n",
       "         0.59932555, -0.31726149],\n",
       "       [ 0.45367666,  0.85251809, -1.28791753, ..., -0.93940687,\n",
       "        -1.05580286,  0.62913942]])"
      ]
     },
     "execution_count": 79,
     "metadata": {},
     "output_type": "execute_result"
    }
   ],
   "source": [
    "X_A"
   ]
  },
  {
   "cell_type": "code",
   "execution_count": 80,
   "metadata": {},
   "outputs": [
    {
     "data": {
      "text/plain": [
       "array([[ 5.11109645e-01, -5.27006975e-02, -1.88585027e-02, ...,\n",
       "         2.39640836e-02,  2.16931302e-02, -1.77313870e-04],\n",
       "       [-4.10577517e-02,  3.89963727e-01, -2.46856427e-02, ...,\n",
       "        -2.57835784e-02, -6.35354439e-02, -6.08231309e-02],\n",
       "       [-3.02842376e-02, -2.46856427e-02,  7.08120900e-01, ...,\n",
       "        -7.72366625e-03,  1.02081348e-01, -1.15857964e-02],\n",
       "       ...,\n",
       "       [ 5.34051922e-02, -2.57835784e-02, -7.72366625e-03, ...,\n",
       "         4.43777863e-01,  2.93472746e-02,  4.09843375e-02],\n",
       "       [ 2.30681928e-02, -6.35354439e-02,  1.02081348e-01, ...,\n",
       "         2.93472746e-02,  5.59617876e-01, -1.51421987e-01],\n",
       "       [ 1.82738082e-02, -6.08231309e-02, -1.15857964e-02, ...,\n",
       "         4.09843375e-02, -1.51421987e-01,  5.31059524e-01]])"
      ]
     },
     "execution_count": 80,
     "metadata": {},
     "output_type": "execute_result"
    }
   ],
   "source": [
    "#learn A\n",
    "\n",
    "reg = linear_model.LinearRegression(fit_intercept=True)\n",
    "reg.fit(X_A.T, Y_A.T)\n",
    "\n",
    "reg.coef_"
   ]
  },
  {
   "cell_type": "code",
   "execution_count": 81,
   "metadata": {},
   "outputs": [],
   "source": [
    "#use all samples of A in weighted least squares for B learning\n",
    "\n",
    "losses_wls = []\n",
    "losses_ols = []\n",
    "\n",
    "frob_wls = []\n",
    "frob_ols = []\n",
    "\n",
    "A_weight = 1.0\n",
    "B_weight = 10.0\n",
    "A_weights = np.array([ A_weight for i in range(num_samps) ])\n",
    "\n",
    "for i in range(1,100):\n",
    "    B_weights = np.array([ B_weight for j in range(i) ])\n",
    "    \n",
    "    #weighted LS\n",
    "    reg = None\n",
    "    reg = linear_model.LinearRegression(fit_intercept=False)\n",
    "    reg.fit(np.hstack((X_A, X_B[:,0:i])).T, np.hstack((Y_A, Y_B[:,0:i])).T, sample_weight=np.concatenate((A_weights, B_weights)))\n",
    "    frob_wls.append(np.mean(B - reg.coef_))\n",
    "    \n",
    "    losses_wls.append(mean_squared_error(Y_B_val.T, reg.coef_.dot(X_B_val).T, multioutput='uniform_average'))\n",
    "    \n",
    "    #OLS\n",
    "    reg = None\n",
    "    reg = linear_model.LinearRegression(fit_intercept=False)\n",
    "    reg.fit(X_B[:,0:i].T, Y_B[:,0:i].T)\n",
    "    frob_ols.append(np.mean(B - reg.coef_))\n",
    "    \n",
    "    losses_ols.append(mean_squared_error(Y_B_val.T, reg.coef_.dot(X_B_val).T, multioutput='uniform_average'))"
   ]
  },
  {
   "cell_type": "code",
   "execution_count": 82,
   "metadata": {},
   "outputs": [
    {
     "data": {
      "text/plain": [
       "array([[ 0.41159807, -0.1270467 ,  0.04012027, ...,  0.20003943,\n",
       "         0.14271068,  0.24833159],\n",
       "       [-0.03601552,  0.39617235, -0.0289462 , ..., -0.01033671,\n",
       "        -0.06373328, -0.06023315],\n",
       "       [-0.04399497, -0.01848896,  0.70095613, ..., -0.00682188,\n",
       "         0.08073058, -0.0133332 ],\n",
       "       ...,\n",
       "       [ 0.04675827, -0.02637906, -0.00195684, ...,  0.46097773,\n",
       "         0.03550529,  0.04164969],\n",
       "       [ 0.00855475, -0.03742351,  0.107165  , ...,  0.03036821,\n",
       "         0.57192951, -0.16233555],\n",
       "       [ 0.03007527, -0.06349816, -0.02035025, ...,  0.04906706,\n",
       "        -0.17558544,  0.53820894]])"
      ]
     },
     "execution_count": 82,
     "metadata": {},
     "output_type": "execute_result"
    }
   ],
   "source": [
    "reg.coef_"
   ]
  },
  {
   "cell_type": "code",
   "execution_count": 83,
   "metadata": {},
   "outputs": [
    {
     "data": {
      "image/png": "[encoded data removed]",
      "text/plain": [
       "<Figure size 432x288 with 1 Axes>"
      ]
     },
     "metadata": {},
     "output_type": "display_data"
    }
   ],
   "source": [
    "plt.plot(frob_wls, label=\"weighted\")\n",
    "plt.plot(frob_ols, label=\"ordinary\")\n",
    "#plt.xlim(0,10)\n",
    "plt.legend()\n",
    "plt.show()"
   ]
  },
  {
   "cell_type": "code",
   "execution_count": 84,
   "metadata": {},
   "outputs": [
    {
     "data": {
      "image/png": "[encoded data removed]",
      "text/plain": [
       "<Figure size 432x288 with 1 Axes>"
      ]
     },
     "metadata": {},
     "output_type": "display_data"
    }
   ],
   "source": [
    "plt.plot(losses_wls, label=\"weighted\")\n",
    "plt.plot(losses_ols, label=\"ordinary\")\n",
    "#plt.xlim(0,10)\n",
    "plt.legend()\n",
    "plt.show()"
   ]
  },
  {
   "cell_type": "code",
   "execution_count": 34,
   "metadata": {},
   "outputs": [
    {
     "data": {
      "text/plain": [
       "(1001, 2)"
      ]
     },
     "execution_count": 34,
     "metadata": {},
     "output_type": "execute_result"
    }
   ],
   "source": [
    "np.hstack((X_A, X_B[:,0:i])).T.shape"
   ]
  },
  {
   "cell_type": "code",
   "execution_count": 35,
   "metadata": {},
   "outputs": [
    {
     "name": "stdout",
     "output_type": "stream",
     "text": [
      "Number of training samples:  0\n",
      "Matrix initialization round:  0\n",
      "Matrix initialization round:  10\n",
      "Matrix initialization round:  20\n",
      "Matrix initialization round:  30\n",
      "Matrix initialization round:  40\n",
      "Matrix initialization round:  50\n",
      "Matrix initialization round:  60\n"
     ]
    },
    {
     "name": "stderr",
     "output_type": "stream",
     "text": [
      "/home/chase/applications/anaconda3/lib/python3.6/site-packages/sklearn/metrics/classification.py:1135: UndefinedMetricWarning: Precision is ill-defined and being set to 0.0 due to no predicted samples.\n",
      "  'precision', 'predicted', average, warn_for)\n"
     ]
    },
    {
     "name": "stdout",
     "output_type": "stream",
     "text": [
      "Matrix initialization round:  70\n",
      "Matrix initialization round:  80\n",
      "Matrix initialization round:  90\n",
      "Number of training samples:  1\n",
      "Matrix initialization round:  0\n",
      "Matrix initialization round:  10\n",
      "Matrix initialization round:  20\n",
      "Matrix initialization round:  30\n",
      "Matrix initialization round:  40\n",
      "Matrix initialization round:  50\n",
      "Matrix initialization round:  60\n",
      "Matrix initialization round:  70\n",
      "Matrix initialization round:  80\n",
      "Matrix initialization round:  90\n",
      "Number of training samples:  2\n",
      "Matrix initialization round:  0\n",
      "Matrix initialization round:  10\n",
      "Matrix initialization round:  20\n",
      "Matrix initialization round:  30\n",
      "Matrix initialization round:  40\n",
      "Matrix initialization round:  50\n",
      "Matrix initialization round:  60\n",
      "Matrix initialization round:  70\n",
      "Matrix initialization round:  80\n",
      "Matrix initialization round:  90\n",
      "Number of training samples:  3\n",
      "Matrix initialization round:  0\n",
      "Matrix initialization round:  10\n",
      "Matrix initialization round:  20\n",
      "Matrix initialization round:  30\n",
      "Matrix initialization round:  40\n",
      "Matrix initialization round:  50\n",
      "Matrix initialization round:  60\n",
      "Matrix initialization round:  70\n",
      "Matrix initialization round:  80\n",
      "Matrix initialization round:  90\n",
      "Number of training samples:  4\n",
      "Matrix initialization round:  0\n",
      "Matrix initialization round:  10\n",
      "Matrix initialization round:  20\n",
      "Matrix initialization round:  30\n",
      "Matrix initialization round:  40\n",
      "Matrix initialization round:  50\n",
      "Matrix initialization round:  60\n",
      "Matrix initialization round:  70\n",
      "Matrix initialization round:  80\n",
      "Matrix initialization round:  90\n",
      "Number of training samples:  5\n",
      "Matrix initialization round:  0\n",
      "Matrix initialization round:  10\n",
      "Matrix initialization round:  20\n",
      "Matrix initialization round:  30\n",
      "Matrix initialization round:  40\n",
      "Matrix initialization round:  50\n",
      "Matrix initialization round:  60\n",
      "Matrix initialization round:  70\n",
      "Matrix initialization round:  80\n",
      "Matrix initialization round:  90\n",
      "Number of training samples:  6\n",
      "Matrix initialization round:  0\n",
      "Matrix initialization round:  10\n",
      "Matrix initialization round:  20\n",
      "Matrix initialization round:  30\n",
      "Matrix initialization round:  40\n",
      "Matrix initialization round:  50\n",
      "Matrix initialization round:  60\n",
      "Matrix initialization round:  70\n",
      "Matrix initialization round:  80\n",
      "Matrix initialization round:  90\n",
      "Number of training samples:  7\n",
      "Matrix initialization round:  0\n",
      "Matrix initialization round:  10\n",
      "Matrix initialization round:  20\n",
      "Matrix initialization round:  30\n",
      "Matrix initialization round:  40\n",
      "Matrix initialization round:  50\n",
      "Matrix initialization round:  60\n",
      "Matrix initialization round:  70\n",
      "Matrix initialization round:  80\n",
      "Matrix initialization round:  90\n",
      "Number of training samples:  8\n",
      "Matrix initialization round:  0\n",
      "Matrix initialization round:  10\n",
      "Matrix initialization round:  20\n",
      "Matrix initialization round:  30\n",
      "Matrix initialization round:  40\n",
      "Matrix initialization round:  50\n",
      "Matrix initialization round:  60\n",
      "Matrix initialization round:  70\n",
      "Matrix initialization round:  80\n",
      "Matrix initialization round:  90\n",
      "Number of training samples:  9\n",
      "Matrix initialization round:  0\n",
      "Matrix initialization round:  10\n",
      "Matrix initialization round:  20\n",
      "Matrix initialization round:  30\n",
      "Matrix initialization round:  40\n",
      "Matrix initialization round:  50\n",
      "Matrix initialization round:  60\n",
      "Matrix initialization round:  70\n",
      "Matrix initialization round:  80\n",
      "Matrix initialization round:  90\n",
      "Number of training samples:  10\n",
      "Matrix initialization round:  0\n",
      "Matrix initialization round:  10\n",
      "Matrix initialization round:  20\n",
      "Matrix initialization round:  30\n",
      "Matrix initialization round:  40\n",
      "Matrix initialization round:  50\n",
      "Matrix initialization round:  60\n",
      "Matrix initialization round:  70\n",
      "Matrix initialization round:  80\n",
      "Matrix initialization round:  90\n",
      "Number of training samples:  11\n",
      "Matrix initialization round:  0\n",
      "Matrix initialization round:  10\n",
      "Matrix initialization round:  20\n",
      "Matrix initialization round:  30\n",
      "Matrix initialization round:  40\n",
      "Matrix initialization round:  50\n",
      "Matrix initialization round:  60\n",
      "Matrix initialization round:  70\n",
      "Matrix initialization round:  80\n",
      "Matrix initialization round:  90\n",
      "Number of training samples:  12\n",
      "Matrix initialization round:  0\n",
      "Matrix initialization round:  10\n",
      "Matrix initialization round:  20\n",
      "Matrix initialization round:  30\n",
      "Matrix initialization round:  40\n",
      "Matrix initialization round:  50\n",
      "Matrix initialization round:  60\n",
      "Matrix initialization round:  70\n",
      "Matrix initialization round:  80\n",
      "Matrix initialization round:  90\n",
      "Number of training samples:  13\n",
      "Matrix initialization round:  0\n",
      "Matrix initialization round:  10\n",
      "Matrix initialization round:  20\n",
      "Matrix initialization round:  30\n",
      "Matrix initialization round:  40\n",
      "Matrix initialization round:  50\n",
      "Matrix initialization round:  60\n",
      "Matrix initialization round:  70\n",
      "Matrix initialization round:  80\n",
      "Matrix initialization round:  90\n",
      "Number of training samples:  14\n",
      "Matrix initialization round:  0\n",
      "Matrix initialization round:  10\n",
      "Matrix initialization round:  20\n",
      "Matrix initialization round:  30\n",
      "Matrix initialization round:  40\n",
      "Matrix initialization round:  50\n",
      "Matrix initialization round:  60\n",
      "Matrix initialization round:  70\n",
      "Matrix initialization round:  80\n",
      "Matrix initialization round:  90\n",
      "Number of training samples:  15\n",
      "Matrix initialization round:  0\n",
      "Matrix initialization round:  10\n",
      "Matrix initialization round:  20\n",
      "Matrix initialization round:  30\n",
      "Matrix initialization round:  40\n",
      "Matrix initialization round:  50\n",
      "Matrix initialization round:  60\n",
      "Matrix initialization round:  70\n",
      "Matrix initialization round:  80\n",
      "Matrix initialization round:  90\n",
      "Number of training samples:  16\n",
      "Matrix initialization round:  0\n",
      "Matrix initialization round:  10\n",
      "Matrix initialization round:  20\n",
      "Matrix initialization round:  30\n",
      "Matrix initialization round:  40\n",
      "Matrix initialization round:  50\n",
      "Matrix initialization round:  60\n",
      "Matrix initialization round:  70\n",
      "Matrix initialization round:  80\n",
      "Matrix initialization round:  90\n",
      "Number of training samples:  17\n",
      "Matrix initialization round:  0\n",
      "Matrix initialization round:  10\n",
      "Matrix initialization round:  20\n",
      "Matrix initialization round:  30\n",
      "Matrix initialization round:  40\n",
      "Matrix initialization round:  50\n",
      "Matrix initialization round:  60\n",
      "Matrix initialization round:  70\n",
      "Matrix initialization round:  80\n",
      "Matrix initialization round:  90\n",
      "Number of training samples:  18\n",
      "Matrix initialization round:  0\n",
      "Matrix initialization round:  10\n",
      "Matrix initialization round:  20\n",
      "Matrix initialization round:  30\n",
      "Matrix initialization round:  40\n",
      "Matrix initialization round:  50\n",
      "Matrix initialization round:  60\n",
      "Matrix initialization round:  70\n",
      "Matrix initialization round:  80\n",
      "Matrix initialization round:  90\n",
      "Number of training samples:  19\n",
      "Matrix initialization round:  0\n",
      "Matrix initialization round:  10\n",
      "Matrix initialization round:  20\n",
      "Matrix initialization round:  30\n",
      "Matrix initialization round:  40\n",
      "Matrix initialization round:  50\n",
      "Matrix initialization round:  60\n",
      "Matrix initialization round:  70\n",
      "Matrix initialization round:  80\n",
      "Matrix initialization round:  90\n"
     ]
    }
   ],
   "source": [
    "mc_output_by_lag_true = {}\n",
    "mc_output_by_lag_est = {}\n",
    "    \n",
    "M = 10 #fixed lag\n",
    "\n",
    "for N in num_samps_list:\n",
    "    print(\"Number of training samples: \", N)\n",
    "    mc_output_by_lag_true[N] = np.zeros((MC,3))\n",
    "    mc_output_by_lag_est[N] = np.zeros((MC,3))\n",
    "    for j in range(MC):\n",
    "        if j % 10 == 0:\n",
    "            print(\"Matrix initialization round: \", j)\n",
    "        B = copy.copy(A) + np.random.normal(size=A.shape)\n",
    "        \n",
    "        #generate training set\n",
    "        X_train = np.random.normal(size=(2,N))\n",
    "        Y_train = B.dot(X_train) + np.asarray([ np.random.normal(0, np.eye(2))[:,0] for i in range(N) ]).T\n",
    "        \n",
    "        #generate validation set\n",
    "        C = copy.copy(B) + np.random.normal(size=B.shape)\n",
    "        \n",
    "        X_val = np.random.normal(size=(2,num_samps))\n",
    "        Y_val = B.dot(X_val) + np.asarray([ np.random.normal(0, np.eye(2))[:,0] for i in range(num_samps) ]).T\n",
    "        Y_val_f = C.dot(X_val) + np.asarray([ np.random.normal(0, np.eye(2))[:,0] for i in range(num_samps) ]).T\n",
    "        \n",
    "        #retrain A\n",
    "        #initialize network\n",
    "        params = {'FEATURE_DIM': A.shape[0], 'OUTPUT_DIM': A.shape[1]}\n",
    "        net = linear_nnet(params)\n",
    "        net.l1.weight.data = torch.Tensor(A)  #initialize at A\n",
    "\n",
    "        #train linear state estimator\n",
    "        if N == 0:\n",
    "            B_hat = A\n",
    "        else:\n",
    "            train_linear_state_estimation(net, params, X_train, X_val, Y_train, Y_val, epochs=500, batch_size=N, verbose=False, validate=False)\n",
    "            B_hat = net.l1.weight.data.numpy()\n",
    "        \n",
    "        mc_output_by_lag_true[N][j,0] = np.linalg.norm(C-B,'fro')\n",
    "        mc_output_by_lag_est[N][j,0] = np.linalg.norm(C-B_hat, 'fro')\n",
    "        \n",
    "        f_bin_true = []\n",
    "        nf_bin_true = []\n",
    "        \n",
    "        f_bin_est = []\n",
    "        nf_bin_est = []\n",
    "        \n",
    "        for i in range(X_val.shape[1] - M):\n",
    "            #True B\n",
    "            nf_sum_true = [0.0]\n",
    "            f_sum_true = [0.0]\n",
    "            \n",
    "            #estimated B\n",
    "            nf_sum_est = [0.0]\n",
    "            f_sum_est = [0.0]\n",
    "\n",
    "            for k in range(M):\n",
    "                #collect likelihood across lag: true B\n",
    "                nf_true = likelihood_point(np.expand_dims(X_val[:,i+k], axis=1), np.expand_dims(Y_val[:,i+k], axis=1), B)\n",
    "                f_true = likelihood_point(np.expand_dims(X_val[:,i+k], axis=1), np.expand_dims(Y_val_f[:,i+k], axis=1), B)\n",
    "\n",
    "                nf_sum_true.append(nf_sum_true[-1] + nf_true)\n",
    "                f_sum_true.append(f_sum_true[-1] + f_true)\n",
    "                \n",
    "                #collect likelihood across lag: estimated B\n",
    "                nf_est = likelihood_point(np.expand_dims(X_val[:,i+k], axis=1), np.expand_dims(Y_val[:,i+k], axis=1), B_hat)\n",
    "                f_est = likelihood_point(np.expand_dims(X_val[:,i+k], axis=1), np.expand_dims(Y_val_f[:,i+k], axis=1), B_hat)\n",
    "\n",
    "                nf_sum_est.append(nf_sum_est[-1] + nf_est)\n",
    "                f_sum_est.append(f_sum_est[-1] + f_est)\n",
    "\n",
    "            #evaluate true B likelihoods\n",
    "            if f_sum_true[-1] > 0:\n",
    "                f_bin_true.append(1)\n",
    "            else:\n",
    "                f_bin_true.append(0)\n",
    "\n",
    "            if nf_sum_true[-1] > 0:\n",
    "                nf_bin_true.append(1)\n",
    "            else:\n",
    "                nf_bin_true.append(0)\n",
    "                    \n",
    "            pred_t = np.concatenate((f_bin_true, nf_bin_true))\n",
    "            true_t = np.concatenate((np.ones(np.asarray(f_bin_true).shape), np.zeros(np.asarray(nf_bin_true).shape)))\n",
    "\n",
    "            p_t = sklearn.metrics.precision_score(true_t, pred_t)\n",
    "            r_t = sklearn.metrics.recall_score(true_t, pred_t)\n",
    "\n",
    "            mc_output_by_lag_true[N][j,1] = p_t\n",
    "            mc_output_by_lag_true[N][j,2] = r_t\n",
    "            \n",
    "            #evaluate estimated B likelihoods\n",
    "            if f_sum_est[-1] > 0:\n",
    "                f_bin_est.append(1)\n",
    "            else:\n",
    "                f_bin_est.append(0)\n",
    "\n",
    "            if nf_sum_est[-1] > 0:\n",
    "                nf_bin_est.append(1)\n",
    "            else:\n",
    "                nf_bin_est.append(0)\n",
    "                    \n",
    "            pred_e = np.concatenate((f_bin_est, nf_bin_est))\n",
    "            true_e = np.concatenate((np.ones(np.asarray(f_bin_est).shape), np.zeros(np.asarray(nf_bin_est).shape)))\n",
    "\n",
    "            p_e = sklearn.metrics.precision_score(true_e, pred_e)\n",
    "            r_e = sklearn.metrics.recall_score(true_e, pred_e)\n",
    "\n",
    "            mc_output_by_lag_est[N][j,1] = p_e\n",
    "            mc_output_by_lag_est[N][j,2] = r_e\n"
   ]
  },
  {
   "cell_type": "code",
   "execution_count": 12,
   "metadata": {},
   "outputs": [
    {
     "name": "stdout",
     "output_type": "stream",
     "text": [
      "Number of training samples:  0\n"
     ]
    },
    {
     "ename": "NameError",
     "evalue": "name 'mc_output_by_lag_true' is not defined",
     "output_type": "error",
     "traceback": [
      "\u001b[0;31m---------------------------------------------------------------------------\u001b[0m",
      "\u001b[0;31mNameError\u001b[0m                                 Traceback (most recent call last)",
      "\u001b[0;32m<ipython-input-12-5d50ee0ff824>\u001b[0m in \u001b[0;36m<module>\u001b[0;34m\u001b[0m\n\u001b[1;32m     10\u001b[0m \u001b[0;32mfor\u001b[0m \u001b[0mN\u001b[0m \u001b[0;32min\u001b[0m \u001b[0mnum_samps_list\u001b[0m\u001b[0;34m:\u001b[0m\u001b[0;34m\u001b[0m\u001b[0;34m\u001b[0m\u001b[0m\n\u001b[1;32m     11\u001b[0m     \u001b[0mprint\u001b[0m\u001b[0;34m(\u001b[0m\u001b[0;34m\"Number of training samples: \"\u001b[0m\u001b[0;34m,\u001b[0m \u001b[0mN\u001b[0m\u001b[0;34m)\u001b[0m\u001b[0;34m\u001b[0m\u001b[0;34m\u001b[0m\u001b[0m\n\u001b[0;32m---> 12\u001b[0;31m     \u001b[0mprint\u001b[0m\u001b[0;34m(\u001b[0m\u001b[0;34m\"True B: \"\u001b[0m\u001b[0;34m,\u001b[0m \u001b[0mnp\u001b[0m\u001b[0;34m.\u001b[0m\u001b[0mmean\u001b[0m\u001b[0;34m(\u001b[0m\u001b[0mmc_output_by_lag_true\u001b[0m\u001b[0;34m[\u001b[0m\u001b[0mN\u001b[0m\u001b[0;34m]\u001b[0m\u001b[0;34m,\u001b[0m \u001b[0maxis\u001b[0m\u001b[0;34m=\u001b[0m\u001b[0;36m0\u001b[0m\u001b[0;34m)\u001b[0m\u001b[0;34m)\u001b[0m\u001b[0;34m\u001b[0m\u001b[0;34m\u001b[0m\u001b[0m\n\u001b[0m\u001b[1;32m     13\u001b[0m     \u001b[0mprint\u001b[0m\u001b[0;34m(\u001b[0m\u001b[0;34m\"Est B: \"\u001b[0m\u001b[0;34m,\u001b[0m \u001b[0mnp\u001b[0m\u001b[0;34m.\u001b[0m\u001b[0mmean\u001b[0m\u001b[0;34m(\u001b[0m\u001b[0mmc_output_by_lag_est\u001b[0m\u001b[0;34m[\u001b[0m\u001b[0mN\u001b[0m\u001b[0;34m]\u001b[0m\u001b[0;34m,\u001b[0m \u001b[0maxis\u001b[0m\u001b[0;34m=\u001b[0m\u001b[0;36m0\u001b[0m\u001b[0;34m)\u001b[0m\u001b[0;34m)\u001b[0m\u001b[0;34m\u001b[0m\u001b[0;34m\u001b[0m\u001b[0m\n\u001b[1;32m     14\u001b[0m \u001b[0;34m\u001b[0m\u001b[0m\n",
      "\u001b[0;31mNameError\u001b[0m: name 'mc_output_by_lag_true' is not defined"
     ]
    }
   ],
   "source": [
    "div_B_true = []\n",
    "div_B_est = []\n",
    "\n",
    "prec_B_true = []\n",
    "prec_B_est = []\n",
    "\n",
    "rec_B_true = []\n",
    "rec_B_est = []\n",
    "\n",
    "for N in num_samps_list:\n",
    "    print(\"Number of training samples: \", N)\n",
    "    print(\"True B: \", np.mean(mc_output_by_lag_true[N], axis=0))\n",
    "    print(\"Est B: \", np.mean(mc_output_by_lag_est[N], axis=0))\n",
    "    \n",
    "    div_B_true.append(np.mean(mc_output_by_lag_true[N], axis=0)[0])\n",
    "    prec_B_true.append(np.mean(mc_output_by_lag_true[N], axis=0)[1])\n",
    "    rec_B_true.append(np.mean(mc_output_by_lag_true[N], axis=0)[2])\n",
    "    \n",
    "    div_B_est.append(np.mean(mc_output_by_lag_est[N], axis=0)[0])\n",
    "    prec_B_est.append(np.mean(mc_output_by_lag_est[N], axis=0)[1])\n",
    "    rec_B_est.append(np.mean(mc_output_by_lag_est[N], axis=0)[2])"
   ]
  },
  {
   "cell_type": "code",
   "execution_count": 11,
   "metadata": {},
   "outputs": [
    {
     "ename": "NameError",
     "evalue": "name 'div_B_true' is not defined",
     "output_type": "error",
     "traceback": [
      "\u001b[0;31m---------------------------------------------------------------------------\u001b[0m",
      "\u001b[0;31mNameError\u001b[0m                                 Traceback (most recent call last)",
      "\u001b[0;32m<ipython-input-11-a6bad43aa295>\u001b[0m in \u001b[0;36m<module>\u001b[0;34m\u001b[0m\n\u001b[0;32m----> 1\u001b[0;31m \u001b[0mplt\u001b[0m\u001b[0;34m.\u001b[0m\u001b[0mplot\u001b[0m\u001b[0;34m(\u001b[0m\u001b[0;34m[\u001b[0m\u001b[0mint\u001b[0m\u001b[0;34m(\u001b[0m\u001b[0mi\u001b[0m\u001b[0;34m)\u001b[0m \u001b[0;32mfor\u001b[0m \u001b[0mi\u001b[0m \u001b[0;32min\u001b[0m \u001b[0mlist\u001b[0m\u001b[0;34m(\u001b[0m\u001b[0mnum_samps_list\u001b[0m\u001b[0;34m)\u001b[0m\u001b[0;34m]\u001b[0m\u001b[0;34m,\u001b[0m \u001b[0mdiv_B_true\u001b[0m\u001b[0;34m,\u001b[0m \u001b[0mlabel\u001b[0m\u001b[0;34m=\u001b[0m\u001b[0;34m\"True B\"\u001b[0m\u001b[0;34m)\u001b[0m\u001b[0;34m\u001b[0m\u001b[0;34m\u001b[0m\u001b[0m\n\u001b[0m\u001b[1;32m      2\u001b[0m \u001b[0mplt\u001b[0m\u001b[0;34m.\u001b[0m\u001b[0mplot\u001b[0m\u001b[0;34m(\u001b[0m\u001b[0;34m[\u001b[0m\u001b[0mint\u001b[0m\u001b[0;34m(\u001b[0m\u001b[0mi\u001b[0m\u001b[0;34m)\u001b[0m \u001b[0;32mfor\u001b[0m \u001b[0mi\u001b[0m \u001b[0;32min\u001b[0m \u001b[0mlist\u001b[0m\u001b[0;34m(\u001b[0m\u001b[0mnum_samps_list\u001b[0m\u001b[0;34m)\u001b[0m\u001b[0;34m]\u001b[0m\u001b[0;34m,\u001b[0m \u001b[0mdiv_B_est\u001b[0m\u001b[0;34m,\u001b[0m \u001b[0mlabel\u001b[0m\u001b[0;34m=\u001b[0m\u001b[0;34m\"Transfered B\"\u001b[0m\u001b[0;34m)\u001b[0m\u001b[0;34m\u001b[0m\u001b[0;34m\u001b[0m\u001b[0m\n\u001b[1;32m      3\u001b[0m \u001b[0mplt\u001b[0m\u001b[0;34m.\u001b[0m\u001b[0mlegend\u001b[0m\u001b[0;34m(\u001b[0m\u001b[0;34m)\u001b[0m\u001b[0;34m\u001b[0m\u001b[0;34m\u001b[0m\u001b[0m\n\u001b[1;32m      4\u001b[0m \u001b[0mplt\u001b[0m\u001b[0;34m.\u001b[0m\u001b[0mxlabel\u001b[0m\u001b[0;34m(\u001b[0m\u001b[0;34m\"Number of training samples\"\u001b[0m\u001b[0;34m)\u001b[0m\u001b[0;34m\u001b[0m\u001b[0;34m\u001b[0m\u001b[0m\n\u001b[1;32m      5\u001b[0m \u001b[0mplt\u001b[0m\u001b[0;34m.\u001b[0m\u001b[0mylabel\u001b[0m\u001b[0;34m(\u001b[0m\u001b[0;34m\"Frobenious Norm B - C\"\u001b[0m\u001b[0;34m)\u001b[0m\u001b[0;34m\u001b[0m\u001b[0;34m\u001b[0m\u001b[0m\n",
      "\u001b[0;31mNameError\u001b[0m: name 'div_B_true' is not defined"
     ]
    }
   ],
   "source": [
    "plt.plot([int(i) for i in list(num_samps_list)], div_B_true, label=\"True B\")\n",
    "plt.plot([int(i) for i in list(num_samps_list)], div_B_est, label=\"Transfered B\")\n",
    "plt.legend()\n",
    "plt.xlabel(\"Number of training samples\")\n",
    "plt.ylabel(\"Frobenious Norm B - C\")\n",
    "plt.xticks(fontsize=12)\n",
    "plt.yticks(fontsize=12)\n",
    "plt.show()\n",
    "\n",
    "\"\"\"\n",
    "plt.title(\"Precision vs divergence of\\n Monte Carlo realizations of B\", fontsize=14)\n",
    "plt.xlabel(\"$||A - B||_{F}$\", fontsize=12)\n",
    "plt.ylabel(\"Precision & Recall\", fontsize=12)\n",
    "\n",
    "plt.ylim(0,1.1)\n",
    "plt.xlim(0.0,3.5)\n",
    "plt.legend(loc=4, fontsize=12)\n",
    "plt.show()\n",
    "\"\"\""
   ]
  },
  {
   "cell_type": "code",
   "execution_count": 46,
   "metadata": {},
   "outputs": [
    {
     "data": {
      "text/plain": [
       "[1.88725164535245,\n",
       " 1.865198465352039,\n",
       " 1.97945107424533,\n",
       " 1.9400340595701906,\n",
       " 1.9015535004549262,\n",
       " 1.871645344778056,\n",
       " 1.9306894252678075,\n",
       " 1.869862224138613,\n",
       " 1.893227776681149,\n",
       " 1.840459724105269,\n",
       " 1.8684403390964672,\n",
       " 1.89088514276085,\n",
       " 1.7446111605179178,\n",
       " 1.937272723424482,\n",
       " 1.8430553709884925,\n",
       " 1.8647143445648573,\n",
       " 1.9582250822760268,\n",
       " 1.9863303892051547,\n",
       " 1.8863977136423298,\n",
       " 1.8267966234765527]"
      ]
     },
     "execution_count": 46,
     "metadata": {},
     "output_type": "execute_result"
    }
   ],
   "source": []
  },
  {
   "cell_type": "code",
   "execution_count": 38,
   "metadata": {},
   "outputs": [
    {
     "data": {
      "image/png": "[encoded data removed]",
      "text/plain": [
       "<matplotlib.figure.Figure at 0x7ff58c987550>"
      ]
     },
     "metadata": {},
     "output_type": "display_data"
    }
   ],
   "source": [
    "plt.plot(num_samps_list, prec_B_true, label=\"True B\")\n",
    "plt.plot(num_samps_list, prec_B_est, label=\"Transfered B\")\n",
    "plt.legend()\n",
    "plt.xlabel(\"Number of training samples\")\n",
    "plt.ylabel(\"Precision\")\n",
    "plt.show()"
   ]
  },
  {
   "cell_type": "code",
   "execution_count": 39,
   "metadata": {},
   "outputs": [
    {
     "data": {
      "image/png": "[encoded data removed]",
      "text/plain": [
       "<matplotlib.figure.Figure at 0x7ff58c9dec88>"
      ]
     },
     "metadata": {},
     "output_type": "display_data"
    }
   ],
   "source": [
    "plt.plot(num_samps_list, rec_B_true, label=\"True B\")\n",
    "plt.plot(num_samps_list, rec_B_est, label=\"Transfered B\")\n",
    "plt.legend()\n",
    "plt.xlabel(\"Number of training samples\")\n",
    "plt.ylabel(\"Precision\")\n",
    "plt.show()"
   ]
  },
  {
   "cell_type": "code",
   "execution_count": 40,
   "metadata": {},
   "outputs": [
    {
     "data": {
      "image/png": "[encoded data removed]",
      "text/plain": [
       "<matplotlib.figure.Figure at 0x7ff586538c88>"
      ]
     },
     "metadata": {},
     "output_type": "display_data"
    }
   ],
   "source": [
    "plt.plot(num_samps_list, 2*((np.asarray(prec_B_true)*np.asarray(rec_B_true))/(np.asarray(prec_B_true) + np.asarray(rec_B_true))), label=\"True B\")\n",
    "plt.plot(num_samps_list, 2*((np.asarray(prec_B_est)*np.asarray(rec_B_est))/(np.asarray(prec_B_est) + np.asarray(rec_B_est))), label=\"Transfered B\")\n",
    "plt.legend()\n",
    "plt.xlabel(\"Number of training samples\")\n",
    "plt.ylabel(\"F1 Score\")\n",
    "plt.xticks(fontsize=12)\n",
    "plt.yticks(fontsize=12)\n",
    "plt.ylim(0,1)\n",
    "plt.show()"
   ]
  },
  {
   "cell_type": "markdown",
   "metadata": {},
   "source": [
    "### EnergyPlus transfer from Seattle Winter to Summer"
   ]
  },
  {
   "cell_type": "code",
   "execution_count": null,
   "metadata": {
    "collapsed": true
   },
   "outputs": [],
   "source": []
  },
  {
   "cell_type": "code",
   "execution_count": null,
   "metadata": {
    "collapsed": true
   },
   "outputs": [],
   "source": []
  },
  {
   "cell_type": "code",
   "execution_count": null,
   "metadata": {
    "collapsed": true
   },
   "outputs": [],
   "source": []
  },
  {
   "cell_type": "code",
   "execution_count": null,
   "metadata": {
    "collapsed": true
   },
   "outputs": [],
   "source": []
  },
  {
   "cell_type": "code",
   "execution_count": null,
   "metadata": {
    "collapsed": true
   },
   "outputs": [],
   "source": []
  },
  {
   "cell_type": "code",
   "execution_count": null,
   "metadata": {
    "collapsed": true
   },
   "outputs": [],
   "source": []
  },
  {
   "cell_type": "code",
   "execution_count": null,
   "metadata": {
    "collapsed": true
   },
   "outputs": [],
   "source": []
  },
  {
   "cell_type": "code",
   "execution_count": null,
   "metadata": {
    "collapsed": true
   },
   "outputs": [],
   "source": []
  },
  {
   "cell_type": "code",
   "execution_count": null,
   "metadata": {
    "collapsed": true
   },
   "outputs": [],
   "source": []
  },
  {
   "cell_type": "code",
   "execution_count": null,
   "metadata": {
    "collapsed": true
   },
   "outputs": [],
   "source": []
  },
  {
   "cell_type": "code",
   "execution_count": null,
   "metadata": {
    "collapsed": true
   },
   "outputs": [],
   "source": []
  },
  {
   "cell_type": "code",
   "execution_count": null,
   "metadata": {
    "collapsed": true
   },
   "outputs": [],
   "source": []
  },
  {
   "cell_type": "markdown",
   "metadata": {
    "collapsed": true
   },
   "source": [
    "### EnergyPlus transfer from Seattle to Phoenix"
   ]
  },
  {
   "cell_type": "code",
   "execution_count": 55,
   "metadata": {
    "collapsed": true
   },
   "outputs": [],
   "source": [
    "#global vars\n",
    "datapath = \"../data/eplus_sims/\"\n",
    "\n",
    "#shared simulation var names\n",
    "#dep_var_names = ['Electricity:Facility [J] !Hourly', 'Fans:Electricity [J] !Hourly', 'Cooling:Electricity [J] !Hourly']\n",
    "dep_var_names = ['Fans:Electricity [J] !Hourly']\n",
    "ind_var_names = ['EnvironmentSite Outdoor Air Drybulb Temperature [C] !Hourly', 'EnvironmentSite Outdoor Air Relative Humidity [%] !Hourly']#, 'DayType']\n",
    "\n",
    "poly_degree = 2 #5 is optimal MSE for state transition matrix A with full order 26 from cross validation and full electrical data\n",
    "order = 8\n",
    "lag = 140 #160"
   ]
  },
  {
   "cell_type": "code",
   "execution_count": 56,
   "metadata": {
    "collapsed": true
   },
   "outputs": [],
   "source": [
    "#Load Seattle A\n",
    "\n",
    "seattle_net = torch.load(\"seattle_state_transition_net.torch\")\n",
    "A_seattle = copy.copy(seattle_net.l1.weight.data.numpy())\n",
    "\n",
    "#Load Seattle classifier\n",
    "with open(\"seattle_logreg_classifier.skl\", 'rb') as d:\n",
    "    logreg_seattle = pickle.load(d)"
   ]
  },
  {
   "cell_type": "code",
   "execution_count": 57,
   "metadata": {
    "collapsed": true
   },
   "outputs": [],
   "source": [
    "#Phoenix data\n",
    "zone_temp_inds = [863,864,865]\n",
    "\n",
    "Z, X, U = read_total_data_array(datapath + \"refbuild_med/phoenix/Static_RefBldgMediumOfficeNew2004_Chicago.eso\", dep_var_names, ind_var_names, zone_temp_inds, first_diff=True, no_weekend_holiday=True)\n",
    "\n",
    "X_all_pre, Y_all_pre, X_v, Y_v = split_train_val(Z, X, U, order=order, shuff=False, split_prop=1.0)\n",
    "X_all, Y_all = normalize_data_set(X_all_pre, Y_all_pre, X_all_pre)\n",
    "\n",
    "#kernelize\n",
    "X_all_poly = polynomial_kernel_mat(X_all, poly_degree)"
   ]
  },
  {
   "cell_type": "code",
   "execution_count": 58,
   "metadata": {
    "collapsed": true
   },
   "outputs": [],
   "source": [
    "zone_temp_inds = [863,864,865]\n",
    "\n",
    "Z_f, X_f, U_f = read_total_data_array(datapath + \"refbuild_med_airfault/phoenix/Fault_FoulingAirFilter_RefBldgMediumOfficeNew2004.eso\", dep_var_names, ind_var_names, zone_temp_inds, first_diff=True, no_weekend_holiday=True)\n",
    "\n",
    "X_all_pre_f, Y_all_pre_f, X_v_f, Y_v_f = split_train_val(Z_f, X_f, U_f, order=order, shuff=False, split_prop=1.0)\n",
    "X_all_f, Y_all_f = normalize_data_set(X_all_pre_f, Y_all_pre_f, X_all_pre)\n",
    "\n",
    "#kernelize\n",
    "X_all_poly_f = polynomial_kernel_mat(X_all_f, poly_degree)"
   ]
  },
  {
   "cell_type": "code",
   "execution_count": 59,
   "metadata": {},
   "outputs": [
    {
     "name": "stdout",
     "output_type": "stream",
     "text": [
      "No fault data:  0.0 %\n",
      "No fault data:  16.0 %\n",
      "No fault data:  31.0 %\n",
      "No fault data:  47.0 %\n",
      "No fault data:  63.0 %\n",
      "No fault data:  78.0 %\n",
      "No fault data:  94.0 %\n",
      "Fault data:  0.0 %\n",
      "Fault data:  16.0 %\n",
      "Fault data:  31.0 %\n",
      "Fault data:  47.0 %\n",
      "Fault data:  63.0 %\n",
      "Fault data:  78.0 %\n",
      "Fault data:  94.0 %\n"
     ]
    }
   ],
   "source": [
    "X, Y, X_f, Y_f = sample_classification_transform(A_seattle, X_all_poly, X_all_poly_f, Y_all, Y_all_f)"
   ]
  },
  {
   "cell_type": "code",
   "execution_count": 60,
   "metadata": {
    "collapsed": true
   },
   "outputs": [],
   "source": [
    "#reformat for sklearn \n",
    "\n",
    "X_lag_nf = lag_samples_array(X, lag)\n",
    "Y_lag_nf = np.zeros((1,X_lag_nf.shape[1]))\n",
    "    \n",
    "X_lag_f = lag_samples_array(X_f, lag)\n",
    "Y_lag_f = np.ones((1,X_lag_f.shape[1]))\n",
    "    \n",
    "X_sk = np.hstack((X_lag_nf, X_lag_f))\n",
    "Y_sk = np.concatenate((Y_lag_nf, Y_lag_f), axis=1)"
   ]
  },
  {
   "cell_type": "code",
   "execution_count": 61,
   "metadata": {
    "collapsed": true
   },
   "outputs": [],
   "source": [
    "#shuffle and train/val split\n",
    "\n",
    "train_vals = np.random.choice(X_sk.shape[1], int(0.8*X_sk.shape[1]), replace=False)\n",
    "vals = np.asarray([ i for i in range(X_sk.shape[1]) if i not in train_vals ])\n",
    "\n",
    "X_train_ph = X_sk[:,train_vals]\n",
    "Y_train_ph = Y_sk[:,train_vals]\n",
    "\n",
    "X_val_ph = X_sk[:,vals]\n",
    "Y_val_ph = Y_sk[:,vals]"
   ]
  },
  {
   "cell_type": "code",
   "execution_count": 62,
   "metadata": {},
   "outputs": [
    {
     "name": "stdout",
     "output_type": "stream",
     "text": [
      "Transfer precision:  0.4988019169329074\n",
      "Transfer recall:  1.0\n"
     ]
    }
   ],
   "source": [
    "#use previously trained logistic regression classifier\n",
    "\n",
    "Y_hat_val = logreg_seattle.predict(X_val_ph.T)\n",
    "\n",
    "p = sklearn.metrics.precision_score(Y_val_ph.T, Y_hat_val.T)\n",
    "r = sklearn.metrics.recall_score(Y_val_ph.T, Y_hat_val.T)\n",
    "\n",
    "print(\"Transfer precision: \", p)\n",
    "print(\"Transfer recall: \", r)"
   ]
  },
  {
   "cell_type": "code",
   "execution_count": 74,
   "metadata": {},
   "outputs": [
    {
     "name": "stdout",
     "output_type": "stream",
     "text": [
      "Validation MSE:  tensor(0.0020, grad_fn=<MseLossBackward>)\n"
     ]
    }
   ],
   "source": [
    "#update A and retest\n",
    "transfer_prop = 0.8\n",
    "\n",
    "X_train_pre, Y_train_pre, X_val_pre, Y_val_pre = split_train_val(Z, X, U, order=order, shuff=True, split_prop=transfer_prop)\n",
    "X_train, Y_train = normalize_data_set(X_train_pre, Y_train_pre, X_train_pre)\n",
    "X_val, Y_val = normalize_data_set(X_train_pre, Y_train_pre, X_train_pre)\n",
    "\n",
    "#kernelize\n",
    "X_train_poly = polynomial_kernel_mat(X_train, poly_degree)\n",
    "X_val_poly = polynomial_kernel_mat(X_val, poly_degree)\n",
    "\n",
    "#start with Seattle NN\n",
    "params = {'FEATURE_DIM': X_val_poly.shape[0], 'OUTPUT_DIM': Y_val_pre.shape[0]}\n",
    "seattle_net = linear_nnet(params)\n",
    "train_linear_state_estimation(seattle_net, params, X_train_poly, X_val_poly, Y_train, Y_val, epochs=1000, batch_size=100)\n",
    "\n",
    "A_seattle = copy.copy(seattle_net.l1.weight.data.numpy())"
   ]
  },
  {
   "cell_type": "code",
   "execution_count": 75,
   "metadata": {},
   "outputs": [
    {
     "name": "stdout",
     "output_type": "stream",
     "text": [
      "No fault data:  0.0 %\n",
      "No fault data:  16.0 %\n",
      "No fault data:  31.0 %\n",
      "No fault data:  47.0 %\n",
      "No fault data:  63.0 %\n",
      "No fault data:  78.0 %\n",
      "No fault data:  94.0 %\n",
      "Fault data:  0.0 %\n",
      "Fault data:  16.0 %\n",
      "Fault data:  31.0 %\n",
      "Fault data:  47.0 %\n",
      "Fault data:  63.0 %\n",
      "Fault data:  78.0 %\n",
      "Fault data:  94.0 %\n"
     ]
    }
   ],
   "source": [
    "X, Y, X_f, Y_f = sample_classification_transform(A_seattle, X_all_poly, X_all_poly_f, Y_all, Y_all_f)"
   ]
  },
  {
   "cell_type": "code",
   "execution_count": 76,
   "metadata": {
    "collapsed": true
   },
   "outputs": [],
   "source": [
    "#reformat for sklearn \n",
    "\n",
    "X_lag_nf = lag_samples_array(X, lag)\n",
    "Y_lag_nf = np.zeros((1,X_lag_nf.shape[1]))\n",
    "    \n",
    "X_lag_f = lag_samples_array(X_f, lag)\n",
    "Y_lag_f = np.ones((1,X_lag_f.shape[1]))\n",
    "    \n",
    "X_sk = np.hstack((X_lag_nf, X_lag_f))\n",
    "Y_sk = np.concatenate((Y_lag_nf, Y_lag_f), axis=1)"
   ]
  },
  {
   "cell_type": "code",
   "execution_count": 77,
   "metadata": {
    "collapsed": true
   },
   "outputs": [],
   "source": [
    "#shuffle and train/val split\n",
    "\n",
    "train_vals = np.random.choice(X_sk.shape[1], int(transfer_prop*X_sk.shape[1]), replace=False)\n",
    "vals = np.asarray([ i for i in range(X_sk.shape[1]) if i not in train_vals ])\n",
    "\n",
    "X_train_ph = X_sk[:,train_vals]\n",
    "Y_train_ph = Y_sk[:,train_vals]\n",
    "\n",
    "X_val_ph = X_sk[:,vals]\n",
    "Y_val_ph = Y_sk[:,vals]"
   ]
  },
  {
   "cell_type": "code",
   "execution_count": 78,
   "metadata": {},
   "outputs": [
    {
     "name": "stdout",
     "output_type": "stream",
     "text": [
      "Transfer precision:  0.490814696485623\n",
      "Transfer recall:  1.0\n"
     ]
    }
   ],
   "source": [
    "#use previously trained logistic regression classifier\n",
    "\n",
    "Y_hat_val = logreg_seattle.predict(X_val_ph.T)\n",
    "\n",
    "p = sklearn.metrics.precision_score(Y_val_ph.T, Y_hat_val.T)\n",
    "r = sklearn.metrics.recall_score(Y_val_ph.T, Y_hat_val.T)\n",
    "\n",
    "print(\"Transfer precision: \", p)\n",
    "print(\"Transfer recall: \", r)"
   ]
  },
  {
   "cell_type": "code",
   "execution_count": 79,
   "metadata": {
    "collapsed": true
   },
   "outputs": [],
   "source": [
    "#logreg_seattle.coef_\n",
    "#logreg_seattle.params"
   ]
  },
  {
   "cell_type": "code",
   "execution_count": null,
   "metadata": {
    "collapsed": true
   },
   "outputs": [],
   "source": [
    "#transfer previous logistic regression classifier\n",
    "logreg_seattle_transfer = None\n",
    "logreg_seattle_transfer = LogisticRegression(tol=0.0001, C=0.9, max_iter=10000, verbose=1, warm_start=False)#, solver=\"saga\")#, n_jobs=-1, solver=\"saga\")\n",
    "#logreg_seattle_transfer.coef_ = copy.copy(logreg_seattle.coef_)\n",
    "logreg_seattle_transfer.fit(X_train_ph.T, Y_train_ph.T)"
   ]
  },
  {
   "cell_type": "code",
   "execution_count": 81,
   "metadata": {},
   "outputs": [
    {
     "ename": "AttributeError",
     "evalue": "'list' object has no attribute 'shape'",
     "output_type": "error",
     "traceback": [
      "\u001b[0;31m---------------------------------------------------------------------------\u001b[0m",
      "\u001b[0;31mAttributeError\u001b[0m                            Traceback (most recent call last)",
      "\u001b[0;32m<ipython-input-81-d149dea9ddbe>\u001b[0m in \u001b[0;36m<module>\u001b[0;34m()\u001b[0m\n\u001b[1;32m      1\u001b[0m \u001b[0;31m#test transfered classifier\u001b[0m\u001b[0;34m\u001b[0m\u001b[0;34m\u001b[0m\u001b[0;34m\u001b[0m\u001b[0m\n\u001b[0;32m----> 2\u001b[0;31m \u001b[0mY_hat_val\u001b[0m \u001b[0;34m=\u001b[0m \u001b[0mlogreg_seattle_transfer\u001b[0m\u001b[0;34m.\u001b[0m\u001b[0mpredict\u001b[0m\u001b[0;34m(\u001b[0m\u001b[0mX_val_ph\u001b[0m\u001b[0;34m.\u001b[0m\u001b[0mT\u001b[0m\u001b[0;34m)\u001b[0m\u001b[0;34m\u001b[0m\u001b[0;34m\u001b[0m\u001b[0m\n\u001b[0m\u001b[1;32m      3\u001b[0m \u001b[0;34m\u001b[0m\u001b[0m\n\u001b[1;32m      4\u001b[0m \u001b[0mp\u001b[0m \u001b[0;34m=\u001b[0m \u001b[0msklearn\u001b[0m\u001b[0;34m.\u001b[0m\u001b[0mmetrics\u001b[0m\u001b[0;34m.\u001b[0m\u001b[0mprecision_score\u001b[0m\u001b[0;34m(\u001b[0m\u001b[0mY_val_ph\u001b[0m\u001b[0;34m.\u001b[0m\u001b[0mT\u001b[0m\u001b[0;34m,\u001b[0m \u001b[0mY_hat_val\u001b[0m\u001b[0;34m.\u001b[0m\u001b[0mT\u001b[0m\u001b[0;34m)\u001b[0m\u001b[0;34m\u001b[0m\u001b[0;34m\u001b[0m\u001b[0m\n\u001b[1;32m      5\u001b[0m \u001b[0mr\u001b[0m \u001b[0;34m=\u001b[0m \u001b[0msklearn\u001b[0m\u001b[0;34m.\u001b[0m\u001b[0mmetrics\u001b[0m\u001b[0;34m.\u001b[0m\u001b[0mrecall_score\u001b[0m\u001b[0;34m(\u001b[0m\u001b[0mY_val_ph\u001b[0m\u001b[0;34m.\u001b[0m\u001b[0mT\u001b[0m\u001b[0;34m,\u001b[0m \u001b[0mY_hat_val\u001b[0m\u001b[0;34m.\u001b[0m\u001b[0mT\u001b[0m\u001b[0;34m)\u001b[0m\u001b[0;34m\u001b[0m\u001b[0;34m\u001b[0m\u001b[0m\n",
      "\u001b[0;32m~/applications/anaconda3/lib/python3.6/site-packages/sklearn/linear_model/base.py\u001b[0m in \u001b[0;36mpredict\u001b[0;34m(self, X)\u001b[0m\n\u001b[1;32m    322\u001b[0m             \u001b[0mPredicted\u001b[0m \u001b[0;32mclass\u001b[0m \u001b[0mlabel\u001b[0m \u001b[0mper\u001b[0m \u001b[0msample\u001b[0m\u001b[0;34m.\u001b[0m\u001b[0;34m\u001b[0m\u001b[0;34m\u001b[0m\u001b[0m\n\u001b[1;32m    323\u001b[0m         \"\"\"\n\u001b[0;32m--> 324\u001b[0;31m         \u001b[0mscores\u001b[0m \u001b[0;34m=\u001b[0m \u001b[0mself\u001b[0m\u001b[0;34m.\u001b[0m\u001b[0mdecision_function\u001b[0m\u001b[0;34m(\u001b[0m\u001b[0mX\u001b[0m\u001b[0;34m)\u001b[0m\u001b[0;34m\u001b[0m\u001b[0;34m\u001b[0m\u001b[0m\n\u001b[0m\u001b[1;32m    325\u001b[0m         \u001b[0;32mif\u001b[0m \u001b[0mlen\u001b[0m\u001b[0;34m(\u001b[0m\u001b[0mscores\u001b[0m\u001b[0;34m.\u001b[0m\u001b[0mshape\u001b[0m\u001b[0;34m)\u001b[0m \u001b[0;34m==\u001b[0m \u001b[0;36m1\u001b[0m\u001b[0;34m:\u001b[0m\u001b[0;34m\u001b[0m\u001b[0;34m\u001b[0m\u001b[0m\n\u001b[1;32m    326\u001b[0m             \u001b[0mindices\u001b[0m \u001b[0;34m=\u001b[0m \u001b[0;34m(\u001b[0m\u001b[0mscores\u001b[0m \u001b[0;34m>\u001b[0m \u001b[0;36m0\u001b[0m\u001b[0;34m)\u001b[0m\u001b[0;34m.\u001b[0m\u001b[0mastype\u001b[0m\u001b[0;34m(\u001b[0m\u001b[0mnp\u001b[0m\u001b[0;34m.\u001b[0m\u001b[0mint\u001b[0m\u001b[0;34m)\u001b[0m\u001b[0;34m\u001b[0m\u001b[0;34m\u001b[0m\u001b[0m\n",
      "\u001b[0;32m~/applications/anaconda3/lib/python3.6/site-packages/sklearn/linear_model/base.py\u001b[0m in \u001b[0;36mdecision_function\u001b[0;34m(self, X)\u001b[0m\n\u001b[1;32m    300\u001b[0m         \u001b[0mX\u001b[0m \u001b[0;34m=\u001b[0m \u001b[0mcheck_array\u001b[0m\u001b[0;34m(\u001b[0m\u001b[0mX\u001b[0m\u001b[0;34m,\u001b[0m \u001b[0maccept_sparse\u001b[0m\u001b[0;34m=\u001b[0m\u001b[0;34m'csr'\u001b[0m\u001b[0;34m)\u001b[0m\u001b[0;34m\u001b[0m\u001b[0;34m\u001b[0m\u001b[0m\n\u001b[1;32m    301\u001b[0m \u001b[0;34m\u001b[0m\u001b[0m\n\u001b[0;32m--> 302\u001b[0;31m         \u001b[0mn_features\u001b[0m \u001b[0;34m=\u001b[0m \u001b[0mself\u001b[0m\u001b[0;34m.\u001b[0m\u001b[0mcoef_\u001b[0m\u001b[0;34m.\u001b[0m\u001b[0mshape\u001b[0m\u001b[0;34m[\u001b[0m\u001b[0;36m1\u001b[0m\u001b[0;34m]\u001b[0m\u001b[0;34m\u001b[0m\u001b[0;34m\u001b[0m\u001b[0m\n\u001b[0m\u001b[1;32m    303\u001b[0m         \u001b[0;32mif\u001b[0m \u001b[0mX\u001b[0m\u001b[0;34m.\u001b[0m\u001b[0mshape\u001b[0m\u001b[0;34m[\u001b[0m\u001b[0;36m1\u001b[0m\u001b[0;34m]\u001b[0m \u001b[0;34m!=\u001b[0m \u001b[0mn_features\u001b[0m\u001b[0;34m:\u001b[0m\u001b[0;34m\u001b[0m\u001b[0;34m\u001b[0m\u001b[0m\n\u001b[1;32m    304\u001b[0m             raise ValueError(\"X has %d features per sample; expecting %d\"\n",
      "\u001b[0;31mAttributeError\u001b[0m: 'list' object has no attribute 'shape'"
     ]
    }
   ],
   "source": [
    "#test transfered classifier\n",
    "Y_hat_val = logreg_seattle_transfer.predict(X_val_ph.T)\n",
    "\n",
    "p = sklearn.metrics.precision_score(Y_val_ph.T, Y_hat_val.T)\n",
    "r = sklearn.metrics.recall_score(Y_val_ph.T, Y_hat_val.T)\n",
    "\n",
    "print(\"Transfer precision: \", p)\n",
    "print(\"Transfer recall: \", r)"
   ]
  },
  {
   "cell_type": "code",
   "execution_count": 83,
   "metadata": {},
   "outputs": [
    {
     "ename": "AttributeError",
     "evalue": "'list' object has no attribute 'shape'",
     "output_type": "error",
     "traceback": [
      "\u001b[0;31m---------------------------------------------------------------------------\u001b[0m",
      "\u001b[0;31mAttributeError\u001b[0m                            Traceback (most recent call last)",
      "\u001b[0;32m<ipython-input-83-05946d8f1d56>\u001b[0m in \u001b[0;36m<module>\u001b[0;34m()\u001b[0m\n\u001b[0;32m----> 1\u001b[0;31m \u001b[0mplot_polling_val_data\u001b[0m\u001b[0;34m(\u001b[0m\u001b[0mX_val_ph\u001b[0m\u001b[0;34m,\u001b[0m \u001b[0mY_val_ph\u001b[0m\u001b[0;34m,\u001b[0m \u001b[0mlogreg_seattle_transfer\u001b[0m\u001b[0;34m)\u001b[0m\u001b[0;34m\u001b[0m\u001b[0;34m\u001b[0m\u001b[0m\n\u001b[0m",
      "\u001b[0;32m~/projects/building_transfer/notebooks/buildsys_funcs.py\u001b[0m in \u001b[0;36mplot_polling_val_data\u001b[0;34m(X_val_log_reg, Y_val_log_reg, sklearn_predictor)\u001b[0m\n\u001b[1;32m    175\u001b[0m         \u001b[0;31m#if no fault\u001b[0m\u001b[0;34m\u001b[0m\u001b[0;34m\u001b[0m\u001b[0;34m\u001b[0m\u001b[0m\n\u001b[1;32m    176\u001b[0m         \u001b[0;32mif\u001b[0m \u001b[0mY_val_log_reg\u001b[0m\u001b[0;34m[\u001b[0m\u001b[0;36m0\u001b[0m\u001b[0;34m,\u001b[0m\u001b[0mi\u001b[0m\u001b[0;34m]\u001b[0m \u001b[0;34m==\u001b[0m \u001b[0;36m0\u001b[0m\u001b[0;34m:\u001b[0m\u001b[0;34m\u001b[0m\u001b[0;34m\u001b[0m\u001b[0m\n\u001b[0;32m--> 177\u001b[0;31m             \u001b[0mY_hat\u001b[0m \u001b[0;34m=\u001b[0m \u001b[0msklearn_predictor\u001b[0m\u001b[0;34m.\u001b[0m\u001b[0mpredict\u001b[0m\u001b[0;34m(\u001b[0m\u001b[0mX_val_log_reg\u001b[0m\u001b[0;34m[\u001b[0m\u001b[0;34m:\u001b[0m\u001b[0;34m,\u001b[0m\u001b[0mi\u001b[0m\u001b[0;34m]\u001b[0m\u001b[0;34m.\u001b[0m\u001b[0mT\u001b[0m\u001b[0;34m.\u001b[0m\u001b[0mreshape\u001b[0m\u001b[0;34m(\u001b[0m\u001b[0;36m1\u001b[0m\u001b[0;34m,\u001b[0m \u001b[0;34m-\u001b[0m\u001b[0;36m1\u001b[0m\u001b[0;34m)\u001b[0m\u001b[0;34m)\u001b[0m\u001b[0;34m\u001b[0m\u001b[0;34m\u001b[0m\u001b[0m\n\u001b[0m\u001b[1;32m    178\u001b[0m             \u001b[0;32mif\u001b[0m \u001b[0mY_hat\u001b[0m \u001b[0;34m==\u001b[0m \u001b[0;36m0\u001b[0m\u001b[0;34m:\u001b[0m\u001b[0;34m\u001b[0m\u001b[0;34m\u001b[0m\u001b[0m\n\u001b[1;32m    179\u001b[0m                 \u001b[0mnofault_votes\u001b[0m\u001b[0;34m.\u001b[0m\u001b[0mappend\u001b[0m\u001b[0;34m(\u001b[0m\u001b[0mnofault_votes\u001b[0m\u001b[0;34m[\u001b[0m\u001b[0;34m-\u001b[0m\u001b[0;36m1\u001b[0m\u001b[0;34m]\u001b[0m \u001b[0;34m-\u001b[0m \u001b[0;36m1\u001b[0m\u001b[0;34m)\u001b[0m\u001b[0;34m\u001b[0m\u001b[0;34m\u001b[0m\u001b[0m\n",
      "\u001b[0;32m~/applications/anaconda3/lib/python3.6/site-packages/sklearn/linear_model/base.py\u001b[0m in \u001b[0;36mpredict\u001b[0;34m(self, X)\u001b[0m\n\u001b[1;32m    322\u001b[0m             \u001b[0mPredicted\u001b[0m \u001b[0;32mclass\u001b[0m \u001b[0mlabel\u001b[0m \u001b[0mper\u001b[0m \u001b[0msample\u001b[0m\u001b[0;34m.\u001b[0m\u001b[0;34m\u001b[0m\u001b[0;34m\u001b[0m\u001b[0m\n\u001b[1;32m    323\u001b[0m         \"\"\"\n\u001b[0;32m--> 324\u001b[0;31m         \u001b[0mscores\u001b[0m \u001b[0;34m=\u001b[0m \u001b[0mself\u001b[0m\u001b[0;34m.\u001b[0m\u001b[0mdecision_function\u001b[0m\u001b[0;34m(\u001b[0m\u001b[0mX\u001b[0m\u001b[0;34m)\u001b[0m\u001b[0;34m\u001b[0m\u001b[0;34m\u001b[0m\u001b[0m\n\u001b[0m\u001b[1;32m    325\u001b[0m         \u001b[0;32mif\u001b[0m \u001b[0mlen\u001b[0m\u001b[0;34m(\u001b[0m\u001b[0mscores\u001b[0m\u001b[0;34m.\u001b[0m\u001b[0mshape\u001b[0m\u001b[0;34m)\u001b[0m \u001b[0;34m==\u001b[0m \u001b[0;36m1\u001b[0m\u001b[0;34m:\u001b[0m\u001b[0;34m\u001b[0m\u001b[0;34m\u001b[0m\u001b[0m\n\u001b[1;32m    326\u001b[0m             \u001b[0mindices\u001b[0m \u001b[0;34m=\u001b[0m \u001b[0;34m(\u001b[0m\u001b[0mscores\u001b[0m \u001b[0;34m>\u001b[0m \u001b[0;36m0\u001b[0m\u001b[0;34m)\u001b[0m\u001b[0;34m.\u001b[0m\u001b[0mastype\u001b[0m\u001b[0;34m(\u001b[0m\u001b[0mnp\u001b[0m\u001b[0;34m.\u001b[0m\u001b[0mint\u001b[0m\u001b[0;34m)\u001b[0m\u001b[0;34m\u001b[0m\u001b[0;34m\u001b[0m\u001b[0m\n",
      "\u001b[0;32m~/applications/anaconda3/lib/python3.6/site-packages/sklearn/linear_model/base.py\u001b[0m in \u001b[0;36mdecision_function\u001b[0;34m(self, X)\u001b[0m\n\u001b[1;32m    300\u001b[0m         \u001b[0mX\u001b[0m \u001b[0;34m=\u001b[0m \u001b[0mcheck_array\u001b[0m\u001b[0;34m(\u001b[0m\u001b[0mX\u001b[0m\u001b[0;34m,\u001b[0m \u001b[0maccept_sparse\u001b[0m\u001b[0;34m=\u001b[0m\u001b[0;34m'csr'\u001b[0m\u001b[0;34m)\u001b[0m\u001b[0;34m\u001b[0m\u001b[0;34m\u001b[0m\u001b[0m\n\u001b[1;32m    301\u001b[0m \u001b[0;34m\u001b[0m\u001b[0m\n\u001b[0;32m--> 302\u001b[0;31m         \u001b[0mn_features\u001b[0m \u001b[0;34m=\u001b[0m \u001b[0mself\u001b[0m\u001b[0;34m.\u001b[0m\u001b[0mcoef_\u001b[0m\u001b[0;34m.\u001b[0m\u001b[0mshape\u001b[0m\u001b[0;34m[\u001b[0m\u001b[0;36m1\u001b[0m\u001b[0;34m]\u001b[0m\u001b[0;34m\u001b[0m\u001b[0;34m\u001b[0m\u001b[0m\n\u001b[0m\u001b[1;32m    303\u001b[0m         \u001b[0;32mif\u001b[0m \u001b[0mX\u001b[0m\u001b[0;34m.\u001b[0m\u001b[0mshape\u001b[0m\u001b[0;34m[\u001b[0m\u001b[0;36m1\u001b[0m\u001b[0;34m]\u001b[0m \u001b[0;34m!=\u001b[0m \u001b[0mn_features\u001b[0m\u001b[0;34m:\u001b[0m\u001b[0;34m\u001b[0m\u001b[0;34m\u001b[0m\u001b[0m\n\u001b[1;32m    304\u001b[0m             raise ValueError(\"X has %d features per sample; expecting %d\"\n",
      "\u001b[0;31mAttributeError\u001b[0m: 'list' object has no attribute 'shape'"
     ]
    }
   ],
   "source": [
    "plot_polling_val_data(X_val_ph, Y_val_ph, logreg_seattle_transfer)"
   ]
  },
  {
   "cell_type": "code",
   "execution_count": null,
   "metadata": {
    "collapsed": true
   },
   "outputs": [],
   "source": [
    "Y_hat_val, Y_val_ph"
   ]
  },
  {
   "cell_type": "code",
   "execution_count": null,
   "metadata": {
    "collapsed": true
   },
   "outputs": [],
   "source": []
  },
  {
   "cell_type": "code",
   "execution_count": null,
   "metadata": {
    "collapsed": true
   },
   "outputs": [],
   "source": []
  },
  {
   "cell_type": "code",
   "execution_count": null,
   "metadata": {
    "collapsed": true
   },
   "outputs": [],
   "source": []
  }
 ],
 "metadata": {
  "kernelspec": {
   "display_name": "Python 3.7",
   "language": "python",
   "name": "conda3"
  },
  "language_info": {
   "codemirror_mode": {
    "name": "ipython",
    "version": 3
   },
   "file_extension": ".py",
   "mimetype": "text/x-python",
   "name": "python",
   "nbconvert_exporter": "python",
   "pygments_lexer": "ipython3",
   "version": "3.7.3"
  }
 },
 "nbformat": 4,
 "nbformat_minor": 2
}
