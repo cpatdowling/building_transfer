{
 "cells": [
  {
   "cell_type": "code",
   "execution_count": 1,
   "metadata": {},
   "outputs": [
    {
     "data": {
      "text/html": [
       "\n",
       "<style>\n",
       "    div#notebook-container    { width: 95%; }\n",
       "    div#menubar-container     { width: 65%; }\n",
       "    div#maintoolbar-container { width: 99%; }\n",
       "</style>\n"
      ],
      "text/plain": [
       "<IPython.core.display.HTML object>"
      ]
     },
     "metadata": {},
     "output_type": "display_data"
    }
   ],
   "source": [
    "#cells will fill entire width of the browser\n",
    "from IPython.display import display, HTML\n",
    "\n",
    "display(HTML(data=\"\"\"\n",
    "<style>\n",
    "    div#notebook-container    { width: 95%; }\n",
    "    div#menubar-container     { width: 65%; }\n",
    "    div#maintoolbar-container { width: 99%; }\n",
    "</style>\n",
    "\"\"\"))\n",
    "\n",
    "#Tells Jupyter to reload custom classes from scratch everytime an import cell is run, if you edit a custom class\n",
    "#between imports Jupyter would otherwise need to be restarted completely. Buyer beware: old class objects in the \n",
    "#current namespace will cause errors at execution\n",
    "%load_ext autoreload\n",
    "%autoreload 2\n",
    "\n",
    "#switches matplotlib to show plots in the browser rather than opening a new window\n",
    "%matplotlib inline\n",
    "\n",
    "#always forget to do this for better looking plots\n",
    "import seaborn\n",
    "seaborn.set()"
   ]
  },
  {
   "cell_type": "code",
   "execution_count": 3,
   "metadata": {},
   "outputs": [],
   "source": [
    "import matplotlib.pyplot as plt\n",
    "import os\n",
    "import numpy as np\n",
    "import datetime\n",
    "from statsmodels.tsa import stattools\n",
    "from sklearn import preprocessing\n",
    "import random\n",
    "import copy\n",
    "import scipy\n",
    "import sklearn.metrics\n",
    "from sklearn.linear_model import LogisticRegression\n",
    "\n",
    "import torch\n",
    "import torch.nn as nn\n",
    "import torch.nn.functional as F\n",
    "from torch.autograd import Variable\n",
    "import torch.optim as optim\n",
    "\n",
    "#energyplus processing functions\n",
    "from eplusprocessing import *\n",
    "from buildsys_funcs import *"
   ]
  },
  {
   "cell_type": "markdown",
   "metadata": {},
   "source": [
    "### Numerical Results"
   ]
  },
  {
   "cell_type": "code",
   "execution_count": 16,
   "metadata": {},
   "outputs": [],
   "source": [
    "#initialize A, PD\n",
    "A = np.array([[0.9, 0.0],\n",
    "              [0.0, -0.4]])\n",
    "\n",
    "lags = [5,10,20,50]\n",
    "MC = 100#500\n",
    "num_samps = 500\n",
    "\n",
    "num_samps_list = [0,5,10,20,50,100,250,500]"
   ]
  },
  {
   "cell_type": "code",
   "execution_count": 5,
   "metadata": {},
   "outputs": [
    {
     "name": "stdout",
     "output_type": "stream",
     "text": [
      "Lag round:  5\n",
      "Matrix initialization round:  0\n",
      "Matrix initialization round:  10\n",
      "Matrix initialization round:  20\n",
      "Matrix initialization round:  30\n",
      "Matrix initialization round:  40\n",
      "Matrix initialization round:  50\n",
      "Matrix initialization round:  60\n",
      "Matrix initialization round:  70\n",
      "Matrix initialization round:  80\n",
      "Matrix initialization round:  90\n",
      "Lag round:  10\n",
      "Matrix initialization round:  0\n",
      "Matrix initialization round:  10\n",
      "Matrix initialization round:  20\n",
      "Matrix initialization round:  30\n",
      "Matrix initialization round:  40\n",
      "Matrix initialization round:  50\n",
      "Matrix initialization round:  60\n",
      "Matrix initialization round:  70\n",
      "Matrix initialization round:  80\n",
      "Matrix initialization round:  90\n",
      "Lag round:  20\n",
      "Matrix initialization round:  0\n",
      "Matrix initialization round:  10\n",
      "Matrix initialization round:  20\n",
      "Matrix initialization round:  30\n",
      "Matrix initialization round:  40\n",
      "Matrix initialization round:  50\n",
      "Matrix initialization round:  60\n",
      "Matrix initialization round:  70\n",
      "Matrix initialization round:  80\n",
      "Matrix initialization round:  90\n",
      "Lag round:  50\n",
      "Matrix initialization round:  0\n",
      "Matrix initialization round:  10\n",
      "Matrix initialization round:  20\n",
      "Matrix initialization round:  30\n",
      "Matrix initialization round:  40\n",
      "Matrix initialization round:  50\n",
      "Matrix initialization round:  60\n",
      "Matrix initialization round:  70\n",
      "Matrix initialization round:  80\n",
      "Matrix initialization round:  90\n"
     ]
    }
   ],
   "source": [
    "mc_output_by_lag = {}\n",
    "\n",
    "for M in lags:\n",
    "    print(\"Lag round: \", M)\n",
    "    mc_output_by_lag[M] = np.zeros((MC,3))\n",
    "    for j in range(MC):\n",
    "        if j % 10 == 0:\n",
    "            print(\"Matrix initialization round: \", j)\n",
    "        #B = A + randomly sample an element of A to perturb by N(0,1)\n",
    "        #e = np.unravel_index(np.random.choice([i for i in range(A.shape[0]*A.shape[1])]), dims=A.shape)\n",
    "        B = copy.copy(A) + np.random.normal(size=A.shape)\n",
    "        #B[e] += np.random.normal(0,1)\n",
    "        mc_output_by_lag[M][j,0] = np.linalg.norm(B-A,'fro')\n",
    "        \n",
    "        #generate a bunch of samples\n",
    "        X_s = np.random.normal(size=(2,num_samps))##, size=(2,1000))\n",
    "        Y_s = A.dot(X_s) + np.asarray([ np.random.normal(0, np.eye(2))[:,0] for i in range(num_samps) ]).T\n",
    "        Y_s_b = B.dot(X_s) + np.asarray([ np.random.normal(0, np.eye(2))[:,0] for i in range(num_samps) ]).T\n",
    "        \n",
    "        f_bin = []\n",
    "        nf_bin = []\n",
    "        \n",
    "        for i in range(X_s.shape[1] - M):\n",
    "            #for each sample\n",
    "            nf_sum = [0.0]\n",
    "            f_sum = [0.0]\n",
    "            \n",
    "\n",
    "            for k in range(M):\n",
    "                #collect likelihood across lag\n",
    "                nf = likelihood_point(np.expand_dims(X_s[:,i+k], axis=1), np.expand_dims(Y_s[:,i+k], axis=1), A)\n",
    "                f = likelihood_point(np.expand_dims(X_s[:,i+k], axis=1), np.expand_dims(Y_s_b[:,i+k], axis=1), A)\n",
    "\n",
    "                nf_sum.append(nf_sum[-1] + nf)\n",
    "                f_sum.append(f_sum[-1] + f)\n",
    "\n",
    "\n",
    "            if f_sum[-1] > 0:\n",
    "                f_bin.append(1)\n",
    "            else:\n",
    "                f_bin.append(0)\n",
    "\n",
    "            if nf_sum[-1] > 0:\n",
    "                nf_bin.append(1)\n",
    "            else:\n",
    "                nf_bin.append(0)\n",
    "                    \n",
    "        pred = np.concatenate((f_bin, nf_bin))\n",
    "        true = np.concatenate((np.ones(np.asarray(f_bin).shape), np.zeros(np.asarray(nf_bin).shape)))\n",
    "\n",
    "        p = sklearn.metrics.precision_score(true, pred)\n",
    "        r = sklearn.metrics.recall_score(true, pred)\n",
    "                \n",
    "        mc_output_by_lag[M][j,1] = p\n",
    "        mc_output_by_lag[M][j,2] = r"
   ]
  },
  {
   "cell_type": "code",
   "execution_count": 6,
   "metadata": {},
   "outputs": [
    {
     "name": "stdout",
     "output_type": "stream",
     "text": [
      "5 :  [1.93183533 0.81067325 0.8789697 ]\n",
      "10 :  [1.87052638 0.85451634 0.91446939]\n",
      "20 :  [1.75262123 0.91044489 0.92683333]\n",
      "50 :  [1.90743318 0.97252455 0.9442    ]\n"
     ]
    }
   ],
   "source": [
    "for M in lags:\n",
    "    print(M, \": \", np.mean(mc_output_by_lag[M], axis=0))"
   ]
  },
  {
   "cell_type": "code",
   "execution_count": 12,
   "metadata": {},
   "outputs": [
    {
     "data": {
      "image/png": "[encoded data removed]",
      "text/plain": [
       "<matplotlib.figure.Figure at 0x7fdddf7cf5c0>"
      ]
     },
     "metadata": {},
     "output_type": "display_data"
    }
   ],
   "source": [
    "M = 10\n",
    "\n",
    "plt.scatter(mc_output_by_lag[M][:,0], mc_output_by_lag[M][:,1], label=\"precision\")\n",
    "plt.scatter(mc_output_by_lag[M][:,0], mc_output_by_lag[M][:,2], label=\"recall\")\n",
    "plt.legend()\n",
    "plt.show()"
   ]
  },
  {
   "cell_type": "code",
   "execution_count": 8,
   "metadata": {},
   "outputs": [
    {
     "ename": "NameError",
     "evalue": "name 'outputs' is not defined",
     "output_type": "error",
     "traceback": [
      "\u001b[0;31m---------------------------------------------------------------------------\u001b[0m",
      "\u001b[0;31mNameError\u001b[0m                                 Traceback (most recent call last)",
      "\u001b[0;32m<ipython-input-8-006e50c12d1d>\u001b[0m in \u001b[0;36m<module>\u001b[0;34m()\u001b[0m\n\u001b[0;32m----> 1\u001b[0;31m \u001b[0mplt\u001b[0m\u001b[0;34m.\u001b[0m\u001b[0mscatter\u001b[0m\u001b[0;34m(\u001b[0m\u001b[0moutputs\u001b[0m\u001b[0;34m[\u001b[0m\u001b[0;34m:\u001b[0m\u001b[0;34m,\u001b[0m\u001b[0;36m0\u001b[0m\u001b[0;34m]\u001b[0m\u001b[0;34m,\u001b[0m\u001b[0;36m2\u001b[0m\u001b[0;34m*\u001b[0m\u001b[0;34m(\u001b[0m\u001b[0;34m(\u001b[0m\u001b[0moutputs\u001b[0m\u001b[0;34m[\u001b[0m\u001b[0;34m:\u001b[0m\u001b[0;34m,\u001b[0m\u001b[0;36m1\u001b[0m\u001b[0;34m]\u001b[0m\u001b[0;34m*\u001b[0m\u001b[0moutputs\u001b[0m\u001b[0;34m[\u001b[0m\u001b[0;34m:\u001b[0m\u001b[0;34m,\u001b[0m\u001b[0;36m2\u001b[0m\u001b[0;34m]\u001b[0m\u001b[0;34m)\u001b[0m\u001b[0;34m/\u001b[0m\u001b[0;34m(\u001b[0m\u001b[0moutputs\u001b[0m\u001b[0;34m[\u001b[0m\u001b[0;34m:\u001b[0m\u001b[0;34m,\u001b[0m\u001b[0;36m1\u001b[0m\u001b[0;34m]\u001b[0m \u001b[0;34m+\u001b[0m \u001b[0moutputs\u001b[0m\u001b[0;34m[\u001b[0m\u001b[0;34m:\u001b[0m\u001b[0;34m,\u001b[0m\u001b[0;36m2\u001b[0m\u001b[0;34m]\u001b[0m\u001b[0;34m)\u001b[0m\u001b[0;34m)\u001b[0m\u001b[0;34m,\u001b[0m\u001b[0mlabe\u001b[0m\u001b[0;34m=\u001b[0m\u001b[0;34m\"F1\"\u001b[0m\u001b[0;34m)\u001b[0m\u001b[0;34m\u001b[0m\u001b[0;34m\u001b[0m\u001b[0m\n\u001b[0m\u001b[1;32m      2\u001b[0m \u001b[0mplt\u001b[0m\u001b[0;34m.\u001b[0m\u001b[0mlegend\u001b[0m\u001b[0;34m(\u001b[0m\u001b[0;34m)\u001b[0m\u001b[0;34m\u001b[0m\u001b[0;34m\u001b[0m\u001b[0m\n\u001b[1;32m      3\u001b[0m \u001b[0mplt\u001b[0m\u001b[0;34m.\u001b[0m\u001b[0mshow\u001b[0m\u001b[0;34m(\u001b[0m\u001b[0;34m)\u001b[0m\u001b[0;34m\u001b[0m\u001b[0;34m\u001b[0m\u001b[0m\n",
      "\u001b[0;31mNameError\u001b[0m: name 'outputs' is not defined"
     ]
    }
   ],
   "source": [
    "plt.scatter(outputs[:,0],2*((outputs[:,1]*outputs[:,2])/(outputs[:,1] + outputs[:,2])),labe=\"F1\")\n",
    "plt.legend()\n",
    "plt.show()"
   ]
  },
  {
   "cell_type": "code",
   "execution_count": 17,
   "metadata": {},
   "outputs": [
    {
     "name": "stdout",
     "output_type": "stream",
     "text": [
      "Number of training samples:  5\n",
      "Matrix initialization round:  0\n"
     ]
    },
    {
     "name": "stderr",
     "output_type": "stream",
     "text": [
      "/home/chase/applications/anaconda3/lib/python3.6/site-packages/sklearn/metrics/classification.py:1135: UndefinedMetricWarning: Precision is ill-defined and being set to 0.0 due to no predicted samples.\n",
      "  'precision', 'predicted', average, warn_for)\n"
     ]
    },
    {
     "name": "stdout",
     "output_type": "stream",
     "text": [
      "Matrix initialization round:  10\n",
      "Matrix initialization round:  20\n",
      "Matrix initialization round:  30\n",
      "Matrix initialization round:  40\n",
      "Matrix initialization round:  50\n",
      "Matrix initialization round:  60\n",
      "Matrix initialization round:  70\n",
      "Matrix initialization round:  80\n",
      "Matrix initialization round:  90\n",
      "Number of training samples:  10\n",
      "Matrix initialization round:  0\n",
      "Matrix initialization round:  10\n",
      "Matrix initialization round:  20\n",
      "Matrix initialization round:  30\n",
      "Matrix initialization round:  40\n",
      "Matrix initialization round:  50\n",
      "Matrix initialization round:  60\n",
      "Matrix initialization round:  70\n",
      "Matrix initialization round:  80\n",
      "Matrix initialization round:  90\n",
      "Number of training samples:  20\n",
      "Matrix initialization round:  0\n",
      "Matrix initialization round:  10\n",
      "Matrix initialization round:  20\n",
      "Matrix initialization round:  30\n",
      "Matrix initialization round:  40\n",
      "Matrix initialization round:  50\n",
      "Matrix initialization round:  60\n",
      "Matrix initialization round:  70\n",
      "Matrix initialization round:  80\n",
      "Matrix initialization round:  90\n",
      "Number of training samples:  50\n",
      "Matrix initialization round:  0\n",
      "Matrix initialization round:  10\n",
      "Matrix initialization round:  20\n",
      "Matrix initialization round:  30\n",
      "Matrix initialization round:  40\n",
      "Matrix initialization round:  50\n",
      "Matrix initialization round:  60\n",
      "Matrix initialization round:  70\n",
      "Matrix initialization round:  80\n",
      "Matrix initialization round:  90\n",
      "Number of training samples:  100\n",
      "Matrix initialization round:  0\n",
      "Matrix initialization round:  10\n",
      "Matrix initialization round:  20\n",
      "Matrix initialization round:  30\n",
      "Matrix initialization round:  40\n",
      "Matrix initialization round:  50\n",
      "Matrix initialization round:  60\n",
      "Matrix initialization round:  70\n",
      "Matrix initialization round:  80\n",
      "Matrix initialization round:  90\n"
     ]
    }
   ],
   "source": [
    "mc_output_by_lag_true = {}\n",
    "mc_output_by_lag_est = {}\n",
    "    \n",
    "M = 20 #fixed lag\n",
    "\n",
    "for N in num_samps_list:\n",
    "    print(\"Number of training samples: \", N)\n",
    "    mc_output_by_lag_true[N] = np.zeros((MC,3))\n",
    "    mc_output_by_lag_est[N] = np.zeros((MC,3))\n",
    "    for j in range(MC):\n",
    "        if j % 10 == 0:\n",
    "            print(\"Matrix initialization round: \", j)\n",
    "        B = copy.copy(A) + 0.8*np.random.normal(size=A.shape) #shrink the changes to ensure span of B is closer to A\n",
    "        \n",
    "        #generate training set\n",
    "        X_train = np.random.normal(size=(2,N))\n",
    "        Y_train = B.dot(X_train) + np.asarray([ np.random.normal(0, np.eye(2))[:,0] for i in range(N) ]).T\n",
    "        \n",
    "        #generate validation set\n",
    "        C = copy.copy(B) + np.random.normal(size=B.shape)\n",
    "        \n",
    "        X_val = np.random.normal(size=(2,num_samps))\n",
    "        Y_val = B.dot(X_val) + np.asarray([ np.random.normal(0, np.eye(2))[:,0] for i in range(num_samps) ]).T\n",
    "        Y_val_f = C.dot(X_val) + np.asarray([ np.random.normal(0, np.eye(2))[:,0] for i in range(num_samps) ]).T\n",
    "        \n",
    "        #retrain A\n",
    "        #initialize network\n",
    "        params = {'FEATURE_DIM': A.shape[0], 'OUTPUT_DIM': A.shape[1]}\n",
    "        net = linear_nnet(params)\n",
    "        net.l1.weight.data = torch.Tensor(A)  #initialize at A\n",
    "\n",
    "        #train linear state estimator\n",
    "        if N == 0:\n",
    "            B_hat = A\n",
    "        else:\n",
    "            train_linear_state_estimation(net, params, X_train, X_val, Y_train, Y_val, epochs=1000, batch_size=int(N/5), verbose=False, validate=False)\n",
    "            B_hat = net.l1.weight.data.numpy()\n",
    "        \n",
    "        mc_output_by_lag_true[N][j,0] = np.linalg.norm(C-B,'fro')\n",
    "        mc_output_by_lag_est[N][j,0] = np.linalg.norm(C-B_hat, 'fro')\n",
    "        \n",
    "        f_bin_true = []\n",
    "        nf_bin_true = []\n",
    "        \n",
    "        f_bin_est = []\n",
    "        nf_bin_est = []\n",
    "        \n",
    "        for i in range(X_val.shape[1] - M):\n",
    "            #True B\n",
    "            nf_sum_true = [0.0]\n",
    "            f_sum_true = [0.0]\n",
    "            \n",
    "            #estimated B\n",
    "            nf_sum_est = [0.0]\n",
    "            f_sum_est = [0.0]\n",
    "\n",
    "            for k in range(M):\n",
    "                #collect likelihood across lag: true B\n",
    "                nf_true = likelihood_point(np.expand_dims(X_val[:,i+k], axis=1), np.expand_dims(Y_val[:,i+k], axis=1), B)\n",
    "                f_true = likelihood_point(np.expand_dims(X_val[:,i+k], axis=1), np.expand_dims(Y_val_f[:,i+k], axis=1), B)\n",
    "\n",
    "                nf_sum_true.append(nf_sum_true[-1] + nf_true)\n",
    "                f_sum_true.append(f_sum_true[-1] + f_true)\n",
    "                \n",
    "                #collect likelihood across lag: estimated B\n",
    "                nf_est = likelihood_point(np.expand_dims(X_val[:,i+k], axis=1), np.expand_dims(Y_val[:,i+k], axis=1), B_hat)\n",
    "                f_est = likelihood_point(np.expand_dims(X_val[:,i+k], axis=1), np.expand_dims(Y_val_f[:,i+k], axis=1), B_hat)\n",
    "\n",
    "                nf_sum_est.append(nf_sum_est[-1] + nf_est)\n",
    "                f_sum_est.append(f_sum_est[-1] + f_est)\n",
    "\n",
    "            #evaluate true B likelihoods\n",
    "            if f_sum_true[-1] > 0:\n",
    "                f_bin_true.append(1)\n",
    "            else:\n",
    "                f_bin_true.append(0)\n",
    "\n",
    "            if nf_sum_true[-1] > 0:\n",
    "                nf_bin_true.append(1)\n",
    "            else:\n",
    "                nf_bin_true.append(0)\n",
    "                    \n",
    "            pred_t = np.concatenate((f_bin_true, nf_bin_true))\n",
    "            true_t = np.concatenate((np.ones(np.asarray(f_bin_true).shape), np.zeros(np.asarray(nf_bin_true).shape)))\n",
    "\n",
    "            p_t = sklearn.metrics.precision_score(true_t, pred_t)\n",
    "            r_t = sklearn.metrics.recall_score(true_t, pred_t)\n",
    "\n",
    "            mc_output_by_lag_true[N][j,1] = p_t\n",
    "            mc_output_by_lag_true[N][j,2] = r_t\n",
    "            \n",
    "            #evaluate estimated B likelihoods\n",
    "            if f_sum_est[-1] > 0:\n",
    "                f_bin_est.append(1)\n",
    "            else:\n",
    "                f_bin_est.append(0)\n",
    "\n",
    "            if nf_sum_est[-1] > 0:\n",
    "                nf_bin_est.append(1)\n",
    "            else:\n",
    "                nf_bin_est.append(0)\n",
    "                    \n",
    "            pred_e = np.concatenate((f_bin_est, nf_bin_est))\n",
    "            true_e = np.concatenate((np.ones(np.asarray(f_bin_est).shape), np.zeros(np.asarray(nf_bin_est).shape)))\n",
    "\n",
    "            p_e = sklearn.metrics.precision_score(true_e, pred_e)\n",
    "            r_e = sklearn.metrics.recall_score(true_e, pred_e)\n",
    "\n",
    "            mc_output_by_lag_est[N][j,1] = p_e\n",
    "            mc_output_by_lag_est[N][j,2] = r_e\n"
   ]
  },
  {
   "cell_type": "code",
   "execution_count": 22,
   "metadata": {},
   "outputs": [
    {
     "name": "stdout",
     "output_type": "stream",
     "text": [
      "Number of training samples:  5\n",
      "True B:  [1.83985735 0.64009141 0.96783673]\n",
      "Est B:  [2.15603943 0.58993861 0.97944898]\n",
      "Number of training samples:  10\n",
      "True B:  [1.96571064 0.65078123 0.97622449]\n",
      "Est B:  [2.04513369 0.60045816 0.97157143]\n",
      "Number of training samples:  20\n",
      "True B:  [1.96839393 0.63406792 0.9705102 ]\n",
      "Est B:  [2.01248437 0.61533335 0.97922449]\n",
      "Number of training samples:  50\n",
      "True B:  [1.91358676 0.62838914 0.97083673]\n",
      "Est B:  [1.92935034 0.61426096 0.97883673]\n",
      "Number of training samples:  100\n",
      "True B:  [1.92402528 0.64941429 0.9735102 ]\n",
      "Est B:  [1.92989204 0.64438039 0.97126531]\n"
     ]
    }
   ],
   "source": [
    "div_B_true = []\n",
    "div_B_est = []\n",
    "\n",
    "prec_B_true = []\n",
    "prec_B_est = []\n",
    "\n",
    "rec_B_true = []\n",
    "rec_B_est = []\n",
    "\n",
    "for N in num_samps_list:\n",
    "    print(\"Number of training samples: \", N)\n",
    "    print(\"True B: \", np.mean(mc_output_by_lag_true[N], axis=0))\n",
    "    print(\"Est B: \", np.mean(mc_output_by_lag_est[N], axis=0))\n",
    "    \n",
    "    div_B_true.append(np.mean(mc_output_by_lag_true[N], axis=0)[0])\n",
    "    prec_B_true.append(np.mean(mc_output_by_lag_true[N], axis=0)[1])\n",
    "    rec_B_true.append(np.mean(mc_output_by_lag_true[N], axis=0)[2])\n",
    "    \n",
    "    div_B_est.append(np.mean(mc_output_by_lag_est[N], axis=0)[0])\n",
    "    prec_B_est.append(np.mean(mc_output_by_lag_est[N], axis=0)[1])\n",
    "    rec_B_est.append(np.mean(mc_output_by_lag_est[N], axis=0)[2])"
   ]
  },
  {
   "cell_type": "code",
   "execution_count": 25,
   "metadata": {},
   "outputs": [
    {
     "data": {
      "image/png": "[encoded data removed]",
      "text/plain": [
       "<matplotlib.figure.Figure at 0x7f0276772278>"
      ]
     },
     "metadata": {},
     "output_type": "display_data"
    }
   ],
   "source": [
    "plt.plot(num_samps_list, div_B_true, label=\"True B\")\n",
    "plt.plot(num_samps_list, div_B_est, label=\"Transfered B\")\n",
    "plt.legend()\n",
    "plt.xlabel(\"Number of training samples\")\n",
    "plt.ylabel(\"Frobenious Norm B - C\")\n",
    "plt.show()"
   ]
  },
  {
   "cell_type": "code",
   "execution_count": 30,
   "metadata": {},
   "outputs": [
    {
     "data": {
      "image/png": "[encoded data removed]",
      "text/plain": [
       "<matplotlib.figure.Figure at 0x7f027652ecc0>"
      ]
     },
     "metadata": {},
     "output_type": "display_data"
    }
   ],
   "source": [
    "plt.plot(num_samps_list, prec_B_true, label=\"True B\")\n",
    "plt.plot(num_samps_list, prec_B_est, label=\"Transfered B\")\n",
    "plt.legend()\n",
    "plt.xlabel(\"Number of training samples\")\n",
    "plt.ylabel(\"Precision\")\n",
    "plt.show()"
   ]
  },
  {
   "cell_type": "code",
   "execution_count": 28,
   "metadata": {},
   "outputs": [
    {
     "data": {
      "image/png": "[encoded data removed]",
      "text/plain": [
       "<matplotlib.figure.Figure at 0x7f027666e208>"
      ]
     },
     "metadata": {},
     "output_type": "display_data"
    }
   ],
   "source": [
    "plt.plot(num_samps_list, 2*((np.asarray(prec_B_true)*np.asarray(rec_B_true))/(np.asarray(prec_B_true) + np.asarray(rec_B_true))), label=\"True B\")\n",
    "plt.plot(num_samps_list, 2*((np.asarray(prec_B_est)*np.asarray(prec_B_est))/(np.asarray(prec_B_est) + np.asarray(prec_B_est))), label=\"Transfered B\")\n",
    "plt.legend()\n",
    "plt.xlabel(\"Number of training samples\")\n",
    "plt.ylabel(\"F1 Score\")\n",
    "plt.ylim(0,1)\n",
    "plt.show()"
   ]
  },
  {
   "cell_type": "code",
   "execution_count": null,
   "metadata": {
    "collapsed": true
   },
   "outputs": [],
   "source": []
  }
 ],
 "metadata": {
  "kernelspec": {
   "display_name": "Python [conda env:anaconda3]",
   "language": "python",
   "name": "conda-env-anaconda3-py"
  },
  "language_info": {
   "codemirror_mode": {
    "name": "ipython",
    "version": 3
   },
   "file_extension": ".py",
   "mimetype": "text/x-python",
   "name": "python",
   "nbconvert_exporter": "python",
   "pygments_lexer": "ipython3",
   "version": "3.6.8"
  }
 },
 "nbformat": 4,
 "nbformat_minor": 2
}
